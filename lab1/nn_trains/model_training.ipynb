{
 "cells": [
  {
   "cell_type": "code",
   "execution_count": null,
   "metadata": {
    "ExecuteTime": {
     "end_time": "2025-03-30T09:30:40.286659Z",
     "start_time": "2025-03-30T09:30:36.668546Z"
    }
   },
   "outputs": [],
   "source": [
    "import torch\n",
    "import torch.nn as nn\n",
    "import torch.optim as optim\n",
    "from torch.utils.data import DataLoader, TensorDataset\n",
    "import matplotlib.pyplot as plt\n",
    "from sklearn.metrics import f1_score\n",
    "from tqdm.auto import tqdm\n",
    "import numpy as np\n",
    "from transformers import BertTokenizer, BertModel"
   ]
  },
  {
   "cell_type": "code",
   "execution_count": null,
   "metadata": {
    "ExecuteTime": {
     "end_time": "2025-03-30T09:30:41.262589Z",
     "start_time": "2025-03-30T09:30:40.292332Z"
    }
   },
   "outputs": [],
   "source": [
    "X_test = torch.load(\"X_test.pt\")\n",
    "X_train = torch.load(\"X_train.pt\")\n",
    "y_test = torch.load(\"y_test.pt\")\n",
    "y_train = torch.load(\"y_train.pt\")"
   ]
  },
  {
   "cell_type": "code",
   "execution_count": null,
   "metadata": {
    "ExecuteTime": {
     "end_time": "2025-03-30T09:30:41.696046Z",
     "start_time": "2025-03-30T09:30:41.476444Z"
    }
   },
   "outputs": [],
   "source": [
    "device = 'cpu'\n",
    "if torch.cuda.is_available():\n",
    "    device = 'cuda'\n",
    "elif torch.mps.is_available():\n",
    "    device = 'mps'\n",
    "device"
   ]
  },
  {
   "cell_type": "code",
   "execution_count": null,
   "metadata": {
    "ExecuteTime": {
     "end_time": "2025-03-30T09:30:41.726208Z",
     "start_time": "2025-03-30T09:30:41.714614Z"
    }
   },
   "outputs": [],
   "source": [
    "class MyModel(nn.Module):\n",
    "    def __init__(\n",
    "        self,\n",
    "        dataloader: DataLoader,\n",
    "        input_dim: int,\n",
    "        output_dim: int = 1,\n",
    "        dropout_rate: float = 0.5,\n",
    "    ):\n",
    "        super(MyModel, self).__init__()\n",
    "        self.dataloader = dataloader\n",
    "        self.conv1d = nn.Conv1d(in_channels=input_dim, out_channels=384, kernel_size=3, stride=1, padding=2)\n",
    "        self.maxpooling1d = nn.MaxPool1d(kernel_size=2, stride=2)\n",
    "        self.dropout1 = nn.Dropout(dropout_rate)\n",
    "        self.relu = nn.ReLU()\n",
    "        self.last_linear = nn.Linear(384, output_dim)\n",
    "        self.sigmoid = nn.Sigmoid()\n",
    "\n",
    "        self.to(device)\n",
    "\n",
    "    def forward(self, x: torch.Tensor):\n",
    "        if len(x.shape) == 2:  # Если x имеет размерность [batch_size, sequence_length]\n",
    "            x = x.unsqueeze(1)  # Добавляем измерение каналов: [batch_size, 1, sequence_length]\n",
    "        x = x.permute(0, 2, 1)  # [batch_size, input_dim, sequence_length]\n",
    "        x = self.conv1d(x)\n",
    "        x = self.maxpooling1d(x)\n",
    "        x = self.dropout1(x)\n",
    "        x = self.relu(x)\n",
    "        x = x.permute(0, 2, 1)  # Возвращаем размерность [batch_size, sequence_length, features]\n",
    "        x = self.last_linear(x)\n",
    "        x = self.sigmoid(x)\n",
    "        return x\n",
    "\n",
    "    def fit(\n",
    "        self,\n",
    "        num_epoch: int = 10,\n",
    "        lr: float = 1e-10,\n",
    "    ):\n",
    "        self.epoch_loss = []\n",
    "        self.batch_loss = []\n",
    "        self.f1_score = []\n",
    "        self.all_labels = []\n",
    "        self.all_probs = []\n",
    "        criterion = nn.BCELoss()  # Бинарная кросс-энтропия\n",
    "        optimizer = optim.Adam(self.parameters(), lr=lr)\n",
    "        for epoch in range(num_epoch):\n",
    "            self.train()\n",
    "            epoch_losses = []\n",
    "            for batch_X, batch_y in tqdm(self.dataloader, desc=f\"Epoch [{epoch+1}/{num_epoch}]; learning state\\t\"):\n",
    "                batch_X, batch_y = batch_X.to(device), batch_y.to(device)\n",
    "                optimizer.zero_grad()\n",
    "                outputs = self(batch_X)\n",
    "                loss: torch.Tensor = criterion(outputs.squeeze(1), batch_y.unsqueeze(1))\n",
    "                loss.backward()\n",
    "                optimizer.step()\n",
    "                epoch_losses.append(loss.item())\n",
    "                self.batch_loss.append(loss.item())\n",
    "            \n",
    "            self.epoch_loss.append(sum(epoch_losses) / len(epoch_losses))\n",
    "            \n",
    "            # Вычисление метрик\n",
    "            self.eval()\n",
    "            with torch.no_grad():\n",
    "                self.all_preds = []\n",
    "                self.all_labels = []\n",
    "                for batch_X, batch_y in tqdm(self.dataloader, desc=f\"Epoch [{epoch+1}/{num_epoch}]; metric state\\t\"):\n",
    "                    batch_X, batch_y = batch_X.to(device), batch_y.to(device)\n",
    "                    outputs = self(batch_X).squeeze(1)\n",
    "                    preds = (outputs > 0.5).float()\n",
    "                    self.all_preds.extend(preds.squeeze(1).cpu().numpy())\n",
    "                    self.all_labels.extend(batch_y.cpu().numpy())\n",
    "\n",
    "                self.all_labels = np.array(self.all_labels, dtype=int)\n",
    "                self.all_preds = np.array(self.all_preds, dtype=int)\n",
    "                f1 = f1_score(self.all_labels, self.all_preds)\n",
    "                self.f1_score.append(f1)\n",
    "                print(f\"Epoch [{epoch+1}/{num_epoch}], Loss: {loss.item():.4f}, F1 score: {f1:.5f}\")\n",
    "    \n",
    "    def plot_metrics(self, X_test: torch.Tensor, y_test:torch.Tensor):\n",
    "        plt.figure(figsize=(16, 5))\n",
    "        plt.subplot(1, 3, 1)\n",
    "        plt.plot(self.epoch_loss, label=\"Loss\")\n",
    "        plt.xlabel(\"Epoch\")\n",
    "        plt.ylabel(\"Loss\")\n",
    "        plt.title(\"Loss per Epoch\")\n",
    "        plt.legend()\n",
    "\n",
    "        plt.subplot(1, 3, 2)\n",
    "        plt.plot(self.batch_loss, label=\"Loss\")\n",
    "        plt.xlabel(\"Batches\")\n",
    "        plt.ylabel(\"Loss\")\n",
    "        plt.title(\"Loss per batch\")\n",
    "        plt.legend()\n",
    "\n",
    "        # График F1-score\n",
    "        plt.subplot(1, 3, 3)\n",
    "        plt.plot(self.f1_score, label=\"F1-score\", color=\"orange\")\n",
    "        plt.xlabel(\"Epoch\")\n",
    "        plt.ylabel(\"F1-score\")\n",
    "        plt.title(\"F1-score per Epoch\")\n",
    "        plt.legend()\n",
    "\n",
    "        X_test = X_test.float()\n",
    "        X_test = X_test.unsqueeze(1)\n",
    "        X_test = X_test.to(device)\n",
    "        self.eval()\n",
    "        with torch.no_grad():\n",
    "            preds = self(X_test)\n",
    "        preds_squeezed = preds.squeeze(1).squeeze(1)\n",
    "        result_pres = (preds_squeezed > 0.5).float()\n",
    "        f1 = f1_score(y_test.numpy(), result_pres.cpu().numpy())\n",
    "        print(f\"F1 score on test tensors is: {f1*100:.2f}\")"
   ]
  },
  {
   "cell_type": "code",
   "execution_count": null,
   "metadata": {
    "ExecuteTime": {
     "end_time": "2025-03-30T09:30:41.777161Z",
     "start_time": "2025-03-30T09:30:41.771352Z"
    }
   },
   "outputs": [],
   "source": [
    "# не изменные константы для модельки\n",
    "input_dim = X_train.shape[1]\n",
    "output_dim = 1\n",
    "dataset = TensorDataset(X_train, y_train.float())"
   ]
  },
  {
   "cell_type": "code",
   "execution_count": null,
   "metadata": {
    "ExecuteTime": {
     "end_time": "2025-03-30T09:33:27.614009Z",
     "start_time": "2025-03-30T09:30:41.829940Z"
    }
   },
   "outputs": [],
   "source": [
    "dropout_rate = 0.2\n",
    "dataloader = DataLoader(dataset, batch_size=1024, shuffle=True)\n",
    "model = MyModel(dataloader, input_dim, output_dim, dropout_rate)\n",
    "model.fit(lr=1e-3, num_epoch=50)\n",
    "model.plot_metrics(X_test, y_test)"
   ]
  },
  {
   "cell_type": "code",
   "execution_count": null,
   "metadata": {},
   "outputs": [],
   "source": [
    "tokenizer = BertTokenizer.from_pretrained(\"DeepPavlov/rubert-base-cased\")\n",
    "embedding_model = BertModel.from_pretrained(\"DeepPavlov/rubert-base-cased\")\n",
    "def text_to_embedding(text):\n",
    "    inputs = tokenizer(text, return_tensors=\"pt\", padding=True, truncation=True, max_length=512)\n",
    "    with torch.no_grad():\n",
    "        outputs = embedding_model(**inputs)\n",
    "    return outputs.last_hidden_state.mean(dim=1).squeeze().numpy()"
   ]
  },
  {
   "cell_type": "code",
   "execution_count": null,
   "metadata": {},
   "outputs": [],
   "source": [
    "def check_ur_comment(comment:str):\n",
    "    my_comment_embedding = text_to_embedding(comment)\n",
    "    my_comment_tensor = torch.tensor(my_comment_embedding, dtype=torch.float32)\n",
    "    model.eval()\n",
    "    with torch.no_grad():\n",
    "        preds = model(my_comment_tensor.unsqueeze(0).to(device))\n",
    "    preds_squeezed = preds.squeeze(1).squeeze(1)\n",
    "    return round(preds_squeezed.item()*100,2)"
   ]
  },
  {
   "cell_type": "code",
   "execution_count": null,
   "metadata": {},
   "outputs": [],
   "source": [
    "check_ur_comment(\"идиот и долбаеб\")"
   ]
  },
  {
   "cell_type": "code",
   "execution_count": null,
   "metadata": {},
   "outputs": [],
   "source": [
    "check_ur_comment(\"красавчик\")"
   ]
  },
  {
   "cell_type": "code",
   "execution_count": null,
   "metadata": {},
   "outputs": [],
   "source": [
    "check_ur_comment(\"ты не прав, иди учи базу\")"
   ]
  },
  {
   "cell_type": "code",
   "execution_count": null,
   "metadata": {},
   "outputs": [],
   "source": [
    "check_ur_comment(\"красивый идиот\")"
   ]
  },
  {
   "cell_type": "code",
   "execution_count": null,
   "metadata": {},
   "outputs": [],
   "source": [
    "check_ur_comment(\"сказочный долбаеб\")"
   ]
  },
  {
   "cell_type": "code",
   "execution_count": null,
   "metadata": {},
   "outputs": [],
   "source": [
    "check_ur_comment(\"тупорылая работа\")"
   ]
  },
  {
   "cell_type": "code",
   "execution_count": null,
   "metadata": {},
   "outputs": [],
   "source": [
    "torch.save(model.state_dict(), '../backend/nn_model/model_weights.pt')"
   ]
  },
  {
   "cell_type": "code",
   "execution_count": null,
   "metadata": {},
   "outputs": [],
   "source": []
  }
 ],
 "metadata": {
  "kernelspec": {
   "display_name": "venv",
   "language": "python",
   "name": "python3"
  },
  "language_info": {
   "codemirror_mode": {
    "name": "ipython",
    "version": 3
   },
   "file_extension": ".py",
   "mimetype": "text/x-python",
   "name": "python",
   "nbconvert_exporter": "python",
   "pygments_lexer": "ipython3",
   "version": "3.13.2"
  }
 },
 "nbformat": 4,
 "nbformat_minor": 2
}
