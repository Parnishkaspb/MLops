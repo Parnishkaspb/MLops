{
 "cells": [
  {
   "cell_type": "code",
   "execution_count": 3,
   "metadata": {},
   "outputs": [],
   "source": [
    "from sklearn.metrics import f1_score\n",
    "import mlflow\n",
    "import torch\n",
    "import torch\n",
    "import torch.nn as nn\n",
    "import torch.optim as optim\n",
    "from torch.utils.data import DataLoader, TensorDataset\n",
    "from tqdm.auto import tqdm\n",
    "import numpy as np"
   ]
  },
  {
   "cell_type": "code",
   "execution_count": 4,
   "metadata": {},
   "outputs": [],
   "source": [
    "X_test = torch.load(\"X_test.pt\")\n",
    "X_train = torch.load(\"X_train.pt\")\n",
    "y_test = torch.load(\"y_test.pt\")\n",
    "y_train = torch.load(\"y_train.pt\")"
   ]
  },
  {
   "cell_type": "code",
   "execution_count": 5,
   "metadata": {},
   "outputs": [
    {
     "data": {
      "text/plain": [
       "'mps'"
      ]
     },
     "execution_count": 5,
     "metadata": {},
     "output_type": "execute_result"
    }
   ],
   "source": [
    "device = 'cpu'\n",
    "if torch.cuda.is_available():\n",
    "    device = 'cuda'\n",
    "elif torch.mps.is_available():\n",
    "    device = 'mps'\n",
    "device"
   ]
  },
  {
   "cell_type": "code",
   "execution_count": 6,
   "metadata": {},
   "outputs": [],
   "source": [
    "class MyModel(nn.Module):\n",
    "    def __init__(\n",
    "        self,\n",
    "        dataloader: DataLoader,\n",
    "        input_dim: int,\n",
    "        output_dim: int = 1,\n",
    "        dropout_rate: float = 0.5,\n",
    "    ):\n",
    "        super(MyModel, self).__init__()\n",
    "        self.dataloader = dataloader\n",
    "        self.conv1d = nn.Conv1d(in_channels=input_dim, out_channels=384, kernel_size=3, stride=1, padding=2)\n",
    "        self.maxpooling1d = nn.MaxPool1d(kernel_size=2, stride=2)\n",
    "        self.dropout1 = nn.Dropout(dropout_rate)\n",
    "        self.relu = nn.ReLU()\n",
    "        self.last_linear = nn.Linear(384, output_dim)\n",
    "        self.sigmoid = nn.Sigmoid()\n",
    "\n",
    "        self.to(device)\n",
    "\n",
    "    def forward(self, x: torch.Tensor):\n",
    "        if len(x.shape) == 2:  # Если x имеет размерность [batch_size, sequence_length]\n",
    "            x = x.unsqueeze(1)  # Добавляем измерение каналов: [batch_size, 1, sequence_length]\n",
    "        x = x.permute(0, 2, 1)  # [batch_size, input_dim, sequence_length]\n",
    "        x = self.conv1d(x)\n",
    "        x = self.maxpooling1d(x)\n",
    "        x = self.dropout1(x)\n",
    "        x = self.relu(x)\n",
    "        x = x.permute(0, 2, 1)  # Возвращаем размерность [batch_size, sequence_length, features]\n",
    "        x = self.last_linear(x)\n",
    "        x = self.sigmoid(x)\n",
    "        return x\n",
    "\n",
    "    def fit(\n",
    "        self,\n",
    "        num_epoch: int = 10,\n",
    "        lr: float = 1e-10,\n",
    "    ):\n",
    "        self.epoch_loss = []\n",
    "        self.batch_loss = []\n",
    "        self.f1_score = []\n",
    "        self.all_labels = []\n",
    "        self.all_probs = []\n",
    "        criterion = nn.BCELoss()  # Бинарная кросс-энтропия\n",
    "        optimizer = optim.Adam(self.parameters(), lr=lr)\n",
    "        for epoch in range(num_epoch):\n",
    "            self.train()\n",
    "            epoch_losses = []\n",
    "            for batch_X, batch_y in tqdm(self.dataloader, desc=f\"Epoch [{epoch+1}/{num_epoch}]; learning state\\t\"):\n",
    "                batch_X, batch_y = batch_X.to(device), batch_y.to(device)\n",
    "                optimizer.zero_grad()\n",
    "                outputs = self(batch_X)\n",
    "                loss: torch.Tensor = criterion(outputs.squeeze(1), batch_y.unsqueeze(1))\n",
    "                loss.backward()\n",
    "                optimizer.step()\n",
    "                epoch_losses.append(loss.item())\n",
    "                self.batch_loss.append(loss.item())\n",
    "            \n",
    "            self.epoch_loss.append(sum(epoch_losses) / len(epoch_losses))\n",
    "            \n",
    "            # Вычисление метрик\n",
    "            self.eval()\n",
    "            with torch.no_grad():\n",
    "                self.all_preds = []\n",
    "                self.all_labels = []\n",
    "                for batch_X, batch_y in tqdm(self.dataloader, desc=f\"Epoch [{epoch+1}/{num_epoch}]; metric state\\t\"):\n",
    "                    batch_X, batch_y = batch_X.to(device), batch_y.to(device)\n",
    "                    outputs = self(batch_X).squeeze(1)\n",
    "                    preds = (outputs > 0.5).float()\n",
    "                    self.all_preds.extend(preds.squeeze(1).cpu().numpy())\n",
    "                    self.all_labels.extend(batch_y.cpu().numpy())\n",
    "\n",
    "                self.all_labels = np.array(self.all_labels, dtype=int)\n",
    "                self.all_preds = np.array(self.all_preds, dtype=int)\n",
    "                f1 = f1_score(self.all_labels, self.all_preds)\n",
    "                self.f1_score.append(f1)\n",
    "                print(f\"Epoch [{epoch+1}/{num_epoch}], Loss: {loss.item():.4f}, F1 score: {f1:.5f}\")\n",
    "    \n",
    "    def plot_metrics(self, X_test: torch.Tensor, y_test:torch.Tensor):\n",
    "        # plt.figure(figsize=(16, 5))\n",
    "        # plt.subplot(1, 3, 1)\n",
    "        # plt.plot(self.epoch_loss, label=\"Loss\")\n",
    "        # plt.xlabel(\"Epoch\")\n",
    "        # plt.ylabel(\"Loss\")\n",
    "        # plt.title(\"Loss per Epoch\")\n",
    "        # plt.legend()\n",
    "\n",
    "        # plt.subplot(1, 3, 2)\n",
    "        # plt.plot(self.batch_loss, label=\"Loss\")\n",
    "        # plt.xlabel(\"Batches\")\n",
    "        # plt.ylabel(\"Loss\")\n",
    "        # plt.title(\"Loss per batch\")\n",
    "        # plt.legend()\n",
    "\n",
    "        # # График F1-score\n",
    "        # plt.subplot(1, 3, 3)\n",
    "        # plt.plot(self.f1_score, label=\"F1-score\", color=\"orange\")\n",
    "        # plt.xlabel(\"Epoch\")\n",
    "        # plt.ylabel(\"F1-score\")\n",
    "        # plt.title(\"F1-score per Epoch\")\n",
    "        # plt.legend()\n",
    "\n",
    "        X_test = X_test.float()\n",
    "        X_test = X_test.unsqueeze(1)\n",
    "        X_test = X_test.to(device)\n",
    "        self.eval()\n",
    "        with torch.no_grad():\n",
    "            preds = self(X_test)\n",
    "        preds_squeezed = preds.squeeze(1).squeeze(1)\n",
    "        result_pres = (preds_squeezed > 0.5).float()\n",
    "        return f1_score(y_test.numpy(), result_pres.cpu().numpy())\n",
    "        # print(f\"F1 score on test tensors is: {f1*100:.2f}\")"
   ]
  },
  {
   "cell_type": "code",
   "execution_count": 7,
   "metadata": {},
   "outputs": [],
   "source": [
    "# не изменные константы для модельки\n",
    "input_dim = X_train.shape[1]\n",
    "output_dim = 1\n",
    "dataset = TensorDataset(X_train, y_train.float())"
   ]
  },
  {
   "cell_type": "code",
   "execution_count": 8,
   "metadata": {},
   "outputs": [],
   "source": [
    "dropout_rate = 0.2\n",
    "dataloader = DataLoader(dataset, batch_size=128, shuffle=True)\n",
    "model = MyModel(dataloader, input_dim, output_dim, dropout_rate)\n",
    "\n",
    "dropout_rate = 0.6\n",
    "dataloader_1 = DataLoader(dataset, batch_size=128, shuffle=True)\n",
    "model_1 = MyModel(dataloader_1, input_dim, output_dim, dropout_rate)\n",
    "\n",
    "dropout_rate = 0.3\n",
    "dataloader_2 = DataLoader(dataset, batch_size=512, shuffle=True)\n",
    "model_2 = MyModel(dataloader_2, input_dim, output_dim, dropout_rate)\n",
    "\n",
    "dropout_rate = 0.2\n",
    "dataloader_3 = DataLoader(dataset, batch_size=1024, shuffle=True)\n",
    "model_3 = MyModel(dataloader_3, input_dim, output_dim, dropout_rate)"
   ]
  },
  {
   "cell_type": "code",
   "execution_count": 10,
   "metadata": {},
   "outputs": [
    {
     "data": {
      "application/vnd.jupyter.widget-view+json": {
       "model_id": "a7b5785a1b7b4b3cb50eaa7d842ce193",
       "version_major": 2,
       "version_minor": 0
      },
      "text/plain": [
       "Epoch [1/150]; learning state\t:   0%|          | 0/1527 [00:00<?, ?it/s]"
      ]
     },
     "metadata": {},
     "output_type": "display_data"
    },
    {
     "data": {
      "application/vnd.jupyter.widget-view+json": {
       "model_id": "9d969b75295441bdaa2bc44f0725e75b",
       "version_major": 2,
       "version_minor": 0
      },
      "text/plain": [
       "Epoch [1/150]; metric state\t:   0%|          | 0/1527 [00:00<?, ?it/s]"
      ]
     },
     "metadata": {},
     "output_type": "display_data"
    },
    {
     "name": "stdout",
     "output_type": "stream",
     "text": [
      "Epoch [1/150], Loss: 0.1789, F1 score: 0.63045\n"
     ]
    },
    {
     "data": {
      "application/vnd.jupyter.widget-view+json": {
       "model_id": "53c4a09d1ea54eac94740b890e9d923c",
       "version_major": 2,
       "version_minor": 0
      },
      "text/plain": [
       "Epoch [2/150]; learning state\t:   0%|          | 0/1527 [00:00<?, ?it/s]"
      ]
     },
     "metadata": {},
     "output_type": "display_data"
    },
    {
     "data": {
      "application/vnd.jupyter.widget-view+json": {
       "model_id": "19937d97019f4c20849e54fb36d1cc6c",
       "version_major": 2,
       "version_minor": 0
      },
      "text/plain": [
       "Epoch [2/150]; metric state\t:   0%|          | 0/1527 [00:00<?, ?it/s]"
      ]
     },
     "metadata": {},
     "output_type": "display_data"
    },
    {
     "name": "stdout",
     "output_type": "stream",
     "text": [
      "Epoch [2/150], Loss: 0.2428, F1 score: 0.63128\n"
     ]
    },
    {
     "data": {
      "application/vnd.jupyter.widget-view+json": {
       "model_id": "3694765aa19941e3823f865255eeab01",
       "version_major": 2,
       "version_minor": 0
      },
      "text/plain": [
       "Epoch [3/150]; learning state\t:   0%|          | 0/1527 [00:00<?, ?it/s]"
      ]
     },
     "metadata": {},
     "output_type": "display_data"
    },
    {
     "data": {
      "application/vnd.jupyter.widget-view+json": {
       "model_id": "ca1b0c99618649e89f97f31d5e3e5bbf",
       "version_major": 2,
       "version_minor": 0
      },
      "text/plain": [
       "Epoch [3/150]; metric state\t:   0%|          | 0/1527 [00:00<?, ?it/s]"
      ]
     },
     "metadata": {},
     "output_type": "display_data"
    },
    {
     "name": "stdout",
     "output_type": "stream",
     "text": [
      "Epoch [3/150], Loss: 0.2919, F1 score: 0.63254\n"
     ]
    },
    {
     "data": {
      "application/vnd.jupyter.widget-view+json": {
       "model_id": "304339f6ffc645439a3cb3e24323ad59",
       "version_major": 2,
       "version_minor": 0
      },
      "text/plain": [
       "Epoch [4/150]; learning state\t:   0%|          | 0/1527 [00:00<?, ?it/s]"
      ]
     },
     "metadata": {},
     "output_type": "display_data"
    },
    {
     "data": {
      "application/vnd.jupyter.widget-view+json": {
       "model_id": "0c690d98f09248a0ade15b5dda19e5e7",
       "version_major": 2,
       "version_minor": 0
      },
      "text/plain": [
       "Epoch [4/150]; metric state\t:   0%|          | 0/1527 [00:00<?, ?it/s]"
      ]
     },
     "metadata": {},
     "output_type": "display_data"
    },
    {
     "name": "stdout",
     "output_type": "stream",
     "text": [
      "Epoch [4/150], Loss: 0.3667, F1 score: 0.63339\n"
     ]
    },
    {
     "data": {
      "application/vnd.jupyter.widget-view+json": {
       "model_id": "b6ad922f30ff406aa8ec31088173f17c",
       "version_major": 2,
       "version_minor": 0
      },
      "text/plain": [
       "Epoch [5/150]; learning state\t:   0%|          | 0/1527 [00:00<?, ?it/s]"
      ]
     },
     "metadata": {},
     "output_type": "display_data"
    },
    {
     "data": {
      "application/vnd.jupyter.widget-view+json": {
       "model_id": "50e0bd46ad4b435bbc2e228f76d21ef7",
       "version_major": 2,
       "version_minor": 0
      },
      "text/plain": [
       "Epoch [5/150]; metric state\t:   0%|          | 0/1527 [00:00<?, ?it/s]"
      ]
     },
     "metadata": {},
     "output_type": "display_data"
    },
    {
     "name": "stdout",
     "output_type": "stream",
     "text": [
      "Epoch [5/150], Loss: 0.2827, F1 score: 0.63400\n"
     ]
    },
    {
     "data": {
      "application/vnd.jupyter.widget-view+json": {
       "model_id": "d3786131464448d6a6f257f7734c82ee",
       "version_major": 2,
       "version_minor": 0
      },
      "text/plain": [
       "Epoch [6/150]; learning state\t:   0%|          | 0/1527 [00:00<?, ?it/s]"
      ]
     },
     "metadata": {},
     "output_type": "display_data"
    },
    {
     "data": {
      "application/vnd.jupyter.widget-view+json": {
       "model_id": "7d0bc58fee3242939fdd29c2f990603c",
       "version_major": 2,
       "version_minor": 0
      },
      "text/plain": [
       "Epoch [6/150]; metric state\t:   0%|          | 0/1527 [00:00<?, ?it/s]"
      ]
     },
     "metadata": {},
     "output_type": "display_data"
    },
    {
     "name": "stdout",
     "output_type": "stream",
     "text": [
      "Epoch [6/150], Loss: 0.3143, F1 score: 0.63442\n"
     ]
    },
    {
     "data": {
      "application/vnd.jupyter.widget-view+json": {
       "model_id": "600b25ca8aff44aca316b3f3354c2535",
       "version_major": 2,
       "version_minor": 0
      },
      "text/plain": [
       "Epoch [7/150]; learning state\t:   0%|          | 0/1527 [00:00<?, ?it/s]"
      ]
     },
     "metadata": {},
     "output_type": "display_data"
    },
    {
     "data": {
      "application/vnd.jupyter.widget-view+json": {
       "model_id": "b335a9eadc1d41329e7ac34b271b6c12",
       "version_major": 2,
       "version_minor": 0
      },
      "text/plain": [
       "Epoch [7/150]; metric state\t:   0%|          | 0/1527 [00:00<?, ?it/s]"
      ]
     },
     "metadata": {},
     "output_type": "display_data"
    },
    {
     "name": "stdout",
     "output_type": "stream",
     "text": [
      "Epoch [7/150], Loss: 0.3230, F1 score: 0.63490\n"
     ]
    },
    {
     "data": {
      "application/vnd.jupyter.widget-view+json": {
       "model_id": "97511c842f4e4226976a83b101e949cd",
       "version_major": 2,
       "version_minor": 0
      },
      "text/plain": [
       "Epoch [8/150]; learning state\t:   0%|          | 0/1527 [00:00<?, ?it/s]"
      ]
     },
     "metadata": {},
     "output_type": "display_data"
    },
    {
     "data": {
      "application/vnd.jupyter.widget-view+json": {
       "model_id": "c35dff6b840c437d87903677c2d630cb",
       "version_major": 2,
       "version_minor": 0
      },
      "text/plain": [
       "Epoch [8/150]; metric state\t:   0%|          | 0/1527 [00:00<?, ?it/s]"
      ]
     },
     "metadata": {},
     "output_type": "display_data"
    },
    {
     "name": "stdout",
     "output_type": "stream",
     "text": [
      "Epoch [8/150], Loss: 0.3100, F1 score: 0.63579\n"
     ]
    },
    {
     "data": {
      "application/vnd.jupyter.widget-view+json": {
       "model_id": "2187ba5d54b94191a32e0c3d493bfab5",
       "version_major": 2,
       "version_minor": 0
      },
      "text/plain": [
       "Epoch [9/150]; learning state\t:   0%|          | 0/1527 [00:00<?, ?it/s]"
      ]
     },
     "metadata": {},
     "output_type": "display_data"
    },
    {
     "data": {
      "application/vnd.jupyter.widget-view+json": {
       "model_id": "2b793300bb1b4003960c5ba279864310",
       "version_major": 2,
       "version_minor": 0
      },
      "text/plain": [
       "Epoch [9/150]; metric state\t:   0%|          | 0/1527 [00:00<?, ?it/s]"
      ]
     },
     "metadata": {},
     "output_type": "display_data"
    },
    {
     "name": "stdout",
     "output_type": "stream",
     "text": [
      "Epoch [9/150], Loss: 0.2109, F1 score: 0.63714\n"
     ]
    },
    {
     "data": {
      "application/vnd.jupyter.widget-view+json": {
       "model_id": "a586e080563d4ed48f98012105ac6bfe",
       "version_major": 2,
       "version_minor": 0
      },
      "text/plain": [
       "Epoch [10/150]; learning state\t:   0%|          | 0/1527 [00:00<?, ?it/s]"
      ]
     },
     "metadata": {},
     "output_type": "display_data"
    },
    {
     "data": {
      "application/vnd.jupyter.widget-view+json": {
       "model_id": "9b88d7999184409a9233bdcc030d9150",
       "version_major": 2,
       "version_minor": 0
      },
      "text/plain": [
       "Epoch [10/150]; metric state\t:   0%|          | 0/1527 [00:00<?, ?it/s]"
      ]
     },
     "metadata": {},
     "output_type": "display_data"
    },
    {
     "name": "stdout",
     "output_type": "stream",
     "text": [
      "Epoch [10/150], Loss: 0.3374, F1 score: 0.63783\n"
     ]
    },
    {
     "data": {
      "application/vnd.jupyter.widget-view+json": {
       "model_id": "dd38c6c2d16b44a4a903beafaa12aee0",
       "version_major": 2,
       "version_minor": 0
      },
      "text/plain": [
       "Epoch [11/150]; learning state\t:   0%|          | 0/1527 [00:00<?, ?it/s]"
      ]
     },
     "metadata": {},
     "output_type": "display_data"
    },
    {
     "data": {
      "application/vnd.jupyter.widget-view+json": {
       "model_id": "5dae18b8d5f64d5380673c4f15eabbb8",
       "version_major": 2,
       "version_minor": 0
      },
      "text/plain": [
       "Epoch [11/150]; metric state\t:   0%|          | 0/1527 [00:00<?, ?it/s]"
      ]
     },
     "metadata": {},
     "output_type": "display_data"
    },
    {
     "name": "stdout",
     "output_type": "stream",
     "text": [
      "Epoch [11/150], Loss: 0.2505, F1 score: 0.63822\n"
     ]
    },
    {
     "data": {
      "application/vnd.jupyter.widget-view+json": {
       "model_id": "5eac32fac74047198953b05f31117c85",
       "version_major": 2,
       "version_minor": 0
      },
      "text/plain": [
       "Epoch [12/150]; learning state\t:   0%|          | 0/1527 [00:00<?, ?it/s]"
      ]
     },
     "metadata": {},
     "output_type": "display_data"
    },
    {
     "data": {
      "application/vnd.jupyter.widget-view+json": {
       "model_id": "637c2deabc864ee4abfe360c14edb858",
       "version_major": 2,
       "version_minor": 0
      },
      "text/plain": [
       "Epoch [12/150]; metric state\t:   0%|          | 0/1527 [00:00<?, ?it/s]"
      ]
     },
     "metadata": {},
     "output_type": "display_data"
    },
    {
     "name": "stdout",
     "output_type": "stream",
     "text": [
      "Epoch [12/150], Loss: 0.2448, F1 score: 0.63899\n"
     ]
    },
    {
     "data": {
      "application/vnd.jupyter.widget-view+json": {
       "model_id": "b9458cdbb9ff467ba08861c770643915",
       "version_major": 2,
       "version_minor": 0
      },
      "text/plain": [
       "Epoch [13/150]; learning state\t:   0%|          | 0/1527 [00:00<?, ?it/s]"
      ]
     },
     "metadata": {},
     "output_type": "display_data"
    },
    {
     "data": {
      "application/vnd.jupyter.widget-view+json": {
       "model_id": "fbc7a494a2434d91875c69f1eb38fcb0",
       "version_major": 2,
       "version_minor": 0
      },
      "text/plain": [
       "Epoch [13/150]; metric state\t:   0%|          | 0/1527 [00:00<?, ?it/s]"
      ]
     },
     "metadata": {},
     "output_type": "display_data"
    },
    {
     "name": "stdout",
     "output_type": "stream",
     "text": [
      "Epoch [13/150], Loss: 0.2100, F1 score: 0.63969\n"
     ]
    },
    {
     "data": {
      "application/vnd.jupyter.widget-view+json": {
       "model_id": "44109f73ab04404e8c35dc0de298d93d",
       "version_major": 2,
       "version_minor": 0
      },
      "text/plain": [
       "Epoch [14/150]; learning state\t:   0%|          | 0/1527 [00:00<?, ?it/s]"
      ]
     },
     "metadata": {},
     "output_type": "display_data"
    },
    {
     "data": {
      "application/vnd.jupyter.widget-view+json": {
       "model_id": "3ad67f100497464abc26999f23d1c560",
       "version_major": 2,
       "version_minor": 0
      },
      "text/plain": [
       "Epoch [14/150]; metric state\t:   0%|          | 0/1527 [00:00<?, ?it/s]"
      ]
     },
     "metadata": {},
     "output_type": "display_data"
    },
    {
     "name": "stdout",
     "output_type": "stream",
     "text": [
      "Epoch [14/150], Loss: 0.1885, F1 score: 0.64058\n"
     ]
    },
    {
     "data": {
      "application/vnd.jupyter.widget-view+json": {
       "model_id": "d4292fcc67184941afe3c1cfdb379d43",
       "version_major": 2,
       "version_minor": 0
      },
      "text/plain": [
       "Epoch [15/150]; learning state\t:   0%|          | 0/1527 [00:00<?, ?it/s]"
      ]
     },
     "metadata": {},
     "output_type": "display_data"
    },
    {
     "data": {
      "application/vnd.jupyter.widget-view+json": {
       "model_id": "156d0019a0644188917899e132acccde",
       "version_major": 2,
       "version_minor": 0
      },
      "text/plain": [
       "Epoch [15/150]; metric state\t:   0%|          | 0/1527 [00:00<?, ?it/s]"
      ]
     },
     "metadata": {},
     "output_type": "display_data"
    },
    {
     "name": "stdout",
     "output_type": "stream",
     "text": [
      "Epoch [15/150], Loss: 0.2069, F1 score: 0.64111\n"
     ]
    },
    {
     "data": {
      "application/vnd.jupyter.widget-view+json": {
       "model_id": "1c72779193074aa19715a3022a054dc6",
       "version_major": 2,
       "version_minor": 0
      },
      "text/plain": [
       "Epoch [16/150]; learning state\t:   0%|          | 0/1527 [00:00<?, ?it/s]"
      ]
     },
     "metadata": {},
     "output_type": "display_data"
    },
    {
     "data": {
      "application/vnd.jupyter.widget-view+json": {
       "model_id": "9f39a2fee7bd4a2482af230b9748bf51",
       "version_major": 2,
       "version_minor": 0
      },
      "text/plain": [
       "Epoch [16/150]; metric state\t:   0%|          | 0/1527 [00:00<?, ?it/s]"
      ]
     },
     "metadata": {},
     "output_type": "display_data"
    },
    {
     "name": "stdout",
     "output_type": "stream",
     "text": [
      "Epoch [16/150], Loss: 0.1541, F1 score: 0.64176\n"
     ]
    },
    {
     "data": {
      "application/vnd.jupyter.widget-view+json": {
       "model_id": "a95ed38cd870400f970dfdc2b2e9f079",
       "version_major": 2,
       "version_minor": 0
      },
      "text/plain": [
       "Epoch [17/150]; learning state\t:   0%|          | 0/1527 [00:00<?, ?it/s]"
      ]
     },
     "metadata": {},
     "output_type": "display_data"
    },
    {
     "data": {
      "application/vnd.jupyter.widget-view+json": {
       "model_id": "eae2b961aea749ba8964f345edb785f6",
       "version_major": 2,
       "version_minor": 0
      },
      "text/plain": [
       "Epoch [17/150]; metric state\t:   0%|          | 0/1527 [00:00<?, ?it/s]"
      ]
     },
     "metadata": {},
     "output_type": "display_data"
    },
    {
     "name": "stdout",
     "output_type": "stream",
     "text": [
      "Epoch [17/150], Loss: 0.3552, F1 score: 0.64246\n"
     ]
    },
    {
     "data": {
      "application/vnd.jupyter.widget-view+json": {
       "model_id": "49f31d902c804fbc8fe7836e9e4dab34",
       "version_major": 2,
       "version_minor": 0
      },
      "text/plain": [
       "Epoch [18/150]; learning state\t:   0%|          | 0/1527 [00:00<?, ?it/s]"
      ]
     },
     "metadata": {},
     "output_type": "display_data"
    },
    {
     "data": {
      "application/vnd.jupyter.widget-view+json": {
       "model_id": "a0eac99d927242c8a40cc2e46b4c6ba6",
       "version_major": 2,
       "version_minor": 0
      },
      "text/plain": [
       "Epoch [18/150]; metric state\t:   0%|          | 0/1527 [00:00<?, ?it/s]"
      ]
     },
     "metadata": {},
     "output_type": "display_data"
    },
    {
     "name": "stdout",
     "output_type": "stream",
     "text": [
      "Epoch [18/150], Loss: 0.4060, F1 score: 0.64304\n"
     ]
    },
    {
     "data": {
      "application/vnd.jupyter.widget-view+json": {
       "model_id": "8800aa70d9614394a54726e2d51521ef",
       "version_major": 2,
       "version_minor": 0
      },
      "text/plain": [
       "Epoch [19/150]; learning state\t:   0%|          | 0/1527 [00:00<?, ?it/s]"
      ]
     },
     "metadata": {},
     "output_type": "display_data"
    },
    {
     "data": {
      "application/vnd.jupyter.widget-view+json": {
       "model_id": "d0b287442edc43c0a405f125c86503bb",
       "version_major": 2,
       "version_minor": 0
      },
      "text/plain": [
       "Epoch [19/150]; metric state\t:   0%|          | 0/1527 [00:00<?, ?it/s]"
      ]
     },
     "metadata": {},
     "output_type": "display_data"
    },
    {
     "name": "stdout",
     "output_type": "stream",
     "text": [
      "Epoch [19/150], Loss: 0.3054, F1 score: 0.64381\n"
     ]
    },
    {
     "data": {
      "application/vnd.jupyter.widget-view+json": {
       "model_id": "d860dd3c8c8549bca84166377742c233",
       "version_major": 2,
       "version_minor": 0
      },
      "text/plain": [
       "Epoch [20/150]; learning state\t:   0%|          | 0/1527 [00:00<?, ?it/s]"
      ]
     },
     "metadata": {},
     "output_type": "display_data"
    },
    {
     "data": {
      "application/vnd.jupyter.widget-view+json": {
       "model_id": "b0925b42c62546f787b89f1fe6dc244c",
       "version_major": 2,
       "version_minor": 0
      },
      "text/plain": [
       "Epoch [20/150]; metric state\t:   0%|          | 0/1527 [00:00<?, ?it/s]"
      ]
     },
     "metadata": {},
     "output_type": "display_data"
    },
    {
     "name": "stdout",
     "output_type": "stream",
     "text": [
      "Epoch [20/150], Loss: 0.3481, F1 score: 0.64441\n"
     ]
    },
    {
     "data": {
      "application/vnd.jupyter.widget-view+json": {
       "model_id": "19f6d3878ffd41bab9663976caf29970",
       "version_major": 2,
       "version_minor": 0
      },
      "text/plain": [
       "Epoch [21/150]; learning state\t:   0%|          | 0/1527 [00:00<?, ?it/s]"
      ]
     },
     "metadata": {},
     "output_type": "display_data"
    },
    {
     "data": {
      "application/vnd.jupyter.widget-view+json": {
       "model_id": "d549b6776dce43509356b2ae1b02670e",
       "version_major": 2,
       "version_minor": 0
      },
      "text/plain": [
       "Epoch [21/150]; metric state\t:   0%|          | 0/1527 [00:00<?, ?it/s]"
      ]
     },
     "metadata": {},
     "output_type": "display_data"
    },
    {
     "name": "stdout",
     "output_type": "stream",
     "text": [
      "Epoch [21/150], Loss: 0.1751, F1 score: 0.64467\n"
     ]
    },
    {
     "data": {
      "application/vnd.jupyter.widget-view+json": {
       "model_id": "a32214922bca4cfb92cb1f6ba39a56bf",
       "version_major": 2,
       "version_minor": 0
      },
      "text/plain": [
       "Epoch [22/150]; learning state\t:   0%|          | 0/1527 [00:00<?, ?it/s]"
      ]
     },
     "metadata": {},
     "output_type": "display_data"
    },
    {
     "data": {
      "application/vnd.jupyter.widget-view+json": {
       "model_id": "1003d0b2d0964610ac05badd5c18d055",
       "version_major": 2,
       "version_minor": 0
      },
      "text/plain": [
       "Epoch [22/150]; metric state\t:   0%|          | 0/1527 [00:00<?, ?it/s]"
      ]
     },
     "metadata": {},
     "output_type": "display_data"
    },
    {
     "name": "stdout",
     "output_type": "stream",
     "text": [
      "Epoch [22/150], Loss: 0.2212, F1 score: 0.64545\n"
     ]
    },
    {
     "data": {
      "application/vnd.jupyter.widget-view+json": {
       "model_id": "c2884442ae9e47048d8bd34504d9f1b6",
       "version_major": 2,
       "version_minor": 0
      },
      "text/plain": [
       "Epoch [23/150]; learning state\t:   0%|          | 0/1527 [00:00<?, ?it/s]"
      ]
     },
     "metadata": {},
     "output_type": "display_data"
    },
    {
     "data": {
      "application/vnd.jupyter.widget-view+json": {
       "model_id": "a56880e94ceb4cca89a4d089e9110185",
       "version_major": 2,
       "version_minor": 0
      },
      "text/plain": [
       "Epoch [23/150]; metric state\t:   0%|          | 0/1527 [00:00<?, ?it/s]"
      ]
     },
     "metadata": {},
     "output_type": "display_data"
    },
    {
     "name": "stdout",
     "output_type": "stream",
     "text": [
      "Epoch [23/150], Loss: 0.1842, F1 score: 0.64591\n"
     ]
    },
    {
     "data": {
      "application/vnd.jupyter.widget-view+json": {
       "model_id": "762f6204d6e7447685de7ccc04a3a39f",
       "version_major": 2,
       "version_minor": 0
      },
      "text/plain": [
       "Epoch [24/150]; learning state\t:   0%|          | 0/1527 [00:00<?, ?it/s]"
      ]
     },
     "metadata": {},
     "output_type": "display_data"
    },
    {
     "data": {
      "application/vnd.jupyter.widget-view+json": {
       "model_id": "13ac509029fb4b349840d3d9117e9549",
       "version_major": 2,
       "version_minor": 0
      },
      "text/plain": [
       "Epoch [24/150]; metric state\t:   0%|          | 0/1527 [00:00<?, ?it/s]"
      ]
     },
     "metadata": {},
     "output_type": "display_data"
    },
    {
     "name": "stdout",
     "output_type": "stream",
     "text": [
      "Epoch [24/150], Loss: 0.1912, F1 score: 0.64634\n"
     ]
    },
    {
     "data": {
      "application/vnd.jupyter.widget-view+json": {
       "model_id": "4ea8d860dcb947a1893c8bd55c4b351f",
       "version_major": 2,
       "version_minor": 0
      },
      "text/plain": [
       "Epoch [25/150]; learning state\t:   0%|          | 0/1527 [00:00<?, ?it/s]"
      ]
     },
     "metadata": {},
     "output_type": "display_data"
    },
    {
     "data": {
      "application/vnd.jupyter.widget-view+json": {
       "model_id": "293abb1bb06c458bb3b658c2b106cb18",
       "version_major": 2,
       "version_minor": 0
      },
      "text/plain": [
       "Epoch [25/150]; metric state\t:   0%|          | 0/1527 [00:00<?, ?it/s]"
      ]
     },
     "metadata": {},
     "output_type": "display_data"
    },
    {
     "name": "stdout",
     "output_type": "stream",
     "text": [
      "Epoch [25/150], Loss: 0.2003, F1 score: 0.64663\n"
     ]
    },
    {
     "data": {
      "application/vnd.jupyter.widget-view+json": {
       "model_id": "aa26080d0c7440e4ab3c491f4da14d2e",
       "version_major": 2,
       "version_minor": 0
      },
      "text/plain": [
       "Epoch [26/150]; learning state\t:   0%|          | 0/1527 [00:00<?, ?it/s]"
      ]
     },
     "metadata": {},
     "output_type": "display_data"
    },
    {
     "data": {
      "application/vnd.jupyter.widget-view+json": {
       "model_id": "f7f9525d14ee456aadb2e5c225e15d1b",
       "version_major": 2,
       "version_minor": 0
      },
      "text/plain": [
       "Epoch [26/150]; metric state\t:   0%|          | 0/1527 [00:00<?, ?it/s]"
      ]
     },
     "metadata": {},
     "output_type": "display_data"
    },
    {
     "name": "stdout",
     "output_type": "stream",
     "text": [
      "Epoch [26/150], Loss: 0.2501, F1 score: 0.64710\n"
     ]
    },
    {
     "data": {
      "application/vnd.jupyter.widget-view+json": {
       "model_id": "7c088d4caf654e6f9c2d1bad6c320aed",
       "version_major": 2,
       "version_minor": 0
      },
      "text/plain": [
       "Epoch [27/150]; learning state\t:   0%|          | 0/1527 [00:00<?, ?it/s]"
      ]
     },
     "metadata": {},
     "output_type": "display_data"
    },
    {
     "data": {
      "application/vnd.jupyter.widget-view+json": {
       "model_id": "08baedab16a94a70b03f39a740745f57",
       "version_major": 2,
       "version_minor": 0
      },
      "text/plain": [
       "Epoch [27/150]; metric state\t:   0%|          | 0/1527 [00:00<?, ?it/s]"
      ]
     },
     "metadata": {},
     "output_type": "display_data"
    },
    {
     "name": "stdout",
     "output_type": "stream",
     "text": [
      "Epoch [27/150], Loss: 0.2765, F1 score: 0.64784\n"
     ]
    },
    {
     "data": {
      "application/vnd.jupyter.widget-view+json": {
       "model_id": "1320825f10c547c5858424e83354003a",
       "version_major": 2,
       "version_minor": 0
      },
      "text/plain": [
       "Epoch [28/150]; learning state\t:   0%|          | 0/1527 [00:00<?, ?it/s]"
      ]
     },
     "metadata": {},
     "output_type": "display_data"
    },
    {
     "data": {
      "application/vnd.jupyter.widget-view+json": {
       "model_id": "d0f07e569514431a8e852b5dcb62ef5d",
       "version_major": 2,
       "version_minor": 0
      },
      "text/plain": [
       "Epoch [28/150]; metric state\t:   0%|          | 0/1527 [00:00<?, ?it/s]"
      ]
     },
     "metadata": {},
     "output_type": "display_data"
    },
    {
     "name": "stdout",
     "output_type": "stream",
     "text": [
      "Epoch [28/150], Loss: 0.3911, F1 score: 0.64831\n"
     ]
    },
    {
     "data": {
      "application/vnd.jupyter.widget-view+json": {
       "model_id": "6d78723431424534ac291a5bc5caa1e0",
       "version_major": 2,
       "version_minor": 0
      },
      "text/plain": [
       "Epoch [29/150]; learning state\t:   0%|          | 0/1527 [00:00<?, ?it/s]"
      ]
     },
     "metadata": {},
     "output_type": "display_data"
    },
    {
     "data": {
      "application/vnd.jupyter.widget-view+json": {
       "model_id": "a346feadde0240fabd1374eb85610823",
       "version_major": 2,
       "version_minor": 0
      },
      "text/plain": [
       "Epoch [29/150]; metric state\t:   0%|          | 0/1527 [00:00<?, ?it/s]"
      ]
     },
     "metadata": {},
     "output_type": "display_data"
    },
    {
     "name": "stdout",
     "output_type": "stream",
     "text": [
      "Epoch [29/150], Loss: 0.2214, F1 score: 0.64874\n"
     ]
    },
    {
     "data": {
      "application/vnd.jupyter.widget-view+json": {
       "model_id": "3ff2ac8825524eafab2e0086b8c92669",
       "version_major": 2,
       "version_minor": 0
      },
      "text/plain": [
       "Epoch [30/150]; learning state\t:   0%|          | 0/1527 [00:00<?, ?it/s]"
      ]
     },
     "metadata": {},
     "output_type": "display_data"
    },
    {
     "data": {
      "application/vnd.jupyter.widget-view+json": {
       "model_id": "67c931103921450c8ee9eca8dee463bd",
       "version_major": 2,
       "version_minor": 0
      },
      "text/plain": [
       "Epoch [30/150]; metric state\t:   0%|          | 0/1527 [00:00<?, ?it/s]"
      ]
     },
     "metadata": {},
     "output_type": "display_data"
    },
    {
     "name": "stdout",
     "output_type": "stream",
     "text": [
      "Epoch [30/150], Loss: 0.2066, F1 score: 0.64960\n"
     ]
    },
    {
     "data": {
      "application/vnd.jupyter.widget-view+json": {
       "model_id": "5704f920345946e7bf535dafbcf532f5",
       "version_major": 2,
       "version_minor": 0
      },
      "text/plain": [
       "Epoch [31/150]; learning state\t:   0%|          | 0/1527 [00:00<?, ?it/s]"
      ]
     },
     "metadata": {},
     "output_type": "display_data"
    },
    {
     "data": {
      "application/vnd.jupyter.widget-view+json": {
       "model_id": "f537d7a321f44403b1b0ed62700af0ed",
       "version_major": 2,
       "version_minor": 0
      },
      "text/plain": [
       "Epoch [31/150]; metric state\t:   0%|          | 0/1527 [00:00<?, ?it/s]"
      ]
     },
     "metadata": {},
     "output_type": "display_data"
    },
    {
     "name": "stdout",
     "output_type": "stream",
     "text": [
      "Epoch [31/150], Loss: 0.2089, F1 score: 0.65008\n"
     ]
    },
    {
     "data": {
      "application/vnd.jupyter.widget-view+json": {
       "model_id": "1e183b5c69874514a492410d7f60788b",
       "version_major": 2,
       "version_minor": 0
      },
      "text/plain": [
       "Epoch [32/150]; learning state\t:   0%|          | 0/1527 [00:00<?, ?it/s]"
      ]
     },
     "metadata": {},
     "output_type": "display_data"
    },
    {
     "data": {
      "application/vnd.jupyter.widget-view+json": {
       "model_id": "3d5d50d674ce41f383bc0c134621609b",
       "version_major": 2,
       "version_minor": 0
      },
      "text/plain": [
       "Epoch [32/150]; metric state\t:   0%|          | 0/1527 [00:00<?, ?it/s]"
      ]
     },
     "metadata": {},
     "output_type": "display_data"
    },
    {
     "name": "stdout",
     "output_type": "stream",
     "text": [
      "Epoch [32/150], Loss: 0.2686, F1 score: 0.65068\n"
     ]
    },
    {
     "data": {
      "application/vnd.jupyter.widget-view+json": {
       "model_id": "fd4bc97d5b6544088b52975f4f041b44",
       "version_major": 2,
       "version_minor": 0
      },
      "text/plain": [
       "Epoch [33/150]; learning state\t:   0%|          | 0/1527 [00:00<?, ?it/s]"
      ]
     },
     "metadata": {},
     "output_type": "display_data"
    },
    {
     "data": {
      "application/vnd.jupyter.widget-view+json": {
       "model_id": "e6f0a449e6324f0a8c9dab12b869ef14",
       "version_major": 2,
       "version_minor": 0
      },
      "text/plain": [
       "Epoch [33/150]; metric state\t:   0%|          | 0/1527 [00:00<?, ?it/s]"
      ]
     },
     "metadata": {},
     "output_type": "display_data"
    },
    {
     "name": "stdout",
     "output_type": "stream",
     "text": [
      "Epoch [33/150], Loss: 0.3782, F1 score: 0.65121\n"
     ]
    },
    {
     "data": {
      "application/vnd.jupyter.widget-view+json": {
       "model_id": "20a5d025d09241e5bbc391c11af830a1",
       "version_major": 2,
       "version_minor": 0
      },
      "text/plain": [
       "Epoch [34/150]; learning state\t:   0%|          | 0/1527 [00:00<?, ?it/s]"
      ]
     },
     "metadata": {},
     "output_type": "display_data"
    },
    {
     "data": {
      "application/vnd.jupyter.widget-view+json": {
       "model_id": "a5c028fb204646678ee6309d8dd052c8",
       "version_major": 2,
       "version_minor": 0
      },
      "text/plain": [
       "Epoch [34/150]; metric state\t:   0%|          | 0/1527 [00:00<?, ?it/s]"
      ]
     },
     "metadata": {},
     "output_type": "display_data"
    },
    {
     "name": "stdout",
     "output_type": "stream",
     "text": [
      "Epoch [34/150], Loss: 0.2863, F1 score: 0.65181\n"
     ]
    },
    {
     "data": {
      "application/vnd.jupyter.widget-view+json": {
       "model_id": "2a77e29259f4442f8daeb2924c75e4cc",
       "version_major": 2,
       "version_minor": 0
      },
      "text/plain": [
       "Epoch [35/150]; learning state\t:   0%|          | 0/1527 [00:00<?, ?it/s]"
      ]
     },
     "metadata": {},
     "output_type": "display_data"
    },
    {
     "data": {
      "application/vnd.jupyter.widget-view+json": {
       "model_id": "1125dc84bd04475cba682b7eac0f9d69",
       "version_major": 2,
       "version_minor": 0
      },
      "text/plain": [
       "Epoch [35/150]; metric state\t:   0%|          | 0/1527 [00:00<?, ?it/s]"
      ]
     },
     "metadata": {},
     "output_type": "display_data"
    },
    {
     "name": "stdout",
     "output_type": "stream",
     "text": [
      "Epoch [35/150], Loss: 0.1208, F1 score: 0.65260\n"
     ]
    },
    {
     "data": {
      "application/vnd.jupyter.widget-view+json": {
       "model_id": "0d032cabeeba4f87a9c3bb67aff864cb",
       "version_major": 2,
       "version_minor": 0
      },
      "text/plain": [
       "Epoch [36/150]; learning state\t:   0%|          | 0/1527 [00:00<?, ?it/s]"
      ]
     },
     "metadata": {},
     "output_type": "display_data"
    },
    {
     "data": {
      "application/vnd.jupyter.widget-view+json": {
       "model_id": "6be56635ea074d068f49e9235b1fee21",
       "version_major": 2,
       "version_minor": 0
      },
      "text/plain": [
       "Epoch [36/150]; metric state\t:   0%|          | 0/1527 [00:00<?, ?it/s]"
      ]
     },
     "metadata": {},
     "output_type": "display_data"
    },
    {
     "name": "stdout",
     "output_type": "stream",
     "text": [
      "Epoch [36/150], Loss: 0.3106, F1 score: 0.65285\n"
     ]
    },
    {
     "data": {
      "application/vnd.jupyter.widget-view+json": {
       "model_id": "f32a04875e554674bed81bb89fc680ff",
       "version_major": 2,
       "version_minor": 0
      },
      "text/plain": [
       "Epoch [37/150]; learning state\t:   0%|          | 0/1527 [00:00<?, ?it/s]"
      ]
     },
     "metadata": {},
     "output_type": "display_data"
    },
    {
     "data": {
      "application/vnd.jupyter.widget-view+json": {
       "model_id": "d66d55f3c13546d8a168e77a8986467e",
       "version_major": 2,
       "version_minor": 0
      },
      "text/plain": [
       "Epoch [37/150]; metric state\t:   0%|          | 0/1527 [00:00<?, ?it/s]"
      ]
     },
     "metadata": {},
     "output_type": "display_data"
    },
    {
     "name": "stdout",
     "output_type": "stream",
     "text": [
      "Epoch [37/150], Loss: 0.2765, F1 score: 0.65337\n"
     ]
    },
    {
     "data": {
      "application/vnd.jupyter.widget-view+json": {
       "model_id": "6422814434cf4713bedf9588837fab6c",
       "version_major": 2,
       "version_minor": 0
      },
      "text/plain": [
       "Epoch [38/150]; learning state\t:   0%|          | 0/1527 [00:00<?, ?it/s]"
      ]
     },
     "metadata": {},
     "output_type": "display_data"
    },
    {
     "data": {
      "application/vnd.jupyter.widget-view+json": {
       "model_id": "e31488791a1a4e4482b9bbe0d7e13072",
       "version_major": 2,
       "version_minor": 0
      },
      "text/plain": [
       "Epoch [38/150]; metric state\t:   0%|          | 0/1527 [00:00<?, ?it/s]"
      ]
     },
     "metadata": {},
     "output_type": "display_data"
    },
    {
     "name": "stdout",
     "output_type": "stream",
     "text": [
      "Epoch [38/150], Loss: 0.2055, F1 score: 0.65387\n"
     ]
    },
    {
     "data": {
      "application/vnd.jupyter.widget-view+json": {
       "model_id": "830bd5ea04d34603a7f24e4a5f81439e",
       "version_major": 2,
       "version_minor": 0
      },
      "text/plain": [
       "Epoch [39/150]; learning state\t:   0%|          | 0/1527 [00:00<?, ?it/s]"
      ]
     },
     "metadata": {},
     "output_type": "display_data"
    },
    {
     "data": {
      "application/vnd.jupyter.widget-view+json": {
       "model_id": "75832860858f4f5080175838e50cf556",
       "version_major": 2,
       "version_minor": 0
      },
      "text/plain": [
       "Epoch [39/150]; metric state\t:   0%|          | 0/1527 [00:00<?, ?it/s]"
      ]
     },
     "metadata": {},
     "output_type": "display_data"
    },
    {
     "name": "stdout",
     "output_type": "stream",
     "text": [
      "Epoch [39/150], Loss: 0.2984, F1 score: 0.65438\n"
     ]
    },
    {
     "data": {
      "application/vnd.jupyter.widget-view+json": {
       "model_id": "7403666e57974f31a819d763c81a560b",
       "version_major": 2,
       "version_minor": 0
      },
      "text/plain": [
       "Epoch [40/150]; learning state\t:   0%|          | 0/1527 [00:00<?, ?it/s]"
      ]
     },
     "metadata": {},
     "output_type": "display_data"
    },
    {
     "data": {
      "application/vnd.jupyter.widget-view+json": {
       "model_id": "8b6639e32acd40479b6c8c4d14a4c1d0",
       "version_major": 2,
       "version_minor": 0
      },
      "text/plain": [
       "Epoch [40/150]; metric state\t:   0%|          | 0/1527 [00:00<?, ?it/s]"
      ]
     },
     "metadata": {},
     "output_type": "display_data"
    },
    {
     "name": "stdout",
     "output_type": "stream",
     "text": [
      "Epoch [40/150], Loss: 0.3883, F1 score: 0.65487\n"
     ]
    },
    {
     "data": {
      "application/vnd.jupyter.widget-view+json": {
       "model_id": "19a425dafc3a4c6a97d357f7cc2fb9f5",
       "version_major": 2,
       "version_minor": 0
      },
      "text/plain": [
       "Epoch [41/150]; learning state\t:   0%|          | 0/1527 [00:00<?, ?it/s]"
      ]
     },
     "metadata": {},
     "output_type": "display_data"
    },
    {
     "data": {
      "application/vnd.jupyter.widget-view+json": {
       "model_id": "9051ea36032641adad906ba0c58fed77",
       "version_major": 2,
       "version_minor": 0
      },
      "text/plain": [
       "Epoch [41/150]; metric state\t:   0%|          | 0/1527 [00:00<?, ?it/s]"
      ]
     },
     "metadata": {},
     "output_type": "display_data"
    },
    {
     "name": "stdout",
     "output_type": "stream",
     "text": [
      "Epoch [41/150], Loss: 0.2832, F1 score: 0.65539\n"
     ]
    },
    {
     "data": {
      "application/vnd.jupyter.widget-view+json": {
       "model_id": "5bfb6de711fb4a14b2b3d4c606db2b3e",
       "version_major": 2,
       "version_minor": 0
      },
      "text/plain": [
       "Epoch [42/150]; learning state\t:   0%|          | 0/1527 [00:00<?, ?it/s]"
      ]
     },
     "metadata": {},
     "output_type": "display_data"
    },
    {
     "data": {
      "application/vnd.jupyter.widget-view+json": {
       "model_id": "b90015ffc8de46ad8fbd818bf8b1a4b5",
       "version_major": 2,
       "version_minor": 0
      },
      "text/plain": [
       "Epoch [42/150]; metric state\t:   0%|          | 0/1527 [00:00<?, ?it/s]"
      ]
     },
     "metadata": {},
     "output_type": "display_data"
    },
    {
     "name": "stdout",
     "output_type": "stream",
     "text": [
      "Epoch [42/150], Loss: 0.1937, F1 score: 0.65583\n"
     ]
    },
    {
     "data": {
      "application/vnd.jupyter.widget-view+json": {
       "model_id": "76bd5155a14d4fa7a77c2607208dbcf0",
       "version_major": 2,
       "version_minor": 0
      },
      "text/plain": [
       "Epoch [43/150]; learning state\t:   0%|          | 0/1527 [00:00<?, ?it/s]"
      ]
     },
     "metadata": {},
     "output_type": "display_data"
    },
    {
     "data": {
      "application/vnd.jupyter.widget-view+json": {
       "model_id": "cf6a98fe763a46529e3c99643c8c71e8",
       "version_major": 2,
       "version_minor": 0
      },
      "text/plain": [
       "Epoch [43/150]; metric state\t:   0%|          | 0/1527 [00:00<?, ?it/s]"
      ]
     },
     "metadata": {},
     "output_type": "display_data"
    },
    {
     "name": "stdout",
     "output_type": "stream",
     "text": [
      "Epoch [43/150], Loss: 0.2231, F1 score: 0.65641\n"
     ]
    },
    {
     "data": {
      "application/vnd.jupyter.widget-view+json": {
       "model_id": "1da5a1aeb7dd4924b1a2985c3ef99bd5",
       "version_major": 2,
       "version_minor": 0
      },
      "text/plain": [
       "Epoch [44/150]; learning state\t:   0%|          | 0/1527 [00:00<?, ?it/s]"
      ]
     },
     "metadata": {},
     "output_type": "display_data"
    },
    {
     "data": {
      "application/vnd.jupyter.widget-view+json": {
       "model_id": "7c906e2927e0415f8eba490f70926c49",
       "version_major": 2,
       "version_minor": 0
      },
      "text/plain": [
       "Epoch [44/150]; metric state\t:   0%|          | 0/1527 [00:00<?, ?it/s]"
      ]
     },
     "metadata": {},
     "output_type": "display_data"
    },
    {
     "name": "stdout",
     "output_type": "stream",
     "text": [
      "Epoch [44/150], Loss: 0.2144, F1 score: 0.65674\n"
     ]
    },
    {
     "data": {
      "application/vnd.jupyter.widget-view+json": {
       "model_id": "04d975ff54644ad6a8f02d83a8ffbf3f",
       "version_major": 2,
       "version_minor": 0
      },
      "text/plain": [
       "Epoch [45/150]; learning state\t:   0%|          | 0/1527 [00:00<?, ?it/s]"
      ]
     },
     "metadata": {},
     "output_type": "display_data"
    },
    {
     "data": {
      "application/vnd.jupyter.widget-view+json": {
       "model_id": "c995b44267664b579fab2323f0aa14f8",
       "version_major": 2,
       "version_minor": 0
      },
      "text/plain": [
       "Epoch [45/150]; metric state\t:   0%|          | 0/1527 [00:00<?, ?it/s]"
      ]
     },
     "metadata": {},
     "output_type": "display_data"
    },
    {
     "name": "stdout",
     "output_type": "stream",
     "text": [
      "Epoch [45/150], Loss: 0.1615, F1 score: 0.65712\n"
     ]
    },
    {
     "data": {
      "application/vnd.jupyter.widget-view+json": {
       "model_id": "bd13836bfb0e44c0802b5b055fc96c64",
       "version_major": 2,
       "version_minor": 0
      },
      "text/plain": [
       "Epoch [46/150]; learning state\t:   0%|          | 0/1527 [00:00<?, ?it/s]"
      ]
     },
     "metadata": {},
     "output_type": "display_data"
    },
    {
     "data": {
      "application/vnd.jupyter.widget-view+json": {
       "model_id": "8d8fecbec02c4ea082be6df38e1e2846",
       "version_major": 2,
       "version_minor": 0
      },
      "text/plain": [
       "Epoch [46/150]; metric state\t:   0%|          | 0/1527 [00:00<?, ?it/s]"
      ]
     },
     "metadata": {},
     "output_type": "display_data"
    },
    {
     "name": "stdout",
     "output_type": "stream",
     "text": [
      "Epoch [46/150], Loss: 0.1862, F1 score: 0.65757\n"
     ]
    },
    {
     "data": {
      "application/vnd.jupyter.widget-view+json": {
       "model_id": "cfb80ef246c04c9bb6a94753607f08c9",
       "version_major": 2,
       "version_minor": 0
      },
      "text/plain": [
       "Epoch [47/150]; learning state\t:   0%|          | 0/1527 [00:00<?, ?it/s]"
      ]
     },
     "metadata": {},
     "output_type": "display_data"
    },
    {
     "data": {
      "application/vnd.jupyter.widget-view+json": {
       "model_id": "44de3c3338aa4c379d46823c32b1234a",
       "version_major": 2,
       "version_minor": 0
      },
      "text/plain": [
       "Epoch [47/150]; metric state\t:   0%|          | 0/1527 [00:00<?, ?it/s]"
      ]
     },
     "metadata": {},
     "output_type": "display_data"
    },
    {
     "name": "stdout",
     "output_type": "stream",
     "text": [
      "Epoch [47/150], Loss: 0.3319, F1 score: 0.65811\n"
     ]
    },
    {
     "data": {
      "application/vnd.jupyter.widget-view+json": {
       "model_id": "b9ba83e0f3fa4f0999e092718e5f2966",
       "version_major": 2,
       "version_minor": 0
      },
      "text/plain": [
       "Epoch [48/150]; learning state\t:   0%|          | 0/1527 [00:00<?, ?it/s]"
      ]
     },
     "metadata": {},
     "output_type": "display_data"
    },
    {
     "data": {
      "application/vnd.jupyter.widget-view+json": {
       "model_id": "03d694c175d84ab186d6dd2897b5529d",
       "version_major": 2,
       "version_minor": 0
      },
      "text/plain": [
       "Epoch [48/150]; metric state\t:   0%|          | 0/1527 [00:00<?, ?it/s]"
      ]
     },
     "metadata": {},
     "output_type": "display_data"
    },
    {
     "name": "stdout",
     "output_type": "stream",
     "text": [
      "Epoch [48/150], Loss: 0.2910, F1 score: 0.65861\n"
     ]
    },
    {
     "data": {
      "application/vnd.jupyter.widget-view+json": {
       "model_id": "8828de60d35e4c8a9ec9bf8b63e6c231",
       "version_major": 2,
       "version_minor": 0
      },
      "text/plain": [
       "Epoch [49/150]; learning state\t:   0%|          | 0/1527 [00:00<?, ?it/s]"
      ]
     },
     "metadata": {},
     "output_type": "display_data"
    },
    {
     "data": {
      "application/vnd.jupyter.widget-view+json": {
       "model_id": "0ce958a1fb334f2d81c8fe4908cc6041",
       "version_major": 2,
       "version_minor": 0
      },
      "text/plain": [
       "Epoch [49/150]; metric state\t:   0%|          | 0/1527 [00:00<?, ?it/s]"
      ]
     },
     "metadata": {},
     "output_type": "display_data"
    },
    {
     "name": "stdout",
     "output_type": "stream",
     "text": [
      "Epoch [49/150], Loss: 0.3188, F1 score: 0.65905\n"
     ]
    },
    {
     "data": {
      "application/vnd.jupyter.widget-view+json": {
       "model_id": "f866f5078f73417e94d2ac7ebd4efda0",
       "version_major": 2,
       "version_minor": 0
      },
      "text/plain": [
       "Epoch [50/150]; learning state\t:   0%|          | 0/1527 [00:00<?, ?it/s]"
      ]
     },
     "metadata": {},
     "output_type": "display_data"
    },
    {
     "data": {
      "application/vnd.jupyter.widget-view+json": {
       "model_id": "95e3f49cf3cc46748c3480241a94c65c",
       "version_major": 2,
       "version_minor": 0
      },
      "text/plain": [
       "Epoch [50/150]; metric state\t:   0%|          | 0/1527 [00:00<?, ?it/s]"
      ]
     },
     "metadata": {},
     "output_type": "display_data"
    },
    {
     "name": "stdout",
     "output_type": "stream",
     "text": [
      "Epoch [50/150], Loss: 0.2043, F1 score: 0.65947\n"
     ]
    },
    {
     "data": {
      "application/vnd.jupyter.widget-view+json": {
       "model_id": "3b4384202282401eafe6b88586427a6a",
       "version_major": 2,
       "version_minor": 0
      },
      "text/plain": [
       "Epoch [51/150]; learning state\t:   0%|          | 0/1527 [00:00<?, ?it/s]"
      ]
     },
     "metadata": {},
     "output_type": "display_data"
    },
    {
     "data": {
      "application/vnd.jupyter.widget-view+json": {
       "model_id": "6eda83f7096f40e4955984de8de25e4f",
       "version_major": 2,
       "version_minor": 0
      },
      "text/plain": [
       "Epoch [51/150]; metric state\t:   0%|          | 0/1527 [00:00<?, ?it/s]"
      ]
     },
     "metadata": {},
     "output_type": "display_data"
    },
    {
     "name": "stdout",
     "output_type": "stream",
     "text": [
      "Epoch [51/150], Loss: 0.2113, F1 score: 0.66005\n"
     ]
    },
    {
     "data": {
      "application/vnd.jupyter.widget-view+json": {
       "model_id": "73ae04640f754858988c7d3cc4158aa7",
       "version_major": 2,
       "version_minor": 0
      },
      "text/plain": [
       "Epoch [52/150]; learning state\t:   0%|          | 0/1527 [00:00<?, ?it/s]"
      ]
     },
     "metadata": {},
     "output_type": "display_data"
    },
    {
     "data": {
      "application/vnd.jupyter.widget-view+json": {
       "model_id": "7560cfeab3414ac4abcf40439ee477b3",
       "version_major": 2,
       "version_minor": 0
      },
      "text/plain": [
       "Epoch [52/150]; metric state\t:   0%|          | 0/1527 [00:00<?, ?it/s]"
      ]
     },
     "metadata": {},
     "output_type": "display_data"
    },
    {
     "name": "stdout",
     "output_type": "stream",
     "text": [
      "Epoch [52/150], Loss: 0.2806, F1 score: 0.66046\n"
     ]
    },
    {
     "data": {
      "application/vnd.jupyter.widget-view+json": {
       "model_id": "37282fb49e1240f09e251f79f272ff78",
       "version_major": 2,
       "version_minor": 0
      },
      "text/plain": [
       "Epoch [53/150]; learning state\t:   0%|          | 0/1527 [00:00<?, ?it/s]"
      ]
     },
     "metadata": {},
     "output_type": "display_data"
    },
    {
     "data": {
      "application/vnd.jupyter.widget-view+json": {
       "model_id": "c2483454b5df438b90ac82fab88e479b",
       "version_major": 2,
       "version_minor": 0
      },
      "text/plain": [
       "Epoch [53/150]; metric state\t:   0%|          | 0/1527 [00:00<?, ?it/s]"
      ]
     },
     "metadata": {},
     "output_type": "display_data"
    },
    {
     "name": "stdout",
     "output_type": "stream",
     "text": [
      "Epoch [53/150], Loss: 0.2673, F1 score: 0.66079\n"
     ]
    },
    {
     "data": {
      "application/vnd.jupyter.widget-view+json": {
       "model_id": "20ff815330af4d94948c76c8ed9efc7d",
       "version_major": 2,
       "version_minor": 0
      },
      "text/plain": [
       "Epoch [54/150]; learning state\t:   0%|          | 0/1527 [00:00<?, ?it/s]"
      ]
     },
     "metadata": {},
     "output_type": "display_data"
    },
    {
     "data": {
      "application/vnd.jupyter.widget-view+json": {
       "model_id": "875781347e37433f9648f26575a72ec0",
       "version_major": 2,
       "version_minor": 0
      },
      "text/plain": [
       "Epoch [54/150]; metric state\t:   0%|          | 0/1527 [00:00<?, ?it/s]"
      ]
     },
     "metadata": {},
     "output_type": "display_data"
    },
    {
     "name": "stdout",
     "output_type": "stream",
     "text": [
      "Epoch [54/150], Loss: 0.2359, F1 score: 0.66113\n"
     ]
    },
    {
     "data": {
      "application/vnd.jupyter.widget-view+json": {
       "model_id": "d9300b5959c1494f90184d523134665a",
       "version_major": 2,
       "version_minor": 0
      },
      "text/plain": [
       "Epoch [55/150]; learning state\t:   0%|          | 0/1527 [00:00<?, ?it/s]"
      ]
     },
     "metadata": {},
     "output_type": "display_data"
    },
    {
     "data": {
      "application/vnd.jupyter.widget-view+json": {
       "model_id": "616117480fd3413fb9f49cbee905f39e",
       "version_major": 2,
       "version_minor": 0
      },
      "text/plain": [
       "Epoch [55/150]; metric state\t:   0%|          | 0/1527 [00:00<?, ?it/s]"
      ]
     },
     "metadata": {},
     "output_type": "display_data"
    },
    {
     "name": "stdout",
     "output_type": "stream",
     "text": [
      "Epoch [55/150], Loss: 0.2170, F1 score: 0.66126\n"
     ]
    },
    {
     "data": {
      "application/vnd.jupyter.widget-view+json": {
       "model_id": "be946ad0bc4d4a06ba61f4925acae661",
       "version_major": 2,
       "version_minor": 0
      },
      "text/plain": [
       "Epoch [56/150]; learning state\t:   0%|          | 0/1527 [00:00<?, ?it/s]"
      ]
     },
     "metadata": {},
     "output_type": "display_data"
    },
    {
     "data": {
      "application/vnd.jupyter.widget-view+json": {
       "model_id": "07cde7e155d64184bc71b059d72fa7fc",
       "version_major": 2,
       "version_minor": 0
      },
      "text/plain": [
       "Epoch [56/150]; metric state\t:   0%|          | 0/1527 [00:00<?, ?it/s]"
      ]
     },
     "metadata": {},
     "output_type": "display_data"
    },
    {
     "name": "stdout",
     "output_type": "stream",
     "text": [
      "Epoch [56/150], Loss: 0.1668, F1 score: 0.66159\n"
     ]
    },
    {
     "data": {
      "application/vnd.jupyter.widget-view+json": {
       "model_id": "047b1b47d30f4a56a62d102feb590b0a",
       "version_major": 2,
       "version_minor": 0
      },
      "text/plain": [
       "Epoch [57/150]; learning state\t:   0%|          | 0/1527 [00:00<?, ?it/s]"
      ]
     },
     "metadata": {},
     "output_type": "display_data"
    },
    {
     "data": {
      "application/vnd.jupyter.widget-view+json": {
       "model_id": "e2bc7b956f3b45a29ee1b310f34d3efb",
       "version_major": 2,
       "version_minor": 0
      },
      "text/plain": [
       "Epoch [57/150]; metric state\t:   0%|          | 0/1527 [00:00<?, ?it/s]"
      ]
     },
     "metadata": {},
     "output_type": "display_data"
    },
    {
     "name": "stdout",
     "output_type": "stream",
     "text": [
      "Epoch [57/150], Loss: 0.2249, F1 score: 0.66214\n"
     ]
    },
    {
     "data": {
      "application/vnd.jupyter.widget-view+json": {
       "model_id": "2a5f8e248967449ea1722b48c59e3f3b",
       "version_major": 2,
       "version_minor": 0
      },
      "text/plain": [
       "Epoch [58/150]; learning state\t:   0%|          | 0/1527 [00:00<?, ?it/s]"
      ]
     },
     "metadata": {},
     "output_type": "display_data"
    },
    {
     "data": {
      "application/vnd.jupyter.widget-view+json": {
       "model_id": "43ebd81d3e3b4cf7bac26d3782bfaf1c",
       "version_major": 2,
       "version_minor": 0
      },
      "text/plain": [
       "Epoch [58/150]; metric state\t:   0%|          | 0/1527 [00:00<?, ?it/s]"
      ]
     },
     "metadata": {},
     "output_type": "display_data"
    },
    {
     "name": "stdout",
     "output_type": "stream",
     "text": [
      "Epoch [58/150], Loss: 0.3328, F1 score: 0.66271\n"
     ]
    },
    {
     "data": {
      "application/vnd.jupyter.widget-view+json": {
       "model_id": "60ec26062a3c44fd91b9c8f4d8f0a82a",
       "version_major": 2,
       "version_minor": 0
      },
      "text/plain": [
       "Epoch [59/150]; learning state\t:   0%|          | 0/1527 [00:00<?, ?it/s]"
      ]
     },
     "metadata": {},
     "output_type": "display_data"
    },
    {
     "data": {
      "application/vnd.jupyter.widget-view+json": {
       "model_id": "ba7ea430224243aabe42eb93ac1dd7f0",
       "version_major": 2,
       "version_minor": 0
      },
      "text/plain": [
       "Epoch [59/150]; metric state\t:   0%|          | 0/1527 [00:00<?, ?it/s]"
      ]
     },
     "metadata": {},
     "output_type": "display_data"
    },
    {
     "name": "stdout",
     "output_type": "stream",
     "text": [
      "Epoch [59/150], Loss: 0.2815, F1 score: 0.66303\n"
     ]
    },
    {
     "data": {
      "application/vnd.jupyter.widget-view+json": {
       "model_id": "cf18f4f4427c42d3a7fc1d1dc63fa4be",
       "version_major": 2,
       "version_minor": 0
      },
      "text/plain": [
       "Epoch [60/150]; learning state\t:   0%|          | 0/1527 [00:00<?, ?it/s]"
      ]
     },
     "metadata": {},
     "output_type": "display_data"
    },
    {
     "data": {
      "application/vnd.jupyter.widget-view+json": {
       "model_id": "287cdc83302f4554a13b217af5469f5b",
       "version_major": 2,
       "version_minor": 0
      },
      "text/plain": [
       "Epoch [60/150]; metric state\t:   0%|          | 0/1527 [00:00<?, ?it/s]"
      ]
     },
     "metadata": {},
     "output_type": "display_data"
    },
    {
     "name": "stdout",
     "output_type": "stream",
     "text": [
      "Epoch [60/150], Loss: 0.5359, F1 score: 0.66335\n"
     ]
    },
    {
     "data": {
      "application/vnd.jupyter.widget-view+json": {
       "model_id": "53e64ab5f09741fa8f77c32b8eadb766",
       "version_major": 2,
       "version_minor": 0
      },
      "text/plain": [
       "Epoch [61/150]; learning state\t:   0%|          | 0/1527 [00:00<?, ?it/s]"
      ]
     },
     "metadata": {},
     "output_type": "display_data"
    },
    {
     "data": {
      "application/vnd.jupyter.widget-view+json": {
       "model_id": "7f097adc263a4e93a5e2acc9e43b8a6e",
       "version_major": 2,
       "version_minor": 0
      },
      "text/plain": [
       "Epoch [61/150]; metric state\t:   0%|          | 0/1527 [00:00<?, ?it/s]"
      ]
     },
     "metadata": {},
     "output_type": "display_data"
    },
    {
     "name": "stdout",
     "output_type": "stream",
     "text": [
      "Epoch [61/150], Loss: 0.2581, F1 score: 0.66371\n"
     ]
    },
    {
     "data": {
      "application/vnd.jupyter.widget-view+json": {
       "model_id": "8d1b07fb91be4f5c939843add34d4f2d",
       "version_major": 2,
       "version_minor": 0
      },
      "text/plain": [
       "Epoch [62/150]; learning state\t:   0%|          | 0/1527 [00:00<?, ?it/s]"
      ]
     },
     "metadata": {},
     "output_type": "display_data"
    },
    {
     "data": {
      "application/vnd.jupyter.widget-view+json": {
       "model_id": "6ba2beaadce14fc2bfba44443fb8e3c3",
       "version_major": 2,
       "version_minor": 0
      },
      "text/plain": [
       "Epoch [62/150]; metric state\t:   0%|          | 0/1527 [00:00<?, ?it/s]"
      ]
     },
     "metadata": {},
     "output_type": "display_data"
    },
    {
     "name": "stdout",
     "output_type": "stream",
     "text": [
      "Epoch [62/150], Loss: 0.1591, F1 score: 0.66424\n"
     ]
    },
    {
     "data": {
      "application/vnd.jupyter.widget-view+json": {
       "model_id": "5e364dc5515b470481f9396625e1983a",
       "version_major": 2,
       "version_minor": 0
      },
      "text/plain": [
       "Epoch [63/150]; learning state\t:   0%|          | 0/1527 [00:00<?, ?it/s]"
      ]
     },
     "metadata": {},
     "output_type": "display_data"
    },
    {
     "data": {
      "application/vnd.jupyter.widget-view+json": {
       "model_id": "2bbc4f0edbc045a0ac17b155f69a4dc9",
       "version_major": 2,
       "version_minor": 0
      },
      "text/plain": [
       "Epoch [63/150]; metric state\t:   0%|          | 0/1527 [00:00<?, ?it/s]"
      ]
     },
     "metadata": {},
     "output_type": "display_data"
    },
    {
     "name": "stdout",
     "output_type": "stream",
     "text": [
      "Epoch [63/150], Loss: 0.2814, F1 score: 0.66459\n"
     ]
    },
    {
     "data": {
      "application/vnd.jupyter.widget-view+json": {
       "model_id": "f38cbcb658054075a59fb2474401b449",
       "version_major": 2,
       "version_minor": 0
      },
      "text/plain": [
       "Epoch [64/150]; learning state\t:   0%|          | 0/1527 [00:00<?, ?it/s]"
      ]
     },
     "metadata": {},
     "output_type": "display_data"
    },
    {
     "data": {
      "application/vnd.jupyter.widget-view+json": {
       "model_id": "b263f6b5e84f4e3aaf65aa056158bed6",
       "version_major": 2,
       "version_minor": 0
      },
      "text/plain": [
       "Epoch [64/150]; metric state\t:   0%|          | 0/1527 [00:00<?, ?it/s]"
      ]
     },
     "metadata": {},
     "output_type": "display_data"
    },
    {
     "name": "stdout",
     "output_type": "stream",
     "text": [
      "Epoch [64/150], Loss: 0.4450, F1 score: 0.66501\n"
     ]
    },
    {
     "data": {
      "application/vnd.jupyter.widget-view+json": {
       "model_id": "97bfc18780ce448fa8aae86d55875555",
       "version_major": 2,
       "version_minor": 0
      },
      "text/plain": [
       "Epoch [65/150]; learning state\t:   0%|          | 0/1527 [00:00<?, ?it/s]"
      ]
     },
     "metadata": {},
     "output_type": "display_data"
    },
    {
     "data": {
      "application/vnd.jupyter.widget-view+json": {
       "model_id": "7fe01bdf211645088cf7d3999694940f",
       "version_major": 2,
       "version_minor": 0
      },
      "text/plain": [
       "Epoch [65/150]; metric state\t:   0%|          | 0/1527 [00:00<?, ?it/s]"
      ]
     },
     "metadata": {},
     "output_type": "display_data"
    },
    {
     "name": "stdout",
     "output_type": "stream",
     "text": [
      "Epoch [65/150], Loss: 0.2062, F1 score: 0.66520\n"
     ]
    },
    {
     "data": {
      "application/vnd.jupyter.widget-view+json": {
       "model_id": "f2254d4c4bb142e0b3fc58cb48fa6f9e",
       "version_major": 2,
       "version_minor": 0
      },
      "text/plain": [
       "Epoch [66/150]; learning state\t:   0%|          | 0/1527 [00:00<?, ?it/s]"
      ]
     },
     "metadata": {},
     "output_type": "display_data"
    },
    {
     "data": {
      "application/vnd.jupyter.widget-view+json": {
       "model_id": "a1426bb057ce42f297eecee64903c52e",
       "version_major": 2,
       "version_minor": 0
      },
      "text/plain": [
       "Epoch [66/150]; metric state\t:   0%|          | 0/1527 [00:00<?, ?it/s]"
      ]
     },
     "metadata": {},
     "output_type": "display_data"
    },
    {
     "name": "stdout",
     "output_type": "stream",
     "text": [
      "Epoch [66/150], Loss: 0.2355, F1 score: 0.66542\n"
     ]
    },
    {
     "data": {
      "application/vnd.jupyter.widget-view+json": {
       "model_id": "b8d1f1397a0f49beaecc3621ad914b0d",
       "version_major": 2,
       "version_minor": 0
      },
      "text/plain": [
       "Epoch [67/150]; learning state\t:   0%|          | 0/1527 [00:00<?, ?it/s]"
      ]
     },
     "metadata": {},
     "output_type": "display_data"
    },
    {
     "data": {
      "application/vnd.jupyter.widget-view+json": {
       "model_id": "205aa41612b14e0eb3d92541e779b939",
       "version_major": 2,
       "version_minor": 0
      },
      "text/plain": [
       "Epoch [67/150]; metric state\t:   0%|          | 0/1527 [00:00<?, ?it/s]"
      ]
     },
     "metadata": {},
     "output_type": "display_data"
    },
    {
     "name": "stdout",
     "output_type": "stream",
     "text": [
      "Epoch [67/150], Loss: 0.2093, F1 score: 0.66589\n"
     ]
    },
    {
     "data": {
      "application/vnd.jupyter.widget-view+json": {
       "model_id": "4c95069c33b84a13847bfc4fb1cf1ce4",
       "version_major": 2,
       "version_minor": 0
      },
      "text/plain": [
       "Epoch [68/150]; learning state\t:   0%|          | 0/1527 [00:00<?, ?it/s]"
      ]
     },
     "metadata": {},
     "output_type": "display_data"
    },
    {
     "data": {
      "application/vnd.jupyter.widget-view+json": {
       "model_id": "54e37d1de6a04b56adb09927b1f57c72",
       "version_major": 2,
       "version_minor": 0
      },
      "text/plain": [
       "Epoch [68/150]; metric state\t:   0%|          | 0/1527 [00:00<?, ?it/s]"
      ]
     },
     "metadata": {},
     "output_type": "display_data"
    },
    {
     "name": "stdout",
     "output_type": "stream",
     "text": [
      "Epoch [68/150], Loss: 0.2391, F1 score: 0.66616\n"
     ]
    },
    {
     "data": {
      "application/vnd.jupyter.widget-view+json": {
       "model_id": "c9dc3ab50ac1438b9b31b8e33e50193b",
       "version_major": 2,
       "version_minor": 0
      },
      "text/plain": [
       "Epoch [69/150]; learning state\t:   0%|          | 0/1527 [00:00<?, ?it/s]"
      ]
     },
     "metadata": {},
     "output_type": "display_data"
    },
    {
     "data": {
      "application/vnd.jupyter.widget-view+json": {
       "model_id": "7c316d9dbcb047349c897590e5cbcd60",
       "version_major": 2,
       "version_minor": 0
      },
      "text/plain": [
       "Epoch [69/150]; metric state\t:   0%|          | 0/1527 [00:00<?, ?it/s]"
      ]
     },
     "metadata": {},
     "output_type": "display_data"
    },
    {
     "name": "stdout",
     "output_type": "stream",
     "text": [
      "Epoch [69/150], Loss: 0.2486, F1 score: 0.66639\n"
     ]
    },
    {
     "data": {
      "application/vnd.jupyter.widget-view+json": {
       "model_id": "e9c16f1f4dee4cffae8e8050a66fd71e",
       "version_major": 2,
       "version_minor": 0
      },
      "text/plain": [
       "Epoch [70/150]; learning state\t:   0%|          | 0/1527 [00:00<?, ?it/s]"
      ]
     },
     "metadata": {},
     "output_type": "display_data"
    },
    {
     "data": {
      "application/vnd.jupyter.widget-view+json": {
       "model_id": "8a733732700245569ca18a43fc73f342",
       "version_major": 2,
       "version_minor": 0
      },
      "text/plain": [
       "Epoch [70/150]; metric state\t:   0%|          | 0/1527 [00:00<?, ?it/s]"
      ]
     },
     "metadata": {},
     "output_type": "display_data"
    },
    {
     "name": "stdout",
     "output_type": "stream",
     "text": [
      "Epoch [70/150], Loss: 0.2284, F1 score: 0.66683\n"
     ]
    },
    {
     "data": {
      "application/vnd.jupyter.widget-view+json": {
       "model_id": "bf1af7fc1bf843cdb7b4bbd9f6e2af50",
       "version_major": 2,
       "version_minor": 0
      },
      "text/plain": [
       "Epoch [71/150]; learning state\t:   0%|          | 0/1527 [00:00<?, ?it/s]"
      ]
     },
     "metadata": {},
     "output_type": "display_data"
    },
    {
     "data": {
      "application/vnd.jupyter.widget-view+json": {
       "model_id": "82f3293d57fa417a9ede375f4c685a4f",
       "version_major": 2,
       "version_minor": 0
      },
      "text/plain": [
       "Epoch [71/150]; metric state\t:   0%|          | 0/1527 [00:00<?, ?it/s]"
      ]
     },
     "metadata": {},
     "output_type": "display_data"
    },
    {
     "name": "stdout",
     "output_type": "stream",
     "text": [
      "Epoch [71/150], Loss: 0.2872, F1 score: 0.66740\n"
     ]
    },
    {
     "data": {
      "application/vnd.jupyter.widget-view+json": {
       "model_id": "886dbc31e6214c8282c534db56559643",
       "version_major": 2,
       "version_minor": 0
      },
      "text/plain": [
       "Epoch [72/150]; learning state\t:   0%|          | 0/1527 [00:00<?, ?it/s]"
      ]
     },
     "metadata": {},
     "output_type": "display_data"
    },
    {
     "data": {
      "application/vnd.jupyter.widget-view+json": {
       "model_id": "9cc40855b987429c93c28ab4ad67d0b3",
       "version_major": 2,
       "version_minor": 0
      },
      "text/plain": [
       "Epoch [72/150]; metric state\t:   0%|          | 0/1527 [00:00<?, ?it/s]"
      ]
     },
     "metadata": {},
     "output_type": "display_data"
    },
    {
     "name": "stdout",
     "output_type": "stream",
     "text": [
      "Epoch [72/150], Loss: 0.1931, F1 score: 0.66784\n"
     ]
    },
    {
     "data": {
      "application/vnd.jupyter.widget-view+json": {
       "model_id": "4a8d6707ff6a4983afd07e98e1e282c3",
       "version_major": 2,
       "version_minor": 0
      },
      "text/plain": [
       "Epoch [73/150]; learning state\t:   0%|          | 0/1527 [00:00<?, ?it/s]"
      ]
     },
     "metadata": {},
     "output_type": "display_data"
    },
    {
     "data": {
      "application/vnd.jupyter.widget-view+json": {
       "model_id": "03762acc2ce94fb29ea54693bb82172f",
       "version_major": 2,
       "version_minor": 0
      },
      "text/plain": [
       "Epoch [73/150]; metric state\t:   0%|          | 0/1527 [00:00<?, ?it/s]"
      ]
     },
     "metadata": {},
     "output_type": "display_data"
    },
    {
     "name": "stdout",
     "output_type": "stream",
     "text": [
      "Epoch [73/150], Loss: 0.3564, F1 score: 0.66802\n"
     ]
    },
    {
     "data": {
      "application/vnd.jupyter.widget-view+json": {
       "model_id": "473cab7068354d2fbc40db8098647b3e",
       "version_major": 2,
       "version_minor": 0
      },
      "text/plain": [
       "Epoch [74/150]; learning state\t:   0%|          | 0/1527 [00:00<?, ?it/s]"
      ]
     },
     "metadata": {},
     "output_type": "display_data"
    },
    {
     "data": {
      "application/vnd.jupyter.widget-view+json": {
       "model_id": "b1f3926ff5fe4f93940b2e1f60301995",
       "version_major": 2,
       "version_minor": 0
      },
      "text/plain": [
       "Epoch [74/150]; metric state\t:   0%|          | 0/1527 [00:00<?, ?it/s]"
      ]
     },
     "metadata": {},
     "output_type": "display_data"
    },
    {
     "name": "stdout",
     "output_type": "stream",
     "text": [
      "Epoch [74/150], Loss: 0.3591, F1 score: 0.66855\n"
     ]
    },
    {
     "data": {
      "application/vnd.jupyter.widget-view+json": {
       "model_id": "04e68b70644446858e621f4a06f7d628",
       "version_major": 2,
       "version_minor": 0
      },
      "text/plain": [
       "Epoch [75/150]; learning state\t:   0%|          | 0/1527 [00:00<?, ?it/s]"
      ]
     },
     "metadata": {},
     "output_type": "display_data"
    },
    {
     "data": {
      "application/vnd.jupyter.widget-view+json": {
       "model_id": "27717e3244b54cc7a5ae8288199af8c1",
       "version_major": 2,
       "version_minor": 0
      },
      "text/plain": [
       "Epoch [75/150]; metric state\t:   0%|          | 0/1527 [00:00<?, ?it/s]"
      ]
     },
     "metadata": {},
     "output_type": "display_data"
    },
    {
     "name": "stdout",
     "output_type": "stream",
     "text": [
      "Epoch [75/150], Loss: 0.2079, F1 score: 0.66918\n"
     ]
    },
    {
     "data": {
      "application/vnd.jupyter.widget-view+json": {
       "model_id": "ebc4b79c3fdd45aeb8a6bdfbdcf94a30",
       "version_major": 2,
       "version_minor": 0
      },
      "text/plain": [
       "Epoch [76/150]; learning state\t:   0%|          | 0/1527 [00:00<?, ?it/s]"
      ]
     },
     "metadata": {},
     "output_type": "display_data"
    },
    {
     "data": {
      "application/vnd.jupyter.widget-view+json": {
       "model_id": "2e51a62697e94ababce862a541cbe114",
       "version_major": 2,
       "version_minor": 0
      },
      "text/plain": [
       "Epoch [76/150]; metric state\t:   0%|          | 0/1527 [00:00<?, ?it/s]"
      ]
     },
     "metadata": {},
     "output_type": "display_data"
    },
    {
     "name": "stdout",
     "output_type": "stream",
     "text": [
      "Epoch [76/150], Loss: 0.2394, F1 score: 0.66953\n"
     ]
    },
    {
     "data": {
      "application/vnd.jupyter.widget-view+json": {
       "model_id": "1f171bb086f54c54b9c00117c8d09023",
       "version_major": 2,
       "version_minor": 0
      },
      "text/plain": [
       "Epoch [77/150]; learning state\t:   0%|          | 0/1527 [00:00<?, ?it/s]"
      ]
     },
     "metadata": {},
     "output_type": "display_data"
    },
    {
     "data": {
      "application/vnd.jupyter.widget-view+json": {
       "model_id": "735a53fdac2e4bec90d1a62faddce169",
       "version_major": 2,
       "version_minor": 0
      },
      "text/plain": [
       "Epoch [77/150]; metric state\t:   0%|          | 0/1527 [00:00<?, ?it/s]"
      ]
     },
     "metadata": {},
     "output_type": "display_data"
    },
    {
     "name": "stdout",
     "output_type": "stream",
     "text": [
      "Epoch [77/150], Loss: 0.2838, F1 score: 0.66986\n"
     ]
    },
    {
     "data": {
      "application/vnd.jupyter.widget-view+json": {
       "model_id": "962c68a8a256445c92e1f29d834e0041",
       "version_major": 2,
       "version_minor": 0
      },
      "text/plain": [
       "Epoch [78/150]; learning state\t:   0%|          | 0/1527 [00:00<?, ?it/s]"
      ]
     },
     "metadata": {},
     "output_type": "display_data"
    },
    {
     "data": {
      "application/vnd.jupyter.widget-view+json": {
       "model_id": "9700b0b08ea2499c9076734384373665",
       "version_major": 2,
       "version_minor": 0
      },
      "text/plain": [
       "Epoch [78/150]; metric state\t:   0%|          | 0/1527 [00:00<?, ?it/s]"
      ]
     },
     "metadata": {},
     "output_type": "display_data"
    },
    {
     "name": "stdout",
     "output_type": "stream",
     "text": [
      "Epoch [78/150], Loss: 0.2621, F1 score: 0.67033\n"
     ]
    },
    {
     "data": {
      "application/vnd.jupyter.widget-view+json": {
       "model_id": "fcfc694081514bee86656a1b078bc136",
       "version_major": 2,
       "version_minor": 0
      },
      "text/plain": [
       "Epoch [79/150]; learning state\t:   0%|          | 0/1527 [00:00<?, ?it/s]"
      ]
     },
     "metadata": {},
     "output_type": "display_data"
    },
    {
     "data": {
      "application/vnd.jupyter.widget-view+json": {
       "model_id": "0bbacfdfab1343cfa2e9995738c36ce2",
       "version_major": 2,
       "version_minor": 0
      },
      "text/plain": [
       "Epoch [79/150]; metric state\t:   0%|          | 0/1527 [00:00<?, ?it/s]"
      ]
     },
     "metadata": {},
     "output_type": "display_data"
    },
    {
     "name": "stdout",
     "output_type": "stream",
     "text": [
      "Epoch [79/150], Loss: 0.2314, F1 score: 0.67076\n"
     ]
    },
    {
     "data": {
      "application/vnd.jupyter.widget-view+json": {
       "model_id": "4d14bdf3bd0c4a2999ee80654c26275b",
       "version_major": 2,
       "version_minor": 0
      },
      "text/plain": [
       "Epoch [80/150]; learning state\t:   0%|          | 0/1527 [00:00<?, ?it/s]"
      ]
     },
     "metadata": {},
     "output_type": "display_data"
    },
    {
     "data": {
      "application/vnd.jupyter.widget-view+json": {
       "model_id": "c5215f7b9fbe4dddbe5af69cbd56b79b",
       "version_major": 2,
       "version_minor": 0
      },
      "text/plain": [
       "Epoch [80/150]; metric state\t:   0%|          | 0/1527 [00:00<?, ?it/s]"
      ]
     },
     "metadata": {},
     "output_type": "display_data"
    },
    {
     "name": "stdout",
     "output_type": "stream",
     "text": [
      "Epoch [80/150], Loss: 0.2586, F1 score: 0.67092\n"
     ]
    },
    {
     "data": {
      "application/vnd.jupyter.widget-view+json": {
       "model_id": "e8d6fc5235834c61a60dd15d6c6608f8",
       "version_major": 2,
       "version_minor": 0
      },
      "text/plain": [
       "Epoch [81/150]; learning state\t:   0%|          | 0/1527 [00:00<?, ?it/s]"
      ]
     },
     "metadata": {},
     "output_type": "display_data"
    },
    {
     "data": {
      "application/vnd.jupyter.widget-view+json": {
       "model_id": "68de3af3b06540f3909e91195b82383b",
       "version_major": 2,
       "version_minor": 0
      },
      "text/plain": [
       "Epoch [81/150]; metric state\t:   0%|          | 0/1527 [00:00<?, ?it/s]"
      ]
     },
     "metadata": {},
     "output_type": "display_data"
    },
    {
     "name": "stdout",
     "output_type": "stream",
     "text": [
      "Epoch [81/150], Loss: 0.3993, F1 score: 0.67137\n"
     ]
    },
    {
     "data": {
      "application/vnd.jupyter.widget-view+json": {
       "model_id": "97484f60f6d24a02bb2da3ec96197f34",
       "version_major": 2,
       "version_minor": 0
      },
      "text/plain": [
       "Epoch [82/150]; learning state\t:   0%|          | 0/1527 [00:00<?, ?it/s]"
      ]
     },
     "metadata": {},
     "output_type": "display_data"
    },
    {
     "data": {
      "application/vnd.jupyter.widget-view+json": {
       "model_id": "9dd57a5ff43b47e39c777dc09b77274b",
       "version_major": 2,
       "version_minor": 0
      },
      "text/plain": [
       "Epoch [82/150]; metric state\t:   0%|          | 0/1527 [00:00<?, ?it/s]"
      ]
     },
     "metadata": {},
     "output_type": "display_data"
    },
    {
     "name": "stdout",
     "output_type": "stream",
     "text": [
      "Epoch [82/150], Loss: 0.2858, F1 score: 0.67185\n"
     ]
    },
    {
     "data": {
      "application/vnd.jupyter.widget-view+json": {
       "model_id": "6a1872675acc42c3b39225d5161efcb2",
       "version_major": 2,
       "version_minor": 0
      },
      "text/plain": [
       "Epoch [83/150]; learning state\t:   0%|          | 0/1527 [00:00<?, ?it/s]"
      ]
     },
     "metadata": {},
     "output_type": "display_data"
    },
    {
     "data": {
      "application/vnd.jupyter.widget-view+json": {
       "model_id": "a897d7eab7614c3591daebdd7f31ce0b",
       "version_major": 2,
       "version_minor": 0
      },
      "text/plain": [
       "Epoch [83/150]; metric state\t:   0%|          | 0/1527 [00:00<?, ?it/s]"
      ]
     },
     "metadata": {},
     "output_type": "display_data"
    },
    {
     "name": "stdout",
     "output_type": "stream",
     "text": [
      "Epoch [83/150], Loss: 0.2974, F1 score: 0.67208\n"
     ]
    },
    {
     "data": {
      "application/vnd.jupyter.widget-view+json": {
       "model_id": "d09f91e2cf8847848bbba58472015ee6",
       "version_major": 2,
       "version_minor": 0
      },
      "text/plain": [
       "Epoch [84/150]; learning state\t:   0%|          | 0/1527 [00:00<?, ?it/s]"
      ]
     },
     "metadata": {},
     "output_type": "display_data"
    },
    {
     "data": {
      "application/vnd.jupyter.widget-view+json": {
       "model_id": "5b386d9f8c6a4824b3f619256f2f780e",
       "version_major": 2,
       "version_minor": 0
      },
      "text/plain": [
       "Epoch [84/150]; metric state\t:   0%|          | 0/1527 [00:00<?, ?it/s]"
      ]
     },
     "metadata": {},
     "output_type": "display_data"
    },
    {
     "name": "stdout",
     "output_type": "stream",
     "text": [
      "Epoch [84/150], Loss: 0.1879, F1 score: 0.67264\n"
     ]
    },
    {
     "data": {
      "application/vnd.jupyter.widget-view+json": {
       "model_id": "0994412e43584b368889636e142e4a4b",
       "version_major": 2,
       "version_minor": 0
      },
      "text/plain": [
       "Epoch [85/150]; learning state\t:   0%|          | 0/1527 [00:00<?, ?it/s]"
      ]
     },
     "metadata": {},
     "output_type": "display_data"
    },
    {
     "data": {
      "application/vnd.jupyter.widget-view+json": {
       "model_id": "f72022d906774552b48db744055e607f",
       "version_major": 2,
       "version_minor": 0
      },
      "text/plain": [
       "Epoch [85/150]; metric state\t:   0%|          | 0/1527 [00:00<?, ?it/s]"
      ]
     },
     "metadata": {},
     "output_type": "display_data"
    },
    {
     "name": "stdout",
     "output_type": "stream",
     "text": [
      "Epoch [85/150], Loss: 0.2024, F1 score: 0.67275\n"
     ]
    },
    {
     "data": {
      "application/vnd.jupyter.widget-view+json": {
       "model_id": "bd501b02d5214abeaeb249f47dc7da57",
       "version_major": 2,
       "version_minor": 0
      },
      "text/plain": [
       "Epoch [86/150]; learning state\t:   0%|          | 0/1527 [00:00<?, ?it/s]"
      ]
     },
     "metadata": {},
     "output_type": "display_data"
    },
    {
     "data": {
      "application/vnd.jupyter.widget-view+json": {
       "model_id": "009e354649554f6a93bf8ff41a9ab3fd",
       "version_major": 2,
       "version_minor": 0
      },
      "text/plain": [
       "Epoch [86/150]; metric state\t:   0%|          | 0/1527 [00:00<?, ?it/s]"
      ]
     },
     "metadata": {},
     "output_type": "display_data"
    },
    {
     "name": "stdout",
     "output_type": "stream",
     "text": [
      "Epoch [86/150], Loss: 0.1963, F1 score: 0.67300\n"
     ]
    },
    {
     "data": {
      "application/vnd.jupyter.widget-view+json": {
       "model_id": "52366b048c0740ad9b34226c1b57e220",
       "version_major": 2,
       "version_minor": 0
      },
      "text/plain": [
       "Epoch [87/150]; learning state\t:   0%|          | 0/1527 [00:00<?, ?it/s]"
      ]
     },
     "metadata": {},
     "output_type": "display_data"
    },
    {
     "data": {
      "application/vnd.jupyter.widget-view+json": {
       "model_id": "274b576670204add90d6ef183ba40d27",
       "version_major": 2,
       "version_minor": 0
      },
      "text/plain": [
       "Epoch [87/150]; metric state\t:   0%|          | 0/1527 [00:00<?, ?it/s]"
      ]
     },
     "metadata": {},
     "output_type": "display_data"
    },
    {
     "name": "stdout",
     "output_type": "stream",
     "text": [
      "Epoch [87/150], Loss: 0.1794, F1 score: 0.67343\n"
     ]
    },
    {
     "data": {
      "application/vnd.jupyter.widget-view+json": {
       "model_id": "7b7731bee0ae4641a4b3970cdba24578",
       "version_major": 2,
       "version_minor": 0
      },
      "text/plain": [
       "Epoch [88/150]; learning state\t:   0%|          | 0/1527 [00:00<?, ?it/s]"
      ]
     },
     "metadata": {},
     "output_type": "display_data"
    },
    {
     "data": {
      "application/vnd.jupyter.widget-view+json": {
       "model_id": "4998285c5f3f4c0c9b72167eed836847",
       "version_major": 2,
       "version_minor": 0
      },
      "text/plain": [
       "Epoch [88/150]; metric state\t:   0%|          | 0/1527 [00:00<?, ?it/s]"
      ]
     },
     "metadata": {},
     "output_type": "display_data"
    },
    {
     "name": "stdout",
     "output_type": "stream",
     "text": [
      "Epoch [88/150], Loss: 0.2311, F1 score: 0.67379\n"
     ]
    },
    {
     "data": {
      "application/vnd.jupyter.widget-view+json": {
       "model_id": "d9ab7fe7219c4d9da5ac6c80ce491fa2",
       "version_major": 2,
       "version_minor": 0
      },
      "text/plain": [
       "Epoch [89/150]; learning state\t:   0%|          | 0/1527 [00:00<?, ?it/s]"
      ]
     },
     "metadata": {},
     "output_type": "display_data"
    },
    {
     "data": {
      "application/vnd.jupyter.widget-view+json": {
       "model_id": "5619832d13e24cd79fe14c0d63cf7a6a",
       "version_major": 2,
       "version_minor": 0
      },
      "text/plain": [
       "Epoch [89/150]; metric state\t:   0%|          | 0/1527 [00:00<?, ?it/s]"
      ]
     },
     "metadata": {},
     "output_type": "display_data"
    },
    {
     "name": "stdout",
     "output_type": "stream",
     "text": [
      "Epoch [89/150], Loss: 0.2469, F1 score: 0.67410\n"
     ]
    },
    {
     "data": {
      "application/vnd.jupyter.widget-view+json": {
       "model_id": "2d603fb9439b45709c379f5896b65b1a",
       "version_major": 2,
       "version_minor": 0
      },
      "text/plain": [
       "Epoch [90/150]; learning state\t:   0%|          | 0/1527 [00:00<?, ?it/s]"
      ]
     },
     "metadata": {},
     "output_type": "display_data"
    },
    {
     "data": {
      "application/vnd.jupyter.widget-view+json": {
       "model_id": "220c0c77060f457a8fbfaebe776a665e",
       "version_major": 2,
       "version_minor": 0
      },
      "text/plain": [
       "Epoch [90/150]; metric state\t:   0%|          | 0/1527 [00:00<?, ?it/s]"
      ]
     },
     "metadata": {},
     "output_type": "display_data"
    },
    {
     "name": "stdout",
     "output_type": "stream",
     "text": [
      "Epoch [90/150], Loss: 0.2715, F1 score: 0.67431\n"
     ]
    },
    {
     "data": {
      "application/vnd.jupyter.widget-view+json": {
       "model_id": "bd927859685142ae9e9a8d0ba42c0271",
       "version_major": 2,
       "version_minor": 0
      },
      "text/plain": [
       "Epoch [91/150]; learning state\t:   0%|          | 0/1527 [00:00<?, ?it/s]"
      ]
     },
     "metadata": {},
     "output_type": "display_data"
    },
    {
     "data": {
      "application/vnd.jupyter.widget-view+json": {
       "model_id": "d718bb3b674f4de49ab0cd7e964a42d5",
       "version_major": 2,
       "version_minor": 0
      },
      "text/plain": [
       "Epoch [91/150]; metric state\t:   0%|          | 0/1527 [00:00<?, ?it/s]"
      ]
     },
     "metadata": {},
     "output_type": "display_data"
    },
    {
     "name": "stdout",
     "output_type": "stream",
     "text": [
      "Epoch [91/150], Loss: 0.1343, F1 score: 0.67480\n"
     ]
    },
    {
     "data": {
      "application/vnd.jupyter.widget-view+json": {
       "model_id": "37e773a2f59d4bc3b6cc8b13418ceb71",
       "version_major": 2,
       "version_minor": 0
      },
      "text/plain": [
       "Epoch [92/150]; learning state\t:   0%|          | 0/1527 [00:00<?, ?it/s]"
      ]
     },
     "metadata": {},
     "output_type": "display_data"
    },
    {
     "data": {
      "application/vnd.jupyter.widget-view+json": {
       "model_id": "94db50c4aec842bdad58a4732f209dcb",
       "version_major": 2,
       "version_minor": 0
      },
      "text/plain": [
       "Epoch [92/150]; metric state\t:   0%|          | 0/1527 [00:00<?, ?it/s]"
      ]
     },
     "metadata": {},
     "output_type": "display_data"
    },
    {
     "name": "stdout",
     "output_type": "stream",
     "text": [
      "Epoch [92/150], Loss: 0.4389, F1 score: 0.67505\n"
     ]
    },
    {
     "data": {
      "application/vnd.jupyter.widget-view+json": {
       "model_id": "cf897017e24e454490fefeb5d1b85c05",
       "version_major": 2,
       "version_minor": 0
      },
      "text/plain": [
       "Epoch [93/150]; learning state\t:   0%|          | 0/1527 [00:00<?, ?it/s]"
      ]
     },
     "metadata": {},
     "output_type": "display_data"
    },
    {
     "data": {
      "application/vnd.jupyter.widget-view+json": {
       "model_id": "a0d309d56d7348ee8e8a9831f4860ebe",
       "version_major": 2,
       "version_minor": 0
      },
      "text/plain": [
       "Epoch [93/150]; metric state\t:   0%|          | 0/1527 [00:00<?, ?it/s]"
      ]
     },
     "metadata": {},
     "output_type": "display_data"
    },
    {
     "name": "stdout",
     "output_type": "stream",
     "text": [
      "Epoch [93/150], Loss: 0.2757, F1 score: 0.67564\n"
     ]
    },
    {
     "data": {
      "application/vnd.jupyter.widget-view+json": {
       "model_id": "bbdd013f98324b29ac4f553629fc5e3b",
       "version_major": 2,
       "version_minor": 0
      },
      "text/plain": [
       "Epoch [94/150]; learning state\t:   0%|          | 0/1527 [00:00<?, ?it/s]"
      ]
     },
     "metadata": {},
     "output_type": "display_data"
    },
    {
     "data": {
      "application/vnd.jupyter.widget-view+json": {
       "model_id": "ecca5795b8ce4992afc7e4bbcc01f9ed",
       "version_major": 2,
       "version_minor": 0
      },
      "text/plain": [
       "Epoch [94/150]; metric state\t:   0%|          | 0/1527 [00:00<?, ?it/s]"
      ]
     },
     "metadata": {},
     "output_type": "display_data"
    },
    {
     "name": "stdout",
     "output_type": "stream",
     "text": [
      "Epoch [94/150], Loss: 0.4155, F1 score: 0.67600\n"
     ]
    },
    {
     "data": {
      "application/vnd.jupyter.widget-view+json": {
       "model_id": "e2a3ad4694c4495d8c4820cb8bc5fce0",
       "version_major": 2,
       "version_minor": 0
      },
      "text/plain": [
       "Epoch [95/150]; learning state\t:   0%|          | 0/1527 [00:00<?, ?it/s]"
      ]
     },
     "metadata": {},
     "output_type": "display_data"
    },
    {
     "data": {
      "application/vnd.jupyter.widget-view+json": {
       "model_id": "eb64da07913e43fb8569e0ee8e1141b7",
       "version_major": 2,
       "version_minor": 0
      },
      "text/plain": [
       "Epoch [95/150]; metric state\t:   0%|          | 0/1527 [00:00<?, ?it/s]"
      ]
     },
     "metadata": {},
     "output_type": "display_data"
    },
    {
     "name": "stdout",
     "output_type": "stream",
     "text": [
      "Epoch [95/150], Loss: 0.2833, F1 score: 0.67608\n"
     ]
    },
    {
     "data": {
      "application/vnd.jupyter.widget-view+json": {
       "model_id": "1c609e8483694f6dae340913aaf160ae",
       "version_major": 2,
       "version_minor": 0
      },
      "text/plain": [
       "Epoch [96/150]; learning state\t:   0%|          | 0/1527 [00:00<?, ?it/s]"
      ]
     },
     "metadata": {},
     "output_type": "display_data"
    },
    {
     "data": {
      "application/vnd.jupyter.widget-view+json": {
       "model_id": "a8effafcbeab490e99f8f924b8c0d2f1",
       "version_major": 2,
       "version_minor": 0
      },
      "text/plain": [
       "Epoch [96/150]; metric state\t:   0%|          | 0/1527 [00:00<?, ?it/s]"
      ]
     },
     "metadata": {},
     "output_type": "display_data"
    },
    {
     "name": "stdout",
     "output_type": "stream",
     "text": [
      "Epoch [96/150], Loss: 0.2145, F1 score: 0.67640\n"
     ]
    },
    {
     "data": {
      "application/vnd.jupyter.widget-view+json": {
       "model_id": "337f663d4a4b42068f55f6e19d6ca763",
       "version_major": 2,
       "version_minor": 0
      },
      "text/plain": [
       "Epoch [97/150]; learning state\t:   0%|          | 0/1527 [00:00<?, ?it/s]"
      ]
     },
     "metadata": {},
     "output_type": "display_data"
    },
    {
     "data": {
      "application/vnd.jupyter.widget-view+json": {
       "model_id": "bd18d70dd9614b4db4c21c136dc371a2",
       "version_major": 2,
       "version_minor": 0
      },
      "text/plain": [
       "Epoch [97/150]; metric state\t:   0%|          | 0/1527 [00:00<?, ?it/s]"
      ]
     },
     "metadata": {},
     "output_type": "display_data"
    },
    {
     "name": "stdout",
     "output_type": "stream",
     "text": [
      "Epoch [97/150], Loss: 0.2172, F1 score: 0.67655\n"
     ]
    },
    {
     "data": {
      "application/vnd.jupyter.widget-view+json": {
       "model_id": "bee49939a4fa4ec6a491b84d81941574",
       "version_major": 2,
       "version_minor": 0
      },
      "text/plain": [
       "Epoch [98/150]; learning state\t:   0%|          | 0/1527 [00:00<?, ?it/s]"
      ]
     },
     "metadata": {},
     "output_type": "display_data"
    },
    {
     "data": {
      "application/vnd.jupyter.widget-view+json": {
       "model_id": "c727aa5c69714f0f82985be75369a4ab",
       "version_major": 2,
       "version_minor": 0
      },
      "text/plain": [
       "Epoch [98/150]; metric state\t:   0%|          | 0/1527 [00:00<?, ?it/s]"
      ]
     },
     "metadata": {},
     "output_type": "display_data"
    },
    {
     "name": "stdout",
     "output_type": "stream",
     "text": [
      "Epoch [98/150], Loss: 0.2378, F1 score: 0.67700\n"
     ]
    },
    {
     "data": {
      "application/vnd.jupyter.widget-view+json": {
       "model_id": "bb3f917a484d4d5584d33c7db6170bb8",
       "version_major": 2,
       "version_minor": 0
      },
      "text/plain": [
       "Epoch [99/150]; learning state\t:   0%|          | 0/1527 [00:00<?, ?it/s]"
      ]
     },
     "metadata": {},
     "output_type": "display_data"
    },
    {
     "data": {
      "application/vnd.jupyter.widget-view+json": {
       "model_id": "dcc0cf6275714292b544d832073c8192",
       "version_major": 2,
       "version_minor": 0
      },
      "text/plain": [
       "Epoch [99/150]; metric state\t:   0%|          | 0/1527 [00:00<?, ?it/s]"
      ]
     },
     "metadata": {},
     "output_type": "display_data"
    },
    {
     "name": "stdout",
     "output_type": "stream",
     "text": [
      "Epoch [99/150], Loss: 0.2442, F1 score: 0.67703\n"
     ]
    },
    {
     "data": {
      "application/vnd.jupyter.widget-view+json": {
       "model_id": "19f71fab48e04306b0fe5236f40eb82d",
       "version_major": 2,
       "version_minor": 0
      },
      "text/plain": [
       "Epoch [100/150]; learning state\t:   0%|          | 0/1527 [00:00<?, ?it/s]"
      ]
     },
     "metadata": {},
     "output_type": "display_data"
    },
    {
     "data": {
      "application/vnd.jupyter.widget-view+json": {
       "model_id": "a7d9f686610f478ea5c33d8942cdebc4",
       "version_major": 2,
       "version_minor": 0
      },
      "text/plain": [
       "Epoch [100/150]; metric state\t:   0%|          | 0/1527 [00:00<?, ?it/s]"
      ]
     },
     "metadata": {},
     "output_type": "display_data"
    },
    {
     "name": "stdout",
     "output_type": "stream",
     "text": [
      "Epoch [100/150], Loss: 0.1778, F1 score: 0.67734\n"
     ]
    },
    {
     "data": {
      "application/vnd.jupyter.widget-view+json": {
       "model_id": "1aaf45aebe5c4016b91e507a0c076d48",
       "version_major": 2,
       "version_minor": 0
      },
      "text/plain": [
       "Epoch [101/150]; learning state\t:   0%|          | 0/1527 [00:00<?, ?it/s]"
      ]
     },
     "metadata": {},
     "output_type": "display_data"
    },
    {
     "data": {
      "application/vnd.jupyter.widget-view+json": {
       "model_id": "33aaac65cc8940a5a66b14f177affd24",
       "version_major": 2,
       "version_minor": 0
      },
      "text/plain": [
       "Epoch [101/150]; metric state\t:   0%|          | 0/1527 [00:00<?, ?it/s]"
      ]
     },
     "metadata": {},
     "output_type": "display_data"
    },
    {
     "name": "stdout",
     "output_type": "stream",
     "text": [
      "Epoch [101/150], Loss: 0.3118, F1 score: 0.67765\n"
     ]
    },
    {
     "data": {
      "application/vnd.jupyter.widget-view+json": {
       "model_id": "a311e01a4f6342038205346613d237fa",
       "version_major": 2,
       "version_minor": 0
      },
      "text/plain": [
       "Epoch [102/150]; learning state\t:   0%|          | 0/1527 [00:00<?, ?it/s]"
      ]
     },
     "metadata": {},
     "output_type": "display_data"
    },
    {
     "data": {
      "application/vnd.jupyter.widget-view+json": {
       "model_id": "c843968e05a745729c80a19a9d4264b8",
       "version_major": 2,
       "version_minor": 0
      },
      "text/plain": [
       "Epoch [102/150]; metric state\t:   0%|          | 0/1527 [00:00<?, ?it/s]"
      ]
     },
     "metadata": {},
     "output_type": "display_data"
    },
    {
     "name": "stdout",
     "output_type": "stream",
     "text": [
      "Epoch [102/150], Loss: 0.2693, F1 score: 0.67776\n"
     ]
    },
    {
     "data": {
      "application/vnd.jupyter.widget-view+json": {
       "model_id": "8e1899c2cd254bceac0aa2df88388948",
       "version_major": 2,
       "version_minor": 0
      },
      "text/plain": [
       "Epoch [103/150]; learning state\t:   0%|          | 0/1527 [00:00<?, ?it/s]"
      ]
     },
     "metadata": {},
     "output_type": "display_data"
    },
    {
     "data": {
      "application/vnd.jupyter.widget-view+json": {
       "model_id": "48a1e28e2de8428e9c1852f4ee8b44fe",
       "version_major": 2,
       "version_minor": 0
      },
      "text/plain": [
       "Epoch [103/150]; metric state\t:   0%|          | 0/1527 [00:00<?, ?it/s]"
      ]
     },
     "metadata": {},
     "output_type": "display_data"
    },
    {
     "name": "stdout",
     "output_type": "stream",
     "text": [
      "Epoch [103/150], Loss: 0.1776, F1 score: 0.67797\n"
     ]
    },
    {
     "data": {
      "application/vnd.jupyter.widget-view+json": {
       "model_id": "36247f607f8844c784de2182356847a8",
       "version_major": 2,
       "version_minor": 0
      },
      "text/plain": [
       "Epoch [104/150]; learning state\t:   0%|          | 0/1527 [00:00<?, ?it/s]"
      ]
     },
     "metadata": {},
     "output_type": "display_data"
    },
    {
     "data": {
      "application/vnd.jupyter.widget-view+json": {
       "model_id": "70352a4b353640f6bf88143b689e1f53",
       "version_major": 2,
       "version_minor": 0
      },
      "text/plain": [
       "Epoch [104/150]; metric state\t:   0%|          | 0/1527 [00:00<?, ?it/s]"
      ]
     },
     "metadata": {},
     "output_type": "display_data"
    },
    {
     "name": "stdout",
     "output_type": "stream",
     "text": [
      "Epoch [104/150], Loss: 0.2710, F1 score: 0.67813\n"
     ]
    },
    {
     "data": {
      "application/vnd.jupyter.widget-view+json": {
       "model_id": "208ad2228a8f4557961e5e15a3eae4c2",
       "version_major": 2,
       "version_minor": 0
      },
      "text/plain": [
       "Epoch [105/150]; learning state\t:   0%|          | 0/1527 [00:00<?, ?it/s]"
      ]
     },
     "metadata": {},
     "output_type": "display_data"
    },
    {
     "data": {
      "application/vnd.jupyter.widget-view+json": {
       "model_id": "91a1b6bb855248ae97f1aae3f369183c",
       "version_major": 2,
       "version_minor": 0
      },
      "text/plain": [
       "Epoch [105/150]; metric state\t:   0%|          | 0/1527 [00:00<?, ?it/s]"
      ]
     },
     "metadata": {},
     "output_type": "display_data"
    },
    {
     "name": "stdout",
     "output_type": "stream",
     "text": [
      "Epoch [105/150], Loss: 0.1447, F1 score: 0.67853\n"
     ]
    },
    {
     "data": {
      "application/vnd.jupyter.widget-view+json": {
       "model_id": "759d03bfdbb94f1a921cb50f5e4b9852",
       "version_major": 2,
       "version_minor": 0
      },
      "text/plain": [
       "Epoch [106/150]; learning state\t:   0%|          | 0/1527 [00:00<?, ?it/s]"
      ]
     },
     "metadata": {},
     "output_type": "display_data"
    },
    {
     "data": {
      "application/vnd.jupyter.widget-view+json": {
       "model_id": "8533facd2df845cd90c795aee07b357a",
       "version_major": 2,
       "version_minor": 0
      },
      "text/plain": [
       "Epoch [106/150]; metric state\t:   0%|          | 0/1527 [00:00<?, ?it/s]"
      ]
     },
     "metadata": {},
     "output_type": "display_data"
    },
    {
     "name": "stdout",
     "output_type": "stream",
     "text": [
      "Epoch [106/150], Loss: 0.1623, F1 score: 0.67867\n"
     ]
    },
    {
     "data": {
      "application/vnd.jupyter.widget-view+json": {
       "model_id": "1cf72f489592401c804dbc095ba7e74c",
       "version_major": 2,
       "version_minor": 0
      },
      "text/plain": [
       "Epoch [107/150]; learning state\t:   0%|          | 0/1527 [00:00<?, ?it/s]"
      ]
     },
     "metadata": {},
     "output_type": "display_data"
    },
    {
     "data": {
      "application/vnd.jupyter.widget-view+json": {
       "model_id": "89ece46aebb549cebbd53d17e9dbd006",
       "version_major": 2,
       "version_minor": 0
      },
      "text/plain": [
       "Epoch [107/150]; metric state\t:   0%|          | 0/1527 [00:00<?, ?it/s]"
      ]
     },
     "metadata": {},
     "output_type": "display_data"
    },
    {
     "name": "stdout",
     "output_type": "stream",
     "text": [
      "Epoch [107/150], Loss: 0.2112, F1 score: 0.67909\n"
     ]
    },
    {
     "data": {
      "application/vnd.jupyter.widget-view+json": {
       "model_id": "f4851d36abc74cadbcf8c099e0be58b1",
       "version_major": 2,
       "version_minor": 0
      },
      "text/plain": [
       "Epoch [108/150]; learning state\t:   0%|          | 0/1527 [00:00<?, ?it/s]"
      ]
     },
     "metadata": {},
     "output_type": "display_data"
    },
    {
     "data": {
      "application/vnd.jupyter.widget-view+json": {
       "model_id": "eedb0a699b7c4107900465a40e3ba208",
       "version_major": 2,
       "version_minor": 0
      },
      "text/plain": [
       "Epoch [108/150]; metric state\t:   0%|          | 0/1527 [00:00<?, ?it/s]"
      ]
     },
     "metadata": {},
     "output_type": "display_data"
    },
    {
     "name": "stdout",
     "output_type": "stream",
     "text": [
      "Epoch [108/150], Loss: 0.2692, F1 score: 0.67958\n"
     ]
    },
    {
     "data": {
      "application/vnd.jupyter.widget-view+json": {
       "model_id": "f8e9fb6e789e47079c64680c8a1540bb",
       "version_major": 2,
       "version_minor": 0
      },
      "text/plain": [
       "Epoch [109/150]; learning state\t:   0%|          | 0/1527 [00:00<?, ?it/s]"
      ]
     },
     "metadata": {},
     "output_type": "display_data"
    },
    {
     "data": {
      "application/vnd.jupyter.widget-view+json": {
       "model_id": "5b1b7e59f8f042e6806e7ffd23cf05d9",
       "version_major": 2,
       "version_minor": 0
      },
      "text/plain": [
       "Epoch [109/150]; metric state\t:   0%|          | 0/1527 [00:00<?, ?it/s]"
      ]
     },
     "metadata": {},
     "output_type": "display_data"
    },
    {
     "name": "stdout",
     "output_type": "stream",
     "text": [
      "Epoch [109/150], Loss: 0.2051, F1 score: 0.67993\n"
     ]
    },
    {
     "data": {
      "application/vnd.jupyter.widget-view+json": {
       "model_id": "9b04edc40a1249549dac4aa6f93579b2",
       "version_major": 2,
       "version_minor": 0
      },
      "text/plain": [
       "Epoch [110/150]; learning state\t:   0%|          | 0/1527 [00:00<?, ?it/s]"
      ]
     },
     "metadata": {},
     "output_type": "display_data"
    },
    {
     "data": {
      "application/vnd.jupyter.widget-view+json": {
       "model_id": "ef5551a2f5154e97ab1544eb31f91048",
       "version_major": 2,
       "version_minor": 0
      },
      "text/plain": [
       "Epoch [110/150]; metric state\t:   0%|          | 0/1527 [00:00<?, ?it/s]"
      ]
     },
     "metadata": {},
     "output_type": "display_data"
    },
    {
     "name": "stdout",
     "output_type": "stream",
     "text": [
      "Epoch [110/150], Loss: 0.1980, F1 score: 0.68012\n"
     ]
    },
    {
     "data": {
      "application/vnd.jupyter.widget-view+json": {
       "model_id": "baa2da3c8302452d8c5cafe4e3b7b304",
       "version_major": 2,
       "version_minor": 0
      },
      "text/plain": [
       "Epoch [111/150]; learning state\t:   0%|          | 0/1527 [00:00<?, ?it/s]"
      ]
     },
     "metadata": {},
     "output_type": "display_data"
    },
    {
     "data": {
      "application/vnd.jupyter.widget-view+json": {
       "model_id": "3ad9a232223b452db85dd2aa13fab6ee",
       "version_major": 2,
       "version_minor": 0
      },
      "text/plain": [
       "Epoch [111/150]; metric state\t:   0%|          | 0/1527 [00:00<?, ?it/s]"
      ]
     },
     "metadata": {},
     "output_type": "display_data"
    },
    {
     "name": "stdout",
     "output_type": "stream",
     "text": [
      "Epoch [111/150], Loss: 0.1193, F1 score: 0.68046\n"
     ]
    },
    {
     "data": {
      "application/vnd.jupyter.widget-view+json": {
       "model_id": "73802871a0834f028cfc2420e89a678b",
       "version_major": 2,
       "version_minor": 0
      },
      "text/plain": [
       "Epoch [112/150]; learning state\t:   0%|          | 0/1527 [00:00<?, ?it/s]"
      ]
     },
     "metadata": {},
     "output_type": "display_data"
    },
    {
     "data": {
      "application/vnd.jupyter.widget-view+json": {
       "model_id": "f9bc38af3ddd4682b74d9fc81a7b094c",
       "version_major": 2,
       "version_minor": 0
      },
      "text/plain": [
       "Epoch [112/150]; metric state\t:   0%|          | 0/1527 [00:00<?, ?it/s]"
      ]
     },
     "metadata": {},
     "output_type": "display_data"
    },
    {
     "name": "stdout",
     "output_type": "stream",
     "text": [
      "Epoch [112/150], Loss: 0.3863, F1 score: 0.68073\n"
     ]
    },
    {
     "data": {
      "application/vnd.jupyter.widget-view+json": {
       "model_id": "b6ac37223b934ac3abb10aa7ddfae9ef",
       "version_major": 2,
       "version_minor": 0
      },
      "text/plain": [
       "Epoch [113/150]; learning state\t:   0%|          | 0/1527 [00:00<?, ?it/s]"
      ]
     },
     "metadata": {},
     "output_type": "display_data"
    },
    {
     "data": {
      "application/vnd.jupyter.widget-view+json": {
       "model_id": "a57b77cdf62a4782ac43cfe6bea2fec0",
       "version_major": 2,
       "version_minor": 0
      },
      "text/plain": [
       "Epoch [113/150]; metric state\t:   0%|          | 0/1527 [00:00<?, ?it/s]"
      ]
     },
     "metadata": {},
     "output_type": "display_data"
    },
    {
     "name": "stdout",
     "output_type": "stream",
     "text": [
      "Epoch [113/150], Loss: 0.2387, F1 score: 0.68114\n"
     ]
    },
    {
     "data": {
      "application/vnd.jupyter.widget-view+json": {
       "model_id": "73ceefbd7b4a49ee948a3097270d3200",
       "version_major": 2,
       "version_minor": 0
      },
      "text/plain": [
       "Epoch [114/150]; learning state\t:   0%|          | 0/1527 [00:00<?, ?it/s]"
      ]
     },
     "metadata": {},
     "output_type": "display_data"
    },
    {
     "data": {
      "application/vnd.jupyter.widget-view+json": {
       "model_id": "461cc212c54e495c8865a6469ff8be6e",
       "version_major": 2,
       "version_minor": 0
      },
      "text/plain": [
       "Epoch [114/150]; metric state\t:   0%|          | 0/1527 [00:00<?, ?it/s]"
      ]
     },
     "metadata": {},
     "output_type": "display_data"
    },
    {
     "name": "stdout",
     "output_type": "stream",
     "text": [
      "Epoch [114/150], Loss: 0.2121, F1 score: 0.68115\n"
     ]
    },
    {
     "data": {
      "application/vnd.jupyter.widget-view+json": {
       "model_id": "4069d5dd36654892be0bc284245a5b48",
       "version_major": 2,
       "version_minor": 0
      },
      "text/plain": [
       "Epoch [115/150]; learning state\t:   0%|          | 0/1527 [00:00<?, ?it/s]"
      ]
     },
     "metadata": {},
     "output_type": "display_data"
    },
    {
     "data": {
      "application/vnd.jupyter.widget-view+json": {
       "model_id": "c2cbb3813d27412caa80bdd17f6a40ad",
       "version_major": 2,
       "version_minor": 0
      },
      "text/plain": [
       "Epoch [115/150]; metric state\t:   0%|          | 0/1527 [00:00<?, ?it/s]"
      ]
     },
     "metadata": {},
     "output_type": "display_data"
    },
    {
     "name": "stdout",
     "output_type": "stream",
     "text": [
      "Epoch [115/150], Loss: 0.2842, F1 score: 0.68133\n"
     ]
    },
    {
     "data": {
      "application/vnd.jupyter.widget-view+json": {
       "model_id": "d5569bafea3b42b78b3c7e61608f4b3f",
       "version_major": 2,
       "version_minor": 0
      },
      "text/plain": [
       "Epoch [116/150]; learning state\t:   0%|          | 0/1527 [00:00<?, ?it/s]"
      ]
     },
     "metadata": {},
     "output_type": "display_data"
    },
    {
     "data": {
      "application/vnd.jupyter.widget-view+json": {
       "model_id": "790a8056bca543e6813a97b7640f7fe2",
       "version_major": 2,
       "version_minor": 0
      },
      "text/plain": [
       "Epoch [116/150]; metric state\t:   0%|          | 0/1527 [00:00<?, ?it/s]"
      ]
     },
     "metadata": {},
     "output_type": "display_data"
    },
    {
     "name": "stdout",
     "output_type": "stream",
     "text": [
      "Epoch [116/150], Loss: 0.2148, F1 score: 0.68162\n"
     ]
    },
    {
     "data": {
      "application/vnd.jupyter.widget-view+json": {
       "model_id": "c6cdf24af2af441ab60bfe4783739c3e",
       "version_major": 2,
       "version_minor": 0
      },
      "text/plain": [
       "Epoch [117/150]; learning state\t:   0%|          | 0/1527 [00:00<?, ?it/s]"
      ]
     },
     "metadata": {},
     "output_type": "display_data"
    },
    {
     "data": {
      "application/vnd.jupyter.widget-view+json": {
       "model_id": "e1cfb54baaaa46f4bc9272cb05b1cb26",
       "version_major": 2,
       "version_minor": 0
      },
      "text/plain": [
       "Epoch [117/150]; metric state\t:   0%|          | 0/1527 [00:00<?, ?it/s]"
      ]
     },
     "metadata": {},
     "output_type": "display_data"
    },
    {
     "name": "stdout",
     "output_type": "stream",
     "text": [
      "Epoch [117/150], Loss: 0.3081, F1 score: 0.68194\n"
     ]
    },
    {
     "data": {
      "application/vnd.jupyter.widget-view+json": {
       "model_id": "8164a932cd244f0694aad8195fcbe251",
       "version_major": 2,
       "version_minor": 0
      },
      "text/plain": [
       "Epoch [118/150]; learning state\t:   0%|          | 0/1527 [00:00<?, ?it/s]"
      ]
     },
     "metadata": {},
     "output_type": "display_data"
    },
    {
     "data": {
      "application/vnd.jupyter.widget-view+json": {
       "model_id": "c728b9d77a6b4be4bd94013f78e31efa",
       "version_major": 2,
       "version_minor": 0
      },
      "text/plain": [
       "Epoch [118/150]; metric state\t:   0%|          | 0/1527 [00:00<?, ?it/s]"
      ]
     },
     "metadata": {},
     "output_type": "display_data"
    },
    {
     "name": "stdout",
     "output_type": "stream",
     "text": [
      "Epoch [118/150], Loss: 0.2246, F1 score: 0.68214\n"
     ]
    },
    {
     "data": {
      "application/vnd.jupyter.widget-view+json": {
       "model_id": "7ed92dd689ed437bb7d06bcdf65d66c7",
       "version_major": 2,
       "version_minor": 0
      },
      "text/plain": [
       "Epoch [119/150]; learning state\t:   0%|          | 0/1527 [00:00<?, ?it/s]"
      ]
     },
     "metadata": {},
     "output_type": "display_data"
    },
    {
     "data": {
      "application/vnd.jupyter.widget-view+json": {
       "model_id": "72e377af5df048f3b0faf7bd59796318",
       "version_major": 2,
       "version_minor": 0
      },
      "text/plain": [
       "Epoch [119/150]; metric state\t:   0%|          | 0/1527 [00:00<?, ?it/s]"
      ]
     },
     "metadata": {},
     "output_type": "display_data"
    },
    {
     "name": "stdout",
     "output_type": "stream",
     "text": [
      "Epoch [119/150], Loss: 0.0959, F1 score: 0.68230\n"
     ]
    },
    {
     "data": {
      "application/vnd.jupyter.widget-view+json": {
       "model_id": "ac2394758eff4ef297a77eb1f1c54434",
       "version_major": 2,
       "version_minor": 0
      },
      "text/plain": [
       "Epoch [120/150]; learning state\t:   0%|          | 0/1527 [00:00<?, ?it/s]"
      ]
     },
     "metadata": {},
     "output_type": "display_data"
    },
    {
     "data": {
      "application/vnd.jupyter.widget-view+json": {
       "model_id": "9ff98e09e992417ab9221e0702fb6535",
       "version_major": 2,
       "version_minor": 0
      },
      "text/plain": [
       "Epoch [120/150]; metric state\t:   0%|          | 0/1527 [00:00<?, ?it/s]"
      ]
     },
     "metadata": {},
     "output_type": "display_data"
    },
    {
     "name": "stdout",
     "output_type": "stream",
     "text": [
      "Epoch [120/150], Loss: 0.2529, F1 score: 0.68249\n"
     ]
    },
    {
     "data": {
      "application/vnd.jupyter.widget-view+json": {
       "model_id": "ffb17bee4296439786aae62e5862bbdd",
       "version_major": 2,
       "version_minor": 0
      },
      "text/plain": [
       "Epoch [121/150]; learning state\t:   0%|          | 0/1527 [00:00<?, ?it/s]"
      ]
     },
     "metadata": {},
     "output_type": "display_data"
    },
    {
     "data": {
      "application/vnd.jupyter.widget-view+json": {
       "model_id": "a5cf65c3f67c440cba95db6f77b51d41",
       "version_major": 2,
       "version_minor": 0
      },
      "text/plain": [
       "Epoch [121/150]; metric state\t:   0%|          | 0/1527 [00:00<?, ?it/s]"
      ]
     },
     "metadata": {},
     "output_type": "display_data"
    },
    {
     "name": "stdout",
     "output_type": "stream",
     "text": [
      "Epoch [121/150], Loss: 0.2065, F1 score: 0.68270\n"
     ]
    },
    {
     "data": {
      "application/vnd.jupyter.widget-view+json": {
       "model_id": "966e60beb57d425aa9e9b4c61cbb5297",
       "version_major": 2,
       "version_minor": 0
      },
      "text/plain": [
       "Epoch [122/150]; learning state\t:   0%|          | 0/1527 [00:00<?, ?it/s]"
      ]
     },
     "metadata": {},
     "output_type": "display_data"
    },
    {
     "data": {
      "application/vnd.jupyter.widget-view+json": {
       "model_id": "4e19a0556b1448a5b47a047a991fa5f5",
       "version_major": 2,
       "version_minor": 0
      },
      "text/plain": [
       "Epoch [122/150]; metric state\t:   0%|          | 0/1527 [00:00<?, ?it/s]"
      ]
     },
     "metadata": {},
     "output_type": "display_data"
    },
    {
     "name": "stdout",
     "output_type": "stream",
     "text": [
      "Epoch [122/150], Loss: 0.2402, F1 score: 0.68303\n"
     ]
    },
    {
     "data": {
      "application/vnd.jupyter.widget-view+json": {
       "model_id": "b04dadca9aa5402bbdb197799d941345",
       "version_major": 2,
       "version_minor": 0
      },
      "text/plain": [
       "Epoch [123/150]; learning state\t:   0%|          | 0/1527 [00:00<?, ?it/s]"
      ]
     },
     "metadata": {},
     "output_type": "display_data"
    },
    {
     "data": {
      "application/vnd.jupyter.widget-view+json": {
       "model_id": "056e36d3334a4a5b96b1aa4e0ad311a8",
       "version_major": 2,
       "version_minor": 0
      },
      "text/plain": [
       "Epoch [123/150]; metric state\t:   0%|          | 0/1527 [00:00<?, ?it/s]"
      ]
     },
     "metadata": {},
     "output_type": "display_data"
    },
    {
     "name": "stdout",
     "output_type": "stream",
     "text": [
      "Epoch [123/150], Loss: 0.2570, F1 score: 0.68314\n"
     ]
    },
    {
     "data": {
      "application/vnd.jupyter.widget-view+json": {
       "model_id": "4fe18c39f66c44f996087ab8e8852ff8",
       "version_major": 2,
       "version_minor": 0
      },
      "text/plain": [
       "Epoch [124/150]; learning state\t:   0%|          | 0/1527 [00:00<?, ?it/s]"
      ]
     },
     "metadata": {},
     "output_type": "display_data"
    },
    {
     "data": {
      "application/vnd.jupyter.widget-view+json": {
       "model_id": "e9c06771c3644a929e6f51466bb872a2",
       "version_major": 2,
       "version_minor": 0
      },
      "text/plain": [
       "Epoch [124/150]; metric state\t:   0%|          | 0/1527 [00:00<?, ?it/s]"
      ]
     },
     "metadata": {},
     "output_type": "display_data"
    },
    {
     "name": "stdout",
     "output_type": "stream",
     "text": [
      "Epoch [124/150], Loss: 0.1841, F1 score: 0.68336\n"
     ]
    },
    {
     "data": {
      "application/vnd.jupyter.widget-view+json": {
       "model_id": "8eca125d0d574409988877c9ef662339",
       "version_major": 2,
       "version_minor": 0
      },
      "text/plain": [
       "Epoch [125/150]; learning state\t:   0%|          | 0/1527 [00:00<?, ?it/s]"
      ]
     },
     "metadata": {},
     "output_type": "display_data"
    },
    {
     "data": {
      "application/vnd.jupyter.widget-view+json": {
       "model_id": "2d52a4fd806944fab2c904a22e63f619",
       "version_major": 2,
       "version_minor": 0
      },
      "text/plain": [
       "Epoch [125/150]; metric state\t:   0%|          | 0/1527 [00:00<?, ?it/s]"
      ]
     },
     "metadata": {},
     "output_type": "display_data"
    },
    {
     "name": "stdout",
     "output_type": "stream",
     "text": [
      "Epoch [125/150], Loss: 0.2146, F1 score: 0.68369\n"
     ]
    },
    {
     "data": {
      "application/vnd.jupyter.widget-view+json": {
       "model_id": "ad6e42dadb714f73a8f7c695780750bf",
       "version_major": 2,
       "version_minor": 0
      },
      "text/plain": [
       "Epoch [126/150]; learning state\t:   0%|          | 0/1527 [00:00<?, ?it/s]"
      ]
     },
     "metadata": {},
     "output_type": "display_data"
    },
    {
     "data": {
      "application/vnd.jupyter.widget-view+json": {
       "model_id": "f01ef1ab3f424c59ba0e1e77a09f0c1d",
       "version_major": 2,
       "version_minor": 0
      },
      "text/plain": [
       "Epoch [126/150]; metric state\t:   0%|          | 0/1527 [00:00<?, ?it/s]"
      ]
     },
     "metadata": {},
     "output_type": "display_data"
    },
    {
     "name": "stdout",
     "output_type": "stream",
     "text": [
      "Epoch [126/150], Loss: 0.3192, F1 score: 0.68391\n"
     ]
    },
    {
     "data": {
      "application/vnd.jupyter.widget-view+json": {
       "model_id": "cf3c20f7f16e41c4a0cc7b71f6d34291",
       "version_major": 2,
       "version_minor": 0
      },
      "text/plain": [
       "Epoch [127/150]; learning state\t:   0%|          | 0/1527 [00:00<?, ?it/s]"
      ]
     },
     "metadata": {},
     "output_type": "display_data"
    },
    {
     "data": {
      "application/vnd.jupyter.widget-view+json": {
       "model_id": "78cbc901c51c4224bdec679e71d3cd73",
       "version_major": 2,
       "version_minor": 0
      },
      "text/plain": [
       "Epoch [127/150]; metric state\t:   0%|          | 0/1527 [00:00<?, ?it/s]"
      ]
     },
     "metadata": {},
     "output_type": "display_data"
    },
    {
     "name": "stdout",
     "output_type": "stream",
     "text": [
      "Epoch [127/150], Loss: 0.1672, F1 score: 0.68406\n"
     ]
    },
    {
     "data": {
      "application/vnd.jupyter.widget-view+json": {
       "model_id": "e4e658a5109c4b94ad9c6f48182a767e",
       "version_major": 2,
       "version_minor": 0
      },
      "text/plain": [
       "Epoch [128/150]; learning state\t:   0%|          | 0/1527 [00:00<?, ?it/s]"
      ]
     },
     "metadata": {},
     "output_type": "display_data"
    },
    {
     "data": {
      "application/vnd.jupyter.widget-view+json": {
       "model_id": "2cdfff09d6714a11947d0640c3871e58",
       "version_major": 2,
       "version_minor": 0
      },
      "text/plain": [
       "Epoch [128/150]; metric state\t:   0%|          | 0/1527 [00:00<?, ?it/s]"
      ]
     },
     "metadata": {},
     "output_type": "display_data"
    },
    {
     "name": "stdout",
     "output_type": "stream",
     "text": [
      "Epoch [128/150], Loss: 0.3016, F1 score: 0.68451\n"
     ]
    },
    {
     "data": {
      "application/vnd.jupyter.widget-view+json": {
       "model_id": "46dc7b613c3847eaaf2aa563e2f0729e",
       "version_major": 2,
       "version_minor": 0
      },
      "text/plain": [
       "Epoch [129/150]; learning state\t:   0%|          | 0/1527 [00:00<?, ?it/s]"
      ]
     },
     "metadata": {},
     "output_type": "display_data"
    },
    {
     "data": {
      "application/vnd.jupyter.widget-view+json": {
       "model_id": "82aeb312ee274bb38a9c6993c055b85e",
       "version_major": 2,
       "version_minor": 0
      },
      "text/plain": [
       "Epoch [129/150]; metric state\t:   0%|          | 0/1527 [00:00<?, ?it/s]"
      ]
     },
     "metadata": {},
     "output_type": "display_data"
    },
    {
     "name": "stdout",
     "output_type": "stream",
     "text": [
      "Epoch [129/150], Loss: 0.4524, F1 score: 0.68478\n"
     ]
    },
    {
     "data": {
      "application/vnd.jupyter.widget-view+json": {
       "model_id": "f56b0a6a0d15438185c85c9e4e048c51",
       "version_major": 2,
       "version_minor": 0
      },
      "text/plain": [
       "Epoch [130/150]; learning state\t:   0%|          | 0/1527 [00:00<?, ?it/s]"
      ]
     },
     "metadata": {},
     "output_type": "display_data"
    },
    {
     "data": {
      "application/vnd.jupyter.widget-view+json": {
       "model_id": "9c5353a1e3f440aca3a68db01f8a3073",
       "version_major": 2,
       "version_minor": 0
      },
      "text/plain": [
       "Epoch [130/150]; metric state\t:   0%|          | 0/1527 [00:00<?, ?it/s]"
      ]
     },
     "metadata": {},
     "output_type": "display_data"
    },
    {
     "name": "stdout",
     "output_type": "stream",
     "text": [
      "Epoch [130/150], Loss: 0.2739, F1 score: 0.68495\n"
     ]
    },
    {
     "data": {
      "application/vnd.jupyter.widget-view+json": {
       "model_id": "0edd3395f2de41a6b53e811b0782fda2",
       "version_major": 2,
       "version_minor": 0
      },
      "text/plain": [
       "Epoch [131/150]; learning state\t:   0%|          | 0/1527 [00:00<?, ?it/s]"
      ]
     },
     "metadata": {},
     "output_type": "display_data"
    },
    {
     "data": {
      "application/vnd.jupyter.widget-view+json": {
       "model_id": "92227f8210ee4a7988d8da51221e1f05",
       "version_major": 2,
       "version_minor": 0
      },
      "text/plain": [
       "Epoch [131/150]; metric state\t:   0%|          | 0/1527 [00:00<?, ?it/s]"
      ]
     },
     "metadata": {},
     "output_type": "display_data"
    },
    {
     "name": "stdout",
     "output_type": "stream",
     "text": [
      "Epoch [131/150], Loss: 0.3361, F1 score: 0.68526\n"
     ]
    },
    {
     "data": {
      "application/vnd.jupyter.widget-view+json": {
       "model_id": "60f311dfe3bd472794b6b99244f49647",
       "version_major": 2,
       "version_minor": 0
      },
      "text/plain": [
       "Epoch [132/150]; learning state\t:   0%|          | 0/1527 [00:00<?, ?it/s]"
      ]
     },
     "metadata": {},
     "output_type": "display_data"
    },
    {
     "data": {
      "application/vnd.jupyter.widget-view+json": {
       "model_id": "52cf4b88dcbb450ea42d332ebdf0855b",
       "version_major": 2,
       "version_minor": 0
      },
      "text/plain": [
       "Epoch [132/150]; metric state\t:   0%|          | 0/1527 [00:00<?, ?it/s]"
      ]
     },
     "metadata": {},
     "output_type": "display_data"
    },
    {
     "name": "stdout",
     "output_type": "stream",
     "text": [
      "Epoch [132/150], Loss: 0.2909, F1 score: 0.68524\n"
     ]
    },
    {
     "data": {
      "application/vnd.jupyter.widget-view+json": {
       "model_id": "048cfb2a505f4f45bf7a55cd21061f35",
       "version_major": 2,
       "version_minor": 0
      },
      "text/plain": [
       "Epoch [133/150]; learning state\t:   0%|          | 0/1527 [00:00<?, ?it/s]"
      ]
     },
     "metadata": {},
     "output_type": "display_data"
    },
    {
     "data": {
      "application/vnd.jupyter.widget-view+json": {
       "model_id": "a704a25e0dd74a4c9c97a024bd312f39",
       "version_major": 2,
       "version_minor": 0
      },
      "text/plain": [
       "Epoch [133/150]; metric state\t:   0%|          | 0/1527 [00:00<?, ?it/s]"
      ]
     },
     "metadata": {},
     "output_type": "display_data"
    },
    {
     "name": "stdout",
     "output_type": "stream",
     "text": [
      "Epoch [133/150], Loss: 0.2215, F1 score: 0.68566\n"
     ]
    },
    {
     "data": {
      "application/vnd.jupyter.widget-view+json": {
       "model_id": "a0ac0ea0b22548a98f0b53f42a338aed",
       "version_major": 2,
       "version_minor": 0
      },
      "text/plain": [
       "Epoch [134/150]; learning state\t:   0%|          | 0/1527 [00:00<?, ?it/s]"
      ]
     },
     "metadata": {},
     "output_type": "display_data"
    },
    {
     "data": {
      "application/vnd.jupyter.widget-view+json": {
       "model_id": "7f64a70c853b48979829af9596c6ddc3",
       "version_major": 2,
       "version_minor": 0
      },
      "text/plain": [
       "Epoch [134/150]; metric state\t:   0%|          | 0/1527 [00:00<?, ?it/s]"
      ]
     },
     "metadata": {},
     "output_type": "display_data"
    },
    {
     "name": "stdout",
     "output_type": "stream",
     "text": [
      "Epoch [134/150], Loss: 0.2778, F1 score: 0.68583\n"
     ]
    },
    {
     "data": {
      "application/vnd.jupyter.widget-view+json": {
       "model_id": "9d610baaffbb4185867f66ee68432d62",
       "version_major": 2,
       "version_minor": 0
      },
      "text/plain": [
       "Epoch [135/150]; learning state\t:   0%|          | 0/1527 [00:00<?, ?it/s]"
      ]
     },
     "metadata": {},
     "output_type": "display_data"
    },
    {
     "data": {
      "application/vnd.jupyter.widget-view+json": {
       "model_id": "fc2434e9ae4a475eb16a484c8945fe8b",
       "version_major": 2,
       "version_minor": 0
      },
      "text/plain": [
       "Epoch [135/150]; metric state\t:   0%|          | 0/1527 [00:00<?, ?it/s]"
      ]
     },
     "metadata": {},
     "output_type": "display_data"
    },
    {
     "name": "stdout",
     "output_type": "stream",
     "text": [
      "Epoch [135/150], Loss: 0.2581, F1 score: 0.68617\n"
     ]
    },
    {
     "data": {
      "application/vnd.jupyter.widget-view+json": {
       "model_id": "644d7ef359b84802929210a04f6b458b",
       "version_major": 2,
       "version_minor": 0
      },
      "text/plain": [
       "Epoch [136/150]; learning state\t:   0%|          | 0/1527 [00:00<?, ?it/s]"
      ]
     },
     "metadata": {},
     "output_type": "display_data"
    },
    {
     "data": {
      "application/vnd.jupyter.widget-view+json": {
       "model_id": "812dcd3c9dd8439baa59e82abc37153a",
       "version_major": 2,
       "version_minor": 0
      },
      "text/plain": [
       "Epoch [136/150]; metric state\t:   0%|          | 0/1527 [00:00<?, ?it/s]"
      ]
     },
     "metadata": {},
     "output_type": "display_data"
    },
    {
     "name": "stdout",
     "output_type": "stream",
     "text": [
      "Epoch [136/150], Loss: 0.2054, F1 score: 0.68615\n"
     ]
    },
    {
     "data": {
      "application/vnd.jupyter.widget-view+json": {
       "model_id": "d6d14607215f4b2681f28fa8482ec96a",
       "version_major": 2,
       "version_minor": 0
      },
      "text/plain": [
       "Epoch [137/150]; learning state\t:   0%|          | 0/1527 [00:00<?, ?it/s]"
      ]
     },
     "metadata": {},
     "output_type": "display_data"
    },
    {
     "data": {
      "application/vnd.jupyter.widget-view+json": {
       "model_id": "5e1008c1f8934e71ab26b55255980f4a",
       "version_major": 2,
       "version_minor": 0
      },
      "text/plain": [
       "Epoch [137/150]; metric state\t:   0%|          | 0/1527 [00:00<?, ?it/s]"
      ]
     },
     "metadata": {},
     "output_type": "display_data"
    },
    {
     "name": "stdout",
     "output_type": "stream",
     "text": [
      "Epoch [137/150], Loss: 0.1893, F1 score: 0.68635\n"
     ]
    },
    {
     "data": {
      "application/vnd.jupyter.widget-view+json": {
       "model_id": "71c994400a88465bb598a0c9aa5d1313",
       "version_major": 2,
       "version_minor": 0
      },
      "text/plain": [
       "Epoch [138/150]; learning state\t:   0%|          | 0/1527 [00:00<?, ?it/s]"
      ]
     },
     "metadata": {},
     "output_type": "display_data"
    },
    {
     "data": {
      "application/vnd.jupyter.widget-view+json": {
       "model_id": "c672be3971e246f99cb62f4892eab031",
       "version_major": 2,
       "version_minor": 0
      },
      "text/plain": [
       "Epoch [138/150]; metric state\t:   0%|          | 0/1527 [00:00<?, ?it/s]"
      ]
     },
     "metadata": {},
     "output_type": "display_data"
    },
    {
     "name": "stdout",
     "output_type": "stream",
     "text": [
      "Epoch [138/150], Loss: 0.2506, F1 score: 0.68662\n"
     ]
    },
    {
     "data": {
      "application/vnd.jupyter.widget-view+json": {
       "model_id": "90ef961f16f64cdda1dc13d963172caf",
       "version_major": 2,
       "version_minor": 0
      },
      "text/plain": [
       "Epoch [139/150]; learning state\t:   0%|          | 0/1527 [00:00<?, ?it/s]"
      ]
     },
     "metadata": {},
     "output_type": "display_data"
    },
    {
     "data": {
      "application/vnd.jupyter.widget-view+json": {
       "model_id": "50b6cfc3b027424e8862aea46cc943b5",
       "version_major": 2,
       "version_minor": 0
      },
      "text/plain": [
       "Epoch [139/150]; metric state\t:   0%|          | 0/1527 [00:00<?, ?it/s]"
      ]
     },
     "metadata": {},
     "output_type": "display_data"
    },
    {
     "name": "stdout",
     "output_type": "stream",
     "text": [
      "Epoch [139/150], Loss: 0.2463, F1 score: 0.68678\n"
     ]
    },
    {
     "data": {
      "application/vnd.jupyter.widget-view+json": {
       "model_id": "a9bac7e99948459a8a77e38bcc69d384",
       "version_major": 2,
       "version_minor": 0
      },
      "text/plain": [
       "Epoch [140/150]; learning state\t:   0%|          | 0/1527 [00:00<?, ?it/s]"
      ]
     },
     "metadata": {},
     "output_type": "display_data"
    },
    {
     "data": {
      "application/vnd.jupyter.widget-view+json": {
       "model_id": "460e108f67564a96af7d8e03d8f43bc7",
       "version_major": 2,
       "version_minor": 0
      },
      "text/plain": [
       "Epoch [140/150]; metric state\t:   0%|          | 0/1527 [00:00<?, ?it/s]"
      ]
     },
     "metadata": {},
     "output_type": "display_data"
    },
    {
     "name": "stdout",
     "output_type": "stream",
     "text": [
      "Epoch [140/150], Loss: 0.2531, F1 score: 0.68711\n"
     ]
    },
    {
     "data": {
      "application/vnd.jupyter.widget-view+json": {
       "model_id": "84ec6a7c18da446390a75b1d753dc063",
       "version_major": 2,
       "version_minor": 0
      },
      "text/plain": [
       "Epoch [141/150]; learning state\t:   0%|          | 0/1527 [00:00<?, ?it/s]"
      ]
     },
     "metadata": {},
     "output_type": "display_data"
    },
    {
     "data": {
      "application/vnd.jupyter.widget-view+json": {
       "model_id": "43a9295978454e5b80fe5d6252a9b854",
       "version_major": 2,
       "version_minor": 0
      },
      "text/plain": [
       "Epoch [141/150]; metric state\t:   0%|          | 0/1527 [00:00<?, ?it/s]"
      ]
     },
     "metadata": {},
     "output_type": "display_data"
    },
    {
     "name": "stdout",
     "output_type": "stream",
     "text": [
      "Epoch [141/150], Loss: 0.3434, F1 score: 0.68749\n"
     ]
    },
    {
     "data": {
      "application/vnd.jupyter.widget-view+json": {
       "model_id": "45fc186686444f2182fd1869aa8624c0",
       "version_major": 2,
       "version_minor": 0
      },
      "text/plain": [
       "Epoch [142/150]; learning state\t:   0%|          | 0/1527 [00:00<?, ?it/s]"
      ]
     },
     "metadata": {},
     "output_type": "display_data"
    },
    {
     "data": {
      "application/vnd.jupyter.widget-view+json": {
       "model_id": "dc9126e80dd64b7980ac473fe7dfea6c",
       "version_major": 2,
       "version_minor": 0
      },
      "text/plain": [
       "Epoch [142/150]; metric state\t:   0%|          | 0/1527 [00:00<?, ?it/s]"
      ]
     },
     "metadata": {},
     "output_type": "display_data"
    },
    {
     "name": "stdout",
     "output_type": "stream",
     "text": [
      "Epoch [142/150], Loss: 0.2879, F1 score: 0.68765\n"
     ]
    },
    {
     "data": {
      "application/vnd.jupyter.widget-view+json": {
       "model_id": "f3f0a9fa3e674bc6aed111680c7a7c58",
       "version_major": 2,
       "version_minor": 0
      },
      "text/plain": [
       "Epoch [143/150]; learning state\t:   0%|          | 0/1527 [00:00<?, ?it/s]"
      ]
     },
     "metadata": {},
     "output_type": "display_data"
    },
    {
     "data": {
      "application/vnd.jupyter.widget-view+json": {
       "model_id": "9901c799a19f4756be2ad8ab1d30a4d1",
       "version_major": 2,
       "version_minor": 0
      },
      "text/plain": [
       "Epoch [143/150]; metric state\t:   0%|          | 0/1527 [00:00<?, ?it/s]"
      ]
     },
     "metadata": {},
     "output_type": "display_data"
    },
    {
     "name": "stdout",
     "output_type": "stream",
     "text": [
      "Epoch [143/150], Loss: 0.2382, F1 score: 0.68816\n"
     ]
    },
    {
     "data": {
      "application/vnd.jupyter.widget-view+json": {
       "model_id": "dae300275d764de28eac277cb9659613",
       "version_major": 2,
       "version_minor": 0
      },
      "text/plain": [
       "Epoch [144/150]; learning state\t:   0%|          | 0/1527 [00:00<?, ?it/s]"
      ]
     },
     "metadata": {},
     "output_type": "display_data"
    },
    {
     "data": {
      "application/vnd.jupyter.widget-view+json": {
       "model_id": "eba599b4e0034a63a556d0834ebb75bd",
       "version_major": 2,
       "version_minor": 0
      },
      "text/plain": [
       "Epoch [144/150]; metric state\t:   0%|          | 0/1527 [00:00<?, ?it/s]"
      ]
     },
     "metadata": {},
     "output_type": "display_data"
    },
    {
     "name": "stdout",
     "output_type": "stream",
     "text": [
      "Epoch [144/150], Loss: 0.3119, F1 score: 0.68830\n"
     ]
    },
    {
     "data": {
      "application/vnd.jupyter.widget-view+json": {
       "model_id": "7a0a43983712480290b73259be70c8e5",
       "version_major": 2,
       "version_minor": 0
      },
      "text/plain": [
       "Epoch [145/150]; learning state\t:   0%|          | 0/1527 [00:00<?, ?it/s]"
      ]
     },
     "metadata": {},
     "output_type": "display_data"
    },
    {
     "data": {
      "application/vnd.jupyter.widget-view+json": {
       "model_id": "a266d044eac2495a87655edff378099b",
       "version_major": 2,
       "version_minor": 0
      },
      "text/plain": [
       "Epoch [145/150]; metric state\t:   0%|          | 0/1527 [00:00<?, ?it/s]"
      ]
     },
     "metadata": {},
     "output_type": "display_data"
    },
    {
     "name": "stdout",
     "output_type": "stream",
     "text": [
      "Epoch [145/150], Loss: 0.1758, F1 score: 0.68836\n"
     ]
    },
    {
     "data": {
      "application/vnd.jupyter.widget-view+json": {
       "model_id": "5c8a6fbf75e14b02bdd8e079e79ff18c",
       "version_major": 2,
       "version_minor": 0
      },
      "text/plain": [
       "Epoch [146/150]; learning state\t:   0%|          | 0/1527 [00:00<?, ?it/s]"
      ]
     },
     "metadata": {},
     "output_type": "display_data"
    },
    {
     "data": {
      "application/vnd.jupyter.widget-view+json": {
       "model_id": "996b63a97c2d47f894f684c865c8bf2c",
       "version_major": 2,
       "version_minor": 0
      },
      "text/plain": [
       "Epoch [146/150]; metric state\t:   0%|          | 0/1527 [00:00<?, ?it/s]"
      ]
     },
     "metadata": {},
     "output_type": "display_data"
    },
    {
     "name": "stdout",
     "output_type": "stream",
     "text": [
      "Epoch [146/150], Loss: 0.2558, F1 score: 0.68847\n"
     ]
    },
    {
     "data": {
      "application/vnd.jupyter.widget-view+json": {
       "model_id": "5bafe40bb2c647c392bfcae62710f5d9",
       "version_major": 2,
       "version_minor": 0
      },
      "text/plain": [
       "Epoch [147/150]; learning state\t:   0%|          | 0/1527 [00:00<?, ?it/s]"
      ]
     },
     "metadata": {},
     "output_type": "display_data"
    },
    {
     "data": {
      "application/vnd.jupyter.widget-view+json": {
       "model_id": "73415adea78a430e9efdeb6cb57b6fc4",
       "version_major": 2,
       "version_minor": 0
      },
      "text/plain": [
       "Epoch [147/150]; metric state\t:   0%|          | 0/1527 [00:00<?, ?it/s]"
      ]
     },
     "metadata": {},
     "output_type": "display_data"
    },
    {
     "name": "stdout",
     "output_type": "stream",
     "text": [
      "Epoch [147/150], Loss: 0.1978, F1 score: 0.68872\n"
     ]
    },
    {
     "data": {
      "application/vnd.jupyter.widget-view+json": {
       "model_id": "45b43acdb4c54539904d03e8c56f6602",
       "version_major": 2,
       "version_minor": 0
      },
      "text/plain": [
       "Epoch [148/150]; learning state\t:   0%|          | 0/1527 [00:00<?, ?it/s]"
      ]
     },
     "metadata": {},
     "output_type": "display_data"
    },
    {
     "data": {
      "application/vnd.jupyter.widget-view+json": {
       "model_id": "52b2e466cfa843c382a3c1676d520986",
       "version_major": 2,
       "version_minor": 0
      },
      "text/plain": [
       "Epoch [148/150]; metric state\t:   0%|          | 0/1527 [00:00<?, ?it/s]"
      ]
     },
     "metadata": {},
     "output_type": "display_data"
    },
    {
     "name": "stdout",
     "output_type": "stream",
     "text": [
      "Epoch [148/150], Loss: 0.2178, F1 score: 0.68886\n"
     ]
    },
    {
     "data": {
      "application/vnd.jupyter.widget-view+json": {
       "model_id": "1bae1c9d8a2f41249c1112b0558063d5",
       "version_major": 2,
       "version_minor": 0
      },
      "text/plain": [
       "Epoch [149/150]; learning state\t:   0%|          | 0/1527 [00:00<?, ?it/s]"
      ]
     },
     "metadata": {},
     "output_type": "display_data"
    },
    {
     "data": {
      "application/vnd.jupyter.widget-view+json": {
       "model_id": "398b16d726b14ec1bef7b473cc4a5d10",
       "version_major": 2,
       "version_minor": 0
      },
      "text/plain": [
       "Epoch [149/150]; metric state\t:   0%|          | 0/1527 [00:00<?, ?it/s]"
      ]
     },
     "metadata": {},
     "output_type": "display_data"
    },
    {
     "name": "stdout",
     "output_type": "stream",
     "text": [
      "Epoch [149/150], Loss: 0.1474, F1 score: 0.68916\n"
     ]
    },
    {
     "data": {
      "application/vnd.jupyter.widget-view+json": {
       "model_id": "33e53af682904dca9fbf11e5b738c5fa",
       "version_major": 2,
       "version_minor": 0
      },
      "text/plain": [
       "Epoch [150/150]; learning state\t:   0%|          | 0/1527 [00:00<?, ?it/s]"
      ]
     },
     "metadata": {},
     "output_type": "display_data"
    },
    {
     "data": {
      "application/vnd.jupyter.widget-view+json": {
       "model_id": "21c81567f6264e2d9714e83bf7c4ef5e",
       "version_major": 2,
       "version_minor": 0
      },
      "text/plain": [
       "Epoch [150/150]; metric state\t:   0%|          | 0/1527 [00:00<?, ?it/s]"
      ]
     },
     "metadata": {},
     "output_type": "display_data"
    },
    {
     "name": "stdout",
     "output_type": "stream",
     "text": [
      "Epoch [150/150], Loss: 0.1988, F1 score: 0.68926\n"
     ]
    },
    {
     "name": "stderr",
     "output_type": "stream",
     "text": [
      "\u001b[31m2025/05/06 11:54:07 WARNING mlflow.models.model: Model logged without a signature and input example. Please set `input_example` parameter when logging the model to auto infer the model signature.\u001b[0m\n"
     ]
    },
    {
     "data": {
      "application/vnd.jupyter.widget-view+json": {
       "model_id": "fac31db080e64637a67c500273c0065c",
       "version_major": 2,
       "version_minor": 0
      },
      "text/plain": [
       "Epoch [1/50]; learning state\t:   0%|          | 0/1527 [00:00<?, ?it/s]"
      ]
     },
     "metadata": {},
     "output_type": "display_data"
    },
    {
     "data": {
      "application/vnd.jupyter.widget-view+json": {
       "model_id": "9733c2238d8f4f5e8280d93ba8cad808",
       "version_major": 2,
       "version_minor": 0
      },
      "text/plain": [
       "Epoch [1/50]; metric state\t:   0%|          | 0/1527 [00:00<?, ?it/s]"
      ]
     },
     "metadata": {},
     "output_type": "display_data"
    },
    {
     "name": "stdout",
     "output_type": "stream",
     "text": [
      "Epoch [1/50], Loss: 0.2932, F1 score: 0.74833\n"
     ]
    },
    {
     "data": {
      "application/vnd.jupyter.widget-view+json": {
       "model_id": "97ae7c171e3f486a82ff27584179e983",
       "version_major": 2,
       "version_minor": 0
      },
      "text/plain": [
       "Epoch [2/50]; learning state\t:   0%|          | 0/1527 [00:00<?, ?it/s]"
      ]
     },
     "metadata": {},
     "output_type": "display_data"
    },
    {
     "data": {
      "application/vnd.jupyter.widget-view+json": {
       "model_id": "80b4bd3a39b242f98743f0ecd50d7ffc",
       "version_major": 2,
       "version_minor": 0
      },
      "text/plain": [
       "Epoch [2/50]; metric state\t:   0%|          | 0/1527 [00:00<?, ?it/s]"
      ]
     },
     "metadata": {},
     "output_type": "display_data"
    },
    {
     "name": "stdout",
     "output_type": "stream",
     "text": [
      "Epoch [2/50], Loss: 0.2364, F1 score: 0.76915\n"
     ]
    },
    {
     "data": {
      "application/vnd.jupyter.widget-view+json": {
       "model_id": "368847cc02604f0aa3a3b26fb8cb9ea2",
       "version_major": 2,
       "version_minor": 0
      },
      "text/plain": [
       "Epoch [3/50]; learning state\t:   0%|          | 0/1527 [00:00<?, ?it/s]"
      ]
     },
     "metadata": {},
     "output_type": "display_data"
    },
    {
     "data": {
      "application/vnd.jupyter.widget-view+json": {
       "model_id": "653998315f78429abbca1b13dcf21559",
       "version_major": 2,
       "version_minor": 0
      },
      "text/plain": [
       "Epoch [3/50]; metric state\t:   0%|          | 0/1527 [00:00<?, ?it/s]"
      ]
     },
     "metadata": {},
     "output_type": "display_data"
    },
    {
     "name": "stdout",
     "output_type": "stream",
     "text": [
      "Epoch [3/50], Loss: 0.1477, F1 score: 0.76350\n"
     ]
    },
    {
     "data": {
      "application/vnd.jupyter.widget-view+json": {
       "model_id": "262f08a87857423cac66c9a3af523d21",
       "version_major": 2,
       "version_minor": 0
      },
      "text/plain": [
       "Epoch [4/50]; learning state\t:   0%|          | 0/1527 [00:00<?, ?it/s]"
      ]
     },
     "metadata": {},
     "output_type": "display_data"
    },
    {
     "data": {
      "application/vnd.jupyter.widget-view+json": {
       "model_id": "a6fdad01428843c4beedc4234666f658",
       "version_major": 2,
       "version_minor": 0
      },
      "text/plain": [
       "Epoch [4/50]; metric state\t:   0%|          | 0/1527 [00:00<?, ?it/s]"
      ]
     },
     "metadata": {},
     "output_type": "display_data"
    },
    {
     "name": "stdout",
     "output_type": "stream",
     "text": [
      "Epoch [4/50], Loss: 0.2573, F1 score: 0.78666\n"
     ]
    },
    {
     "data": {
      "application/vnd.jupyter.widget-view+json": {
       "model_id": "5eb980ec458246ccb9d21e07b00ab2ea",
       "version_major": 2,
       "version_minor": 0
      },
      "text/plain": [
       "Epoch [5/50]; learning state\t:   0%|          | 0/1527 [00:00<?, ?it/s]"
      ]
     },
     "metadata": {},
     "output_type": "display_data"
    },
    {
     "data": {
      "application/vnd.jupyter.widget-view+json": {
       "model_id": "344783ce966e404987ac12f92465bc09",
       "version_major": 2,
       "version_minor": 0
      },
      "text/plain": [
       "Epoch [5/50]; metric state\t:   0%|          | 0/1527 [00:00<?, ?it/s]"
      ]
     },
     "metadata": {},
     "output_type": "display_data"
    },
    {
     "name": "stdout",
     "output_type": "stream",
     "text": [
      "Epoch [5/50], Loss: 0.1586, F1 score: 0.79188\n"
     ]
    },
    {
     "data": {
      "application/vnd.jupyter.widget-view+json": {
       "model_id": "3f783e4341bd481e88348c7a8a984e5a",
       "version_major": 2,
       "version_minor": 0
      },
      "text/plain": [
       "Epoch [6/50]; learning state\t:   0%|          | 0/1527 [00:00<?, ?it/s]"
      ]
     },
     "metadata": {},
     "output_type": "display_data"
    },
    {
     "data": {
      "application/vnd.jupyter.widget-view+json": {
       "model_id": "49718402f6c14037b9828b6de68c35c2",
       "version_major": 2,
       "version_minor": 0
      },
      "text/plain": [
       "Epoch [6/50]; metric state\t:   0%|          | 0/1527 [00:00<?, ?it/s]"
      ]
     },
     "metadata": {},
     "output_type": "display_data"
    },
    {
     "name": "stdout",
     "output_type": "stream",
     "text": [
      "Epoch [6/50], Loss: 0.2680, F1 score: 0.80447\n"
     ]
    },
    {
     "data": {
      "application/vnd.jupyter.widget-view+json": {
       "model_id": "367607e31d444c7e8fc7c2250ffdece4",
       "version_major": 2,
       "version_minor": 0
      },
      "text/plain": [
       "Epoch [7/50]; learning state\t:   0%|          | 0/1527 [00:00<?, ?it/s]"
      ]
     },
     "metadata": {},
     "output_type": "display_data"
    },
    {
     "data": {
      "application/vnd.jupyter.widget-view+json": {
       "model_id": "ac3478eb9a364b2b9e3a1d05a01f6ca0",
       "version_major": 2,
       "version_minor": 0
      },
      "text/plain": [
       "Epoch [7/50]; metric state\t:   0%|          | 0/1527 [00:00<?, ?it/s]"
      ]
     },
     "metadata": {},
     "output_type": "display_data"
    },
    {
     "name": "stdout",
     "output_type": "stream",
     "text": [
      "Epoch [7/50], Loss: 0.2483, F1 score: 0.80127\n"
     ]
    },
    {
     "data": {
      "application/vnd.jupyter.widget-view+json": {
       "model_id": "18e290b0419545b49192a626f73f7774",
       "version_major": 2,
       "version_minor": 0
      },
      "text/plain": [
       "Epoch [8/50]; learning state\t:   0%|          | 0/1527 [00:00<?, ?it/s]"
      ]
     },
     "metadata": {},
     "output_type": "display_data"
    },
    {
     "data": {
      "application/vnd.jupyter.widget-view+json": {
       "model_id": "2b7a24e894b94333bbe184ef9506ccc4",
       "version_major": 2,
       "version_minor": 0
      },
      "text/plain": [
       "Epoch [8/50]; metric state\t:   0%|          | 0/1527 [00:00<?, ?it/s]"
      ]
     },
     "metadata": {},
     "output_type": "display_data"
    },
    {
     "name": "stdout",
     "output_type": "stream",
     "text": [
      "Epoch [8/50], Loss: 0.1455, F1 score: 0.79893\n"
     ]
    },
    {
     "data": {
      "application/vnd.jupyter.widget-view+json": {
       "model_id": "f1f4b106003b47ef92fa57e6cd498de3",
       "version_major": 2,
       "version_minor": 0
      },
      "text/plain": [
       "Epoch [9/50]; learning state\t:   0%|          | 0/1527 [00:00<?, ?it/s]"
      ]
     },
     "metadata": {},
     "output_type": "display_data"
    },
    {
     "data": {
      "application/vnd.jupyter.widget-view+json": {
       "model_id": "62dc49c4cece498994addfd932dde075",
       "version_major": 2,
       "version_minor": 0
      },
      "text/plain": [
       "Epoch [9/50]; metric state\t:   0%|          | 0/1527 [00:00<?, ?it/s]"
      ]
     },
     "metadata": {},
     "output_type": "display_data"
    },
    {
     "name": "stdout",
     "output_type": "stream",
     "text": [
      "Epoch [9/50], Loss: 0.3002, F1 score: 0.81180\n"
     ]
    },
    {
     "data": {
      "application/vnd.jupyter.widget-view+json": {
       "model_id": "9a6e64f469a3485cb4f30fabdebae244",
       "version_major": 2,
       "version_minor": 0
      },
      "text/plain": [
       "Epoch [10/50]; learning state\t:   0%|          | 0/1527 [00:00<?, ?it/s]"
      ]
     },
     "metadata": {},
     "output_type": "display_data"
    },
    {
     "data": {
      "application/vnd.jupyter.widget-view+json": {
       "model_id": "ca1030ebef944ea388876bb707c49709",
       "version_major": 2,
       "version_minor": 0
      },
      "text/plain": [
       "Epoch [10/50]; metric state\t:   0%|          | 0/1527 [00:00<?, ?it/s]"
      ]
     },
     "metadata": {},
     "output_type": "display_data"
    },
    {
     "name": "stdout",
     "output_type": "stream",
     "text": [
      "Epoch [10/50], Loss: 0.2202, F1 score: 0.82427\n"
     ]
    },
    {
     "data": {
      "application/vnd.jupyter.widget-view+json": {
       "model_id": "cb28652df19841f88c808ac628100bfb",
       "version_major": 2,
       "version_minor": 0
      },
      "text/plain": [
       "Epoch [11/50]; learning state\t:   0%|          | 0/1527 [00:00<?, ?it/s]"
      ]
     },
     "metadata": {},
     "output_type": "display_data"
    },
    {
     "data": {
      "application/vnd.jupyter.widget-view+json": {
       "model_id": "62fd4adaac174cbd8faa8b242a3df81b",
       "version_major": 2,
       "version_minor": 0
      },
      "text/plain": [
       "Epoch [11/50]; metric state\t:   0%|          | 0/1527 [00:00<?, ?it/s]"
      ]
     },
     "metadata": {},
     "output_type": "display_data"
    },
    {
     "name": "stdout",
     "output_type": "stream",
     "text": [
      "Epoch [11/50], Loss: 0.1593, F1 score: 0.82474\n"
     ]
    },
    {
     "data": {
      "application/vnd.jupyter.widget-view+json": {
       "model_id": "db92a7037a034ea2bed2b93400f5404e",
       "version_major": 2,
       "version_minor": 0
      },
      "text/plain": [
       "Epoch [12/50]; learning state\t:   0%|          | 0/1527 [00:00<?, ?it/s]"
      ]
     },
     "metadata": {},
     "output_type": "display_data"
    },
    {
     "data": {
      "application/vnd.jupyter.widget-view+json": {
       "model_id": "2d9776196c084ebe802d8b2b2e9d29a8",
       "version_major": 2,
       "version_minor": 0
      },
      "text/plain": [
       "Epoch [12/50]; metric state\t:   0%|          | 0/1527 [00:00<?, ?it/s]"
      ]
     },
     "metadata": {},
     "output_type": "display_data"
    },
    {
     "name": "stdout",
     "output_type": "stream",
     "text": [
      "Epoch [12/50], Loss: 0.2815, F1 score: 0.82825\n"
     ]
    },
    {
     "data": {
      "application/vnd.jupyter.widget-view+json": {
       "model_id": "41db6a2368ae45c19295a8fe6e90ecad",
       "version_major": 2,
       "version_minor": 0
      },
      "text/plain": [
       "Epoch [13/50]; learning state\t:   0%|          | 0/1527 [00:00<?, ?it/s]"
      ]
     },
     "metadata": {},
     "output_type": "display_data"
    },
    {
     "data": {
      "application/vnd.jupyter.widget-view+json": {
       "model_id": "b141ee1241b0454f87e23c3d25c1719a",
       "version_major": 2,
       "version_minor": 0
      },
      "text/plain": [
       "Epoch [13/50]; metric state\t:   0%|          | 0/1527 [00:00<?, ?it/s]"
      ]
     },
     "metadata": {},
     "output_type": "display_data"
    },
    {
     "name": "stdout",
     "output_type": "stream",
     "text": [
      "Epoch [13/50], Loss: 0.2536, F1 score: 0.83285\n"
     ]
    },
    {
     "data": {
      "application/vnd.jupyter.widget-view+json": {
       "model_id": "c528136eea8c41628567b626af6b70f6",
       "version_major": 2,
       "version_minor": 0
      },
      "text/plain": [
       "Epoch [14/50]; learning state\t:   0%|          | 0/1527 [00:00<?, ?it/s]"
      ]
     },
     "metadata": {},
     "output_type": "display_data"
    },
    {
     "data": {
      "application/vnd.jupyter.widget-view+json": {
       "model_id": "8f9f175957c0409d979e7160934390b5",
       "version_major": 2,
       "version_minor": 0
      },
      "text/plain": [
       "Epoch [14/50]; metric state\t:   0%|          | 0/1527 [00:00<?, ?it/s]"
      ]
     },
     "metadata": {},
     "output_type": "display_data"
    },
    {
     "name": "stdout",
     "output_type": "stream",
     "text": [
      "Epoch [14/50], Loss: 0.2099, F1 score: 0.82578\n"
     ]
    },
    {
     "data": {
      "application/vnd.jupyter.widget-view+json": {
       "model_id": "38474cc1f1ba4ea89596c892bcbe030e",
       "version_major": 2,
       "version_minor": 0
      },
      "text/plain": [
       "Epoch [15/50]; learning state\t:   0%|          | 0/1527 [00:00<?, ?it/s]"
      ]
     },
     "metadata": {},
     "output_type": "display_data"
    },
    {
     "data": {
      "application/vnd.jupyter.widget-view+json": {
       "model_id": "3dcdab9eace24352a7632621b31543ad",
       "version_major": 2,
       "version_minor": 0
      },
      "text/plain": [
       "Epoch [15/50]; metric state\t:   0%|          | 0/1527 [00:00<?, ?it/s]"
      ]
     },
     "metadata": {},
     "output_type": "display_data"
    },
    {
     "name": "stdout",
     "output_type": "stream",
     "text": [
      "Epoch [15/50], Loss: 0.1198, F1 score: 0.83970\n"
     ]
    },
    {
     "data": {
      "application/vnd.jupyter.widget-view+json": {
       "model_id": "fd414a379621433796cec8938deb5fd6",
       "version_major": 2,
       "version_minor": 0
      },
      "text/plain": [
       "Epoch [16/50]; learning state\t:   0%|          | 0/1527 [00:00<?, ?it/s]"
      ]
     },
     "metadata": {},
     "output_type": "display_data"
    },
    {
     "data": {
      "application/vnd.jupyter.widget-view+json": {
       "model_id": "9a3f9711fff6465491f91b71ab63283f",
       "version_major": 2,
       "version_minor": 0
      },
      "text/plain": [
       "Epoch [16/50]; metric state\t:   0%|          | 0/1527 [00:00<?, ?it/s]"
      ]
     },
     "metadata": {},
     "output_type": "display_data"
    },
    {
     "name": "stdout",
     "output_type": "stream",
     "text": [
      "Epoch [16/50], Loss: 0.1402, F1 score: 0.84325\n"
     ]
    },
    {
     "data": {
      "application/vnd.jupyter.widget-view+json": {
       "model_id": "b3700150655f4cf5b08c619b3d86e471",
       "version_major": 2,
       "version_minor": 0
      },
      "text/plain": [
       "Epoch [17/50]; learning state\t:   0%|          | 0/1527 [00:00<?, ?it/s]"
      ]
     },
     "metadata": {},
     "output_type": "display_data"
    },
    {
     "data": {
      "application/vnd.jupyter.widget-view+json": {
       "model_id": "7a4385efad1748dab801122bbc45a6a5",
       "version_major": 2,
       "version_minor": 0
      },
      "text/plain": [
       "Epoch [17/50]; metric state\t:   0%|          | 0/1527 [00:00<?, ?it/s]"
      ]
     },
     "metadata": {},
     "output_type": "display_data"
    },
    {
     "name": "stdout",
     "output_type": "stream",
     "text": [
      "Epoch [17/50], Loss: 0.1369, F1 score: 0.84336\n"
     ]
    },
    {
     "data": {
      "application/vnd.jupyter.widget-view+json": {
       "model_id": "30c2534b5ac94a4ea47b049f365e3959",
       "version_major": 2,
       "version_minor": 0
      },
      "text/plain": [
       "Epoch [18/50]; learning state\t:   0%|          | 0/1527 [00:00<?, ?it/s]"
      ]
     },
     "metadata": {},
     "output_type": "display_data"
    },
    {
     "data": {
      "application/vnd.jupyter.widget-view+json": {
       "model_id": "41e25a10f8d747b09cde7107a3107aaa",
       "version_major": 2,
       "version_minor": 0
      },
      "text/plain": [
       "Epoch [18/50]; metric state\t:   0%|          | 0/1527 [00:00<?, ?it/s]"
      ]
     },
     "metadata": {},
     "output_type": "display_data"
    },
    {
     "name": "stdout",
     "output_type": "stream",
     "text": [
      "Epoch [18/50], Loss: 0.1083, F1 score: 0.84829\n"
     ]
    },
    {
     "data": {
      "application/vnd.jupyter.widget-view+json": {
       "model_id": "06bac57c532140db94e80d4518f36b46",
       "version_major": 2,
       "version_minor": 0
      },
      "text/plain": [
       "Epoch [19/50]; learning state\t:   0%|          | 0/1527 [00:00<?, ?it/s]"
      ]
     },
     "metadata": {},
     "output_type": "display_data"
    },
    {
     "data": {
      "application/vnd.jupyter.widget-view+json": {
       "model_id": "da7bd385e0dd4285b99235a3042f8f4c",
       "version_major": 2,
       "version_minor": 0
      },
      "text/plain": [
       "Epoch [19/50]; metric state\t:   0%|          | 0/1527 [00:00<?, ?it/s]"
      ]
     },
     "metadata": {},
     "output_type": "display_data"
    },
    {
     "name": "stdout",
     "output_type": "stream",
     "text": [
      "Epoch [19/50], Loss: 0.3305, F1 score: 0.85004\n"
     ]
    },
    {
     "data": {
      "application/vnd.jupyter.widget-view+json": {
       "model_id": "54b050011d0441ddba9be1a26f341397",
       "version_major": 2,
       "version_minor": 0
      },
      "text/plain": [
       "Epoch [20/50]; learning state\t:   0%|          | 0/1527 [00:00<?, ?it/s]"
      ]
     },
     "metadata": {},
     "output_type": "display_data"
    },
    {
     "data": {
      "application/vnd.jupyter.widget-view+json": {
       "model_id": "25dc46e0e2a94702855cfa4f47223f0c",
       "version_major": 2,
       "version_minor": 0
      },
      "text/plain": [
       "Epoch [20/50]; metric state\t:   0%|          | 0/1527 [00:00<?, ?it/s]"
      ]
     },
     "metadata": {},
     "output_type": "display_data"
    },
    {
     "name": "stdout",
     "output_type": "stream",
     "text": [
      "Epoch [20/50], Loss: 0.2174, F1 score: 0.85760\n"
     ]
    },
    {
     "data": {
      "application/vnd.jupyter.widget-view+json": {
       "model_id": "0ba90c60531b45078c5cb504b7a557ca",
       "version_major": 2,
       "version_minor": 0
      },
      "text/plain": [
       "Epoch [21/50]; learning state\t:   0%|          | 0/1527 [00:00<?, ?it/s]"
      ]
     },
     "metadata": {},
     "output_type": "display_data"
    },
    {
     "data": {
      "application/vnd.jupyter.widget-view+json": {
       "model_id": "e37a0d1cb78c4a9d96e7f949a626df1e",
       "version_major": 2,
       "version_minor": 0
      },
      "text/plain": [
       "Epoch [21/50]; metric state\t:   0%|          | 0/1527 [00:00<?, ?it/s]"
      ]
     },
     "metadata": {},
     "output_type": "display_data"
    },
    {
     "name": "stdout",
     "output_type": "stream",
     "text": [
      "Epoch [21/50], Loss: 0.0734, F1 score: 0.86132\n"
     ]
    },
    {
     "data": {
      "application/vnd.jupyter.widget-view+json": {
       "model_id": "1ff5fa5803d0419981633ed99e114503",
       "version_major": 2,
       "version_minor": 0
      },
      "text/plain": [
       "Epoch [22/50]; learning state\t:   0%|          | 0/1527 [00:00<?, ?it/s]"
      ]
     },
     "metadata": {},
     "output_type": "display_data"
    },
    {
     "data": {
      "application/vnd.jupyter.widget-view+json": {
       "model_id": "ca754a9448be4d7a9bab2624f0b325db",
       "version_major": 2,
       "version_minor": 0
      },
      "text/plain": [
       "Epoch [22/50]; metric state\t:   0%|          | 0/1527 [00:00<?, ?it/s]"
      ]
     },
     "metadata": {},
     "output_type": "display_data"
    },
    {
     "name": "stdout",
     "output_type": "stream",
     "text": [
      "Epoch [22/50], Loss: 0.2241, F1 score: 0.86058\n"
     ]
    },
    {
     "data": {
      "application/vnd.jupyter.widget-view+json": {
       "model_id": "64857306485b4c3092ade23a959360a1",
       "version_major": 2,
       "version_minor": 0
      },
      "text/plain": [
       "Epoch [23/50]; learning state\t:   0%|          | 0/1527 [00:00<?, ?it/s]"
      ]
     },
     "metadata": {},
     "output_type": "display_data"
    },
    {
     "data": {
      "application/vnd.jupyter.widget-view+json": {
       "model_id": "6dcae7ad7cfb4eddaef83ee7296e7570",
       "version_major": 2,
       "version_minor": 0
      },
      "text/plain": [
       "Epoch [23/50]; metric state\t:   0%|          | 0/1527 [00:00<?, ?it/s]"
      ]
     },
     "metadata": {},
     "output_type": "display_data"
    },
    {
     "name": "stdout",
     "output_type": "stream",
     "text": [
      "Epoch [23/50], Loss: 0.1336, F1 score: 0.86834\n"
     ]
    },
    {
     "data": {
      "application/vnd.jupyter.widget-view+json": {
       "model_id": "2bfd52bb94cc4ef0ae526dc2e74ab87c",
       "version_major": 2,
       "version_minor": 0
      },
      "text/plain": [
       "Epoch [24/50]; learning state\t:   0%|          | 0/1527 [00:00<?, ?it/s]"
      ]
     },
     "metadata": {},
     "output_type": "display_data"
    },
    {
     "data": {
      "application/vnd.jupyter.widget-view+json": {
       "model_id": "8242102f480f4886a8f230b15dd1a958",
       "version_major": 2,
       "version_minor": 0
      },
      "text/plain": [
       "Epoch [24/50]; metric state\t:   0%|          | 0/1527 [00:00<?, ?it/s]"
      ]
     },
     "metadata": {},
     "output_type": "display_data"
    },
    {
     "name": "stdout",
     "output_type": "stream",
     "text": [
      "Epoch [24/50], Loss: 0.1976, F1 score: 0.86466\n"
     ]
    },
    {
     "data": {
      "application/vnd.jupyter.widget-view+json": {
       "model_id": "b573c047419b498c841be5e88aed94f3",
       "version_major": 2,
       "version_minor": 0
      },
      "text/plain": [
       "Epoch [25/50]; learning state\t:   0%|          | 0/1527 [00:00<?, ?it/s]"
      ]
     },
     "metadata": {},
     "output_type": "display_data"
    },
    {
     "data": {
      "application/vnd.jupyter.widget-view+json": {
       "model_id": "53a66881895745f8912c3077402a0041",
       "version_major": 2,
       "version_minor": 0
      },
      "text/plain": [
       "Epoch [25/50]; metric state\t:   0%|          | 0/1527 [00:00<?, ?it/s]"
      ]
     },
     "metadata": {},
     "output_type": "display_data"
    },
    {
     "name": "stdout",
     "output_type": "stream",
     "text": [
      "Epoch [25/50], Loss: 0.1848, F1 score: 0.87238\n"
     ]
    },
    {
     "data": {
      "application/vnd.jupyter.widget-view+json": {
       "model_id": "4fc33e71547e415aa3ddb4c41731de2d",
       "version_major": 2,
       "version_minor": 0
      },
      "text/plain": [
       "Epoch [26/50]; learning state\t:   0%|          | 0/1527 [00:00<?, ?it/s]"
      ]
     },
     "metadata": {},
     "output_type": "display_data"
    },
    {
     "data": {
      "application/vnd.jupyter.widget-view+json": {
       "model_id": "4d8296a6064e499b96f027c32d3c45c5",
       "version_major": 2,
       "version_minor": 0
      },
      "text/plain": [
       "Epoch [26/50]; metric state\t:   0%|          | 0/1527 [00:00<?, ?it/s]"
      ]
     },
     "metadata": {},
     "output_type": "display_data"
    },
    {
     "name": "stdout",
     "output_type": "stream",
     "text": [
      "Epoch [26/50], Loss: 0.2051, F1 score: 0.88041\n"
     ]
    },
    {
     "data": {
      "application/vnd.jupyter.widget-view+json": {
       "model_id": "a54ce678d35841d1afc284fb3530e67c",
       "version_major": 2,
       "version_minor": 0
      },
      "text/plain": [
       "Epoch [27/50]; learning state\t:   0%|          | 0/1527 [00:00<?, ?it/s]"
      ]
     },
     "metadata": {},
     "output_type": "display_data"
    },
    {
     "data": {
      "application/vnd.jupyter.widget-view+json": {
       "model_id": "d42c8979d5124815a12a19304ad8d66e",
       "version_major": 2,
       "version_minor": 0
      },
      "text/plain": [
       "Epoch [27/50]; metric state\t:   0%|          | 0/1527 [00:00<?, ?it/s]"
      ]
     },
     "metadata": {},
     "output_type": "display_data"
    },
    {
     "name": "stdout",
     "output_type": "stream",
     "text": [
      "Epoch [27/50], Loss: 0.1289, F1 score: 0.87277\n"
     ]
    },
    {
     "data": {
      "application/vnd.jupyter.widget-view+json": {
       "model_id": "66e9e03209024d7fb05c44e31c95aec5",
       "version_major": 2,
       "version_minor": 0
      },
      "text/plain": [
       "Epoch [28/50]; learning state\t:   0%|          | 0/1527 [00:00<?, ?it/s]"
      ]
     },
     "metadata": {},
     "output_type": "display_data"
    },
    {
     "data": {
      "application/vnd.jupyter.widget-view+json": {
       "model_id": "4031086e3cff4a3fb4b337d5124256f5",
       "version_major": 2,
       "version_minor": 0
      },
      "text/plain": [
       "Epoch [28/50]; metric state\t:   0%|          | 0/1527 [00:00<?, ?it/s]"
      ]
     },
     "metadata": {},
     "output_type": "display_data"
    },
    {
     "name": "stdout",
     "output_type": "stream",
     "text": [
      "Epoch [28/50], Loss: 0.1629, F1 score: 0.88249\n"
     ]
    },
    {
     "data": {
      "application/vnd.jupyter.widget-view+json": {
       "model_id": "cc167a7e20814d45b039a4b91b3af58d",
       "version_major": 2,
       "version_minor": 0
      },
      "text/plain": [
       "Epoch [29/50]; learning state\t:   0%|          | 0/1527 [00:00<?, ?it/s]"
      ]
     },
     "metadata": {},
     "output_type": "display_data"
    },
    {
     "data": {
      "application/vnd.jupyter.widget-view+json": {
       "model_id": "6810bde9067c45ba92deb2cec509217a",
       "version_major": 2,
       "version_minor": 0
      },
      "text/plain": [
       "Epoch [29/50]; metric state\t:   0%|          | 0/1527 [00:00<?, ?it/s]"
      ]
     },
     "metadata": {},
     "output_type": "display_data"
    },
    {
     "name": "stdout",
     "output_type": "stream",
     "text": [
      "Epoch [29/50], Loss: 0.1121, F1 score: 0.87905\n"
     ]
    },
    {
     "data": {
      "application/vnd.jupyter.widget-view+json": {
       "model_id": "864cee670bb040fc91da282836118d41",
       "version_major": 2,
       "version_minor": 0
      },
      "text/plain": [
       "Epoch [30/50]; learning state\t:   0%|          | 0/1527 [00:00<?, ?it/s]"
      ]
     },
     "metadata": {},
     "output_type": "display_data"
    },
    {
     "data": {
      "application/vnd.jupyter.widget-view+json": {
       "model_id": "4b3d00de203c4941901cdc85ed6997f7",
       "version_major": 2,
       "version_minor": 0
      },
      "text/plain": [
       "Epoch [30/50]; metric state\t:   0%|          | 0/1527 [00:00<?, ?it/s]"
      ]
     },
     "metadata": {},
     "output_type": "display_data"
    },
    {
     "name": "stdout",
     "output_type": "stream",
     "text": [
      "Epoch [30/50], Loss: 0.0793, F1 score: 0.88880\n"
     ]
    },
    {
     "data": {
      "application/vnd.jupyter.widget-view+json": {
       "model_id": "6e2cc477cfa34dc4824355e8936c0194",
       "version_major": 2,
       "version_minor": 0
      },
      "text/plain": [
       "Epoch [31/50]; learning state\t:   0%|          | 0/1527 [00:00<?, ?it/s]"
      ]
     },
     "metadata": {},
     "output_type": "display_data"
    },
    {
     "data": {
      "application/vnd.jupyter.widget-view+json": {
       "model_id": "1b00deae5e6d4a5ea4cec3c3e6ebc557",
       "version_major": 2,
       "version_minor": 0
      },
      "text/plain": [
       "Epoch [31/50]; metric state\t:   0%|          | 0/1527 [00:00<?, ?it/s]"
      ]
     },
     "metadata": {},
     "output_type": "display_data"
    },
    {
     "name": "stdout",
     "output_type": "stream",
     "text": [
      "Epoch [31/50], Loss: 0.0819, F1 score: 0.88981\n"
     ]
    },
    {
     "data": {
      "application/vnd.jupyter.widget-view+json": {
       "model_id": "6c44688346e744849ec88e20b2a43ea5",
       "version_major": 2,
       "version_minor": 0
      },
      "text/plain": [
       "Epoch [32/50]; learning state\t:   0%|          | 0/1527 [00:00<?, ?it/s]"
      ]
     },
     "metadata": {},
     "output_type": "display_data"
    },
    {
     "data": {
      "application/vnd.jupyter.widget-view+json": {
       "model_id": "155e8fefb2e54608916682ced9cbe7e0",
       "version_major": 2,
       "version_minor": 0
      },
      "text/plain": [
       "Epoch [32/50]; metric state\t:   0%|          | 0/1527 [00:00<?, ?it/s]"
      ]
     },
     "metadata": {},
     "output_type": "display_data"
    },
    {
     "name": "stdout",
     "output_type": "stream",
     "text": [
      "Epoch [32/50], Loss: 0.1458, F1 score: 0.89445\n"
     ]
    },
    {
     "data": {
      "application/vnd.jupyter.widget-view+json": {
       "model_id": "dd17a51f04434d0bb6999a118726c321",
       "version_major": 2,
       "version_minor": 0
      },
      "text/plain": [
       "Epoch [33/50]; learning state\t:   0%|          | 0/1527 [00:00<?, ?it/s]"
      ]
     },
     "metadata": {},
     "output_type": "display_data"
    },
    {
     "data": {
      "application/vnd.jupyter.widget-view+json": {
       "model_id": "c8b5c1181578450dae89c614036e7114",
       "version_major": 2,
       "version_minor": 0
      },
      "text/plain": [
       "Epoch [33/50]; metric state\t:   0%|          | 0/1527 [00:00<?, ?it/s]"
      ]
     },
     "metadata": {},
     "output_type": "display_data"
    },
    {
     "name": "stdout",
     "output_type": "stream",
     "text": [
      "Epoch [33/50], Loss: 0.1669, F1 score: 0.89905\n"
     ]
    },
    {
     "data": {
      "application/vnd.jupyter.widget-view+json": {
       "model_id": "aefd1c44b4304ea29bd9c7045eb865c8",
       "version_major": 2,
       "version_minor": 0
      },
      "text/plain": [
       "Epoch [34/50]; learning state\t:   0%|          | 0/1527 [00:00<?, ?it/s]"
      ]
     },
     "metadata": {},
     "output_type": "display_data"
    },
    {
     "data": {
      "application/vnd.jupyter.widget-view+json": {
       "model_id": "03049716baa9409697c1877f692065bf",
       "version_major": 2,
       "version_minor": 0
      },
      "text/plain": [
       "Epoch [34/50]; metric state\t:   0%|          | 0/1527 [00:00<?, ?it/s]"
      ]
     },
     "metadata": {},
     "output_type": "display_data"
    },
    {
     "name": "stdout",
     "output_type": "stream",
     "text": [
      "Epoch [34/50], Loss: 0.2185, F1 score: 0.89637\n"
     ]
    },
    {
     "data": {
      "application/vnd.jupyter.widget-view+json": {
       "model_id": "a46617e3059e4b35bddcf172dd83b94e",
       "version_major": 2,
       "version_minor": 0
      },
      "text/plain": [
       "Epoch [35/50]; learning state\t:   0%|          | 0/1527 [00:00<?, ?it/s]"
      ]
     },
     "metadata": {},
     "output_type": "display_data"
    },
    {
     "data": {
      "application/vnd.jupyter.widget-view+json": {
       "model_id": "3e68d790b5784d70bb544807e798596c",
       "version_major": 2,
       "version_minor": 0
      },
      "text/plain": [
       "Epoch [35/50]; metric state\t:   0%|          | 0/1527 [00:00<?, ?it/s]"
      ]
     },
     "metadata": {},
     "output_type": "display_data"
    },
    {
     "name": "stdout",
     "output_type": "stream",
     "text": [
      "Epoch [35/50], Loss: 0.1000, F1 score: 0.90242\n"
     ]
    },
    {
     "data": {
      "application/vnd.jupyter.widget-view+json": {
       "model_id": "bc789b5fb3b54ebda988bcc737c33a23",
       "version_major": 2,
       "version_minor": 0
      },
      "text/plain": [
       "Epoch [36/50]; learning state\t:   0%|          | 0/1527 [00:00<?, ?it/s]"
      ]
     },
     "metadata": {},
     "output_type": "display_data"
    },
    {
     "data": {
      "application/vnd.jupyter.widget-view+json": {
       "model_id": "82b9c8de4def45e181b4c30e501dce20",
       "version_major": 2,
       "version_minor": 0
      },
      "text/plain": [
       "Epoch [36/50]; metric state\t:   0%|          | 0/1527 [00:00<?, ?it/s]"
      ]
     },
     "metadata": {},
     "output_type": "display_data"
    },
    {
     "name": "stdout",
     "output_type": "stream",
     "text": [
      "Epoch [36/50], Loss: 0.1482, F1 score: 0.89520\n"
     ]
    },
    {
     "data": {
      "application/vnd.jupyter.widget-view+json": {
       "model_id": "47eb3eabeb1542368c68968a27b744e4",
       "version_major": 2,
       "version_minor": 0
      },
      "text/plain": [
       "Epoch [37/50]; learning state\t:   0%|          | 0/1527 [00:00<?, ?it/s]"
      ]
     },
     "metadata": {},
     "output_type": "display_data"
    },
    {
     "data": {
      "application/vnd.jupyter.widget-view+json": {
       "model_id": "268f74f3ebfe43578f74a6aab11e61cb",
       "version_major": 2,
       "version_minor": 0
      },
      "text/plain": [
       "Epoch [37/50]; metric state\t:   0%|          | 0/1527 [00:00<?, ?it/s]"
      ]
     },
     "metadata": {},
     "output_type": "display_data"
    },
    {
     "name": "stdout",
     "output_type": "stream",
     "text": [
      "Epoch [37/50], Loss: 0.0795, F1 score: 0.90031\n"
     ]
    },
    {
     "data": {
      "application/vnd.jupyter.widget-view+json": {
       "model_id": "50d733ea2d8e4840900a7d8beb2e39fe",
       "version_major": 2,
       "version_minor": 0
      },
      "text/plain": [
       "Epoch [38/50]; learning state\t:   0%|          | 0/1527 [00:00<?, ?it/s]"
      ]
     },
     "metadata": {},
     "output_type": "display_data"
    },
    {
     "data": {
      "application/vnd.jupyter.widget-view+json": {
       "model_id": "88c9c800cb674b268c594b7c98cc15ab",
       "version_major": 2,
       "version_minor": 0
      },
      "text/plain": [
       "Epoch [38/50]; metric state\t:   0%|          | 0/1527 [00:00<?, ?it/s]"
      ]
     },
     "metadata": {},
     "output_type": "display_data"
    },
    {
     "name": "stdout",
     "output_type": "stream",
     "text": [
      "Epoch [38/50], Loss: 0.0957, F1 score: 0.90640\n"
     ]
    },
    {
     "data": {
      "application/vnd.jupyter.widget-view+json": {
       "model_id": "2376942ad1c9423eb9947cbd541c83bd",
       "version_major": 2,
       "version_minor": 0
      },
      "text/plain": [
       "Epoch [39/50]; learning state\t:   0%|          | 0/1527 [00:00<?, ?it/s]"
      ]
     },
     "metadata": {},
     "output_type": "display_data"
    },
    {
     "data": {
      "application/vnd.jupyter.widget-view+json": {
       "model_id": "ffa29ea795de40d8b810b1413a3a3768",
       "version_major": 2,
       "version_minor": 0
      },
      "text/plain": [
       "Epoch [39/50]; metric state\t:   0%|          | 0/1527 [00:00<?, ?it/s]"
      ]
     },
     "metadata": {},
     "output_type": "display_data"
    },
    {
     "name": "stdout",
     "output_type": "stream",
     "text": [
      "Epoch [39/50], Loss: 0.1144, F1 score: 0.90619\n"
     ]
    },
    {
     "data": {
      "application/vnd.jupyter.widget-view+json": {
       "model_id": "7fa9493d83344dfbad14c688812345d9",
       "version_major": 2,
       "version_minor": 0
      },
      "text/plain": [
       "Epoch [40/50]; learning state\t:   0%|          | 0/1527 [00:00<?, ?it/s]"
      ]
     },
     "metadata": {},
     "output_type": "display_data"
    },
    {
     "data": {
      "application/vnd.jupyter.widget-view+json": {
       "model_id": "b10173652cef44509ae42a2aa1c6233a",
       "version_major": 2,
       "version_minor": 0
      },
      "text/plain": [
       "Epoch [40/50]; metric state\t:   0%|          | 0/1527 [00:00<?, ?it/s]"
      ]
     },
     "metadata": {},
     "output_type": "display_data"
    },
    {
     "name": "stdout",
     "output_type": "stream",
     "text": [
      "Epoch [40/50], Loss: 0.2656, F1 score: 0.90652\n"
     ]
    },
    {
     "data": {
      "application/vnd.jupyter.widget-view+json": {
       "model_id": "29a0bad7a25949e8924afa2eb63b12d1",
       "version_major": 2,
       "version_minor": 0
      },
      "text/plain": [
       "Epoch [41/50]; learning state\t:   0%|          | 0/1527 [00:00<?, ?it/s]"
      ]
     },
     "metadata": {},
     "output_type": "display_data"
    },
    {
     "data": {
      "application/vnd.jupyter.widget-view+json": {
       "model_id": "0a9f78ef48754af6b410b69b5baa0e01",
       "version_major": 2,
       "version_minor": 0
      },
      "text/plain": [
       "Epoch [41/50]; metric state\t:   0%|          | 0/1527 [00:00<?, ?it/s]"
      ]
     },
     "metadata": {},
     "output_type": "display_data"
    },
    {
     "name": "stdout",
     "output_type": "stream",
     "text": [
      "Epoch [41/50], Loss: 0.1140, F1 score: 0.90466\n"
     ]
    },
    {
     "data": {
      "application/vnd.jupyter.widget-view+json": {
       "model_id": "63a33928505845a494563ff23a37acfb",
       "version_major": 2,
       "version_minor": 0
      },
      "text/plain": [
       "Epoch [42/50]; learning state\t:   0%|          | 0/1527 [00:00<?, ?it/s]"
      ]
     },
     "metadata": {},
     "output_type": "display_data"
    },
    {
     "data": {
      "application/vnd.jupyter.widget-view+json": {
       "model_id": "83df2089c21448a5aa56ce618d35aee0",
       "version_major": 2,
       "version_minor": 0
      },
      "text/plain": [
       "Epoch [42/50]; metric state\t:   0%|          | 0/1527 [00:00<?, ?it/s]"
      ]
     },
     "metadata": {},
     "output_type": "display_data"
    },
    {
     "name": "stdout",
     "output_type": "stream",
     "text": [
      "Epoch [42/50], Loss: 0.0693, F1 score: 0.91457\n"
     ]
    },
    {
     "data": {
      "application/vnd.jupyter.widget-view+json": {
       "model_id": "8215cc81e4a9433eb2648f8bf9d3e295",
       "version_major": 2,
       "version_minor": 0
      },
      "text/plain": [
       "Epoch [43/50]; learning state\t:   0%|          | 0/1527 [00:00<?, ?it/s]"
      ]
     },
     "metadata": {},
     "output_type": "display_data"
    },
    {
     "data": {
      "application/vnd.jupyter.widget-view+json": {
       "model_id": "1c8ac451023f4b1d83f8e8da582ac16e",
       "version_major": 2,
       "version_minor": 0
      },
      "text/plain": [
       "Epoch [43/50]; metric state\t:   0%|          | 0/1527 [00:00<?, ?it/s]"
      ]
     },
     "metadata": {},
     "output_type": "display_data"
    },
    {
     "name": "stdout",
     "output_type": "stream",
     "text": [
      "Epoch [43/50], Loss: 0.2062, F1 score: 0.91105\n"
     ]
    },
    {
     "data": {
      "application/vnd.jupyter.widget-view+json": {
       "model_id": "cd4da99cb72e4235942e91bb9f62ac56",
       "version_major": 2,
       "version_minor": 0
      },
      "text/plain": [
       "Epoch [44/50]; learning state\t:   0%|          | 0/1527 [00:00<?, ?it/s]"
      ]
     },
     "metadata": {},
     "output_type": "display_data"
    },
    {
     "data": {
      "application/vnd.jupyter.widget-view+json": {
       "model_id": "e3f67f2de7e84febafb26192cc58b0e1",
       "version_major": 2,
       "version_minor": 0
      },
      "text/plain": [
       "Epoch [44/50]; metric state\t:   0%|          | 0/1527 [00:00<?, ?it/s]"
      ]
     },
     "metadata": {},
     "output_type": "display_data"
    },
    {
     "name": "stdout",
     "output_type": "stream",
     "text": [
      "Epoch [44/50], Loss: 0.1421, F1 score: 0.91833\n"
     ]
    },
    {
     "data": {
      "application/vnd.jupyter.widget-view+json": {
       "model_id": "0426f51099364613ad520c02130e4b34",
       "version_major": 2,
       "version_minor": 0
      },
      "text/plain": [
       "Epoch [45/50]; learning state\t:   0%|          | 0/1527 [00:00<?, ?it/s]"
      ]
     },
     "metadata": {},
     "output_type": "display_data"
    },
    {
     "data": {
      "application/vnd.jupyter.widget-view+json": {
       "model_id": "3db455e52937478fb6749fa669a7ca8d",
       "version_major": 2,
       "version_minor": 0
      },
      "text/plain": [
       "Epoch [45/50]; metric state\t:   0%|          | 0/1527 [00:00<?, ?it/s]"
      ]
     },
     "metadata": {},
     "output_type": "display_data"
    },
    {
     "name": "stdout",
     "output_type": "stream",
     "text": [
      "Epoch [45/50], Loss: 0.1822, F1 score: 0.91437\n"
     ]
    },
    {
     "data": {
      "application/vnd.jupyter.widget-view+json": {
       "model_id": "44464b7703824bffbd1ced794f461039",
       "version_major": 2,
       "version_minor": 0
      },
      "text/plain": [
       "Epoch [46/50]; learning state\t:   0%|          | 0/1527 [00:00<?, ?it/s]"
      ]
     },
     "metadata": {},
     "output_type": "display_data"
    },
    {
     "data": {
      "application/vnd.jupyter.widget-view+json": {
       "model_id": "a3a20566c97c40bcacde0163ccb6189d",
       "version_major": 2,
       "version_minor": 0
      },
      "text/plain": [
       "Epoch [46/50]; metric state\t:   0%|          | 0/1527 [00:00<?, ?it/s]"
      ]
     },
     "metadata": {},
     "output_type": "display_data"
    },
    {
     "name": "stdout",
     "output_type": "stream",
     "text": [
      "Epoch [46/50], Loss: 0.1154, F1 score: 0.91279\n"
     ]
    },
    {
     "data": {
      "application/vnd.jupyter.widget-view+json": {
       "model_id": "88408747105043849367ad0b4d2a6bea",
       "version_major": 2,
       "version_minor": 0
      },
      "text/plain": [
       "Epoch [47/50]; learning state\t:   0%|          | 0/1527 [00:00<?, ?it/s]"
      ]
     },
     "metadata": {},
     "output_type": "display_data"
    },
    {
     "data": {
      "application/vnd.jupyter.widget-view+json": {
       "model_id": "fbb475a739214fd7bc58c3e69524e9d6",
       "version_major": 2,
       "version_minor": 0
      },
      "text/plain": [
       "Epoch [47/50]; metric state\t:   0%|          | 0/1527 [00:00<?, ?it/s]"
      ]
     },
     "metadata": {},
     "output_type": "display_data"
    },
    {
     "name": "stdout",
     "output_type": "stream",
     "text": [
      "Epoch [47/50], Loss: 0.0434, F1 score: 0.91897\n"
     ]
    },
    {
     "data": {
      "application/vnd.jupyter.widget-view+json": {
       "model_id": "a4ffa63a97564ad6a07d247b860facd3",
       "version_major": 2,
       "version_minor": 0
      },
      "text/plain": [
       "Epoch [48/50]; learning state\t:   0%|          | 0/1527 [00:00<?, ?it/s]"
      ]
     },
     "metadata": {},
     "output_type": "display_data"
    },
    {
     "data": {
      "application/vnd.jupyter.widget-view+json": {
       "model_id": "acb6e01ab2f044188eb626ffd57434fd",
       "version_major": 2,
       "version_minor": 0
      },
      "text/plain": [
       "Epoch [48/50]; metric state\t:   0%|          | 0/1527 [00:00<?, ?it/s]"
      ]
     },
     "metadata": {},
     "output_type": "display_data"
    },
    {
     "name": "stdout",
     "output_type": "stream",
     "text": [
      "Epoch [48/50], Loss: 0.0686, F1 score: 0.92292\n"
     ]
    },
    {
     "data": {
      "application/vnd.jupyter.widget-view+json": {
       "model_id": "90f0fa18ab48413d8e1669536730492b",
       "version_major": 2,
       "version_minor": 0
      },
      "text/plain": [
       "Epoch [49/50]; learning state\t:   0%|          | 0/1527 [00:00<?, ?it/s]"
      ]
     },
     "metadata": {},
     "output_type": "display_data"
    },
    {
     "data": {
      "application/vnd.jupyter.widget-view+json": {
       "model_id": "ed948c0f3ae54968b6fc595d27e54342",
       "version_major": 2,
       "version_minor": 0
      },
      "text/plain": [
       "Epoch [49/50]; metric state\t:   0%|          | 0/1527 [00:00<?, ?it/s]"
      ]
     },
     "metadata": {},
     "output_type": "display_data"
    },
    {
     "name": "stdout",
     "output_type": "stream",
     "text": [
      "Epoch [49/50], Loss: 0.0852, F1 score: 0.92106\n"
     ]
    },
    {
     "data": {
      "application/vnd.jupyter.widget-view+json": {
       "model_id": "29f6a96caaea4ad4a8d2a0f7a9cc920f",
       "version_major": 2,
       "version_minor": 0
      },
      "text/plain": [
       "Epoch [50/50]; learning state\t:   0%|          | 0/1527 [00:00<?, ?it/s]"
      ]
     },
     "metadata": {},
     "output_type": "display_data"
    },
    {
     "data": {
      "application/vnd.jupyter.widget-view+json": {
       "model_id": "9b56e7376d614870bcd1d41e31bbddd8",
       "version_major": 2,
       "version_minor": 0
      },
      "text/plain": [
       "Epoch [50/50]; metric state\t:   0%|          | 0/1527 [00:00<?, ?it/s]"
      ]
     },
     "metadata": {},
     "output_type": "display_data"
    },
    {
     "name": "stdout",
     "output_type": "stream",
     "text": [
      "Epoch [50/50], Loss: 0.1822, F1 score: 0.92965\n"
     ]
    },
    {
     "name": "stderr",
     "output_type": "stream",
     "text": [
      "\u001b[31m2025/05/06 12:14:23 WARNING mlflow.models.model: Model logged without a signature and input example. Please set `input_example` parameter when logging the model to auto infer the model signature.\u001b[0m\n"
     ]
    },
    {
     "data": {
      "application/vnd.jupyter.widget-view+json": {
       "model_id": "b1d60fe775d041cc962beb253af48bb7",
       "version_major": 2,
       "version_minor": 0
      },
      "text/plain": [
       "Epoch [1/150]; learning state\t:   0%|          | 0/382 [00:00<?, ?it/s]"
      ]
     },
     "metadata": {},
     "output_type": "display_data"
    },
    {
     "data": {
      "application/vnd.jupyter.widget-view+json": {
       "model_id": "3a30273ed30f4a58af5b96e6e56eacf9",
       "version_major": 2,
       "version_minor": 0
      },
      "text/plain": [
       "Epoch [1/150]; metric state\t:   0%|          | 0/382 [00:00<?, ?it/s]"
      ]
     },
     "metadata": {},
     "output_type": "display_data"
    },
    {
     "name": "stdout",
     "output_type": "stream",
     "text": [
      "Epoch [1/150], Loss: 0.2181, F1 score: 0.73294\n"
     ]
    },
    {
     "data": {
      "application/vnd.jupyter.widget-view+json": {
       "model_id": "6ef2b291ee9447579be192084cedb7dd",
       "version_major": 2,
       "version_minor": 0
      },
      "text/plain": [
       "Epoch [2/150]; learning state\t:   0%|          | 0/382 [00:00<?, ?it/s]"
      ]
     },
     "metadata": {},
     "output_type": "display_data"
    },
    {
     "data": {
      "application/vnd.jupyter.widget-view+json": {
       "model_id": "9dbf1f13a37843019c9c65eb861a3cd5",
       "version_major": 2,
       "version_minor": 0
      },
      "text/plain": [
       "Epoch [2/150]; metric state\t:   0%|          | 0/382 [00:00<?, ?it/s]"
      ]
     },
     "metadata": {},
     "output_type": "display_data"
    },
    {
     "name": "stdout",
     "output_type": "stream",
     "text": [
      "Epoch [2/150], Loss: 0.1466, F1 score: 0.76435\n"
     ]
    },
    {
     "data": {
      "application/vnd.jupyter.widget-view+json": {
       "model_id": "79d692bbad6c4df59fad177e0b46ff04",
       "version_major": 2,
       "version_minor": 0
      },
      "text/plain": [
       "Epoch [3/150]; learning state\t:   0%|          | 0/382 [00:00<?, ?it/s]"
      ]
     },
     "metadata": {},
     "output_type": "display_data"
    },
    {
     "data": {
      "application/vnd.jupyter.widget-view+json": {
       "model_id": "f9cfc8f84fae4bed9a7e0dfd57ed2abb",
       "version_major": 2,
       "version_minor": 0
      },
      "text/plain": [
       "Epoch [3/150]; metric state\t:   0%|          | 0/382 [00:00<?, ?it/s]"
      ]
     },
     "metadata": {},
     "output_type": "display_data"
    },
    {
     "name": "stdout",
     "output_type": "stream",
     "text": [
      "Epoch [3/150], Loss: 0.1841, F1 score: 0.78538\n"
     ]
    },
    {
     "data": {
      "application/vnd.jupyter.widget-view+json": {
       "model_id": "834e5a4a6ed2471c908ba5c2a6bfbf5c",
       "version_major": 2,
       "version_minor": 0
      },
      "text/plain": [
       "Epoch [4/150]; learning state\t:   0%|          | 0/382 [00:00<?, ?it/s]"
      ]
     },
     "metadata": {},
     "output_type": "display_data"
    },
    {
     "data": {
      "application/vnd.jupyter.widget-view+json": {
       "model_id": "58dd48b2b1d048e9bf9f3f91e13343b0",
       "version_major": 2,
       "version_minor": 0
      },
      "text/plain": [
       "Epoch [4/150]; metric state\t:   0%|          | 0/382 [00:00<?, ?it/s]"
      ]
     },
     "metadata": {},
     "output_type": "display_data"
    },
    {
     "name": "stdout",
     "output_type": "stream",
     "text": [
      "Epoch [4/150], Loss: 0.2017, F1 score: 0.79142\n"
     ]
    },
    {
     "data": {
      "application/vnd.jupyter.widget-view+json": {
       "model_id": "2201cc4bf5e04826b90ffa5c7fdc9fc9",
       "version_major": 2,
       "version_minor": 0
      },
      "text/plain": [
       "Epoch [5/150]; learning state\t:   0%|          | 0/382 [00:00<?, ?it/s]"
      ]
     },
     "metadata": {},
     "output_type": "display_data"
    },
    {
     "data": {
      "application/vnd.jupyter.widget-view+json": {
       "model_id": "6aff605cd0d04e098734f5be7286fe43",
       "version_major": 2,
       "version_minor": 0
      },
      "text/plain": [
       "Epoch [5/150]; metric state\t:   0%|          | 0/382 [00:00<?, ?it/s]"
      ]
     },
     "metadata": {},
     "output_type": "display_data"
    },
    {
     "name": "stdout",
     "output_type": "stream",
     "text": [
      "Epoch [5/150], Loss: 0.1298, F1 score: 0.80787\n"
     ]
    },
    {
     "data": {
      "application/vnd.jupyter.widget-view+json": {
       "model_id": "1cfe7296195745859064be99f119fa96",
       "version_major": 2,
       "version_minor": 0
      },
      "text/plain": [
       "Epoch [6/150]; learning state\t:   0%|          | 0/382 [00:00<?, ?it/s]"
      ]
     },
     "metadata": {},
     "output_type": "display_data"
    },
    {
     "data": {
      "application/vnd.jupyter.widget-view+json": {
       "model_id": "934f26fbd3014ca5aca46e6d37799bc5",
       "version_major": 2,
       "version_minor": 0
      },
      "text/plain": [
       "Epoch [6/150]; metric state\t:   0%|          | 0/382 [00:00<?, ?it/s]"
      ]
     },
     "metadata": {},
     "output_type": "display_data"
    },
    {
     "name": "stdout",
     "output_type": "stream",
     "text": [
      "Epoch [6/150], Loss: 0.1161, F1 score: 0.81795\n"
     ]
    },
    {
     "data": {
      "application/vnd.jupyter.widget-view+json": {
       "model_id": "e0c7b4550d7241fdb33882ee066e741a",
       "version_major": 2,
       "version_minor": 0
      },
      "text/plain": [
       "Epoch [7/150]; learning state\t:   0%|          | 0/382 [00:00<?, ?it/s]"
      ]
     },
     "metadata": {},
     "output_type": "display_data"
    },
    {
     "data": {
      "application/vnd.jupyter.widget-view+json": {
       "model_id": "a190ffa2b42f477598c189a74b4103c4",
       "version_major": 2,
       "version_minor": 0
      },
      "text/plain": [
       "Epoch [7/150]; metric state\t:   0%|          | 0/382 [00:00<?, ?it/s]"
      ]
     },
     "metadata": {},
     "output_type": "display_data"
    },
    {
     "name": "stdout",
     "output_type": "stream",
     "text": [
      "Epoch [7/150], Loss: 0.2394, F1 score: 0.81078\n"
     ]
    },
    {
     "data": {
      "application/vnd.jupyter.widget-view+json": {
       "model_id": "ff426651e10d40179b88d26668182d27",
       "version_major": 2,
       "version_minor": 0
      },
      "text/plain": [
       "Epoch [8/150]; learning state\t:   0%|          | 0/382 [00:00<?, ?it/s]"
      ]
     },
     "metadata": {},
     "output_type": "display_data"
    },
    {
     "data": {
      "application/vnd.jupyter.widget-view+json": {
       "model_id": "2fcb4dc68d184d0d915318e36db0848c",
       "version_major": 2,
       "version_minor": 0
      },
      "text/plain": [
       "Epoch [8/150]; metric state\t:   0%|          | 0/382 [00:00<?, ?it/s]"
      ]
     },
     "metadata": {},
     "output_type": "display_data"
    },
    {
     "name": "stdout",
     "output_type": "stream",
     "text": [
      "Epoch [8/150], Loss: 0.1867, F1 score: 0.83522\n"
     ]
    },
    {
     "data": {
      "application/vnd.jupyter.widget-view+json": {
       "model_id": "c42586216c104ddd97a4c652b43be294",
       "version_major": 2,
       "version_minor": 0
      },
      "text/plain": [
       "Epoch [9/150]; learning state\t:   0%|          | 0/382 [00:00<?, ?it/s]"
      ]
     },
     "metadata": {},
     "output_type": "display_data"
    },
    {
     "data": {
      "application/vnd.jupyter.widget-view+json": {
       "model_id": "d5773ad567674b4daf7269b084c31854",
       "version_major": 2,
       "version_minor": 0
      },
      "text/plain": [
       "Epoch [9/150]; metric state\t:   0%|          | 0/382 [00:00<?, ?it/s]"
      ]
     },
     "metadata": {},
     "output_type": "display_data"
    },
    {
     "name": "stdout",
     "output_type": "stream",
     "text": [
      "Epoch [9/150], Loss: 0.1358, F1 score: 0.84035\n"
     ]
    },
    {
     "data": {
      "application/vnd.jupyter.widget-view+json": {
       "model_id": "0396ceae496a4fc9ae468fbe5b557b5c",
       "version_major": 2,
       "version_minor": 0
      },
      "text/plain": [
       "Epoch [10/150]; learning state\t:   0%|          | 0/382 [00:00<?, ?it/s]"
      ]
     },
     "metadata": {},
     "output_type": "display_data"
    },
    {
     "data": {
      "application/vnd.jupyter.widget-view+json": {
       "model_id": "05d4844586504523895e9f2305294093",
       "version_major": 2,
       "version_minor": 0
      },
      "text/plain": [
       "Epoch [10/150]; metric state\t:   0%|          | 0/382 [00:00<?, ?it/s]"
      ]
     },
     "metadata": {},
     "output_type": "display_data"
    },
    {
     "name": "stdout",
     "output_type": "stream",
     "text": [
      "Epoch [10/150], Loss: 0.1986, F1 score: 0.84481\n"
     ]
    },
    {
     "data": {
      "application/vnd.jupyter.widget-view+json": {
       "model_id": "1f8795c7bb75488eadd4f0f64853d96b",
       "version_major": 2,
       "version_minor": 0
      },
      "text/plain": [
       "Epoch [11/150]; learning state\t:   0%|          | 0/382 [00:00<?, ?it/s]"
      ]
     },
     "metadata": {},
     "output_type": "display_data"
    },
    {
     "data": {
      "application/vnd.jupyter.widget-view+json": {
       "model_id": "53f54ca7f12d470082b6c23f11c26320",
       "version_major": 2,
       "version_minor": 0
      },
      "text/plain": [
       "Epoch [11/150]; metric state\t:   0%|          | 0/382 [00:00<?, ?it/s]"
      ]
     },
     "metadata": {},
     "output_type": "display_data"
    },
    {
     "name": "stdout",
     "output_type": "stream",
     "text": [
      "Epoch [11/150], Loss: 0.1531, F1 score: 0.85623\n"
     ]
    },
    {
     "data": {
      "application/vnd.jupyter.widget-view+json": {
       "model_id": "fe36f2e31d2a4d26aee92c1617151a0d",
       "version_major": 2,
       "version_minor": 0
      },
      "text/plain": [
       "Epoch [12/150]; learning state\t:   0%|          | 0/382 [00:00<?, ?it/s]"
      ]
     },
     "metadata": {},
     "output_type": "display_data"
    },
    {
     "data": {
      "application/vnd.jupyter.widget-view+json": {
       "model_id": "1a9189deed634a79a30a202907162efd",
       "version_major": 2,
       "version_minor": 0
      },
      "text/plain": [
       "Epoch [12/150]; metric state\t:   0%|          | 0/382 [00:00<?, ?it/s]"
      ]
     },
     "metadata": {},
     "output_type": "display_data"
    },
    {
     "name": "stdout",
     "output_type": "stream",
     "text": [
      "Epoch [12/150], Loss: 0.1323, F1 score: 0.86597\n"
     ]
    },
    {
     "data": {
      "application/vnd.jupyter.widget-view+json": {
       "model_id": "fe4be47eeecf4d388c96a4a0a079bff4",
       "version_major": 2,
       "version_minor": 0
      },
      "text/plain": [
       "Epoch [13/150]; learning state\t:   0%|          | 0/382 [00:00<?, ?it/s]"
      ]
     },
     "metadata": {},
     "output_type": "display_data"
    },
    {
     "data": {
      "application/vnd.jupyter.widget-view+json": {
       "model_id": "45cf20c6cf144dc0bfcae3645523f099",
       "version_major": 2,
       "version_minor": 0
      },
      "text/plain": [
       "Epoch [13/150]; metric state\t:   0%|          | 0/382 [00:00<?, ?it/s]"
      ]
     },
     "metadata": {},
     "output_type": "display_data"
    },
    {
     "name": "stdout",
     "output_type": "stream",
     "text": [
      "Epoch [13/150], Loss: 0.1650, F1 score: 0.86838\n"
     ]
    },
    {
     "data": {
      "application/vnd.jupyter.widget-view+json": {
       "model_id": "808be67e4fe5448c9f33d484ca0cba7c",
       "version_major": 2,
       "version_minor": 0
      },
      "text/plain": [
       "Epoch [14/150]; learning state\t:   0%|          | 0/382 [00:00<?, ?it/s]"
      ]
     },
     "metadata": {},
     "output_type": "display_data"
    },
    {
     "data": {
      "application/vnd.jupyter.widget-view+json": {
       "model_id": "2812f36212824bf2a908a595bb0dd519",
       "version_major": 2,
       "version_minor": 0
      },
      "text/plain": [
       "Epoch [14/150]; metric state\t:   0%|          | 0/382 [00:00<?, ?it/s]"
      ]
     },
     "metadata": {},
     "output_type": "display_data"
    },
    {
     "name": "stdout",
     "output_type": "stream",
     "text": [
      "Epoch [14/150], Loss: 0.1541, F1 score: 0.87060\n"
     ]
    },
    {
     "data": {
      "application/vnd.jupyter.widget-view+json": {
       "model_id": "4e4d7a07083a4c7781448cb9f18676e6",
       "version_major": 2,
       "version_minor": 0
      },
      "text/plain": [
       "Epoch [15/150]; learning state\t:   0%|          | 0/382 [00:00<?, ?it/s]"
      ]
     },
     "metadata": {},
     "output_type": "display_data"
    },
    {
     "data": {
      "application/vnd.jupyter.widget-view+json": {
       "model_id": "31eb8055be52409e998167005bd7f897",
       "version_major": 2,
       "version_minor": 0
      },
      "text/plain": [
       "Epoch [15/150]; metric state\t:   0%|          | 0/382 [00:00<?, ?it/s]"
      ]
     },
     "metadata": {},
     "output_type": "display_data"
    },
    {
     "name": "stdout",
     "output_type": "stream",
     "text": [
      "Epoch [15/150], Loss: 0.1243, F1 score: 0.88179\n"
     ]
    },
    {
     "data": {
      "application/vnd.jupyter.widget-view+json": {
       "model_id": "30d6f7172873402882baf7e9f8388e0b",
       "version_major": 2,
       "version_minor": 0
      },
      "text/plain": [
       "Epoch [16/150]; learning state\t:   0%|          | 0/382 [00:00<?, ?it/s]"
      ]
     },
     "metadata": {},
     "output_type": "display_data"
    },
    {
     "data": {
      "application/vnd.jupyter.widget-view+json": {
       "model_id": "a0e4037725a94db382de895a731a0895",
       "version_major": 2,
       "version_minor": 0
      },
      "text/plain": [
       "Epoch [16/150]; metric state\t:   0%|          | 0/382 [00:00<?, ?it/s]"
      ]
     },
     "metadata": {},
     "output_type": "display_data"
    },
    {
     "name": "stdout",
     "output_type": "stream",
     "text": [
      "Epoch [16/150], Loss: 0.1275, F1 score: 0.89049\n"
     ]
    },
    {
     "data": {
      "application/vnd.jupyter.widget-view+json": {
       "model_id": "47440d0ec0f9439e88ea9aae9ccf953a",
       "version_major": 2,
       "version_minor": 0
      },
      "text/plain": [
       "Epoch [17/150]; learning state\t:   0%|          | 0/382 [00:00<?, ?it/s]"
      ]
     },
     "metadata": {},
     "output_type": "display_data"
    },
    {
     "data": {
      "application/vnd.jupyter.widget-view+json": {
       "model_id": "c3eed55a21e94af9ac59dcc8bda4769c",
       "version_major": 2,
       "version_minor": 0
      },
      "text/plain": [
       "Epoch [17/150]; metric state\t:   0%|          | 0/382 [00:00<?, ?it/s]"
      ]
     },
     "metadata": {},
     "output_type": "display_data"
    },
    {
     "name": "stdout",
     "output_type": "stream",
     "text": [
      "Epoch [17/150], Loss: 0.1051, F1 score: 0.89189\n"
     ]
    },
    {
     "data": {
      "application/vnd.jupyter.widget-view+json": {
       "model_id": "e67229c5ccb64e2184f37c92fdc60d28",
       "version_major": 2,
       "version_minor": 0
      },
      "text/plain": [
       "Epoch [18/150]; learning state\t:   0%|          | 0/382 [00:00<?, ?it/s]"
      ]
     },
     "metadata": {},
     "output_type": "display_data"
    },
    {
     "data": {
      "application/vnd.jupyter.widget-view+json": {
       "model_id": "c8968031b62943ea8ce530aa11e06cf4",
       "version_major": 2,
       "version_minor": 0
      },
      "text/plain": [
       "Epoch [18/150]; metric state\t:   0%|          | 0/382 [00:00<?, ?it/s]"
      ]
     },
     "metadata": {},
     "output_type": "display_data"
    },
    {
     "name": "stdout",
     "output_type": "stream",
     "text": [
      "Epoch [18/150], Loss: 0.1149, F1 score: 0.89352\n"
     ]
    },
    {
     "data": {
      "application/vnd.jupyter.widget-view+json": {
       "model_id": "964a87f0a87d4eefb68c7683df47bf4b",
       "version_major": 2,
       "version_minor": 0
      },
      "text/plain": [
       "Epoch [19/150]; learning state\t:   0%|          | 0/382 [00:00<?, ?it/s]"
      ]
     },
     "metadata": {},
     "output_type": "display_data"
    },
    {
     "data": {
      "application/vnd.jupyter.widget-view+json": {
       "model_id": "72053b6e5b6f4369972329deebdc809c",
       "version_major": 2,
       "version_minor": 0
      },
      "text/plain": [
       "Epoch [19/150]; metric state\t:   0%|          | 0/382 [00:00<?, ?it/s]"
      ]
     },
     "metadata": {},
     "output_type": "display_data"
    },
    {
     "name": "stdout",
     "output_type": "stream",
     "text": [
      "Epoch [19/150], Loss: 0.0922, F1 score: 0.91070\n"
     ]
    },
    {
     "data": {
      "application/vnd.jupyter.widget-view+json": {
       "model_id": "8b9105a08bd644ecad3a0a05ce6efbec",
       "version_major": 2,
       "version_minor": 0
      },
      "text/plain": [
       "Epoch [20/150]; learning state\t:   0%|          | 0/382 [00:00<?, ?it/s]"
      ]
     },
     "metadata": {},
     "output_type": "display_data"
    },
    {
     "data": {
      "application/vnd.jupyter.widget-view+json": {
       "model_id": "c684402b2ebd4d3ab064f779062b7b35",
       "version_major": 2,
       "version_minor": 0
      },
      "text/plain": [
       "Epoch [20/150]; metric state\t:   0%|          | 0/382 [00:00<?, ?it/s]"
      ]
     },
     "metadata": {},
     "output_type": "display_data"
    },
    {
     "name": "stdout",
     "output_type": "stream",
     "text": [
      "Epoch [20/150], Loss: 0.0863, F1 score: 0.91288\n"
     ]
    },
    {
     "data": {
      "application/vnd.jupyter.widget-view+json": {
       "model_id": "66dffb628100408c8229cc1ff57e3148",
       "version_major": 2,
       "version_minor": 0
      },
      "text/plain": [
       "Epoch [21/150]; learning state\t:   0%|          | 0/382 [00:00<?, ?it/s]"
      ]
     },
     "metadata": {},
     "output_type": "display_data"
    },
    {
     "data": {
      "application/vnd.jupyter.widget-view+json": {
       "model_id": "1cd50cc9740a4db99aa1260a70804148",
       "version_major": 2,
       "version_minor": 0
      },
      "text/plain": [
       "Epoch [21/150]; metric state\t:   0%|          | 0/382 [00:00<?, ?it/s]"
      ]
     },
     "metadata": {},
     "output_type": "display_data"
    },
    {
     "name": "stdout",
     "output_type": "stream",
     "text": [
      "Epoch [21/150], Loss: 0.1143, F1 score: 0.90244\n"
     ]
    },
    {
     "data": {
      "application/vnd.jupyter.widget-view+json": {
       "model_id": "150f64026a9c46a6a68e8e9a32d32688",
       "version_major": 2,
       "version_minor": 0
      },
      "text/plain": [
       "Epoch [22/150]; learning state\t:   0%|          | 0/382 [00:00<?, ?it/s]"
      ]
     },
     "metadata": {},
     "output_type": "display_data"
    },
    {
     "data": {
      "application/vnd.jupyter.widget-view+json": {
       "model_id": "4dedf5dc058d420d99852d9c78fdda7b",
       "version_major": 2,
       "version_minor": 0
      },
      "text/plain": [
       "Epoch [22/150]; metric state\t:   0%|          | 0/382 [00:00<?, ?it/s]"
      ]
     },
     "metadata": {},
     "output_type": "display_data"
    },
    {
     "name": "stdout",
     "output_type": "stream",
     "text": [
      "Epoch [22/150], Loss: 0.1652, F1 score: 0.92611\n"
     ]
    },
    {
     "data": {
      "application/vnd.jupyter.widget-view+json": {
       "model_id": "c94273a22abf4d4e8ecada98cdbcf29c",
       "version_major": 2,
       "version_minor": 0
      },
      "text/plain": [
       "Epoch [23/150]; learning state\t:   0%|          | 0/382 [00:00<?, ?it/s]"
      ]
     },
     "metadata": {},
     "output_type": "display_data"
    },
    {
     "data": {
      "application/vnd.jupyter.widget-view+json": {
       "model_id": "31ad6fc08d9f41aabbfb11f046032607",
       "version_major": 2,
       "version_minor": 0
      },
      "text/plain": [
       "Epoch [23/150]; metric state\t:   0%|          | 0/382 [00:00<?, ?it/s]"
      ]
     },
     "metadata": {},
     "output_type": "display_data"
    },
    {
     "name": "stdout",
     "output_type": "stream",
     "text": [
      "Epoch [23/150], Loss: 0.0827, F1 score: 0.92429\n"
     ]
    },
    {
     "data": {
      "application/vnd.jupyter.widget-view+json": {
       "model_id": "1db5d4eb347b4573a04c4ffa8ab5baa4",
       "version_major": 2,
       "version_minor": 0
      },
      "text/plain": [
       "Epoch [24/150]; learning state\t:   0%|          | 0/382 [00:00<?, ?it/s]"
      ]
     },
     "metadata": {},
     "output_type": "display_data"
    },
    {
     "data": {
      "application/vnd.jupyter.widget-view+json": {
       "model_id": "dfa6f9653b29428680a4c1dd43374962",
       "version_major": 2,
       "version_minor": 0
      },
      "text/plain": [
       "Epoch [24/150]; metric state\t:   0%|          | 0/382 [00:00<?, ?it/s]"
      ]
     },
     "metadata": {},
     "output_type": "display_data"
    },
    {
     "name": "stdout",
     "output_type": "stream",
     "text": [
      "Epoch [24/150], Loss: 0.1063, F1 score: 0.93498\n"
     ]
    },
    {
     "data": {
      "application/vnd.jupyter.widget-view+json": {
       "model_id": "9d759587e9c548b9a5dc9d3342049fe9",
       "version_major": 2,
       "version_minor": 0
      },
      "text/plain": [
       "Epoch [25/150]; learning state\t:   0%|          | 0/382 [00:00<?, ?it/s]"
      ]
     },
     "metadata": {},
     "output_type": "display_data"
    },
    {
     "data": {
      "application/vnd.jupyter.widget-view+json": {
       "model_id": "7cef79f00e5c4d74a81307cd571a5abe",
       "version_major": 2,
       "version_minor": 0
      },
      "text/plain": [
       "Epoch [25/150]; metric state\t:   0%|          | 0/382 [00:00<?, ?it/s]"
      ]
     },
     "metadata": {},
     "output_type": "display_data"
    },
    {
     "name": "stdout",
     "output_type": "stream",
     "text": [
      "Epoch [25/150], Loss: 0.0831, F1 score: 0.93572\n"
     ]
    },
    {
     "data": {
      "application/vnd.jupyter.widget-view+json": {
       "model_id": "7302030878f14daf95d39dae91dd26f3",
       "version_major": 2,
       "version_minor": 0
      },
      "text/plain": [
       "Epoch [26/150]; learning state\t:   0%|          | 0/382 [00:00<?, ?it/s]"
      ]
     },
     "metadata": {},
     "output_type": "display_data"
    },
    {
     "data": {
      "application/vnd.jupyter.widget-view+json": {
       "model_id": "e4a3c0730ff447158e08d8d4fc2cd5ed",
       "version_major": 2,
       "version_minor": 0
      },
      "text/plain": [
       "Epoch [26/150]; metric state\t:   0%|          | 0/382 [00:00<?, ?it/s]"
      ]
     },
     "metadata": {},
     "output_type": "display_data"
    },
    {
     "name": "stdout",
     "output_type": "stream",
     "text": [
      "Epoch [26/150], Loss: 0.1187, F1 score: 0.94537\n"
     ]
    },
    {
     "data": {
      "application/vnd.jupyter.widget-view+json": {
       "model_id": "cba27e1ffeb744ba9686d1d63fd81ada",
       "version_major": 2,
       "version_minor": 0
      },
      "text/plain": [
       "Epoch [27/150]; learning state\t:   0%|          | 0/382 [00:00<?, ?it/s]"
      ]
     },
     "metadata": {},
     "output_type": "display_data"
    },
    {
     "data": {
      "application/vnd.jupyter.widget-view+json": {
       "model_id": "ffc264bf7fb64141a0aea7ff0f0be855",
       "version_major": 2,
       "version_minor": 0
      },
      "text/plain": [
       "Epoch [27/150]; metric state\t:   0%|          | 0/382 [00:00<?, ?it/s]"
      ]
     },
     "metadata": {},
     "output_type": "display_data"
    },
    {
     "name": "stdout",
     "output_type": "stream",
     "text": [
      "Epoch [27/150], Loss: 0.1215, F1 score: 0.95008\n"
     ]
    },
    {
     "data": {
      "application/vnd.jupyter.widget-view+json": {
       "model_id": "22fd444f3bc94103a220669bff5492d1",
       "version_major": 2,
       "version_minor": 0
      },
      "text/plain": [
       "Epoch [28/150]; learning state\t:   0%|          | 0/382 [00:00<?, ?it/s]"
      ]
     },
     "metadata": {},
     "output_type": "display_data"
    },
    {
     "data": {
      "application/vnd.jupyter.widget-view+json": {
       "model_id": "861b605b99b0466198e6071db0af3188",
       "version_major": 2,
       "version_minor": 0
      },
      "text/plain": [
       "Epoch [28/150]; metric state\t:   0%|          | 0/382 [00:00<?, ?it/s]"
      ]
     },
     "metadata": {},
     "output_type": "display_data"
    },
    {
     "name": "stdout",
     "output_type": "stream",
     "text": [
      "Epoch [28/150], Loss: 0.0840, F1 score: 0.94691\n"
     ]
    },
    {
     "data": {
      "application/vnd.jupyter.widget-view+json": {
       "model_id": "fd10ff5c0a974b4b88b0018773fe1470",
       "version_major": 2,
       "version_minor": 0
      },
      "text/plain": [
       "Epoch [29/150]; learning state\t:   0%|          | 0/382 [00:00<?, ?it/s]"
      ]
     },
     "metadata": {},
     "output_type": "display_data"
    },
    {
     "data": {
      "application/vnd.jupyter.widget-view+json": {
       "model_id": "159d2cef11314a4ab1a6757ff55e85d2",
       "version_major": 2,
       "version_minor": 0
      },
      "text/plain": [
       "Epoch [29/150]; metric state\t:   0%|          | 0/382 [00:00<?, ?it/s]"
      ]
     },
     "metadata": {},
     "output_type": "display_data"
    },
    {
     "name": "stdout",
     "output_type": "stream",
     "text": [
      "Epoch [29/150], Loss: 0.0748, F1 score: 0.95743\n"
     ]
    },
    {
     "data": {
      "application/vnd.jupyter.widget-view+json": {
       "model_id": "0e19fdb290bb47daaa95b17639027c34",
       "version_major": 2,
       "version_minor": 0
      },
      "text/plain": [
       "Epoch [30/150]; learning state\t:   0%|          | 0/382 [00:00<?, ?it/s]"
      ]
     },
     "metadata": {},
     "output_type": "display_data"
    },
    {
     "data": {
      "application/vnd.jupyter.widget-view+json": {
       "model_id": "d554a9970ff84496b77dbce72d1d5bed",
       "version_major": 2,
       "version_minor": 0
      },
      "text/plain": [
       "Epoch [30/150]; metric state\t:   0%|          | 0/382 [00:00<?, ?it/s]"
      ]
     },
     "metadata": {},
     "output_type": "display_data"
    },
    {
     "name": "stdout",
     "output_type": "stream",
     "text": [
      "Epoch [30/150], Loss: 0.0702, F1 score: 0.95485\n"
     ]
    },
    {
     "data": {
      "application/vnd.jupyter.widget-view+json": {
       "model_id": "a6cf8873e5824b229d2f047998323061",
       "version_major": 2,
       "version_minor": 0
      },
      "text/plain": [
       "Epoch [31/150]; learning state\t:   0%|          | 0/382 [00:00<?, ?it/s]"
      ]
     },
     "metadata": {},
     "output_type": "display_data"
    },
    {
     "data": {
      "application/vnd.jupyter.widget-view+json": {
       "model_id": "9cf2d4e1cb764ec18fbde9b7ea548eeb",
       "version_major": 2,
       "version_minor": 0
      },
      "text/plain": [
       "Epoch [31/150]; metric state\t:   0%|          | 0/382 [00:00<?, ?it/s]"
      ]
     },
     "metadata": {},
     "output_type": "display_data"
    },
    {
     "name": "stdout",
     "output_type": "stream",
     "text": [
      "Epoch [31/150], Loss: 0.0880, F1 score: 0.96325\n"
     ]
    },
    {
     "data": {
      "application/vnd.jupyter.widget-view+json": {
       "model_id": "f6e9bd2c1bbb4363a18329b65b3a754f",
       "version_major": 2,
       "version_minor": 0
      },
      "text/plain": [
       "Epoch [32/150]; learning state\t:   0%|          | 0/382 [00:00<?, ?it/s]"
      ]
     },
     "metadata": {},
     "output_type": "display_data"
    },
    {
     "data": {
      "application/vnd.jupyter.widget-view+json": {
       "model_id": "5e360d3790a84e90ab8849cff303dddc",
       "version_major": 2,
       "version_minor": 0
      },
      "text/plain": [
       "Epoch [32/150]; metric state\t:   0%|          | 0/382 [00:00<?, ?it/s]"
      ]
     },
     "metadata": {},
     "output_type": "display_data"
    },
    {
     "name": "stdout",
     "output_type": "stream",
     "text": [
      "Epoch [32/150], Loss: 0.0688, F1 score: 0.96466\n"
     ]
    },
    {
     "data": {
      "application/vnd.jupyter.widget-view+json": {
       "model_id": "b32c4c72ab51471797998ca2ba2ae9dc",
       "version_major": 2,
       "version_minor": 0
      },
      "text/plain": [
       "Epoch [33/150]; learning state\t:   0%|          | 0/382 [00:00<?, ?it/s]"
      ]
     },
     "metadata": {},
     "output_type": "display_data"
    },
    {
     "data": {
      "application/vnd.jupyter.widget-view+json": {
       "model_id": "3b8b8f80dea340e7ac1e11b083169c7c",
       "version_major": 2,
       "version_minor": 0
      },
      "text/plain": [
       "Epoch [33/150]; metric state\t:   0%|          | 0/382 [00:00<?, ?it/s]"
      ]
     },
     "metadata": {},
     "output_type": "display_data"
    },
    {
     "name": "stdout",
     "output_type": "stream",
     "text": [
      "Epoch [33/150], Loss: 0.0964, F1 score: 0.96654\n"
     ]
    },
    {
     "data": {
      "application/vnd.jupyter.widget-view+json": {
       "model_id": "e800435a7a1b49dcbe409fef268fc611",
       "version_major": 2,
       "version_minor": 0
      },
      "text/plain": [
       "Epoch [34/150]; learning state\t:   0%|          | 0/382 [00:00<?, ?it/s]"
      ]
     },
     "metadata": {},
     "output_type": "display_data"
    },
    {
     "data": {
      "application/vnd.jupyter.widget-view+json": {
       "model_id": "c845ec9dc66e4b56aea68af107cfa371",
       "version_major": 2,
       "version_minor": 0
      },
      "text/plain": [
       "Epoch [34/150]; metric state\t:   0%|          | 0/382 [00:00<?, ?it/s]"
      ]
     },
     "metadata": {},
     "output_type": "display_data"
    },
    {
     "name": "stdout",
     "output_type": "stream",
     "text": [
      "Epoch [34/150], Loss: 0.1080, F1 score: 0.97053\n"
     ]
    },
    {
     "data": {
      "application/vnd.jupyter.widget-view+json": {
       "model_id": "a6cf26cf2c674b8ba03a3eb822c8fe00",
       "version_major": 2,
       "version_minor": 0
      },
      "text/plain": [
       "Epoch [35/150]; learning state\t:   0%|          | 0/382 [00:00<?, ?it/s]"
      ]
     },
     "metadata": {},
     "output_type": "display_data"
    },
    {
     "data": {
      "application/vnd.jupyter.widget-view+json": {
       "model_id": "239478cc423e4ebfb05a2834151febff",
       "version_major": 2,
       "version_minor": 0
      },
      "text/plain": [
       "Epoch [35/150]; metric state\t:   0%|          | 0/382 [00:00<?, ?it/s]"
      ]
     },
     "metadata": {},
     "output_type": "display_data"
    },
    {
     "name": "stdout",
     "output_type": "stream",
     "text": [
      "Epoch [35/150], Loss: 0.0672, F1 score: 0.97281\n"
     ]
    },
    {
     "data": {
      "application/vnd.jupyter.widget-view+json": {
       "model_id": "3b92200b3f2349c7b062a3cd64eee6e1",
       "version_major": 2,
       "version_minor": 0
      },
      "text/plain": [
       "Epoch [36/150]; learning state\t:   0%|          | 0/382 [00:00<?, ?it/s]"
      ]
     },
     "metadata": {},
     "output_type": "display_data"
    },
    {
     "data": {
      "application/vnd.jupyter.widget-view+json": {
       "model_id": "82b2bb3f9e55415aab9859f7f462cbf7",
       "version_major": 2,
       "version_minor": 0
      },
      "text/plain": [
       "Epoch [36/150]; metric state\t:   0%|          | 0/382 [00:00<?, ?it/s]"
      ]
     },
     "metadata": {},
     "output_type": "display_data"
    },
    {
     "name": "stdout",
     "output_type": "stream",
     "text": [
      "Epoch [36/150], Loss: 0.0886, F1 score: 0.97528\n"
     ]
    },
    {
     "data": {
      "application/vnd.jupyter.widget-view+json": {
       "model_id": "735d02e8f3c94c48baa1d24c906ad386",
       "version_major": 2,
       "version_minor": 0
      },
      "text/plain": [
       "Epoch [37/150]; learning state\t:   0%|          | 0/382 [00:00<?, ?it/s]"
      ]
     },
     "metadata": {},
     "output_type": "display_data"
    },
    {
     "data": {
      "application/vnd.jupyter.widget-view+json": {
       "model_id": "8c7c280821ee473d8cd531145c7b0903",
       "version_major": 2,
       "version_minor": 0
      },
      "text/plain": [
       "Epoch [37/150]; metric state\t:   0%|          | 0/382 [00:00<?, ?it/s]"
      ]
     },
     "metadata": {},
     "output_type": "display_data"
    },
    {
     "name": "stdout",
     "output_type": "stream",
     "text": [
      "Epoch [37/150], Loss: 0.0704, F1 score: 0.97006\n"
     ]
    },
    {
     "data": {
      "application/vnd.jupyter.widget-view+json": {
       "model_id": "de7ecacc0d084dc09fdebe760812974d",
       "version_major": 2,
       "version_minor": 0
      },
      "text/plain": [
       "Epoch [38/150]; learning state\t:   0%|          | 0/382 [00:00<?, ?it/s]"
      ]
     },
     "metadata": {},
     "output_type": "display_data"
    },
    {
     "data": {
      "application/vnd.jupyter.widget-view+json": {
       "model_id": "5f712376f72a4414b1bcf22c00b3c700",
       "version_major": 2,
       "version_minor": 0
      },
      "text/plain": [
       "Epoch [38/150]; metric state\t:   0%|          | 0/382 [00:00<?, ?it/s]"
      ]
     },
     "metadata": {},
     "output_type": "display_data"
    },
    {
     "name": "stdout",
     "output_type": "stream",
     "text": [
      "Epoch [38/150], Loss: 0.0537, F1 score: 0.96893\n"
     ]
    },
    {
     "data": {
      "application/vnd.jupyter.widget-view+json": {
       "model_id": "6fbc9547fc8d46b4b72cc3be3e90f13d",
       "version_major": 2,
       "version_minor": 0
      },
      "text/plain": [
       "Epoch [39/150]; learning state\t:   0%|          | 0/382 [00:00<?, ?it/s]"
      ]
     },
     "metadata": {},
     "output_type": "display_data"
    },
    {
     "data": {
      "application/vnd.jupyter.widget-view+json": {
       "model_id": "ce7a4585a5944917b37e09ce65c7280b",
       "version_major": 2,
       "version_minor": 0
      },
      "text/plain": [
       "Epoch [39/150]; metric state\t:   0%|          | 0/382 [00:00<?, ?it/s]"
      ]
     },
     "metadata": {},
     "output_type": "display_data"
    },
    {
     "name": "stdout",
     "output_type": "stream",
     "text": [
      "Epoch [39/150], Loss: 0.0416, F1 score: 0.97407\n"
     ]
    },
    {
     "data": {
      "application/vnd.jupyter.widget-view+json": {
       "model_id": "56b05952ec6948f29718f61a31b1f923",
       "version_major": 2,
       "version_minor": 0
      },
      "text/plain": [
       "Epoch [40/150]; learning state\t:   0%|          | 0/382 [00:00<?, ?it/s]"
      ]
     },
     "metadata": {},
     "output_type": "display_data"
    },
    {
     "data": {
      "application/vnd.jupyter.widget-view+json": {
       "model_id": "e1586f84b44042b1adea3861dbe218b7",
       "version_major": 2,
       "version_minor": 0
      },
      "text/plain": [
       "Epoch [40/150]; metric state\t:   0%|          | 0/382 [00:00<?, ?it/s]"
      ]
     },
     "metadata": {},
     "output_type": "display_data"
    },
    {
     "name": "stdout",
     "output_type": "stream",
     "text": [
      "Epoch [40/150], Loss: 0.0746, F1 score: 0.97978\n"
     ]
    },
    {
     "data": {
      "application/vnd.jupyter.widget-view+json": {
       "model_id": "e6efc02bc0ad41388716326da133b0b9",
       "version_major": 2,
       "version_minor": 0
      },
      "text/plain": [
       "Epoch [41/150]; learning state\t:   0%|          | 0/382 [00:00<?, ?it/s]"
      ]
     },
     "metadata": {},
     "output_type": "display_data"
    },
    {
     "data": {
      "application/vnd.jupyter.widget-view+json": {
       "model_id": "1509a526e2f44e0db5e6e43197cd57f4",
       "version_major": 2,
       "version_minor": 0
      },
      "text/plain": [
       "Epoch [41/150]; metric state\t:   0%|          | 0/382 [00:00<?, ?it/s]"
      ]
     },
     "metadata": {},
     "output_type": "display_data"
    },
    {
     "name": "stdout",
     "output_type": "stream",
     "text": [
      "Epoch [41/150], Loss: 0.0846, F1 score: 0.97568\n"
     ]
    },
    {
     "data": {
      "application/vnd.jupyter.widget-view+json": {
       "model_id": "667216d33f014184b244b900397c2b89",
       "version_major": 2,
       "version_minor": 0
      },
      "text/plain": [
       "Epoch [42/150]; learning state\t:   0%|          | 0/382 [00:00<?, ?it/s]"
      ]
     },
     "metadata": {},
     "output_type": "display_data"
    },
    {
     "data": {
      "application/vnd.jupyter.widget-view+json": {
       "model_id": "31a13dd8329e4b2eaffc558a40761fa8",
       "version_major": 2,
       "version_minor": 0
      },
      "text/plain": [
       "Epoch [42/150]; metric state\t:   0%|          | 0/382 [00:00<?, ?it/s]"
      ]
     },
     "metadata": {},
     "output_type": "display_data"
    },
    {
     "name": "stdout",
     "output_type": "stream",
     "text": [
      "Epoch [42/150], Loss: 0.0509, F1 score: 0.98304\n"
     ]
    },
    {
     "data": {
      "application/vnd.jupyter.widget-view+json": {
       "model_id": "60e3834e28654634ae7423d9d2f18b58",
       "version_major": 2,
       "version_minor": 0
      },
      "text/plain": [
       "Epoch [43/150]; learning state\t:   0%|          | 0/382 [00:00<?, ?it/s]"
      ]
     },
     "metadata": {},
     "output_type": "display_data"
    },
    {
     "data": {
      "application/vnd.jupyter.widget-view+json": {
       "model_id": "ccdf9ccef73e450abd47ddd4bbd93c00",
       "version_major": 2,
       "version_minor": 0
      },
      "text/plain": [
       "Epoch [43/150]; metric state\t:   0%|          | 0/382 [00:00<?, ?it/s]"
      ]
     },
     "metadata": {},
     "output_type": "display_data"
    },
    {
     "name": "stdout",
     "output_type": "stream",
     "text": [
      "Epoch [43/150], Loss: 0.0914, F1 score: 0.98212\n"
     ]
    },
    {
     "data": {
      "application/vnd.jupyter.widget-view+json": {
       "model_id": "16c2e2576ccc48bfb8257d489d3bbb3c",
       "version_major": 2,
       "version_minor": 0
      },
      "text/plain": [
       "Epoch [44/150]; learning state\t:   0%|          | 0/382 [00:00<?, ?it/s]"
      ]
     },
     "metadata": {},
     "output_type": "display_data"
    },
    {
     "data": {
      "application/vnd.jupyter.widget-view+json": {
       "model_id": "4669903a779a40ceb943393868740aa2",
       "version_major": 2,
       "version_minor": 0
      },
      "text/plain": [
       "Epoch [44/150]; metric state\t:   0%|          | 0/382 [00:00<?, ?it/s]"
      ]
     },
     "metadata": {},
     "output_type": "display_data"
    },
    {
     "name": "stdout",
     "output_type": "stream",
     "text": [
      "Epoch [44/150], Loss: 0.0395, F1 score: 0.97962\n"
     ]
    },
    {
     "data": {
      "application/vnd.jupyter.widget-view+json": {
       "model_id": "820b291c986d44bdb6c1ed2c2b1e2e3c",
       "version_major": 2,
       "version_minor": 0
      },
      "text/plain": [
       "Epoch [45/150]; learning state\t:   0%|          | 0/382 [00:00<?, ?it/s]"
      ]
     },
     "metadata": {},
     "output_type": "display_data"
    },
    {
     "data": {
      "application/vnd.jupyter.widget-view+json": {
       "model_id": "f537e044c7a54ae2aeaeb5d5df8c0b61",
       "version_major": 2,
       "version_minor": 0
      },
      "text/plain": [
       "Epoch [45/150]; metric state\t:   0%|          | 0/382 [00:00<?, ?it/s]"
      ]
     },
     "metadata": {},
     "output_type": "display_data"
    },
    {
     "name": "stdout",
     "output_type": "stream",
     "text": [
      "Epoch [45/150], Loss: 0.0436, F1 score: 0.98448\n"
     ]
    },
    {
     "data": {
      "application/vnd.jupyter.widget-view+json": {
       "model_id": "c926d96070054d5bb94ece26263faaba",
       "version_major": 2,
       "version_minor": 0
      },
      "text/plain": [
       "Epoch [46/150]; learning state\t:   0%|          | 0/382 [00:00<?, ?it/s]"
      ]
     },
     "metadata": {},
     "output_type": "display_data"
    },
    {
     "data": {
      "application/vnd.jupyter.widget-view+json": {
       "model_id": "d601e74adbd34fb99045733c8e6b5521",
       "version_major": 2,
       "version_minor": 0
      },
      "text/plain": [
       "Epoch [46/150]; metric state\t:   0%|          | 0/382 [00:00<?, ?it/s]"
      ]
     },
     "metadata": {},
     "output_type": "display_data"
    },
    {
     "name": "stdout",
     "output_type": "stream",
     "text": [
      "Epoch [46/150], Loss: 0.0241, F1 score: 0.98375\n"
     ]
    },
    {
     "data": {
      "application/vnd.jupyter.widget-view+json": {
       "model_id": "b57e34ef550547a8b48fd1bb0230780a",
       "version_major": 2,
       "version_minor": 0
      },
      "text/plain": [
       "Epoch [47/150]; learning state\t:   0%|          | 0/382 [00:00<?, ?it/s]"
      ]
     },
     "metadata": {},
     "output_type": "display_data"
    },
    {
     "data": {
      "application/vnd.jupyter.widget-view+json": {
       "model_id": "bf5ebc038c5e4b5f8bbe30f967bfbde7",
       "version_major": 2,
       "version_minor": 0
      },
      "text/plain": [
       "Epoch [47/150]; metric state\t:   0%|          | 0/382 [00:00<?, ?it/s]"
      ]
     },
     "metadata": {},
     "output_type": "display_data"
    },
    {
     "name": "stdout",
     "output_type": "stream",
     "text": [
      "Epoch [47/150], Loss: 0.0627, F1 score: 0.98276\n"
     ]
    },
    {
     "data": {
      "application/vnd.jupyter.widget-view+json": {
       "model_id": "d8193a25fdd8497e99ec00d089b860b9",
       "version_major": 2,
       "version_minor": 0
      },
      "text/plain": [
       "Epoch [48/150]; learning state\t:   0%|          | 0/382 [00:00<?, ?it/s]"
      ]
     },
     "metadata": {},
     "output_type": "display_data"
    },
    {
     "data": {
      "application/vnd.jupyter.widget-view+json": {
       "model_id": "cb0267d3b3f34f729457465eb9a8a3ff",
       "version_major": 2,
       "version_minor": 0
      },
      "text/plain": [
       "Epoch [48/150]; metric state\t:   0%|          | 0/382 [00:00<?, ?it/s]"
      ]
     },
     "metadata": {},
     "output_type": "display_data"
    },
    {
     "name": "stdout",
     "output_type": "stream",
     "text": [
      "Epoch [48/150], Loss: 0.0781, F1 score: 0.98755\n"
     ]
    },
    {
     "data": {
      "application/vnd.jupyter.widget-view+json": {
       "model_id": "1ac9ccc4b66044708c934cef79a835cc",
       "version_major": 2,
       "version_minor": 0
      },
      "text/plain": [
       "Epoch [49/150]; learning state\t:   0%|          | 0/382 [00:00<?, ?it/s]"
      ]
     },
     "metadata": {},
     "output_type": "display_data"
    },
    {
     "data": {
      "application/vnd.jupyter.widget-view+json": {
       "model_id": "3e16cb37344448a3a09e22c4bf1e219a",
       "version_major": 2,
       "version_minor": 0
      },
      "text/plain": [
       "Epoch [49/150]; metric state\t:   0%|          | 0/382 [00:00<?, ?it/s]"
      ]
     },
     "metadata": {},
     "output_type": "display_data"
    },
    {
     "name": "stdout",
     "output_type": "stream",
     "text": [
      "Epoch [49/150], Loss: 0.0442, F1 score: 0.98719\n"
     ]
    },
    {
     "data": {
      "application/vnd.jupyter.widget-view+json": {
       "model_id": "d2d2d4966b7242389ebe4aa6d6c0c482",
       "version_major": 2,
       "version_minor": 0
      },
      "text/plain": [
       "Epoch [50/150]; learning state\t:   0%|          | 0/382 [00:00<?, ?it/s]"
      ]
     },
     "metadata": {},
     "output_type": "display_data"
    },
    {
     "data": {
      "application/vnd.jupyter.widget-view+json": {
       "model_id": "33abc090cee74a57838529f62006c8a6",
       "version_major": 2,
       "version_minor": 0
      },
      "text/plain": [
       "Epoch [50/150]; metric state\t:   0%|          | 0/382 [00:00<?, ?it/s]"
      ]
     },
     "metadata": {},
     "output_type": "display_data"
    },
    {
     "name": "stdout",
     "output_type": "stream",
     "text": [
      "Epoch [50/150], Loss: 0.0403, F1 score: 0.98619\n"
     ]
    },
    {
     "data": {
      "application/vnd.jupyter.widget-view+json": {
       "model_id": "2dcb6b140a2944d399f456cda7d164df",
       "version_major": 2,
       "version_minor": 0
      },
      "text/plain": [
       "Epoch [51/150]; learning state\t:   0%|          | 0/382 [00:00<?, ?it/s]"
      ]
     },
     "metadata": {},
     "output_type": "display_data"
    },
    {
     "data": {
      "application/vnd.jupyter.widget-view+json": {
       "model_id": "c5ee5eae73a8431aba74080e4c88b1c4",
       "version_major": 2,
       "version_minor": 0
      },
      "text/plain": [
       "Epoch [51/150]; metric state\t:   0%|          | 0/382 [00:00<?, ?it/s]"
      ]
     },
     "metadata": {},
     "output_type": "display_data"
    },
    {
     "name": "stdout",
     "output_type": "stream",
     "text": [
      "Epoch [51/150], Loss: 0.0333, F1 score: 0.98133\n"
     ]
    },
    {
     "data": {
      "application/vnd.jupyter.widget-view+json": {
       "model_id": "edd7d2a1d92b4b67a335549396c5afec",
       "version_major": 2,
       "version_minor": 0
      },
      "text/plain": [
       "Epoch [52/150]; learning state\t:   0%|          | 0/382 [00:00<?, ?it/s]"
      ]
     },
     "metadata": {},
     "output_type": "display_data"
    },
    {
     "data": {
      "application/vnd.jupyter.widget-view+json": {
       "model_id": "ed95684b01864dfab1deef246336e5c7",
       "version_major": 2,
       "version_minor": 0
      },
      "text/plain": [
       "Epoch [52/150]; metric state\t:   0%|          | 0/382 [00:00<?, ?it/s]"
      ]
     },
     "metadata": {},
     "output_type": "display_data"
    },
    {
     "name": "stdout",
     "output_type": "stream",
     "text": [
      "Epoch [52/150], Loss: 0.0200, F1 score: 0.98878\n"
     ]
    },
    {
     "data": {
      "application/vnd.jupyter.widget-view+json": {
       "model_id": "cbeee3548bfb4dc1a4f6501deb4ee016",
       "version_major": 2,
       "version_minor": 0
      },
      "text/plain": [
       "Epoch [53/150]; learning state\t:   0%|          | 0/382 [00:00<?, ?it/s]"
      ]
     },
     "metadata": {},
     "output_type": "display_data"
    },
    {
     "data": {
      "application/vnd.jupyter.widget-view+json": {
       "model_id": "60cffe94f2f64d908d31409b2a982c1e",
       "version_major": 2,
       "version_minor": 0
      },
      "text/plain": [
       "Epoch [53/150]; metric state\t:   0%|          | 0/382 [00:00<?, ?it/s]"
      ]
     },
     "metadata": {},
     "output_type": "display_data"
    },
    {
     "name": "stdout",
     "output_type": "stream",
     "text": [
      "Epoch [53/150], Loss: 0.0487, F1 score: 0.98926\n"
     ]
    },
    {
     "data": {
      "application/vnd.jupyter.widget-view+json": {
       "model_id": "55ae52d75a8748cf8fb6aa80a73da61a",
       "version_major": 2,
       "version_minor": 0
      },
      "text/plain": [
       "Epoch [54/150]; learning state\t:   0%|          | 0/382 [00:00<?, ?it/s]"
      ]
     },
     "metadata": {},
     "output_type": "display_data"
    },
    {
     "data": {
      "application/vnd.jupyter.widget-view+json": {
       "model_id": "ce30875b092e460fb4180bbd951363fc",
       "version_major": 2,
       "version_minor": 0
      },
      "text/plain": [
       "Epoch [54/150]; metric state\t:   0%|          | 0/382 [00:00<?, ?it/s]"
      ]
     },
     "metadata": {},
     "output_type": "display_data"
    },
    {
     "name": "stdout",
     "output_type": "stream",
     "text": [
      "Epoch [54/150], Loss: 0.0347, F1 score: 0.98809\n"
     ]
    },
    {
     "data": {
      "application/vnd.jupyter.widget-view+json": {
       "model_id": "b45f5d72cf714bf1b2c7484361a3b970",
       "version_major": 2,
       "version_minor": 0
      },
      "text/plain": [
       "Epoch [55/150]; learning state\t:   0%|          | 0/382 [00:00<?, ?it/s]"
      ]
     },
     "metadata": {},
     "output_type": "display_data"
    },
    {
     "data": {
      "application/vnd.jupyter.widget-view+json": {
       "model_id": "b80b97f5a9914bc9afc21e8ad86183ae",
       "version_major": 2,
       "version_minor": 0
      },
      "text/plain": [
       "Epoch [55/150]; metric state\t:   0%|          | 0/382 [00:00<?, ?it/s]"
      ]
     },
     "metadata": {},
     "output_type": "display_data"
    },
    {
     "name": "stdout",
     "output_type": "stream",
     "text": [
      "Epoch [55/150], Loss: 0.0404, F1 score: 0.98950\n"
     ]
    },
    {
     "data": {
      "application/vnd.jupyter.widget-view+json": {
       "model_id": "4cc69d234fc94a6b85f005133f7606e1",
       "version_major": 2,
       "version_minor": 0
      },
      "text/plain": [
       "Epoch [56/150]; learning state\t:   0%|          | 0/382 [00:00<?, ?it/s]"
      ]
     },
     "metadata": {},
     "output_type": "display_data"
    },
    {
     "data": {
      "application/vnd.jupyter.widget-view+json": {
       "model_id": "692b3eab1d694d1abe424a47d055689c",
       "version_major": 2,
       "version_minor": 0
      },
      "text/plain": [
       "Epoch [56/150]; metric state\t:   0%|          | 0/382 [00:00<?, ?it/s]"
      ]
     },
     "metadata": {},
     "output_type": "display_data"
    },
    {
     "name": "stdout",
     "output_type": "stream",
     "text": [
      "Epoch [56/150], Loss: 0.0510, F1 score: 0.98949\n"
     ]
    },
    {
     "data": {
      "application/vnd.jupyter.widget-view+json": {
       "model_id": "4c4e3edb5e4e41c0a2307042e4fc0835",
       "version_major": 2,
       "version_minor": 0
      },
      "text/plain": [
       "Epoch [57/150]; learning state\t:   0%|          | 0/382 [00:00<?, ?it/s]"
      ]
     },
     "metadata": {},
     "output_type": "display_data"
    },
    {
     "data": {
      "application/vnd.jupyter.widget-view+json": {
       "model_id": "5600966bd2de4dc2969f96f44c6b6a08",
       "version_major": 2,
       "version_minor": 0
      },
      "text/plain": [
       "Epoch [57/150]; metric state\t:   0%|          | 0/382 [00:00<?, ?it/s]"
      ]
     },
     "metadata": {},
     "output_type": "display_data"
    },
    {
     "name": "stdout",
     "output_type": "stream",
     "text": [
      "Epoch [57/150], Loss: 0.0359, F1 score: 0.98986\n"
     ]
    },
    {
     "data": {
      "application/vnd.jupyter.widget-view+json": {
       "model_id": "96c78aafac724e81bdd46291789b87a3",
       "version_major": 2,
       "version_minor": 0
      },
      "text/plain": [
       "Epoch [58/150]; learning state\t:   0%|          | 0/382 [00:00<?, ?it/s]"
      ]
     },
     "metadata": {},
     "output_type": "display_data"
    },
    {
     "data": {
      "application/vnd.jupyter.widget-view+json": {
       "model_id": "4fe73997491d4a31acce7abe476f2056",
       "version_major": 2,
       "version_minor": 0
      },
      "text/plain": [
       "Epoch [58/150]; metric state\t:   0%|          | 0/382 [00:00<?, ?it/s]"
      ]
     },
     "metadata": {},
     "output_type": "display_data"
    },
    {
     "name": "stdout",
     "output_type": "stream",
     "text": [
      "Epoch [58/150], Loss: 0.0520, F1 score: 0.99136\n"
     ]
    },
    {
     "data": {
      "application/vnd.jupyter.widget-view+json": {
       "model_id": "97574ce8e2b8466586869059cf59a997",
       "version_major": 2,
       "version_minor": 0
      },
      "text/plain": [
       "Epoch [59/150]; learning state\t:   0%|          | 0/382 [00:00<?, ?it/s]"
      ]
     },
     "metadata": {},
     "output_type": "display_data"
    },
    {
     "data": {
      "application/vnd.jupyter.widget-view+json": {
       "model_id": "79289798d16c47c59962dbb503016ff2",
       "version_major": 2,
       "version_minor": 0
      },
      "text/plain": [
       "Epoch [59/150]; metric state\t:   0%|          | 0/382 [00:00<?, ?it/s]"
      ]
     },
     "metadata": {},
     "output_type": "display_data"
    },
    {
     "name": "stdout",
     "output_type": "stream",
     "text": [
      "Epoch [59/150], Loss: 0.0260, F1 score: 0.98918\n"
     ]
    },
    {
     "data": {
      "application/vnd.jupyter.widget-view+json": {
       "model_id": "3df9f851b012471c99dfa60335ddb6cf",
       "version_major": 2,
       "version_minor": 0
      },
      "text/plain": [
       "Epoch [60/150]; learning state\t:   0%|          | 0/382 [00:00<?, ?it/s]"
      ]
     },
     "metadata": {},
     "output_type": "display_data"
    },
    {
     "data": {
      "application/vnd.jupyter.widget-view+json": {
       "model_id": "b6df4b10dd7443d888ad438bd39b9dbd",
       "version_major": 2,
       "version_minor": 0
      },
      "text/plain": [
       "Epoch [60/150]; metric state\t:   0%|          | 0/382 [00:00<?, ?it/s]"
      ]
     },
     "metadata": {},
     "output_type": "display_data"
    },
    {
     "name": "stdout",
     "output_type": "stream",
     "text": [
      "Epoch [60/150], Loss: 0.0323, F1 score: 0.99274\n"
     ]
    },
    {
     "data": {
      "application/vnd.jupyter.widget-view+json": {
       "model_id": "faa658fd8bc044c68f5602211ffc8167",
       "version_major": 2,
       "version_minor": 0
      },
      "text/plain": [
       "Epoch [61/150]; learning state\t:   0%|          | 0/382 [00:00<?, ?it/s]"
      ]
     },
     "metadata": {},
     "output_type": "display_data"
    },
    {
     "data": {
      "application/vnd.jupyter.widget-view+json": {
       "model_id": "272a037c63284949b389845b3a2c17d8",
       "version_major": 2,
       "version_minor": 0
      },
      "text/plain": [
       "Epoch [61/150]; metric state\t:   0%|          | 0/382 [00:00<?, ?it/s]"
      ]
     },
     "metadata": {},
     "output_type": "display_data"
    },
    {
     "name": "stdout",
     "output_type": "stream",
     "text": [
      "Epoch [61/150], Loss: 0.0160, F1 score: 0.99259\n"
     ]
    },
    {
     "data": {
      "application/vnd.jupyter.widget-view+json": {
       "model_id": "3ee2a31142a84a0c90df7f84b69b0af8",
       "version_major": 2,
       "version_minor": 0
      },
      "text/plain": [
       "Epoch [62/150]; learning state\t:   0%|          | 0/382 [00:00<?, ?it/s]"
      ]
     },
     "metadata": {},
     "output_type": "display_data"
    },
    {
     "data": {
      "application/vnd.jupyter.widget-view+json": {
       "model_id": "7622ed75f2ef40ef965e48cf4fa9f737",
       "version_major": 2,
       "version_minor": 0
      },
      "text/plain": [
       "Epoch [62/150]; metric state\t:   0%|          | 0/382 [00:00<?, ?it/s]"
      ]
     },
     "metadata": {},
     "output_type": "display_data"
    },
    {
     "name": "stdout",
     "output_type": "stream",
     "text": [
      "Epoch [62/150], Loss: 0.0244, F1 score: 0.98913\n"
     ]
    },
    {
     "data": {
      "application/vnd.jupyter.widget-view+json": {
       "model_id": "15723db465404dd8aae6113c27e201aa",
       "version_major": 2,
       "version_minor": 0
      },
      "text/plain": [
       "Epoch [63/150]; learning state\t:   0%|          | 0/382 [00:00<?, ?it/s]"
      ]
     },
     "metadata": {},
     "output_type": "display_data"
    },
    {
     "data": {
      "application/vnd.jupyter.widget-view+json": {
       "model_id": "a4e96e8a3ff645cfb5631fcdf43ff14a",
       "version_major": 2,
       "version_minor": 0
      },
      "text/plain": [
       "Epoch [63/150]; metric state\t:   0%|          | 0/382 [00:00<?, ?it/s]"
      ]
     },
     "metadata": {},
     "output_type": "display_data"
    },
    {
     "name": "stdout",
     "output_type": "stream",
     "text": [
      "Epoch [63/150], Loss: 0.0538, F1 score: 0.99291\n"
     ]
    },
    {
     "data": {
      "application/vnd.jupyter.widget-view+json": {
       "model_id": "11ff71e02a154e1a8a1947851bb5257a",
       "version_major": 2,
       "version_minor": 0
      },
      "text/plain": [
       "Epoch [64/150]; learning state\t:   0%|          | 0/382 [00:00<?, ?it/s]"
      ]
     },
     "metadata": {},
     "output_type": "display_data"
    },
    {
     "data": {
      "application/vnd.jupyter.widget-view+json": {
       "model_id": "a67933ebbc6040878dd29d0f58627cdb",
       "version_major": 2,
       "version_minor": 0
      },
      "text/plain": [
       "Epoch [64/150]; metric state\t:   0%|          | 0/382 [00:00<?, ?it/s]"
      ]
     },
     "metadata": {},
     "output_type": "display_data"
    },
    {
     "name": "stdout",
     "output_type": "stream",
     "text": [
      "Epoch [64/150], Loss: 0.0599, F1 score: 0.99392\n"
     ]
    },
    {
     "data": {
      "application/vnd.jupyter.widget-view+json": {
       "model_id": "b419f998885a4129a5f995478f1ecfd5",
       "version_major": 2,
       "version_minor": 0
      },
      "text/plain": [
       "Epoch [65/150]; learning state\t:   0%|          | 0/382 [00:00<?, ?it/s]"
      ]
     },
     "metadata": {},
     "output_type": "display_data"
    },
    {
     "data": {
      "application/vnd.jupyter.widget-view+json": {
       "model_id": "1847c401f3cb4b568098b29101a83264",
       "version_major": 2,
       "version_minor": 0
      },
      "text/plain": [
       "Epoch [65/150]; metric state\t:   0%|          | 0/382 [00:00<?, ?it/s]"
      ]
     },
     "metadata": {},
     "output_type": "display_data"
    },
    {
     "name": "stdout",
     "output_type": "stream",
     "text": [
      "Epoch [65/150], Loss: 0.0594, F1 score: 0.99375\n"
     ]
    },
    {
     "data": {
      "application/vnd.jupyter.widget-view+json": {
       "model_id": "8b23133ac60a4fbf9642e5bd7e4ba64c",
       "version_major": 2,
       "version_minor": 0
      },
      "text/plain": [
       "Epoch [66/150]; learning state\t:   0%|          | 0/382 [00:00<?, ?it/s]"
      ]
     },
     "metadata": {},
     "output_type": "display_data"
    },
    {
     "data": {
      "application/vnd.jupyter.widget-view+json": {
       "model_id": "6e58d5656b89403596b14ae3178c8749",
       "version_major": 2,
       "version_minor": 0
      },
      "text/plain": [
       "Epoch [66/150]; metric state\t:   0%|          | 0/382 [00:00<?, ?it/s]"
      ]
     },
     "metadata": {},
     "output_type": "display_data"
    },
    {
     "name": "stdout",
     "output_type": "stream",
     "text": [
      "Epoch [66/150], Loss: 0.0323, F1 score: 0.99381\n"
     ]
    },
    {
     "data": {
      "application/vnd.jupyter.widget-view+json": {
       "model_id": "83214ace8ec7453f9466fe867de9f1de",
       "version_major": 2,
       "version_minor": 0
      },
      "text/plain": [
       "Epoch [67/150]; learning state\t:   0%|          | 0/382 [00:00<?, ?it/s]"
      ]
     },
     "metadata": {},
     "output_type": "display_data"
    },
    {
     "data": {
      "application/vnd.jupyter.widget-view+json": {
       "model_id": "1557396007e14675b3350dac740c35a5",
       "version_major": 2,
       "version_minor": 0
      },
      "text/plain": [
       "Epoch [67/150]; metric state\t:   0%|          | 0/382 [00:00<?, ?it/s]"
      ]
     },
     "metadata": {},
     "output_type": "display_data"
    },
    {
     "name": "stdout",
     "output_type": "stream",
     "text": [
      "Epoch [67/150], Loss: 0.0509, F1 score: 0.99373\n"
     ]
    },
    {
     "data": {
      "application/vnd.jupyter.widget-view+json": {
       "model_id": "6bc35276af754ca39cffd3e3ef81ce95",
       "version_major": 2,
       "version_minor": 0
      },
      "text/plain": [
       "Epoch [68/150]; learning state\t:   0%|          | 0/382 [00:00<?, ?it/s]"
      ]
     },
     "metadata": {},
     "output_type": "display_data"
    },
    {
     "data": {
      "application/vnd.jupyter.widget-view+json": {
       "model_id": "ae57d8868b7b48bba762f939f06ad168",
       "version_major": 2,
       "version_minor": 0
      },
      "text/plain": [
       "Epoch [68/150]; metric state\t:   0%|          | 0/382 [00:00<?, ?it/s]"
      ]
     },
     "metadata": {},
     "output_type": "display_data"
    },
    {
     "name": "stdout",
     "output_type": "stream",
     "text": [
      "Epoch [68/150], Loss: 0.0384, F1 score: 0.99287\n"
     ]
    },
    {
     "data": {
      "application/vnd.jupyter.widget-view+json": {
       "model_id": "2b027f5c6e1740d5b0c89b13019fd84f",
       "version_major": 2,
       "version_minor": 0
      },
      "text/plain": [
       "Epoch [69/150]; learning state\t:   0%|          | 0/382 [00:00<?, ?it/s]"
      ]
     },
     "metadata": {},
     "output_type": "display_data"
    },
    {
     "data": {
      "application/vnd.jupyter.widget-view+json": {
       "model_id": "37d7689ea51f437ea1a174d1dbca37f9",
       "version_major": 2,
       "version_minor": 0
      },
      "text/plain": [
       "Epoch [69/150]; metric state\t:   0%|          | 0/382 [00:00<?, ?it/s]"
      ]
     },
     "metadata": {},
     "output_type": "display_data"
    },
    {
     "name": "stdout",
     "output_type": "stream",
     "text": [
      "Epoch [69/150], Loss: 0.0514, F1 score: 0.99368\n"
     ]
    },
    {
     "data": {
      "application/vnd.jupyter.widget-view+json": {
       "model_id": "a29f952c6bcf4d038aa5a34b4de91212",
       "version_major": 2,
       "version_minor": 0
      },
      "text/plain": [
       "Epoch [70/150]; learning state\t:   0%|          | 0/382 [00:00<?, ?it/s]"
      ]
     },
     "metadata": {},
     "output_type": "display_data"
    },
    {
     "data": {
      "application/vnd.jupyter.widget-view+json": {
       "model_id": "942e709faad243ef8545a434b5a76fd5",
       "version_major": 2,
       "version_minor": 0
      },
      "text/plain": [
       "Epoch [70/150]; metric state\t:   0%|          | 0/382 [00:00<?, ?it/s]"
      ]
     },
     "metadata": {},
     "output_type": "display_data"
    },
    {
     "name": "stdout",
     "output_type": "stream",
     "text": [
      "Epoch [70/150], Loss: 0.0336, F1 score: 0.99472\n"
     ]
    },
    {
     "data": {
      "application/vnd.jupyter.widget-view+json": {
       "model_id": "96676d6c9d2d4cc09c6f2ed834c36b81",
       "version_major": 2,
       "version_minor": 0
      },
      "text/plain": [
       "Epoch [71/150]; learning state\t:   0%|          | 0/382 [00:00<?, ?it/s]"
      ]
     },
     "metadata": {},
     "output_type": "display_data"
    },
    {
     "data": {
      "application/vnd.jupyter.widget-view+json": {
       "model_id": "59791196265549a7b50fb24444f4078e",
       "version_major": 2,
       "version_minor": 0
      },
      "text/plain": [
       "Epoch [71/150]; metric state\t:   0%|          | 0/382 [00:00<?, ?it/s]"
      ]
     },
     "metadata": {},
     "output_type": "display_data"
    },
    {
     "name": "stdout",
     "output_type": "stream",
     "text": [
      "Epoch [71/150], Loss: 0.0364, F1 score: 0.98929\n"
     ]
    },
    {
     "data": {
      "application/vnd.jupyter.widget-view+json": {
       "model_id": "688baeacd8d14a10bd05acfd087b499d",
       "version_major": 2,
       "version_minor": 0
      },
      "text/plain": [
       "Epoch [72/150]; learning state\t:   0%|          | 0/382 [00:00<?, ?it/s]"
      ]
     },
     "metadata": {},
     "output_type": "display_data"
    },
    {
     "data": {
      "application/vnd.jupyter.widget-view+json": {
       "model_id": "63eec286a46f4576ba75a6bbe9e54a91",
       "version_major": 2,
       "version_minor": 0
      },
      "text/plain": [
       "Epoch [72/150]; metric state\t:   0%|          | 0/382 [00:00<?, ?it/s]"
      ]
     },
     "metadata": {},
     "output_type": "display_data"
    },
    {
     "name": "stdout",
     "output_type": "stream",
     "text": [
      "Epoch [72/150], Loss: 0.0476, F1 score: 0.99444\n"
     ]
    },
    {
     "data": {
      "application/vnd.jupyter.widget-view+json": {
       "model_id": "a8bd3d5d56514ac187f97dbac0412e59",
       "version_major": 2,
       "version_minor": 0
      },
      "text/plain": [
       "Epoch [73/150]; learning state\t:   0%|          | 0/382 [00:00<?, ?it/s]"
      ]
     },
     "metadata": {},
     "output_type": "display_data"
    },
    {
     "data": {
      "application/vnd.jupyter.widget-view+json": {
       "model_id": "9d716f7d1e8546e9a807528b39028db7",
       "version_major": 2,
       "version_minor": 0
      },
      "text/plain": [
       "Epoch [73/150]; metric state\t:   0%|          | 0/382 [00:00<?, ?it/s]"
      ]
     },
     "metadata": {},
     "output_type": "display_data"
    },
    {
     "name": "stdout",
     "output_type": "stream",
     "text": [
      "Epoch [73/150], Loss: 0.0243, F1 score: 0.99487\n"
     ]
    },
    {
     "data": {
      "application/vnd.jupyter.widget-view+json": {
       "model_id": "3decf93f2d5244c18873c66b103e5136",
       "version_major": 2,
       "version_minor": 0
      },
      "text/plain": [
       "Epoch [74/150]; learning state\t:   0%|          | 0/382 [00:00<?, ?it/s]"
      ]
     },
     "metadata": {},
     "output_type": "display_data"
    },
    {
     "data": {
      "application/vnd.jupyter.widget-view+json": {
       "model_id": "50eac64ce3e44b0d854070670b5f65fc",
       "version_major": 2,
       "version_minor": 0
      },
      "text/plain": [
       "Epoch [74/150]; metric state\t:   0%|          | 0/382 [00:00<?, ?it/s]"
      ]
     },
     "metadata": {},
     "output_type": "display_data"
    },
    {
     "name": "stdout",
     "output_type": "stream",
     "text": [
      "Epoch [74/150], Loss: 0.0546, F1 score: 0.99546\n"
     ]
    },
    {
     "data": {
      "application/vnd.jupyter.widget-view+json": {
       "model_id": "5c71105d1b4b4c16a5424416a01f20df",
       "version_major": 2,
       "version_minor": 0
      },
      "text/plain": [
       "Epoch [75/150]; learning state\t:   0%|          | 0/382 [00:00<?, ?it/s]"
      ]
     },
     "metadata": {},
     "output_type": "display_data"
    },
    {
     "data": {
      "application/vnd.jupyter.widget-view+json": {
       "model_id": "1101a453ece04f7e961162a1f90d86f1",
       "version_major": 2,
       "version_minor": 0
      },
      "text/plain": [
       "Epoch [75/150]; metric state\t:   0%|          | 0/382 [00:00<?, ?it/s]"
      ]
     },
     "metadata": {},
     "output_type": "display_data"
    },
    {
     "name": "stdout",
     "output_type": "stream",
     "text": [
      "Epoch [75/150], Loss: 0.0142, F1 score: 0.99354\n"
     ]
    },
    {
     "data": {
      "application/vnd.jupyter.widget-view+json": {
       "model_id": "3170a4be275b48bf900acc321f6a5bf5",
       "version_major": 2,
       "version_minor": 0
      },
      "text/plain": [
       "Epoch [76/150]; learning state\t:   0%|          | 0/382 [00:00<?, ?it/s]"
      ]
     },
     "metadata": {},
     "output_type": "display_data"
    },
    {
     "data": {
      "application/vnd.jupyter.widget-view+json": {
       "model_id": "386ae4d8511745e4b37d8a33796e2cb4",
       "version_major": 2,
       "version_minor": 0
      },
      "text/plain": [
       "Epoch [76/150]; metric state\t:   0%|          | 0/382 [00:00<?, ?it/s]"
      ]
     },
     "metadata": {},
     "output_type": "display_data"
    },
    {
     "name": "stdout",
     "output_type": "stream",
     "text": [
      "Epoch [76/150], Loss: 0.0356, F1 score: 0.99479\n"
     ]
    },
    {
     "data": {
      "application/vnd.jupyter.widget-view+json": {
       "model_id": "23951d42111e4992a8bc32edd10a062d",
       "version_major": 2,
       "version_minor": 0
      },
      "text/plain": [
       "Epoch [77/150]; learning state\t:   0%|          | 0/382 [00:00<?, ?it/s]"
      ]
     },
     "metadata": {},
     "output_type": "display_data"
    },
    {
     "data": {
      "application/vnd.jupyter.widget-view+json": {
       "model_id": "99eb5d29107b469089aa37f6476cfd68",
       "version_major": 2,
       "version_minor": 0
      },
      "text/plain": [
       "Epoch [77/150]; metric state\t:   0%|          | 0/382 [00:00<?, ?it/s]"
      ]
     },
     "metadata": {},
     "output_type": "display_data"
    },
    {
     "name": "stdout",
     "output_type": "stream",
     "text": [
      "Epoch [77/150], Loss: 0.0193, F1 score: 0.99269\n"
     ]
    },
    {
     "data": {
      "application/vnd.jupyter.widget-view+json": {
       "model_id": "4a12daf012d843e1adbd4bec5589de8e",
       "version_major": 2,
       "version_minor": 0
      },
      "text/plain": [
       "Epoch [78/150]; learning state\t:   0%|          | 0/382 [00:00<?, ?it/s]"
      ]
     },
     "metadata": {},
     "output_type": "display_data"
    },
    {
     "data": {
      "application/vnd.jupyter.widget-view+json": {
       "model_id": "6196b5d328234cb597ed4fc54d70073c",
       "version_major": 2,
       "version_minor": 0
      },
      "text/plain": [
       "Epoch [78/150]; metric state\t:   0%|          | 0/382 [00:00<?, ?it/s]"
      ]
     },
     "metadata": {},
     "output_type": "display_data"
    },
    {
     "name": "stdout",
     "output_type": "stream",
     "text": [
      "Epoch [78/150], Loss: 0.0263, F1 score: 0.99442\n"
     ]
    },
    {
     "data": {
      "application/vnd.jupyter.widget-view+json": {
       "model_id": "e149833739564d52a0c20509950769a0",
       "version_major": 2,
       "version_minor": 0
      },
      "text/plain": [
       "Epoch [79/150]; learning state\t:   0%|          | 0/382 [00:00<?, ?it/s]"
      ]
     },
     "metadata": {},
     "output_type": "display_data"
    },
    {
     "data": {
      "application/vnd.jupyter.widget-view+json": {
       "model_id": "a3cde53a2bd349dbb7682192556ff0f2",
       "version_major": 2,
       "version_minor": 0
      },
      "text/plain": [
       "Epoch [79/150]; metric state\t:   0%|          | 0/382 [00:00<?, ?it/s]"
      ]
     },
     "metadata": {},
     "output_type": "display_data"
    },
    {
     "name": "stdout",
     "output_type": "stream",
     "text": [
      "Epoch [79/150], Loss: 0.0244, F1 score: 0.99408\n"
     ]
    },
    {
     "data": {
      "application/vnd.jupyter.widget-view+json": {
       "model_id": "6588b9e42adb499d8a9d9bd53e21f12b",
       "version_major": 2,
       "version_minor": 0
      },
      "text/plain": [
       "Epoch [80/150]; learning state\t:   0%|          | 0/382 [00:00<?, ?it/s]"
      ]
     },
     "metadata": {},
     "output_type": "display_data"
    },
    {
     "data": {
      "application/vnd.jupyter.widget-view+json": {
       "model_id": "b621d24e50b34b13a1f8ab7c844217fa",
       "version_major": 2,
       "version_minor": 0
      },
      "text/plain": [
       "Epoch [80/150]; metric state\t:   0%|          | 0/382 [00:00<?, ?it/s]"
      ]
     },
     "metadata": {},
     "output_type": "display_data"
    },
    {
     "name": "stdout",
     "output_type": "stream",
     "text": [
      "Epoch [80/150], Loss: 0.0546, F1 score: 0.99455\n"
     ]
    },
    {
     "data": {
      "application/vnd.jupyter.widget-view+json": {
       "model_id": "f05de986dd20455fbff132433a9df1a1",
       "version_major": 2,
       "version_minor": 0
      },
      "text/plain": [
       "Epoch [81/150]; learning state\t:   0%|          | 0/382 [00:00<?, ?it/s]"
      ]
     },
     "metadata": {},
     "output_type": "display_data"
    },
    {
     "data": {
      "application/vnd.jupyter.widget-view+json": {
       "model_id": "9521135119ad413fab616e32b2c2cdbc",
       "version_major": 2,
       "version_minor": 0
      },
      "text/plain": [
       "Epoch [81/150]; metric state\t:   0%|          | 0/382 [00:00<?, ?it/s]"
      ]
     },
     "metadata": {},
     "output_type": "display_data"
    },
    {
     "name": "stdout",
     "output_type": "stream",
     "text": [
      "Epoch [81/150], Loss: 0.0240, F1 score: 0.99577\n"
     ]
    },
    {
     "data": {
      "application/vnd.jupyter.widget-view+json": {
       "model_id": "7df2117e06904a11b277fd5dda057f71",
       "version_major": 2,
       "version_minor": 0
      },
      "text/plain": [
       "Epoch [82/150]; learning state\t:   0%|          | 0/382 [00:00<?, ?it/s]"
      ]
     },
     "metadata": {},
     "output_type": "display_data"
    },
    {
     "data": {
      "application/vnd.jupyter.widget-view+json": {
       "model_id": "919093259a364e4ebced048d156eb2ed",
       "version_major": 2,
       "version_minor": 0
      },
      "text/plain": [
       "Epoch [82/150]; metric state\t:   0%|          | 0/382 [00:00<?, ?it/s]"
      ]
     },
     "metadata": {},
     "output_type": "display_data"
    },
    {
     "name": "stdout",
     "output_type": "stream",
     "text": [
      "Epoch [82/150], Loss: 0.0344, F1 score: 0.99532\n"
     ]
    },
    {
     "data": {
      "application/vnd.jupyter.widget-view+json": {
       "model_id": "72b33d94f79d4419aebcd84a515ddb6e",
       "version_major": 2,
       "version_minor": 0
      },
      "text/plain": [
       "Epoch [83/150]; learning state\t:   0%|          | 0/382 [00:00<?, ?it/s]"
      ]
     },
     "metadata": {},
     "output_type": "display_data"
    },
    {
     "data": {
      "application/vnd.jupyter.widget-view+json": {
       "model_id": "e04e0bc3c97e4329978a3120c3973d21",
       "version_major": 2,
       "version_minor": 0
      },
      "text/plain": [
       "Epoch [83/150]; metric state\t:   0%|          | 0/382 [00:00<?, ?it/s]"
      ]
     },
     "metadata": {},
     "output_type": "display_data"
    },
    {
     "name": "stdout",
     "output_type": "stream",
     "text": [
      "Epoch [83/150], Loss: 0.0399, F1 score: 0.99549\n"
     ]
    },
    {
     "data": {
      "application/vnd.jupyter.widget-view+json": {
       "model_id": "8279ceaebcb441298570f441afa4b82a",
       "version_major": 2,
       "version_minor": 0
      },
      "text/plain": [
       "Epoch [84/150]; learning state\t:   0%|          | 0/382 [00:00<?, ?it/s]"
      ]
     },
     "metadata": {},
     "output_type": "display_data"
    },
    {
     "data": {
      "application/vnd.jupyter.widget-view+json": {
       "model_id": "039d803cbdc74adf94b98393ab55d172",
       "version_major": 2,
       "version_minor": 0
      },
      "text/plain": [
       "Epoch [84/150]; metric state\t:   0%|          | 0/382 [00:00<?, ?it/s]"
      ]
     },
     "metadata": {},
     "output_type": "display_data"
    },
    {
     "name": "stdout",
     "output_type": "stream",
     "text": [
      "Epoch [84/150], Loss: 0.0466, F1 score: 0.99656\n"
     ]
    },
    {
     "data": {
      "application/vnd.jupyter.widget-view+json": {
       "model_id": "4172378fc8194e0bbedf3c0740a6d1fc",
       "version_major": 2,
       "version_minor": 0
      },
      "text/plain": [
       "Epoch [85/150]; learning state\t:   0%|          | 0/382 [00:00<?, ?it/s]"
      ]
     },
     "metadata": {},
     "output_type": "display_data"
    },
    {
     "data": {
      "application/vnd.jupyter.widget-view+json": {
       "model_id": "79314db31e48493f80ccb70bbdc2d666",
       "version_major": 2,
       "version_minor": 0
      },
      "text/plain": [
       "Epoch [85/150]; metric state\t:   0%|          | 0/382 [00:00<?, ?it/s]"
      ]
     },
     "metadata": {},
     "output_type": "display_data"
    },
    {
     "name": "stdout",
     "output_type": "stream",
     "text": [
      "Epoch [85/150], Loss: 0.0346, F1 score: 0.99650\n"
     ]
    },
    {
     "data": {
      "application/vnd.jupyter.widget-view+json": {
       "model_id": "791faa6be75542c1b0e48d76ab028273",
       "version_major": 2,
       "version_minor": 0
      },
      "text/plain": [
       "Epoch [86/150]; learning state\t:   0%|          | 0/382 [00:00<?, ?it/s]"
      ]
     },
     "metadata": {},
     "output_type": "display_data"
    },
    {
     "data": {
      "application/vnd.jupyter.widget-view+json": {
       "model_id": "9fec8280a0a846f48363505797c2c5a4",
       "version_major": 2,
       "version_minor": 0
      },
      "text/plain": [
       "Epoch [86/150]; metric state\t:   0%|          | 0/382 [00:00<?, ?it/s]"
      ]
     },
     "metadata": {},
     "output_type": "display_data"
    },
    {
     "name": "stdout",
     "output_type": "stream",
     "text": [
      "Epoch [86/150], Loss: 0.0225, F1 score: 0.99659\n"
     ]
    },
    {
     "data": {
      "application/vnd.jupyter.widget-view+json": {
       "model_id": "7d8d1e276f4448ddb04dd7321e6ba731",
       "version_major": 2,
       "version_minor": 0
      },
      "text/plain": [
       "Epoch [87/150]; learning state\t:   0%|          | 0/382 [00:00<?, ?it/s]"
      ]
     },
     "metadata": {},
     "output_type": "display_data"
    },
    {
     "data": {
      "application/vnd.jupyter.widget-view+json": {
       "model_id": "ec261c8d02e8487cb5bda803b474d34c",
       "version_major": 2,
       "version_minor": 0
      },
      "text/plain": [
       "Epoch [87/150]; metric state\t:   0%|          | 0/382 [00:00<?, ?it/s]"
      ]
     },
     "metadata": {},
     "output_type": "display_data"
    },
    {
     "name": "stdout",
     "output_type": "stream",
     "text": [
      "Epoch [87/150], Loss: 0.0163, F1 score: 0.99657\n"
     ]
    },
    {
     "data": {
      "application/vnd.jupyter.widget-view+json": {
       "model_id": "bb05e5f2253842eb8931154e651bb421",
       "version_major": 2,
       "version_minor": 0
      },
      "text/plain": [
       "Epoch [88/150]; learning state\t:   0%|          | 0/382 [00:00<?, ?it/s]"
      ]
     },
     "metadata": {},
     "output_type": "display_data"
    },
    {
     "data": {
      "application/vnd.jupyter.widget-view+json": {
       "model_id": "f1c38ddf7b764b99b11998a0d0885a12",
       "version_major": 2,
       "version_minor": 0
      },
      "text/plain": [
       "Epoch [88/150]; metric state\t:   0%|          | 0/382 [00:00<?, ?it/s]"
      ]
     },
     "metadata": {},
     "output_type": "display_data"
    },
    {
     "name": "stdout",
     "output_type": "stream",
     "text": [
      "Epoch [88/150], Loss: 0.0446, F1 score: 0.99556\n"
     ]
    },
    {
     "data": {
      "application/vnd.jupyter.widget-view+json": {
       "model_id": "5cbad29f76834fe9a0441530f1104a26",
       "version_major": 2,
       "version_minor": 0
      },
      "text/plain": [
       "Epoch [89/150]; learning state\t:   0%|          | 0/382 [00:00<?, ?it/s]"
      ]
     },
     "metadata": {},
     "output_type": "display_data"
    },
    {
     "data": {
      "application/vnd.jupyter.widget-view+json": {
       "model_id": "707fdbe9130c46fba242235343831281",
       "version_major": 2,
       "version_minor": 0
      },
      "text/plain": [
       "Epoch [89/150]; metric state\t:   0%|          | 0/382 [00:00<?, ?it/s]"
      ]
     },
     "metadata": {},
     "output_type": "display_data"
    },
    {
     "name": "stdout",
     "output_type": "stream",
     "text": [
      "Epoch [89/150], Loss: 0.0251, F1 score: 0.99584\n"
     ]
    },
    {
     "data": {
      "application/vnd.jupyter.widget-view+json": {
       "model_id": "854829498e3942dab0afeeacef852201",
       "version_major": 2,
       "version_minor": 0
      },
      "text/plain": [
       "Epoch [90/150]; learning state\t:   0%|          | 0/382 [00:00<?, ?it/s]"
      ]
     },
     "metadata": {},
     "output_type": "display_data"
    },
    {
     "data": {
      "application/vnd.jupyter.widget-view+json": {
       "model_id": "73d387a72e184e708ea92b08de5b4b3f",
       "version_major": 2,
       "version_minor": 0
      },
      "text/plain": [
       "Epoch [90/150]; metric state\t:   0%|          | 0/382 [00:00<?, ?it/s]"
      ]
     },
     "metadata": {},
     "output_type": "display_data"
    },
    {
     "name": "stdout",
     "output_type": "stream",
     "text": [
      "Epoch [90/150], Loss: 0.0491, F1 score: 0.99650\n"
     ]
    },
    {
     "data": {
      "application/vnd.jupyter.widget-view+json": {
       "model_id": "6fe153755c8a4e82a2143e5ccef90c2e",
       "version_major": 2,
       "version_minor": 0
      },
      "text/plain": [
       "Epoch [91/150]; learning state\t:   0%|          | 0/382 [00:00<?, ?it/s]"
      ]
     },
     "metadata": {},
     "output_type": "display_data"
    },
    {
     "data": {
      "application/vnd.jupyter.widget-view+json": {
       "model_id": "2938abc33457401aa28115473b0300f0",
       "version_major": 2,
       "version_minor": 0
      },
      "text/plain": [
       "Epoch [91/150]; metric state\t:   0%|          | 0/382 [00:00<?, ?it/s]"
      ]
     },
     "metadata": {},
     "output_type": "display_data"
    },
    {
     "name": "stdout",
     "output_type": "stream",
     "text": [
      "Epoch [91/150], Loss: 0.0207, F1 score: 0.99428\n"
     ]
    },
    {
     "data": {
      "application/vnd.jupyter.widget-view+json": {
       "model_id": "e39de7ac740541ff9cd32e0abb3c6f4d",
       "version_major": 2,
       "version_minor": 0
      },
      "text/plain": [
       "Epoch [92/150]; learning state\t:   0%|          | 0/382 [00:00<?, ?it/s]"
      ]
     },
     "metadata": {},
     "output_type": "display_data"
    },
    {
     "data": {
      "application/vnd.jupyter.widget-view+json": {
       "model_id": "76787b04436e4b94b924a001a8594e14",
       "version_major": 2,
       "version_minor": 0
      },
      "text/plain": [
       "Epoch [92/150]; metric state\t:   0%|          | 0/382 [00:00<?, ?it/s]"
      ]
     },
     "metadata": {},
     "output_type": "display_data"
    },
    {
     "name": "stdout",
     "output_type": "stream",
     "text": [
      "Epoch [92/150], Loss: 0.0510, F1 score: 0.99726\n"
     ]
    },
    {
     "data": {
      "application/vnd.jupyter.widget-view+json": {
       "model_id": "6206728c2ce747e68fa465d0268b16ee",
       "version_major": 2,
       "version_minor": 0
      },
      "text/plain": [
       "Epoch [93/150]; learning state\t:   0%|          | 0/382 [00:00<?, ?it/s]"
      ]
     },
     "metadata": {},
     "output_type": "display_data"
    },
    {
     "data": {
      "application/vnd.jupyter.widget-view+json": {
       "model_id": "275be334ed7b49fc8b03316b25f59682",
       "version_major": 2,
       "version_minor": 0
      },
      "text/plain": [
       "Epoch [93/150]; metric state\t:   0%|          | 0/382 [00:00<?, ?it/s]"
      ]
     },
     "metadata": {},
     "output_type": "display_data"
    },
    {
     "name": "stdout",
     "output_type": "stream",
     "text": [
      "Epoch [93/150], Loss: 0.0260, F1 score: 0.99699\n"
     ]
    },
    {
     "data": {
      "application/vnd.jupyter.widget-view+json": {
       "model_id": "c97d831765314898bf96517794975360",
       "version_major": 2,
       "version_minor": 0
      },
      "text/plain": [
       "Epoch [94/150]; learning state\t:   0%|          | 0/382 [00:00<?, ?it/s]"
      ]
     },
     "metadata": {},
     "output_type": "display_data"
    },
    {
     "data": {
      "application/vnd.jupyter.widget-view+json": {
       "model_id": "790ecb44b0d7462492e3e4aad67a0eee",
       "version_major": 2,
       "version_minor": 0
      },
      "text/plain": [
       "Epoch [94/150]; metric state\t:   0%|          | 0/382 [00:00<?, ?it/s]"
      ]
     },
     "metadata": {},
     "output_type": "display_data"
    },
    {
     "name": "stdout",
     "output_type": "stream",
     "text": [
      "Epoch [94/150], Loss: 0.0202, F1 score: 0.99622\n"
     ]
    },
    {
     "data": {
      "application/vnd.jupyter.widget-view+json": {
       "model_id": "272bd975c5e2474da81289e18272a460",
       "version_major": 2,
       "version_minor": 0
      },
      "text/plain": [
       "Epoch [95/150]; learning state\t:   0%|          | 0/382 [00:00<?, ?it/s]"
      ]
     },
     "metadata": {},
     "output_type": "display_data"
    },
    {
     "data": {
      "application/vnd.jupyter.widget-view+json": {
       "model_id": "03c30532c03c4e30baf5a875ed001456",
       "version_major": 2,
       "version_minor": 0
      },
      "text/plain": [
       "Epoch [95/150]; metric state\t:   0%|          | 0/382 [00:00<?, ?it/s]"
      ]
     },
     "metadata": {},
     "output_type": "display_data"
    },
    {
     "name": "stdout",
     "output_type": "stream",
     "text": [
      "Epoch [95/150], Loss: 0.0313, F1 score: 0.99348\n"
     ]
    },
    {
     "data": {
      "application/vnd.jupyter.widget-view+json": {
       "model_id": "8a9b9c364d9040b5915fcda0568fae91",
       "version_major": 2,
       "version_minor": 0
      },
      "text/plain": [
       "Epoch [96/150]; learning state\t:   0%|          | 0/382 [00:00<?, ?it/s]"
      ]
     },
     "metadata": {},
     "output_type": "display_data"
    },
    {
     "data": {
      "application/vnd.jupyter.widget-view+json": {
       "model_id": "06fbd077af314fbc9dbc0e40b0b3fde0",
       "version_major": 2,
       "version_minor": 0
      },
      "text/plain": [
       "Epoch [96/150]; metric state\t:   0%|          | 0/382 [00:00<?, ?it/s]"
      ]
     },
     "metadata": {},
     "output_type": "display_data"
    },
    {
     "name": "stdout",
     "output_type": "stream",
     "text": [
      "Epoch [96/150], Loss: 0.0390, F1 score: 0.99711\n"
     ]
    },
    {
     "data": {
      "application/vnd.jupyter.widget-view+json": {
       "model_id": "01715fff7bbc4038a20f2b104d885177",
       "version_major": 2,
       "version_minor": 0
      },
      "text/plain": [
       "Epoch [97/150]; learning state\t:   0%|          | 0/382 [00:00<?, ?it/s]"
      ]
     },
     "metadata": {},
     "output_type": "display_data"
    },
    {
     "data": {
      "application/vnd.jupyter.widget-view+json": {
       "model_id": "37517e8108ca4be38293779244ddc4ea",
       "version_major": 2,
       "version_minor": 0
      },
      "text/plain": [
       "Epoch [97/150]; metric state\t:   0%|          | 0/382 [00:00<?, ?it/s]"
      ]
     },
     "metadata": {},
     "output_type": "display_data"
    },
    {
     "name": "stdout",
     "output_type": "stream",
     "text": [
      "Epoch [97/150], Loss: 0.0361, F1 score: 0.99593\n"
     ]
    },
    {
     "data": {
      "application/vnd.jupyter.widget-view+json": {
       "model_id": "b890a7ed42de4e2882303795373d3759",
       "version_major": 2,
       "version_minor": 0
      },
      "text/plain": [
       "Epoch [98/150]; learning state\t:   0%|          | 0/382 [00:00<?, ?it/s]"
      ]
     },
     "metadata": {},
     "output_type": "display_data"
    },
    {
     "data": {
      "application/vnd.jupyter.widget-view+json": {
       "model_id": "b60620fbb5a440d7aa9f57991a1a5a1b",
       "version_major": 2,
       "version_minor": 0
      },
      "text/plain": [
       "Epoch [98/150]; metric state\t:   0%|          | 0/382 [00:00<?, ?it/s]"
      ]
     },
     "metadata": {},
     "output_type": "display_data"
    },
    {
     "name": "stdout",
     "output_type": "stream",
     "text": [
      "Epoch [98/150], Loss: 0.0197, F1 score: 0.99739\n"
     ]
    },
    {
     "data": {
      "application/vnd.jupyter.widget-view+json": {
       "model_id": "e1dadd0aa9004b87b3898bd7359f35a0",
       "version_major": 2,
       "version_minor": 0
      },
      "text/plain": [
       "Epoch [99/150]; learning state\t:   0%|          | 0/382 [00:00<?, ?it/s]"
      ]
     },
     "metadata": {},
     "output_type": "display_data"
    },
    {
     "data": {
      "application/vnd.jupyter.widget-view+json": {
       "model_id": "4ccd6b03e1bf420b887cb38af6296fa7",
       "version_major": 2,
       "version_minor": 0
      },
      "text/plain": [
       "Epoch [99/150]; metric state\t:   0%|          | 0/382 [00:00<?, ?it/s]"
      ]
     },
     "metadata": {},
     "output_type": "display_data"
    },
    {
     "name": "stdout",
     "output_type": "stream",
     "text": [
      "Epoch [99/150], Loss: 0.0062, F1 score: 0.99754\n"
     ]
    },
    {
     "data": {
      "application/vnd.jupyter.widget-view+json": {
       "model_id": "5970fd19c01a4ea582213c9520fba170",
       "version_major": 2,
       "version_minor": 0
      },
      "text/plain": [
       "Epoch [100/150]; learning state\t:   0%|          | 0/382 [00:00<?, ?it/s]"
      ]
     },
     "metadata": {},
     "output_type": "display_data"
    },
    {
     "data": {
      "application/vnd.jupyter.widget-view+json": {
       "model_id": "f9bbcd68384b4393a9e662c7fb2eb281",
       "version_major": 2,
       "version_minor": 0
      },
      "text/plain": [
       "Epoch [100/150]; metric state\t:   0%|          | 0/382 [00:00<?, ?it/s]"
      ]
     },
     "metadata": {},
     "output_type": "display_data"
    },
    {
     "name": "stdout",
     "output_type": "stream",
     "text": [
      "Epoch [100/150], Loss: 0.0210, F1 score: 0.99717\n"
     ]
    },
    {
     "data": {
      "application/vnd.jupyter.widget-view+json": {
       "model_id": "817791c7c23c43d2a3008cf84abc5d67",
       "version_major": 2,
       "version_minor": 0
      },
      "text/plain": [
       "Epoch [101/150]; learning state\t:   0%|          | 0/382 [00:00<?, ?it/s]"
      ]
     },
     "metadata": {},
     "output_type": "display_data"
    },
    {
     "data": {
      "application/vnd.jupyter.widget-view+json": {
       "model_id": "f697d5c798e84dd49c991f40e5c0ecf7",
       "version_major": 2,
       "version_minor": 0
      },
      "text/plain": [
       "Epoch [101/150]; metric state\t:   0%|          | 0/382 [00:00<?, ?it/s]"
      ]
     },
     "metadata": {},
     "output_type": "display_data"
    },
    {
     "name": "stdout",
     "output_type": "stream",
     "text": [
      "Epoch [101/150], Loss: 0.0233, F1 score: 0.99691\n"
     ]
    },
    {
     "data": {
      "application/vnd.jupyter.widget-view+json": {
       "model_id": "a36087940721475fb17a8758b7b96fda",
       "version_major": 2,
       "version_minor": 0
      },
      "text/plain": [
       "Epoch [102/150]; learning state\t:   0%|          | 0/382 [00:00<?, ?it/s]"
      ]
     },
     "metadata": {},
     "output_type": "display_data"
    },
    {
     "data": {
      "application/vnd.jupyter.widget-view+json": {
       "model_id": "d481036a57b444a5b2d5cad5080dd70d",
       "version_major": 2,
       "version_minor": 0
      },
      "text/plain": [
       "Epoch [102/150]; metric state\t:   0%|          | 0/382 [00:00<?, ?it/s]"
      ]
     },
     "metadata": {},
     "output_type": "display_data"
    },
    {
     "name": "stdout",
     "output_type": "stream",
     "text": [
      "Epoch [102/150], Loss: 0.0212, F1 score: 0.99711\n"
     ]
    },
    {
     "data": {
      "application/vnd.jupyter.widget-view+json": {
       "model_id": "434a66e82b1842d6a2fd66845c8bb22e",
       "version_major": 2,
       "version_minor": 0
      },
      "text/plain": [
       "Epoch [103/150]; learning state\t:   0%|          | 0/382 [00:00<?, ?it/s]"
      ]
     },
     "metadata": {},
     "output_type": "display_data"
    },
    {
     "data": {
      "application/vnd.jupyter.widget-view+json": {
       "model_id": "505c9e73bb4543e3b267f25125c9372d",
       "version_major": 2,
       "version_minor": 0
      },
      "text/plain": [
       "Epoch [103/150]; metric state\t:   0%|          | 0/382 [00:00<?, ?it/s]"
      ]
     },
     "metadata": {},
     "output_type": "display_data"
    },
    {
     "name": "stdout",
     "output_type": "stream",
     "text": [
      "Epoch [103/150], Loss: 0.0172, F1 score: 0.99645\n"
     ]
    },
    {
     "data": {
      "application/vnd.jupyter.widget-view+json": {
       "model_id": "291e7630d4a04e9dbf352a5b2810b8da",
       "version_major": 2,
       "version_minor": 0
      },
      "text/plain": [
       "Epoch [104/150]; learning state\t:   0%|          | 0/382 [00:00<?, ?it/s]"
      ]
     },
     "metadata": {},
     "output_type": "display_data"
    },
    {
     "data": {
      "application/vnd.jupyter.widget-view+json": {
       "model_id": "306a5efdabe043c19b129942065284be",
       "version_major": 2,
       "version_minor": 0
      },
      "text/plain": [
       "Epoch [104/150]; metric state\t:   0%|          | 0/382 [00:00<?, ?it/s]"
      ]
     },
     "metadata": {},
     "output_type": "display_data"
    },
    {
     "name": "stdout",
     "output_type": "stream",
     "text": [
      "Epoch [104/150], Loss: 0.0089, F1 score: 0.99750\n"
     ]
    },
    {
     "data": {
      "application/vnd.jupyter.widget-view+json": {
       "model_id": "47f45236cdb843fba544b5467fb2db5f",
       "version_major": 2,
       "version_minor": 0
      },
      "text/plain": [
       "Epoch [105/150]; learning state\t:   0%|          | 0/382 [00:00<?, ?it/s]"
      ]
     },
     "metadata": {},
     "output_type": "display_data"
    },
    {
     "data": {
      "application/vnd.jupyter.widget-view+json": {
       "model_id": "412ab141e4a9407eac05f43cda09874c",
       "version_major": 2,
       "version_minor": 0
      },
      "text/plain": [
       "Epoch [105/150]; metric state\t:   0%|          | 0/382 [00:00<?, ?it/s]"
      ]
     },
     "metadata": {},
     "output_type": "display_data"
    },
    {
     "name": "stdout",
     "output_type": "stream",
     "text": [
      "Epoch [105/150], Loss: 0.0281, F1 score: 0.99691\n"
     ]
    },
    {
     "data": {
      "application/vnd.jupyter.widget-view+json": {
       "model_id": "1f8cb409f0af478f9e4836213d878c5d",
       "version_major": 2,
       "version_minor": 0
      },
      "text/plain": [
       "Epoch [106/150]; learning state\t:   0%|          | 0/382 [00:00<?, ?it/s]"
      ]
     },
     "metadata": {},
     "output_type": "display_data"
    },
    {
     "data": {
      "application/vnd.jupyter.widget-view+json": {
       "model_id": "c5fa043a446b43ef8225cc5538bb3c46",
       "version_major": 2,
       "version_minor": 0
      },
      "text/plain": [
       "Epoch [106/150]; metric state\t:   0%|          | 0/382 [00:00<?, ?it/s]"
      ]
     },
     "metadata": {},
     "output_type": "display_data"
    },
    {
     "name": "stdout",
     "output_type": "stream",
     "text": [
      "Epoch [106/150], Loss: 0.0382, F1 score: 0.99743\n"
     ]
    },
    {
     "data": {
      "application/vnd.jupyter.widget-view+json": {
       "model_id": "15bbbe9ec96b4f29bf42d3d99f1cf5bb",
       "version_major": 2,
       "version_minor": 0
      },
      "text/plain": [
       "Epoch [107/150]; learning state\t:   0%|          | 0/382 [00:00<?, ?it/s]"
      ]
     },
     "metadata": {},
     "output_type": "display_data"
    },
    {
     "data": {
      "application/vnd.jupyter.widget-view+json": {
       "model_id": "0d46d0c5626d44b3a8626591c15b1c2a",
       "version_major": 2,
       "version_minor": 0
      },
      "text/plain": [
       "Epoch [107/150]; metric state\t:   0%|          | 0/382 [00:00<?, ?it/s]"
      ]
     },
     "metadata": {},
     "output_type": "display_data"
    },
    {
     "name": "stdout",
     "output_type": "stream",
     "text": [
      "Epoch [107/150], Loss: 0.0168, F1 score: 0.99522\n"
     ]
    },
    {
     "data": {
      "application/vnd.jupyter.widget-view+json": {
       "model_id": "f6db99c81f48456a83c6c31be3f3c8c0",
       "version_major": 2,
       "version_minor": 0
      },
      "text/plain": [
       "Epoch [108/150]; learning state\t:   0%|          | 0/382 [00:00<?, ?it/s]"
      ]
     },
     "metadata": {},
     "output_type": "display_data"
    },
    {
     "data": {
      "application/vnd.jupyter.widget-view+json": {
       "model_id": "501554ccc50f435dad278d0a26916566",
       "version_major": 2,
       "version_minor": 0
      },
      "text/plain": [
       "Epoch [108/150]; metric state\t:   0%|          | 0/382 [00:00<?, ?it/s]"
      ]
     },
     "metadata": {},
     "output_type": "display_data"
    },
    {
     "name": "stdout",
     "output_type": "stream",
     "text": [
      "Epoch [108/150], Loss: 0.0091, F1 score: 0.99723\n"
     ]
    },
    {
     "data": {
      "application/vnd.jupyter.widget-view+json": {
       "model_id": "4cd6a37f3b9140f7a7def5d5e0beacab",
       "version_major": 2,
       "version_minor": 0
      },
      "text/plain": [
       "Epoch [109/150]; learning state\t:   0%|          | 0/382 [00:00<?, ?it/s]"
      ]
     },
     "metadata": {},
     "output_type": "display_data"
    },
    {
     "data": {
      "application/vnd.jupyter.widget-view+json": {
       "model_id": "e9b5609fcc754951b07aaf8ebc054dc7",
       "version_major": 2,
       "version_minor": 0
      },
      "text/plain": [
       "Epoch [109/150]; metric state\t:   0%|          | 0/382 [00:00<?, ?it/s]"
      ]
     },
     "metadata": {},
     "output_type": "display_data"
    },
    {
     "name": "stdout",
     "output_type": "stream",
     "text": [
      "Epoch [109/150], Loss: 0.0404, F1 score: 0.99673\n"
     ]
    },
    {
     "data": {
      "application/vnd.jupyter.widget-view+json": {
       "model_id": "24605cbfbaea4e518c179552fd7d7c72",
       "version_major": 2,
       "version_minor": 0
      },
      "text/plain": [
       "Epoch [110/150]; learning state\t:   0%|          | 0/382 [00:00<?, ?it/s]"
      ]
     },
     "metadata": {},
     "output_type": "display_data"
    },
    {
     "data": {
      "application/vnd.jupyter.widget-view+json": {
       "model_id": "69425fe451e6417d8ec230c3333b7d6c",
       "version_major": 2,
       "version_minor": 0
      },
      "text/plain": [
       "Epoch [110/150]; metric state\t:   0%|          | 0/382 [00:00<?, ?it/s]"
      ]
     },
     "metadata": {},
     "output_type": "display_data"
    },
    {
     "name": "stdout",
     "output_type": "stream",
     "text": [
      "Epoch [110/150], Loss: 0.0350, F1 score: 0.99587\n"
     ]
    },
    {
     "data": {
      "application/vnd.jupyter.widget-view+json": {
       "model_id": "97262d5a34184b98acfd32893e25a1bd",
       "version_major": 2,
       "version_minor": 0
      },
      "text/plain": [
       "Epoch [111/150]; learning state\t:   0%|          | 0/382 [00:00<?, ?it/s]"
      ]
     },
     "metadata": {},
     "output_type": "display_data"
    },
    {
     "data": {
      "application/vnd.jupyter.widget-view+json": {
       "model_id": "f500a7a12fc54749aa3e408dee7319f8",
       "version_major": 2,
       "version_minor": 0
      },
      "text/plain": [
       "Epoch [111/150]; metric state\t:   0%|          | 0/382 [00:00<?, ?it/s]"
      ]
     },
     "metadata": {},
     "output_type": "display_data"
    },
    {
     "name": "stdout",
     "output_type": "stream",
     "text": [
      "Epoch [111/150], Loss: 0.0300, F1 score: 0.99702\n"
     ]
    },
    {
     "data": {
      "application/vnd.jupyter.widget-view+json": {
       "model_id": "77db35f81e0e462186fd9e0bf482c6d3",
       "version_major": 2,
       "version_minor": 0
      },
      "text/plain": [
       "Epoch [112/150]; learning state\t:   0%|          | 0/382 [00:00<?, ?it/s]"
      ]
     },
     "metadata": {},
     "output_type": "display_data"
    },
    {
     "data": {
      "application/vnd.jupyter.widget-view+json": {
       "model_id": "f8d8a7ed42514487a2d964724e952faf",
       "version_major": 2,
       "version_minor": 0
      },
      "text/plain": [
       "Epoch [112/150]; metric state\t:   0%|          | 0/382 [00:00<?, ?it/s]"
      ]
     },
     "metadata": {},
     "output_type": "display_data"
    },
    {
     "name": "stdout",
     "output_type": "stream",
     "text": [
      "Epoch [112/150], Loss: 0.0320, F1 score: 0.99575\n"
     ]
    },
    {
     "data": {
      "application/vnd.jupyter.widget-view+json": {
       "model_id": "fc2c05fff2994d3f9b46a7e906c50de5",
       "version_major": 2,
       "version_minor": 0
      },
      "text/plain": [
       "Epoch [113/150]; learning state\t:   0%|          | 0/382 [00:00<?, ?it/s]"
      ]
     },
     "metadata": {},
     "output_type": "display_data"
    },
    {
     "data": {
      "application/vnd.jupyter.widget-view+json": {
       "model_id": "62c13f1f28794baba9b1b95000d0dde4",
       "version_major": 2,
       "version_minor": 0
      },
      "text/plain": [
       "Epoch [113/150]; metric state\t:   0%|          | 0/382 [00:00<?, ?it/s]"
      ]
     },
     "metadata": {},
     "output_type": "display_data"
    },
    {
     "name": "stdout",
     "output_type": "stream",
     "text": [
      "Epoch [113/150], Loss: 0.0114, F1 score: 0.99725\n"
     ]
    },
    {
     "data": {
      "application/vnd.jupyter.widget-view+json": {
       "model_id": "46b6e87738de41efbf96ba5c613fc662",
       "version_major": 2,
       "version_minor": 0
      },
      "text/plain": [
       "Epoch [114/150]; learning state\t:   0%|          | 0/382 [00:00<?, ?it/s]"
      ]
     },
     "metadata": {},
     "output_type": "display_data"
    },
    {
     "data": {
      "application/vnd.jupyter.widget-view+json": {
       "model_id": "e9635f6099db4229946cb544f1ad600d",
       "version_major": 2,
       "version_minor": 0
      },
      "text/plain": [
       "Epoch [114/150]; metric state\t:   0%|          | 0/382 [00:00<?, ?it/s]"
      ]
     },
     "metadata": {},
     "output_type": "display_data"
    },
    {
     "name": "stdout",
     "output_type": "stream",
     "text": [
      "Epoch [114/150], Loss: 0.0123, F1 score: 0.99809\n"
     ]
    },
    {
     "data": {
      "application/vnd.jupyter.widget-view+json": {
       "model_id": "dd48edad0d5f48de89abb3d30a2875a3",
       "version_major": 2,
       "version_minor": 0
      },
      "text/plain": [
       "Epoch [115/150]; learning state\t:   0%|          | 0/382 [00:00<?, ?it/s]"
      ]
     },
     "metadata": {},
     "output_type": "display_data"
    },
    {
     "data": {
      "application/vnd.jupyter.widget-view+json": {
       "model_id": "8f7f4f0182e24c3aaeb953c69a385461",
       "version_major": 2,
       "version_minor": 0
      },
      "text/plain": [
       "Epoch [115/150]; metric state\t:   0%|          | 0/382 [00:00<?, ?it/s]"
      ]
     },
     "metadata": {},
     "output_type": "display_data"
    },
    {
     "name": "stdout",
     "output_type": "stream",
     "text": [
      "Epoch [115/150], Loss: 0.0139, F1 score: 0.99754\n"
     ]
    },
    {
     "data": {
      "application/vnd.jupyter.widget-view+json": {
       "model_id": "9a264b829c184f27a91c7cc08a0860e6",
       "version_major": 2,
       "version_minor": 0
      },
      "text/plain": [
       "Epoch [116/150]; learning state\t:   0%|          | 0/382 [00:00<?, ?it/s]"
      ]
     },
     "metadata": {},
     "output_type": "display_data"
    },
    {
     "data": {
      "application/vnd.jupyter.widget-view+json": {
       "model_id": "a978e0930e55428fb3d6a1e1a37738fa",
       "version_major": 2,
       "version_minor": 0
      },
      "text/plain": [
       "Epoch [116/150]; metric state\t:   0%|          | 0/382 [00:00<?, ?it/s]"
      ]
     },
     "metadata": {},
     "output_type": "display_data"
    },
    {
     "name": "stdout",
     "output_type": "stream",
     "text": [
      "Epoch [116/150], Loss: 0.0338, F1 score: 0.99713\n"
     ]
    },
    {
     "data": {
      "application/vnd.jupyter.widget-view+json": {
       "model_id": "59fc3caed115485eaed0e9d486e3e4ac",
       "version_major": 2,
       "version_minor": 0
      },
      "text/plain": [
       "Epoch [117/150]; learning state\t:   0%|          | 0/382 [00:00<?, ?it/s]"
      ]
     },
     "metadata": {},
     "output_type": "display_data"
    },
    {
     "data": {
      "application/vnd.jupyter.widget-view+json": {
       "model_id": "fbdb66dd30674242b9c05af990e24d14",
       "version_major": 2,
       "version_minor": 0
      },
      "text/plain": [
       "Epoch [117/150]; metric state\t:   0%|          | 0/382 [00:00<?, ?it/s]"
      ]
     },
     "metadata": {},
     "output_type": "display_data"
    },
    {
     "name": "stdout",
     "output_type": "stream",
     "text": [
      "Epoch [117/150], Loss: 0.0220, F1 score: 0.99789\n"
     ]
    },
    {
     "data": {
      "application/vnd.jupyter.widget-view+json": {
       "model_id": "011c8826fa124466bdabbb6a54ea37bb",
       "version_major": 2,
       "version_minor": 0
      },
      "text/plain": [
       "Epoch [118/150]; learning state\t:   0%|          | 0/382 [00:00<?, ?it/s]"
      ]
     },
     "metadata": {},
     "output_type": "display_data"
    },
    {
     "data": {
      "application/vnd.jupyter.widget-view+json": {
       "model_id": "59cc63a84f6940f9b6b7563d12952b8c",
       "version_major": 2,
       "version_minor": 0
      },
      "text/plain": [
       "Epoch [118/150]; metric state\t:   0%|          | 0/382 [00:00<?, ?it/s]"
      ]
     },
     "metadata": {},
     "output_type": "display_data"
    },
    {
     "name": "stdout",
     "output_type": "stream",
     "text": [
      "Epoch [118/150], Loss: 0.0393, F1 score: 0.99680\n"
     ]
    },
    {
     "data": {
      "application/vnd.jupyter.widget-view+json": {
       "model_id": "78623435ab05458b9cb2c9aba79e8618",
       "version_major": 2,
       "version_minor": 0
      },
      "text/plain": [
       "Epoch [119/150]; learning state\t:   0%|          | 0/382 [00:00<?, ?it/s]"
      ]
     },
     "metadata": {},
     "output_type": "display_data"
    },
    {
     "data": {
      "application/vnd.jupyter.widget-view+json": {
       "model_id": "96c4139685c74185970a5e32775527dc",
       "version_major": 2,
       "version_minor": 0
      },
      "text/plain": [
       "Epoch [119/150]; metric state\t:   0%|          | 0/382 [00:00<?, ?it/s]"
      ]
     },
     "metadata": {},
     "output_type": "display_data"
    },
    {
     "name": "stdout",
     "output_type": "stream",
     "text": [
      "Epoch [119/150], Loss: 0.0280, F1 score: 0.99738\n"
     ]
    },
    {
     "data": {
      "application/vnd.jupyter.widget-view+json": {
       "model_id": "2537904f2e474834bdae52314beff4f4",
       "version_major": 2,
       "version_minor": 0
      },
      "text/plain": [
       "Epoch [120/150]; learning state\t:   0%|          | 0/382 [00:00<?, ?it/s]"
      ]
     },
     "metadata": {},
     "output_type": "display_data"
    },
    {
     "data": {
      "application/vnd.jupyter.widget-view+json": {
       "model_id": "22f337950b9744c8bc5e918f192a5796",
       "version_major": 2,
       "version_minor": 0
      },
      "text/plain": [
       "Epoch [120/150]; metric state\t:   0%|          | 0/382 [00:00<?, ?it/s]"
      ]
     },
     "metadata": {},
     "output_type": "display_data"
    },
    {
     "name": "stdout",
     "output_type": "stream",
     "text": [
      "Epoch [120/150], Loss: 0.0178, F1 score: 0.99727\n"
     ]
    },
    {
     "data": {
      "application/vnd.jupyter.widget-view+json": {
       "model_id": "3acaa5a5d53a4de8bbb34202b2941626",
       "version_major": 2,
       "version_minor": 0
      },
      "text/plain": [
       "Epoch [121/150]; learning state\t:   0%|          | 0/382 [00:00<?, ?it/s]"
      ]
     },
     "metadata": {},
     "output_type": "display_data"
    },
    {
     "data": {
      "application/vnd.jupyter.widget-view+json": {
       "model_id": "ae2a678df2cb4cdd8301d3475a2948da",
       "version_major": 2,
       "version_minor": 0
      },
      "text/plain": [
       "Epoch [121/150]; metric state\t:   0%|          | 0/382 [00:00<?, ?it/s]"
      ]
     },
     "metadata": {},
     "output_type": "display_data"
    },
    {
     "name": "stdout",
     "output_type": "stream",
     "text": [
      "Epoch [121/150], Loss: 0.0127, F1 score: 0.99706\n"
     ]
    },
    {
     "data": {
      "application/vnd.jupyter.widget-view+json": {
       "model_id": "e8b1bdaa50be41c9835b8d0540389295",
       "version_major": 2,
       "version_minor": 0
      },
      "text/plain": [
       "Epoch [122/150]; learning state\t:   0%|          | 0/382 [00:00<?, ?it/s]"
      ]
     },
     "metadata": {},
     "output_type": "display_data"
    },
    {
     "data": {
      "application/vnd.jupyter.widget-view+json": {
       "model_id": "20a032f86f39464b8ac73879c3d33d9a",
       "version_major": 2,
       "version_minor": 0
      },
      "text/plain": [
       "Epoch [122/150]; metric state\t:   0%|          | 0/382 [00:00<?, ?it/s]"
      ]
     },
     "metadata": {},
     "output_type": "display_data"
    },
    {
     "name": "stdout",
     "output_type": "stream",
     "text": [
      "Epoch [122/150], Loss: 0.0156, F1 score: 0.99779\n"
     ]
    },
    {
     "data": {
      "application/vnd.jupyter.widget-view+json": {
       "model_id": "2781ca9ecae6484494fbc04e518211d8",
       "version_major": 2,
       "version_minor": 0
      },
      "text/plain": [
       "Epoch [123/150]; learning state\t:   0%|          | 0/382 [00:00<?, ?it/s]"
      ]
     },
     "metadata": {},
     "output_type": "display_data"
    },
    {
     "data": {
      "application/vnd.jupyter.widget-view+json": {
       "model_id": "a98adc4f72ba48099f44c97c6c441298",
       "version_major": 2,
       "version_minor": 0
      },
      "text/plain": [
       "Epoch [123/150]; metric state\t:   0%|          | 0/382 [00:00<?, ?it/s]"
      ]
     },
     "metadata": {},
     "output_type": "display_data"
    },
    {
     "name": "stdout",
     "output_type": "stream",
     "text": [
      "Epoch [123/150], Loss: 0.0212, F1 score: 0.99568\n"
     ]
    },
    {
     "data": {
      "application/vnd.jupyter.widget-view+json": {
       "model_id": "3898bc8ac3ac434ab1d4d2cb84e935f2",
       "version_major": 2,
       "version_minor": 0
      },
      "text/plain": [
       "Epoch [124/150]; learning state\t:   0%|          | 0/382 [00:00<?, ?it/s]"
      ]
     },
     "metadata": {},
     "output_type": "display_data"
    },
    {
     "data": {
      "application/vnd.jupyter.widget-view+json": {
       "model_id": "339026f7d6b342f384b2acc8e8d5fc11",
       "version_major": 2,
       "version_minor": 0
      },
      "text/plain": [
       "Epoch [124/150]; metric state\t:   0%|          | 0/382 [00:00<?, ?it/s]"
      ]
     },
     "metadata": {},
     "output_type": "display_data"
    },
    {
     "name": "stdout",
     "output_type": "stream",
     "text": [
      "Epoch [124/150], Loss: 0.0368, F1 score: 0.99751\n"
     ]
    },
    {
     "data": {
      "application/vnd.jupyter.widget-view+json": {
       "model_id": "a338d551e1b04cf1a8a6ccd60667f544",
       "version_major": 2,
       "version_minor": 0
      },
      "text/plain": [
       "Epoch [125/150]; learning state\t:   0%|          | 0/382 [00:00<?, ?it/s]"
      ]
     },
     "metadata": {},
     "output_type": "display_data"
    },
    {
     "data": {
      "application/vnd.jupyter.widget-view+json": {
       "model_id": "af2b0d89db1e4b578c77eeba546b30db",
       "version_major": 2,
       "version_minor": 0
      },
      "text/plain": [
       "Epoch [125/150]; metric state\t:   0%|          | 0/382 [00:00<?, ?it/s]"
      ]
     },
     "metadata": {},
     "output_type": "display_data"
    },
    {
     "name": "stdout",
     "output_type": "stream",
     "text": [
      "Epoch [125/150], Loss: 0.0108, F1 score: 0.99744\n"
     ]
    },
    {
     "data": {
      "application/vnd.jupyter.widget-view+json": {
       "model_id": "9af2667d51784a5599170287fe445579",
       "version_major": 2,
       "version_minor": 0
      },
      "text/plain": [
       "Epoch [126/150]; learning state\t:   0%|          | 0/382 [00:00<?, ?it/s]"
      ]
     },
     "metadata": {},
     "output_type": "display_data"
    },
    {
     "data": {
      "application/vnd.jupyter.widget-view+json": {
       "model_id": "0b7392f30dd9471da3d991f1096a98b3",
       "version_major": 2,
       "version_minor": 0
      },
      "text/plain": [
       "Epoch [126/150]; metric state\t:   0%|          | 0/382 [00:00<?, ?it/s]"
      ]
     },
     "metadata": {},
     "output_type": "display_data"
    },
    {
     "name": "stdout",
     "output_type": "stream",
     "text": [
      "Epoch [126/150], Loss: 0.0243, F1 score: 0.99783\n"
     ]
    },
    {
     "data": {
      "application/vnd.jupyter.widget-view+json": {
       "model_id": "d2ee97175f51456aa9398696bfdac7c5",
       "version_major": 2,
       "version_minor": 0
      },
      "text/plain": [
       "Epoch [127/150]; learning state\t:   0%|          | 0/382 [00:00<?, ?it/s]"
      ]
     },
     "metadata": {},
     "output_type": "display_data"
    },
    {
     "data": {
      "application/vnd.jupyter.widget-view+json": {
       "model_id": "f339b94eac874d909d659b5d126713e9",
       "version_major": 2,
       "version_minor": 0
      },
      "text/plain": [
       "Epoch [127/150]; metric state\t:   0%|          | 0/382 [00:00<?, ?it/s]"
      ]
     },
     "metadata": {},
     "output_type": "display_data"
    },
    {
     "name": "stdout",
     "output_type": "stream",
     "text": [
      "Epoch [127/150], Loss: 0.0210, F1 score: 0.99655\n"
     ]
    },
    {
     "data": {
      "application/vnd.jupyter.widget-view+json": {
       "model_id": "5a7a2310897e40f08046ec4dea76b48d",
       "version_major": 2,
       "version_minor": 0
      },
      "text/plain": [
       "Epoch [128/150]; learning state\t:   0%|          | 0/382 [00:00<?, ?it/s]"
      ]
     },
     "metadata": {},
     "output_type": "display_data"
    },
    {
     "data": {
      "application/vnd.jupyter.widget-view+json": {
       "model_id": "e186bf54f41f43c7a10f7ebca39333dc",
       "version_major": 2,
       "version_minor": 0
      },
      "text/plain": [
       "Epoch [128/150]; metric state\t:   0%|          | 0/382 [00:00<?, ?it/s]"
      ]
     },
     "metadata": {},
     "output_type": "display_data"
    },
    {
     "name": "stdout",
     "output_type": "stream",
     "text": [
      "Epoch [128/150], Loss: 0.0159, F1 score: 0.99736\n"
     ]
    },
    {
     "data": {
      "application/vnd.jupyter.widget-view+json": {
       "model_id": "ee1ea42ca66f4777bed5fdc06a4fb676",
       "version_major": 2,
       "version_minor": 0
      },
      "text/plain": [
       "Epoch [129/150]; learning state\t:   0%|          | 0/382 [00:00<?, ?it/s]"
      ]
     },
     "metadata": {},
     "output_type": "display_data"
    },
    {
     "data": {
      "application/vnd.jupyter.widget-view+json": {
       "model_id": "b22f24a7e12547b5ba6efcc0678293ba",
       "version_major": 2,
       "version_minor": 0
      },
      "text/plain": [
       "Epoch [129/150]; metric state\t:   0%|          | 0/382 [00:00<?, ?it/s]"
      ]
     },
     "metadata": {},
     "output_type": "display_data"
    },
    {
     "name": "stdout",
     "output_type": "stream",
     "text": [
      "Epoch [129/150], Loss: 0.0112, F1 score: 0.99774\n"
     ]
    },
    {
     "data": {
      "application/vnd.jupyter.widget-view+json": {
       "model_id": "818bce63907c4a33b515bb1b199522e6",
       "version_major": 2,
       "version_minor": 0
      },
      "text/plain": [
       "Epoch [130/150]; learning state\t:   0%|          | 0/382 [00:00<?, ?it/s]"
      ]
     },
     "metadata": {},
     "output_type": "display_data"
    },
    {
     "data": {
      "application/vnd.jupyter.widget-view+json": {
       "model_id": "02db7be8f9154171be2fd532bda9b523",
       "version_major": 2,
       "version_minor": 0
      },
      "text/plain": [
       "Epoch [130/150]; metric state\t:   0%|          | 0/382 [00:00<?, ?it/s]"
      ]
     },
     "metadata": {},
     "output_type": "display_data"
    },
    {
     "name": "stdout",
     "output_type": "stream",
     "text": [
      "Epoch [130/150], Loss: 0.0301, F1 score: 0.99774\n"
     ]
    },
    {
     "data": {
      "application/vnd.jupyter.widget-view+json": {
       "model_id": "5053478ce7694d859a48e11458d4ec25",
       "version_major": 2,
       "version_minor": 0
      },
      "text/plain": [
       "Epoch [131/150]; learning state\t:   0%|          | 0/382 [00:00<?, ?it/s]"
      ]
     },
     "metadata": {},
     "output_type": "display_data"
    },
    {
     "data": {
      "application/vnd.jupyter.widget-view+json": {
       "model_id": "2145b586f1a74b7684c1d91d29cdfd0b",
       "version_major": 2,
       "version_minor": 0
      },
      "text/plain": [
       "Epoch [131/150]; metric state\t:   0%|          | 0/382 [00:00<?, ?it/s]"
      ]
     },
     "metadata": {},
     "output_type": "display_data"
    },
    {
     "name": "stdout",
     "output_type": "stream",
     "text": [
      "Epoch [131/150], Loss: 0.0172, F1 score: 0.99725\n"
     ]
    },
    {
     "data": {
      "application/vnd.jupyter.widget-view+json": {
       "model_id": "9a8b85a168d94efb9a6c216f513d4587",
       "version_major": 2,
       "version_minor": 0
      },
      "text/plain": [
       "Epoch [132/150]; learning state\t:   0%|          | 0/382 [00:00<?, ?it/s]"
      ]
     },
     "metadata": {},
     "output_type": "display_data"
    },
    {
     "data": {
      "application/vnd.jupyter.widget-view+json": {
       "model_id": "49749b2ae7304cae977dd6129b39635d",
       "version_major": 2,
       "version_minor": 0
      },
      "text/plain": [
       "Epoch [132/150]; metric state\t:   0%|          | 0/382 [00:00<?, ?it/s]"
      ]
     },
     "metadata": {},
     "output_type": "display_data"
    },
    {
     "name": "stdout",
     "output_type": "stream",
     "text": [
      "Epoch [132/150], Loss: 0.0271, F1 score: 0.99784\n"
     ]
    },
    {
     "data": {
      "application/vnd.jupyter.widget-view+json": {
       "model_id": "2db31e35e65a4f09a2ed2115dcdbced0",
       "version_major": 2,
       "version_minor": 0
      },
      "text/plain": [
       "Epoch [133/150]; learning state\t:   0%|          | 0/382 [00:00<?, ?it/s]"
      ]
     },
     "metadata": {},
     "output_type": "display_data"
    },
    {
     "data": {
      "application/vnd.jupyter.widget-view+json": {
       "model_id": "e1211c8f046a495889bfed22beaefa89",
       "version_major": 2,
       "version_minor": 0
      },
      "text/plain": [
       "Epoch [133/150]; metric state\t:   0%|          | 0/382 [00:00<?, ?it/s]"
      ]
     },
     "metadata": {},
     "output_type": "display_data"
    },
    {
     "name": "stdout",
     "output_type": "stream",
     "text": [
      "Epoch [133/150], Loss: 0.0093, F1 score: 0.99827\n"
     ]
    },
    {
     "data": {
      "application/vnd.jupyter.widget-view+json": {
       "model_id": "bff36443e01542c79514dddd3a3234ea",
       "version_major": 2,
       "version_minor": 0
      },
      "text/plain": [
       "Epoch [134/150]; learning state\t:   0%|          | 0/382 [00:00<?, ?it/s]"
      ]
     },
     "metadata": {},
     "output_type": "display_data"
    },
    {
     "data": {
      "application/vnd.jupyter.widget-view+json": {
       "model_id": "cb3ee1e5e3cd4adab20c24c7cbc22ce6",
       "version_major": 2,
       "version_minor": 0
      },
      "text/plain": [
       "Epoch [134/150]; metric state\t:   0%|          | 0/382 [00:00<?, ?it/s]"
      ]
     },
     "metadata": {},
     "output_type": "display_data"
    },
    {
     "name": "stdout",
     "output_type": "stream",
     "text": [
      "Epoch [134/150], Loss: 0.0145, F1 score: 0.99806\n"
     ]
    },
    {
     "data": {
      "application/vnd.jupyter.widget-view+json": {
       "model_id": "cee2e240301a466eba57eaec9e1d37d7",
       "version_major": 2,
       "version_minor": 0
      },
      "text/plain": [
       "Epoch [135/150]; learning state\t:   0%|          | 0/382 [00:00<?, ?it/s]"
      ]
     },
     "metadata": {},
     "output_type": "display_data"
    },
    {
     "data": {
      "application/vnd.jupyter.widget-view+json": {
       "model_id": "888b57d296824558976323380869f907",
       "version_major": 2,
       "version_minor": 0
      },
      "text/plain": [
       "Epoch [135/150]; metric state\t:   0%|          | 0/382 [00:00<?, ?it/s]"
      ]
     },
     "metadata": {},
     "output_type": "display_data"
    },
    {
     "name": "stdout",
     "output_type": "stream",
     "text": [
      "Epoch [135/150], Loss: 0.0124, F1 score: 0.99723\n"
     ]
    },
    {
     "data": {
      "application/vnd.jupyter.widget-view+json": {
       "model_id": "257939fdb42f4d66bef1b82885f29e1b",
       "version_major": 2,
       "version_minor": 0
      },
      "text/plain": [
       "Epoch [136/150]; learning state\t:   0%|          | 0/382 [00:00<?, ?it/s]"
      ]
     },
     "metadata": {},
     "output_type": "display_data"
    },
    {
     "data": {
      "application/vnd.jupyter.widget-view+json": {
       "model_id": "f26157d1364747d7a1dd387024b21e85",
       "version_major": 2,
       "version_minor": 0
      },
      "text/plain": [
       "Epoch [136/150]; metric state\t:   0%|          | 0/382 [00:00<?, ?it/s]"
      ]
     },
     "metadata": {},
     "output_type": "display_data"
    },
    {
     "name": "stdout",
     "output_type": "stream",
     "text": [
      "Epoch [136/150], Loss: 0.0092, F1 score: 0.99762\n"
     ]
    },
    {
     "data": {
      "application/vnd.jupyter.widget-view+json": {
       "model_id": "4bef8c054c1f4e9491d0f6495e1c1df9",
       "version_major": 2,
       "version_minor": 0
      },
      "text/plain": [
       "Epoch [137/150]; learning state\t:   0%|          | 0/382 [00:00<?, ?it/s]"
      ]
     },
     "metadata": {},
     "output_type": "display_data"
    },
    {
     "data": {
      "application/vnd.jupyter.widget-view+json": {
       "model_id": "faf9222a0b3b4ab5991a38b633c9395a",
       "version_major": 2,
       "version_minor": 0
      },
      "text/plain": [
       "Epoch [137/150]; metric state\t:   0%|          | 0/382 [00:00<?, ?it/s]"
      ]
     },
     "metadata": {},
     "output_type": "display_data"
    },
    {
     "name": "stdout",
     "output_type": "stream",
     "text": [
      "Epoch [137/150], Loss: 0.0258, F1 score: 0.99744\n"
     ]
    },
    {
     "data": {
      "application/vnd.jupyter.widget-view+json": {
       "model_id": "5ec467c80e764780929d201272636290",
       "version_major": 2,
       "version_minor": 0
      },
      "text/plain": [
       "Epoch [138/150]; learning state\t:   0%|          | 0/382 [00:00<?, ?it/s]"
      ]
     },
     "metadata": {},
     "output_type": "display_data"
    },
    {
     "data": {
      "application/vnd.jupyter.widget-view+json": {
       "model_id": "2c4f9f516b474bf9ba66ad75842e4bdd",
       "version_major": 2,
       "version_minor": 0
      },
      "text/plain": [
       "Epoch [138/150]; metric state\t:   0%|          | 0/382 [00:00<?, ?it/s]"
      ]
     },
     "metadata": {},
     "output_type": "display_data"
    },
    {
     "name": "stdout",
     "output_type": "stream",
     "text": [
      "Epoch [138/150], Loss: 0.0035, F1 score: 0.99810\n"
     ]
    },
    {
     "data": {
      "application/vnd.jupyter.widget-view+json": {
       "model_id": "0a0921474e6a486781120242833a95ca",
       "version_major": 2,
       "version_minor": 0
      },
      "text/plain": [
       "Epoch [139/150]; learning state\t:   0%|          | 0/382 [00:00<?, ?it/s]"
      ]
     },
     "metadata": {},
     "output_type": "display_data"
    },
    {
     "data": {
      "application/vnd.jupyter.widget-view+json": {
       "model_id": "fbc443ebce584bce9359b806b32910f7",
       "version_major": 2,
       "version_minor": 0
      },
      "text/plain": [
       "Epoch [139/150]; metric state\t:   0%|          | 0/382 [00:00<?, ?it/s]"
      ]
     },
     "metadata": {},
     "output_type": "display_data"
    },
    {
     "name": "stdout",
     "output_type": "stream",
     "text": [
      "Epoch [139/150], Loss: 0.0337, F1 score: 0.99805\n"
     ]
    },
    {
     "data": {
      "application/vnd.jupyter.widget-view+json": {
       "model_id": "6dddb3b60d78484fa465102a88eaf694",
       "version_major": 2,
       "version_minor": 0
      },
      "text/plain": [
       "Epoch [140/150]; learning state\t:   0%|          | 0/382 [00:00<?, ?it/s]"
      ]
     },
     "metadata": {},
     "output_type": "display_data"
    },
    {
     "data": {
      "application/vnd.jupyter.widget-view+json": {
       "model_id": "897eea7e586c454185593ccc29853dc8",
       "version_major": 2,
       "version_minor": 0
      },
      "text/plain": [
       "Epoch [140/150]; metric state\t:   0%|          | 0/382 [00:00<?, ?it/s]"
      ]
     },
     "metadata": {},
     "output_type": "display_data"
    },
    {
     "name": "stdout",
     "output_type": "stream",
     "text": [
      "Epoch [140/150], Loss: 0.0166, F1 score: 0.99802\n"
     ]
    },
    {
     "data": {
      "application/vnd.jupyter.widget-view+json": {
       "model_id": "dc75794d48034d3597c5676808686566",
       "version_major": 2,
       "version_minor": 0
      },
      "text/plain": [
       "Epoch [141/150]; learning state\t:   0%|          | 0/382 [00:00<?, ?it/s]"
      ]
     },
     "metadata": {},
     "output_type": "display_data"
    },
    {
     "data": {
      "application/vnd.jupyter.widget-view+json": {
       "model_id": "f46b902dfd8a4f9c9a172a036a100399",
       "version_major": 2,
       "version_minor": 0
      },
      "text/plain": [
       "Epoch [141/150]; metric state\t:   0%|          | 0/382 [00:00<?, ?it/s]"
      ]
     },
     "metadata": {},
     "output_type": "display_data"
    },
    {
     "name": "stdout",
     "output_type": "stream",
     "text": [
      "Epoch [141/150], Loss: 0.0158, F1 score: 0.99787\n"
     ]
    },
    {
     "data": {
      "application/vnd.jupyter.widget-view+json": {
       "model_id": "f25893c28f9d4f2cb72971b9a93904dc",
       "version_major": 2,
       "version_minor": 0
      },
      "text/plain": [
       "Epoch [142/150]; learning state\t:   0%|          | 0/382 [00:00<?, ?it/s]"
      ]
     },
     "metadata": {},
     "output_type": "display_data"
    },
    {
     "data": {
      "application/vnd.jupyter.widget-view+json": {
       "model_id": "3b4b655754bc4e569bd65513adcf709d",
       "version_major": 2,
       "version_minor": 0
      },
      "text/plain": [
       "Epoch [142/150]; metric state\t:   0%|          | 0/382 [00:00<?, ?it/s]"
      ]
     },
     "metadata": {},
     "output_type": "display_data"
    },
    {
     "name": "stdout",
     "output_type": "stream",
     "text": [
      "Epoch [142/150], Loss: 0.0272, F1 score: 0.99758\n"
     ]
    },
    {
     "data": {
      "application/vnd.jupyter.widget-view+json": {
       "model_id": "d278683f711449a7ae798dbee1e5fdfe",
       "version_major": 2,
       "version_minor": 0
      },
      "text/plain": [
       "Epoch [143/150]; learning state\t:   0%|          | 0/382 [00:00<?, ?it/s]"
      ]
     },
     "metadata": {},
     "output_type": "display_data"
    },
    {
     "data": {
      "application/vnd.jupyter.widget-view+json": {
       "model_id": "ecb807e7ccbb429da56a6d146d176b98",
       "version_major": 2,
       "version_minor": 0
      },
      "text/plain": [
       "Epoch [143/150]; metric state\t:   0%|          | 0/382 [00:00<?, ?it/s]"
      ]
     },
     "metadata": {},
     "output_type": "display_data"
    },
    {
     "name": "stdout",
     "output_type": "stream",
     "text": [
      "Epoch [143/150], Loss: 0.0087, F1 score: 0.99811\n"
     ]
    },
    {
     "data": {
      "application/vnd.jupyter.widget-view+json": {
       "model_id": "71738dac2fa14c89a125dc59886856b7",
       "version_major": 2,
       "version_minor": 0
      },
      "text/plain": [
       "Epoch [144/150]; learning state\t:   0%|          | 0/382 [00:00<?, ?it/s]"
      ]
     },
     "metadata": {},
     "output_type": "display_data"
    },
    {
     "data": {
      "application/vnd.jupyter.widget-view+json": {
       "model_id": "9336405c224640ef9c3d37a93c993973",
       "version_major": 2,
       "version_minor": 0
      },
      "text/plain": [
       "Epoch [144/150]; metric state\t:   0%|          | 0/382 [00:00<?, ?it/s]"
      ]
     },
     "metadata": {},
     "output_type": "display_data"
    },
    {
     "name": "stdout",
     "output_type": "stream",
     "text": [
      "Epoch [144/150], Loss: 0.0122, F1 score: 0.99789\n"
     ]
    },
    {
     "data": {
      "application/vnd.jupyter.widget-view+json": {
       "model_id": "7d8e48deef474d609a526e1b61b7db36",
       "version_major": 2,
       "version_minor": 0
      },
      "text/plain": [
       "Epoch [145/150]; learning state\t:   0%|          | 0/382 [00:00<?, ?it/s]"
      ]
     },
     "metadata": {},
     "output_type": "display_data"
    },
    {
     "data": {
      "application/vnd.jupyter.widget-view+json": {
       "model_id": "c0f903368ec64f19b42590744dafd169",
       "version_major": 2,
       "version_minor": 0
      },
      "text/plain": [
       "Epoch [145/150]; metric state\t:   0%|          | 0/382 [00:00<?, ?it/s]"
      ]
     },
     "metadata": {},
     "output_type": "display_data"
    },
    {
     "name": "stdout",
     "output_type": "stream",
     "text": [
      "Epoch [145/150], Loss: 0.0315, F1 score: 0.99764\n"
     ]
    },
    {
     "data": {
      "application/vnd.jupyter.widget-view+json": {
       "model_id": "ab9bca131e594a60ab818d70a332ca31",
       "version_major": 2,
       "version_minor": 0
      },
      "text/plain": [
       "Epoch [146/150]; learning state\t:   0%|          | 0/382 [00:00<?, ?it/s]"
      ]
     },
     "metadata": {},
     "output_type": "display_data"
    },
    {
     "data": {
      "application/vnd.jupyter.widget-view+json": {
       "model_id": "db87d39d8bf74764a9ae97bdd67d1457",
       "version_major": 2,
       "version_minor": 0
      },
      "text/plain": [
       "Epoch [146/150]; metric state\t:   0%|          | 0/382 [00:00<?, ?it/s]"
      ]
     },
     "metadata": {},
     "output_type": "display_data"
    },
    {
     "name": "stdout",
     "output_type": "stream",
     "text": [
      "Epoch [146/150], Loss: 0.0190, F1 score: 0.99818\n"
     ]
    },
    {
     "data": {
      "application/vnd.jupyter.widget-view+json": {
       "model_id": "ff5df053b022402d814ac1c1b5d6cae4",
       "version_major": 2,
       "version_minor": 0
      },
      "text/plain": [
       "Epoch [147/150]; learning state\t:   0%|          | 0/382 [00:00<?, ?it/s]"
      ]
     },
     "metadata": {},
     "output_type": "display_data"
    },
    {
     "data": {
      "application/vnd.jupyter.widget-view+json": {
       "model_id": "bbc422cc4d2f46d884d36f70fd49e6a4",
       "version_major": 2,
       "version_minor": 0
      },
      "text/plain": [
       "Epoch [147/150]; metric state\t:   0%|          | 0/382 [00:00<?, ?it/s]"
      ]
     },
     "metadata": {},
     "output_type": "display_data"
    },
    {
     "name": "stdout",
     "output_type": "stream",
     "text": [
      "Epoch [147/150], Loss: 0.0099, F1 score: 0.99794\n"
     ]
    },
    {
     "data": {
      "application/vnd.jupyter.widget-view+json": {
       "model_id": "10769b1671ae4d88b213791419fc88e6",
       "version_major": 2,
       "version_minor": 0
      },
      "text/plain": [
       "Epoch [148/150]; learning state\t:   0%|          | 0/382 [00:00<?, ?it/s]"
      ]
     },
     "metadata": {},
     "output_type": "display_data"
    },
    {
     "data": {
      "application/vnd.jupyter.widget-view+json": {
       "model_id": "b4c3239e760b42e5b4a1f065d025b884",
       "version_major": 2,
       "version_minor": 0
      },
      "text/plain": [
       "Epoch [148/150]; metric state\t:   0%|          | 0/382 [00:00<?, ?it/s]"
      ]
     },
     "metadata": {},
     "output_type": "display_data"
    },
    {
     "name": "stdout",
     "output_type": "stream",
     "text": [
      "Epoch [148/150], Loss: 0.0171, F1 score: 0.99841\n"
     ]
    },
    {
     "data": {
      "application/vnd.jupyter.widget-view+json": {
       "model_id": "3e0c5b4978b548a3bb954b71e8ce275b",
       "version_major": 2,
       "version_minor": 0
      },
      "text/plain": [
       "Epoch [149/150]; learning state\t:   0%|          | 0/382 [00:00<?, ?it/s]"
      ]
     },
     "metadata": {},
     "output_type": "display_data"
    },
    {
     "data": {
      "application/vnd.jupyter.widget-view+json": {
       "model_id": "e0418df4d22b4d46b13fb5b63602b770",
       "version_major": 2,
       "version_minor": 0
      },
      "text/plain": [
       "Epoch [149/150]; metric state\t:   0%|          | 0/382 [00:00<?, ?it/s]"
      ]
     },
     "metadata": {},
     "output_type": "display_data"
    },
    {
     "name": "stdout",
     "output_type": "stream",
     "text": [
      "Epoch [149/150], Loss: 0.0074, F1 score: 0.99737\n"
     ]
    },
    {
     "data": {
      "application/vnd.jupyter.widget-view+json": {
       "model_id": "f84533cba9654785ae47c3e3327d5a64",
       "version_major": 2,
       "version_minor": 0
      },
      "text/plain": [
       "Epoch [150/150]; learning state\t:   0%|          | 0/382 [00:00<?, ?it/s]"
      ]
     },
     "metadata": {},
     "output_type": "display_data"
    },
    {
     "data": {
      "application/vnd.jupyter.widget-view+json": {
       "model_id": "345a69cdcc5440658aeb8e6c083d5e52",
       "version_major": 2,
       "version_minor": 0
      },
      "text/plain": [
       "Epoch [150/150]; metric state\t:   0%|          | 0/382 [00:00<?, ?it/s]"
      ]
     },
     "metadata": {},
     "output_type": "display_data"
    },
    {
     "name": "stdout",
     "output_type": "stream",
     "text": [
      "Epoch [150/150], Loss: 0.0390, F1 score: 0.99726\n"
     ]
    },
    {
     "name": "stderr",
     "output_type": "stream",
     "text": [
      "\u001b[31m2025/05/06 12:52:02 WARNING mlflow.models.model: Model logged without a signature and input example. Please set `input_example` parameter when logging the model to auto infer the model signature.\u001b[0m\n"
     ]
    },
    {
     "data": {
      "application/vnd.jupyter.widget-view+json": {
       "model_id": "205a219294b74b81866e15cba1f8a0cf",
       "version_major": 2,
       "version_minor": 0
      },
      "text/plain": [
       "Epoch [1/50]; learning state\t:   0%|          | 0/191 [00:00<?, ?it/s]"
      ]
     },
     "metadata": {},
     "output_type": "display_data"
    },
    {
     "data": {
      "application/vnd.jupyter.widget-view+json": {
       "model_id": "0edd95da98bd40ec8566dfcdac03b467",
       "version_major": 2,
       "version_minor": 0
      },
      "text/plain": [
       "Epoch [1/50]; metric state\t:   0%|          | 0/191 [00:00<?, ?it/s]"
      ]
     },
     "metadata": {},
     "output_type": "display_data"
    },
    {
     "name": "stdout",
     "output_type": "stream",
     "text": [
      "Epoch [1/50], Loss: 0.2476, F1 score: 0.74392\n"
     ]
    },
    {
     "data": {
      "application/vnd.jupyter.widget-view+json": {
       "model_id": "07334d94d9b0458d85e59471cc0ca228",
       "version_major": 2,
       "version_minor": 0
      },
      "text/plain": [
       "Epoch [2/50]; learning state\t:   0%|          | 0/191 [00:00<?, ?it/s]"
      ]
     },
     "metadata": {},
     "output_type": "display_data"
    },
    {
     "data": {
      "application/vnd.jupyter.widget-view+json": {
       "model_id": "6c3c00a6ff004a909246a89dcf64ebe1",
       "version_major": 2,
       "version_minor": 0
      },
      "text/plain": [
       "Epoch [2/50]; metric state\t:   0%|          | 0/191 [00:00<?, ?it/s]"
      ]
     },
     "metadata": {},
     "output_type": "display_data"
    },
    {
     "name": "stdout",
     "output_type": "stream",
     "text": [
      "Epoch [2/50], Loss: 0.2087, F1 score: 0.75916\n"
     ]
    },
    {
     "data": {
      "application/vnd.jupyter.widget-view+json": {
       "model_id": "9aeb446c56bd48248e099b15627855bc",
       "version_major": 2,
       "version_minor": 0
      },
      "text/plain": [
       "Epoch [3/50]; learning state\t:   0%|          | 0/191 [00:00<?, ?it/s]"
      ]
     },
     "metadata": {},
     "output_type": "display_data"
    },
    {
     "data": {
      "application/vnd.jupyter.widget-view+json": {
       "model_id": "d390e2e2229c47bdad002a93606d92f0",
       "version_major": 2,
       "version_minor": 0
      },
      "text/plain": [
       "Epoch [3/50]; metric state\t:   0%|          | 0/191 [00:00<?, ?it/s]"
      ]
     },
     "metadata": {},
     "output_type": "display_data"
    },
    {
     "name": "stdout",
     "output_type": "stream",
     "text": [
      "Epoch [3/50], Loss: 0.2248, F1 score: 0.78167\n"
     ]
    },
    {
     "data": {
      "application/vnd.jupyter.widget-view+json": {
       "model_id": "074fc61624974c2c854b8507bfb5e8d9",
       "version_major": 2,
       "version_minor": 0
      },
      "text/plain": [
       "Epoch [4/50]; learning state\t:   0%|          | 0/191 [00:00<?, ?it/s]"
      ]
     },
     "metadata": {},
     "output_type": "display_data"
    },
    {
     "data": {
      "application/vnd.jupyter.widget-view+json": {
       "model_id": "28b26da1848f41198877b2694e587e5e",
       "version_major": 2,
       "version_minor": 0
      },
      "text/plain": [
       "Epoch [4/50]; metric state\t:   0%|          | 0/191 [00:00<?, ?it/s]"
      ]
     },
     "metadata": {},
     "output_type": "display_data"
    },
    {
     "name": "stdout",
     "output_type": "stream",
     "text": [
      "Epoch [4/50], Loss: 0.1646, F1 score: 0.78641\n"
     ]
    },
    {
     "data": {
      "application/vnd.jupyter.widget-view+json": {
       "model_id": "18046674fc4d4a9688407f7499fa566d",
       "version_major": 2,
       "version_minor": 0
      },
      "text/plain": [
       "Epoch [5/50]; learning state\t:   0%|          | 0/191 [00:00<?, ?it/s]"
      ]
     },
     "metadata": {},
     "output_type": "display_data"
    },
    {
     "data": {
      "application/vnd.jupyter.widget-view+json": {
       "model_id": "17be1d93c1a64d019354e7fe7333d5bb",
       "version_major": 2,
       "version_minor": 0
      },
      "text/plain": [
       "Epoch [5/50]; metric state\t:   0%|          | 0/191 [00:00<?, ?it/s]"
      ]
     },
     "metadata": {},
     "output_type": "display_data"
    },
    {
     "name": "stdout",
     "output_type": "stream",
     "text": [
      "Epoch [5/50], Loss: 0.1936, F1 score: 0.79872\n"
     ]
    },
    {
     "data": {
      "application/vnd.jupyter.widget-view+json": {
       "model_id": "86c179c2c8a1468f91d22db118b77ffd",
       "version_major": 2,
       "version_minor": 0
      },
      "text/plain": [
       "Epoch [6/50]; learning state\t:   0%|          | 0/191 [00:00<?, ?it/s]"
      ]
     },
     "metadata": {},
     "output_type": "display_data"
    },
    {
     "data": {
      "application/vnd.jupyter.widget-view+json": {
       "model_id": "0cb5958c630f4aa183031265d1e521d0",
       "version_major": 2,
       "version_minor": 0
      },
      "text/plain": [
       "Epoch [6/50]; metric state\t:   0%|          | 0/191 [00:00<?, ?it/s]"
      ]
     },
     "metadata": {},
     "output_type": "display_data"
    },
    {
     "name": "stdout",
     "output_type": "stream",
     "text": [
      "Epoch [6/50], Loss: 0.1600, F1 score: 0.78866\n"
     ]
    },
    {
     "data": {
      "application/vnd.jupyter.widget-view+json": {
       "model_id": "1bb779727fdb4366976098d373cf2141",
       "version_major": 2,
       "version_minor": 0
      },
      "text/plain": [
       "Epoch [7/50]; learning state\t:   0%|          | 0/191 [00:00<?, ?it/s]"
      ]
     },
     "metadata": {},
     "output_type": "display_data"
    },
    {
     "data": {
      "application/vnd.jupyter.widget-view+json": {
       "model_id": "f69b5ce484884d499896fa53761c89f8",
       "version_major": 2,
       "version_minor": 0
      },
      "text/plain": [
       "Epoch [7/50]; metric state\t:   0%|          | 0/191 [00:00<?, ?it/s]"
      ]
     },
     "metadata": {},
     "output_type": "display_data"
    },
    {
     "name": "stdout",
     "output_type": "stream",
     "text": [
      "Epoch [7/50], Loss: 0.1840, F1 score: 0.81742\n"
     ]
    },
    {
     "data": {
      "application/vnd.jupyter.widget-view+json": {
       "model_id": "0de76385bd4c41858c0c7a5c8bcb443a",
       "version_major": 2,
       "version_minor": 0
      },
      "text/plain": [
       "Epoch [8/50]; learning state\t:   0%|          | 0/191 [00:00<?, ?it/s]"
      ]
     },
     "metadata": {},
     "output_type": "display_data"
    },
    {
     "data": {
      "application/vnd.jupyter.widget-view+json": {
       "model_id": "e3826051954f4a24ba597cbba5b67a54",
       "version_major": 2,
       "version_minor": 0
      },
      "text/plain": [
       "Epoch [8/50]; metric state\t:   0%|          | 0/191 [00:00<?, ?it/s]"
      ]
     },
     "metadata": {},
     "output_type": "display_data"
    },
    {
     "name": "stdout",
     "output_type": "stream",
     "text": [
      "Epoch [8/50], Loss: 0.2055, F1 score: 0.82989\n"
     ]
    },
    {
     "data": {
      "application/vnd.jupyter.widget-view+json": {
       "model_id": "35464567ffb44a41904302343fb8a0ae",
       "version_major": 2,
       "version_minor": 0
      },
      "text/plain": [
       "Epoch [9/50]; learning state\t:   0%|          | 0/191 [00:00<?, ?it/s]"
      ]
     },
     "metadata": {},
     "output_type": "display_data"
    },
    {
     "data": {
      "application/vnd.jupyter.widget-view+json": {
       "model_id": "f2fe253d62734348a044032460814524",
       "version_major": 2,
       "version_minor": 0
      },
      "text/plain": [
       "Epoch [9/50]; metric state\t:   0%|          | 0/191 [00:00<?, ?it/s]"
      ]
     },
     "metadata": {},
     "output_type": "display_data"
    },
    {
     "name": "stdout",
     "output_type": "stream",
     "text": [
      "Epoch [9/50], Loss: 0.1723, F1 score: 0.82484\n"
     ]
    },
    {
     "data": {
      "application/vnd.jupyter.widget-view+json": {
       "model_id": "b88405a3bb264f20a57ad713c057ed94",
       "version_major": 2,
       "version_minor": 0
      },
      "text/plain": [
       "Epoch [10/50]; learning state\t:   0%|          | 0/191 [00:00<?, ?it/s]"
      ]
     },
     "metadata": {},
     "output_type": "display_data"
    },
    {
     "data": {
      "application/vnd.jupyter.widget-view+json": {
       "model_id": "e853fe89f2e443bd89374fe37e780a8a",
       "version_major": 2,
       "version_minor": 0
      },
      "text/plain": [
       "Epoch [10/50]; metric state\t:   0%|          | 0/191 [00:00<?, ?it/s]"
      ]
     },
     "metadata": {},
     "output_type": "display_data"
    },
    {
     "name": "stdout",
     "output_type": "stream",
     "text": [
      "Epoch [10/50], Loss: 0.1683, F1 score: 0.84309\n"
     ]
    },
    {
     "data": {
      "application/vnd.jupyter.widget-view+json": {
       "model_id": "cfee5987a1bb44e5ba1cfc3c051f4dd2",
       "version_major": 2,
       "version_minor": 0
      },
      "text/plain": [
       "Epoch [11/50]; learning state\t:   0%|          | 0/191 [00:00<?, ?it/s]"
      ]
     },
     "metadata": {},
     "output_type": "display_data"
    },
    {
     "data": {
      "application/vnd.jupyter.widget-view+json": {
       "model_id": "1e28c452c7fb4153a7cf6e1648cb1be4",
       "version_major": 2,
       "version_minor": 0
      },
      "text/plain": [
       "Epoch [11/50]; metric state\t:   0%|          | 0/191 [00:00<?, ?it/s]"
      ]
     },
     "metadata": {},
     "output_type": "display_data"
    },
    {
     "name": "stdout",
     "output_type": "stream",
     "text": [
      "Epoch [11/50], Loss: 0.1620, F1 score: 0.84595\n"
     ]
    },
    {
     "data": {
      "application/vnd.jupyter.widget-view+json": {
       "model_id": "4a2fb3a944554fd8a9f04bb05364324d",
       "version_major": 2,
       "version_minor": 0
      },
      "text/plain": [
       "Epoch [12/50]; learning state\t:   0%|          | 0/191 [00:00<?, ?it/s]"
      ]
     },
     "metadata": {},
     "output_type": "display_data"
    },
    {
     "data": {
      "application/vnd.jupyter.widget-view+json": {
       "model_id": "735d75ffea5342a2b66af8ac0f775380",
       "version_major": 2,
       "version_minor": 0
      },
      "text/plain": [
       "Epoch [12/50]; metric state\t:   0%|          | 0/191 [00:00<?, ?it/s]"
      ]
     },
     "metadata": {},
     "output_type": "display_data"
    },
    {
     "name": "stdout",
     "output_type": "stream",
     "text": [
      "Epoch [12/50], Loss: 0.1619, F1 score: 0.85712\n"
     ]
    },
    {
     "data": {
      "application/vnd.jupyter.widget-view+json": {
       "model_id": "aeda4294af694429bcc664b00accfe9c",
       "version_major": 2,
       "version_minor": 0
      },
      "text/plain": [
       "Epoch [13/50]; learning state\t:   0%|          | 0/191 [00:00<?, ?it/s]"
      ]
     },
     "metadata": {},
     "output_type": "display_data"
    },
    {
     "data": {
      "application/vnd.jupyter.widget-view+json": {
       "model_id": "ad51fbcf937b4d87a0ba68bf8556f2d6",
       "version_major": 2,
       "version_minor": 0
      },
      "text/plain": [
       "Epoch [13/50]; metric state\t:   0%|          | 0/191 [00:00<?, ?it/s]"
      ]
     },
     "metadata": {},
     "output_type": "display_data"
    },
    {
     "name": "stdout",
     "output_type": "stream",
     "text": [
      "Epoch [13/50], Loss: 0.1477, F1 score: 0.86596\n"
     ]
    },
    {
     "data": {
      "application/vnd.jupyter.widget-view+json": {
       "model_id": "86907aafb94845e6b7f28b9e54307f03",
       "version_major": 2,
       "version_minor": 0
      },
      "text/plain": [
       "Epoch [14/50]; learning state\t:   0%|          | 0/191 [00:00<?, ?it/s]"
      ]
     },
     "metadata": {},
     "output_type": "display_data"
    },
    {
     "data": {
      "application/vnd.jupyter.widget-view+json": {
       "model_id": "04e4e64278f24d76b30c9e9da513a79f",
       "version_major": 2,
       "version_minor": 0
      },
      "text/plain": [
       "Epoch [14/50]; metric state\t:   0%|          | 0/191 [00:00<?, ?it/s]"
      ]
     },
     "metadata": {},
     "output_type": "display_data"
    },
    {
     "name": "stdout",
     "output_type": "stream",
     "text": [
      "Epoch [14/50], Loss: 0.1396, F1 score: 0.85660\n"
     ]
    },
    {
     "data": {
      "application/vnd.jupyter.widget-view+json": {
       "model_id": "78af1276d609408e86cf063f95a68576",
       "version_major": 2,
       "version_minor": 0
      },
      "text/plain": [
       "Epoch [15/50]; learning state\t:   0%|          | 0/191 [00:00<?, ?it/s]"
      ]
     },
     "metadata": {},
     "output_type": "display_data"
    },
    {
     "data": {
      "application/vnd.jupyter.widget-view+json": {
       "model_id": "982aa77758624927b0d19bdaec6eb901",
       "version_major": 2,
       "version_minor": 0
      },
      "text/plain": [
       "Epoch [15/50]; metric state\t:   0%|          | 0/191 [00:00<?, ?it/s]"
      ]
     },
     "metadata": {},
     "output_type": "display_data"
    },
    {
     "name": "stdout",
     "output_type": "stream",
     "text": [
      "Epoch [15/50], Loss: 0.1523, F1 score: 0.87003\n"
     ]
    },
    {
     "data": {
      "application/vnd.jupyter.widget-view+json": {
       "model_id": "a9eba59d6ded4e51950744f33406a948",
       "version_major": 2,
       "version_minor": 0
      },
      "text/plain": [
       "Epoch [16/50]; learning state\t:   0%|          | 0/191 [00:00<?, ?it/s]"
      ]
     },
     "metadata": {},
     "output_type": "display_data"
    },
    {
     "data": {
      "application/vnd.jupyter.widget-view+json": {
       "model_id": "0a9d10b6968c48369c35e25f1f517a75",
       "version_major": 2,
       "version_minor": 0
      },
      "text/plain": [
       "Epoch [16/50]; metric state\t:   0%|          | 0/191 [00:00<?, ?it/s]"
      ]
     },
     "metadata": {},
     "output_type": "display_data"
    },
    {
     "name": "stdout",
     "output_type": "stream",
     "text": [
      "Epoch [16/50], Loss: 0.1488, F1 score: 0.88501\n"
     ]
    },
    {
     "data": {
      "application/vnd.jupyter.widget-view+json": {
       "model_id": "ddc2a0d3fde54fc6b01bb5731292ac18",
       "version_major": 2,
       "version_minor": 0
      },
      "text/plain": [
       "Epoch [17/50]; learning state\t:   0%|          | 0/191 [00:00<?, ?it/s]"
      ]
     },
     "metadata": {},
     "output_type": "display_data"
    },
    {
     "data": {
      "application/vnd.jupyter.widget-view+json": {
       "model_id": "0ccb3968ace546d686f2c3b3b0f0f3b7",
       "version_major": 2,
       "version_minor": 0
      },
      "text/plain": [
       "Epoch [17/50]; metric state\t:   0%|          | 0/191 [00:00<?, ?it/s]"
      ]
     },
     "metadata": {},
     "output_type": "display_data"
    },
    {
     "name": "stdout",
     "output_type": "stream",
     "text": [
      "Epoch [17/50], Loss: 0.1251, F1 score: 0.88934\n"
     ]
    },
    {
     "data": {
      "application/vnd.jupyter.widget-view+json": {
       "model_id": "595db43d67a84a32976fcfa4f89f385f",
       "version_major": 2,
       "version_minor": 0
      },
      "text/plain": [
       "Epoch [18/50]; learning state\t:   0%|          | 0/191 [00:00<?, ?it/s]"
      ]
     },
     "metadata": {},
     "output_type": "display_data"
    },
    {
     "data": {
      "application/vnd.jupyter.widget-view+json": {
       "model_id": "5ac5182930ea4114a81c98b576b535c9",
       "version_major": 2,
       "version_minor": 0
      },
      "text/plain": [
       "Epoch [18/50]; metric state\t:   0%|          | 0/191 [00:00<?, ?it/s]"
      ]
     },
     "metadata": {},
     "output_type": "display_data"
    },
    {
     "name": "stdout",
     "output_type": "stream",
     "text": [
      "Epoch [18/50], Loss: 0.1299, F1 score: 0.88988\n"
     ]
    },
    {
     "data": {
      "application/vnd.jupyter.widget-view+json": {
       "model_id": "5e8ce29ef4654dd08b8c463855b9475e",
       "version_major": 2,
       "version_minor": 0
      },
      "text/plain": [
       "Epoch [19/50]; learning state\t:   0%|          | 0/191 [00:00<?, ?it/s]"
      ]
     },
     "metadata": {},
     "output_type": "display_data"
    },
    {
     "data": {
      "application/vnd.jupyter.widget-view+json": {
       "model_id": "ddd4fc26d72a4b3abed4f0e0654c85ed",
       "version_major": 2,
       "version_minor": 0
      },
      "text/plain": [
       "Epoch [19/50]; metric state\t:   0%|          | 0/191 [00:00<?, ?it/s]"
      ]
     },
     "metadata": {},
     "output_type": "display_data"
    },
    {
     "name": "stdout",
     "output_type": "stream",
     "text": [
      "Epoch [19/50], Loss: 0.1129, F1 score: 0.90428\n"
     ]
    },
    {
     "data": {
      "application/vnd.jupyter.widget-view+json": {
       "model_id": "40a24f27b6184d1f87ba878ef7e45e44",
       "version_major": 2,
       "version_minor": 0
      },
      "text/plain": [
       "Epoch [20/50]; learning state\t:   0%|          | 0/191 [00:00<?, ?it/s]"
      ]
     },
     "metadata": {},
     "output_type": "display_data"
    },
    {
     "data": {
      "application/vnd.jupyter.widget-view+json": {
       "model_id": "7669ce0a6abf4c28a4321a79bd6e0823",
       "version_major": 2,
       "version_minor": 0
      },
      "text/plain": [
       "Epoch [20/50]; metric state\t:   0%|          | 0/191 [00:00<?, ?it/s]"
      ]
     },
     "metadata": {},
     "output_type": "display_data"
    },
    {
     "name": "stdout",
     "output_type": "stream",
     "text": [
      "Epoch [20/50], Loss: 0.1348, F1 score: 0.89890\n"
     ]
    },
    {
     "data": {
      "application/vnd.jupyter.widget-view+json": {
       "model_id": "e07921af671b4ee2baa8401806219068",
       "version_major": 2,
       "version_minor": 0
      },
      "text/plain": [
       "Epoch [21/50]; learning state\t:   0%|          | 0/191 [00:00<?, ?it/s]"
      ]
     },
     "metadata": {},
     "output_type": "display_data"
    },
    {
     "data": {
      "application/vnd.jupyter.widget-view+json": {
       "model_id": "4e3f9e32b82842b8b0aa9500b8f8d825",
       "version_major": 2,
       "version_minor": 0
      },
      "text/plain": [
       "Epoch [21/50]; metric state\t:   0%|          | 0/191 [00:00<?, ?it/s]"
      ]
     },
     "metadata": {},
     "output_type": "display_data"
    },
    {
     "name": "stdout",
     "output_type": "stream",
     "text": [
      "Epoch [21/50], Loss: 0.1171, F1 score: 0.90951\n"
     ]
    },
    {
     "data": {
      "application/vnd.jupyter.widget-view+json": {
       "model_id": "f7ac95acb528491d8bcdd058c480833e",
       "version_major": 2,
       "version_minor": 0
      },
      "text/plain": [
       "Epoch [22/50]; learning state\t:   0%|          | 0/191 [00:00<?, ?it/s]"
      ]
     },
     "metadata": {},
     "output_type": "display_data"
    },
    {
     "data": {
      "application/vnd.jupyter.widget-view+json": {
       "model_id": "7d211b1efed24030963a268cdc67a8eb",
       "version_major": 2,
       "version_minor": 0
      },
      "text/plain": [
       "Epoch [22/50]; metric state\t:   0%|          | 0/191 [00:00<?, ?it/s]"
      ]
     },
     "metadata": {},
     "output_type": "display_data"
    },
    {
     "name": "stdout",
     "output_type": "stream",
     "text": [
      "Epoch [22/50], Loss: 0.1046, F1 score: 0.91816\n"
     ]
    },
    {
     "data": {
      "application/vnd.jupyter.widget-view+json": {
       "model_id": "dba27b80016b49b5aae4126d2d8ef1fd",
       "version_major": 2,
       "version_minor": 0
      },
      "text/plain": [
       "Epoch [23/50]; learning state\t:   0%|          | 0/191 [00:00<?, ?it/s]"
      ]
     },
     "metadata": {},
     "output_type": "display_data"
    },
    {
     "data": {
      "application/vnd.jupyter.widget-view+json": {
       "model_id": "20410e915d474cb9b778f5e30a9c1b32",
       "version_major": 2,
       "version_minor": 0
      },
      "text/plain": [
       "Epoch [23/50]; metric state\t:   0%|          | 0/191 [00:00<?, ?it/s]"
      ]
     },
     "metadata": {},
     "output_type": "display_data"
    },
    {
     "name": "stdout",
     "output_type": "stream",
     "text": [
      "Epoch [23/50], Loss: 0.1361, F1 score: 0.92621\n"
     ]
    },
    {
     "data": {
      "application/vnd.jupyter.widget-view+json": {
       "model_id": "cf2437325b7c45048be3f3f13be00a39",
       "version_major": 2,
       "version_minor": 0
      },
      "text/plain": [
       "Epoch [24/50]; learning state\t:   0%|          | 0/191 [00:00<?, ?it/s]"
      ]
     },
     "metadata": {},
     "output_type": "display_data"
    },
    {
     "data": {
      "application/vnd.jupyter.widget-view+json": {
       "model_id": "9f7f1404e0f04d86b151633d676047e2",
       "version_major": 2,
       "version_minor": 0
      },
      "text/plain": [
       "Epoch [24/50]; metric state\t:   0%|          | 0/191 [00:00<?, ?it/s]"
      ]
     },
     "metadata": {},
     "output_type": "display_data"
    },
    {
     "name": "stdout",
     "output_type": "stream",
     "text": [
      "Epoch [24/50], Loss: 0.0791, F1 score: 0.92455\n"
     ]
    },
    {
     "data": {
      "application/vnd.jupyter.widget-view+json": {
       "model_id": "8d7fd555e7994e8fbd80f3736cdeb33e",
       "version_major": 2,
       "version_minor": 0
      },
      "text/plain": [
       "Epoch [25/50]; learning state\t:   0%|          | 0/191 [00:00<?, ?it/s]"
      ]
     },
     "metadata": {},
     "output_type": "display_data"
    },
    {
     "data": {
      "application/vnd.jupyter.widget-view+json": {
       "model_id": "348e6f0d434e4aebbd3b6c291116e00d",
       "version_major": 2,
       "version_minor": 0
      },
      "text/plain": [
       "Epoch [25/50]; metric state\t:   0%|          | 0/191 [00:00<?, ?it/s]"
      ]
     },
     "metadata": {},
     "output_type": "display_data"
    },
    {
     "name": "stdout",
     "output_type": "stream",
     "text": [
      "Epoch [25/50], Loss: 0.0925, F1 score: 0.93244\n"
     ]
    },
    {
     "data": {
      "application/vnd.jupyter.widget-view+json": {
       "model_id": "e3c70b0d2d9a46c4aa6fb77d21046efb",
       "version_major": 2,
       "version_minor": 0
      },
      "text/plain": [
       "Epoch [26/50]; learning state\t:   0%|          | 0/191 [00:00<?, ?it/s]"
      ]
     },
     "metadata": {},
     "output_type": "display_data"
    },
    {
     "data": {
      "application/vnd.jupyter.widget-view+json": {
       "model_id": "60ae0b84543049c3b131a5ae48be0b0a",
       "version_major": 2,
       "version_minor": 0
      },
      "text/plain": [
       "Epoch [26/50]; metric state\t:   0%|          | 0/191 [00:00<?, ?it/s]"
      ]
     },
     "metadata": {},
     "output_type": "display_data"
    },
    {
     "name": "stdout",
     "output_type": "stream",
     "text": [
      "Epoch [26/50], Loss: 0.0843, F1 score: 0.94279\n"
     ]
    },
    {
     "data": {
      "application/vnd.jupyter.widget-view+json": {
       "model_id": "6feb290a18c04aa3863b969b99bb09c5",
       "version_major": 2,
       "version_minor": 0
      },
      "text/plain": [
       "Epoch [27/50]; learning state\t:   0%|          | 0/191 [00:00<?, ?it/s]"
      ]
     },
     "metadata": {},
     "output_type": "display_data"
    },
    {
     "data": {
      "application/vnd.jupyter.widget-view+json": {
       "model_id": "d5cb632da89744cbab61f070dabb986c",
       "version_major": 2,
       "version_minor": 0
      },
      "text/plain": [
       "Epoch [27/50]; metric state\t:   0%|          | 0/191 [00:00<?, ?it/s]"
      ]
     },
     "metadata": {},
     "output_type": "display_data"
    },
    {
     "name": "stdout",
     "output_type": "stream",
     "text": [
      "Epoch [27/50], Loss: 0.0991, F1 score: 0.94140\n"
     ]
    },
    {
     "data": {
      "application/vnd.jupyter.widget-view+json": {
       "model_id": "f09d6dc92b2d4d2bb7ca8b7793c91777",
       "version_major": 2,
       "version_minor": 0
      },
      "text/plain": [
       "Epoch [28/50]; learning state\t:   0%|          | 0/191 [00:00<?, ?it/s]"
      ]
     },
     "metadata": {},
     "output_type": "display_data"
    },
    {
     "data": {
      "application/vnd.jupyter.widget-view+json": {
       "model_id": "221af3beb4954bc0a4a4a68eac1d86f5",
       "version_major": 2,
       "version_minor": 0
      },
      "text/plain": [
       "Epoch [28/50]; metric state\t:   0%|          | 0/191 [00:00<?, ?it/s]"
      ]
     },
     "metadata": {},
     "output_type": "display_data"
    },
    {
     "name": "stdout",
     "output_type": "stream",
     "text": [
      "Epoch [28/50], Loss: 0.0912, F1 score: 0.94782\n"
     ]
    },
    {
     "data": {
      "application/vnd.jupyter.widget-view+json": {
       "model_id": "3a58eced7c0c45b49b259e579006f9c5",
       "version_major": 2,
       "version_minor": 0
      },
      "text/plain": [
       "Epoch [29/50]; learning state\t:   0%|          | 0/191 [00:00<?, ?it/s]"
      ]
     },
     "metadata": {},
     "output_type": "display_data"
    },
    {
     "data": {
      "application/vnd.jupyter.widget-view+json": {
       "model_id": "8776684090d94cbb8565423044301332",
       "version_major": 2,
       "version_minor": 0
      },
      "text/plain": [
       "Epoch [29/50]; metric state\t:   0%|          | 0/191 [00:00<?, ?it/s]"
      ]
     },
     "metadata": {},
     "output_type": "display_data"
    },
    {
     "name": "stdout",
     "output_type": "stream",
     "text": [
      "Epoch [29/50], Loss: 0.0919, F1 score: 0.95396\n"
     ]
    },
    {
     "data": {
      "application/vnd.jupyter.widget-view+json": {
       "model_id": "6e39aa0c5ffe4990a3e1748be31569fb",
       "version_major": 2,
       "version_minor": 0
      },
      "text/plain": [
       "Epoch [30/50]; learning state\t:   0%|          | 0/191 [00:00<?, ?it/s]"
      ]
     },
     "metadata": {},
     "output_type": "display_data"
    },
    {
     "data": {
      "application/vnd.jupyter.widget-view+json": {
       "model_id": "477d325328714663a60968528ec95f1c",
       "version_major": 2,
       "version_minor": 0
      },
      "text/plain": [
       "Epoch [30/50]; metric state\t:   0%|          | 0/191 [00:00<?, ?it/s]"
      ]
     },
     "metadata": {},
     "output_type": "display_data"
    },
    {
     "name": "stdout",
     "output_type": "stream",
     "text": [
      "Epoch [30/50], Loss: 0.0770, F1 score: 0.95381\n"
     ]
    },
    {
     "data": {
      "application/vnd.jupyter.widget-view+json": {
       "model_id": "ef7f06e138af4c5696b22e386eea2ea4",
       "version_major": 2,
       "version_minor": 0
      },
      "text/plain": [
       "Epoch [31/50]; learning state\t:   0%|          | 0/191 [00:00<?, ?it/s]"
      ]
     },
     "metadata": {},
     "output_type": "display_data"
    },
    {
     "data": {
      "application/vnd.jupyter.widget-view+json": {
       "model_id": "336cb9cee277482f825473fce3d96580",
       "version_major": 2,
       "version_minor": 0
      },
      "text/plain": [
       "Epoch [31/50]; metric state\t:   0%|          | 0/191 [00:00<?, ?it/s]"
      ]
     },
     "metadata": {},
     "output_type": "display_data"
    },
    {
     "name": "stdout",
     "output_type": "stream",
     "text": [
      "Epoch [31/50], Loss: 0.0727, F1 score: 0.95590\n"
     ]
    },
    {
     "data": {
      "application/vnd.jupyter.widget-view+json": {
       "model_id": "6da613540141472c8dec5a733a32ce06",
       "version_major": 2,
       "version_minor": 0
      },
      "text/plain": [
       "Epoch [32/50]; learning state\t:   0%|          | 0/191 [00:00<?, ?it/s]"
      ]
     },
     "metadata": {},
     "output_type": "display_data"
    },
    {
     "data": {
      "application/vnd.jupyter.widget-view+json": {
       "model_id": "49d5a420322942aab9939c6d2169afe0",
       "version_major": 2,
       "version_minor": 0
      },
      "text/plain": [
       "Epoch [32/50]; metric state\t:   0%|          | 0/191 [00:00<?, ?it/s]"
      ]
     },
     "metadata": {},
     "output_type": "display_data"
    },
    {
     "name": "stdout",
     "output_type": "stream",
     "text": [
      "Epoch [32/50], Loss: 0.0984, F1 score: 0.96314\n"
     ]
    },
    {
     "data": {
      "application/vnd.jupyter.widget-view+json": {
       "model_id": "85b5fd94696b46e086c546f07fd069e9",
       "version_major": 2,
       "version_minor": 0
      },
      "text/plain": [
       "Epoch [33/50]; learning state\t:   0%|          | 0/191 [00:00<?, ?it/s]"
      ]
     },
     "metadata": {},
     "output_type": "display_data"
    },
    {
     "data": {
      "application/vnd.jupyter.widget-view+json": {
       "model_id": "3b3ca5aecd5a42cdac694612ceab0608",
       "version_major": 2,
       "version_minor": 0
      },
      "text/plain": [
       "Epoch [33/50]; metric state\t:   0%|          | 0/191 [00:00<?, ?it/s]"
      ]
     },
     "metadata": {},
     "output_type": "display_data"
    },
    {
     "name": "stdout",
     "output_type": "stream",
     "text": [
      "Epoch [33/50], Loss: 0.0684, F1 score: 0.95907\n"
     ]
    },
    {
     "data": {
      "application/vnd.jupyter.widget-view+json": {
       "model_id": "54fda6d5a40c48b089659dabcc9d5feb",
       "version_major": 2,
       "version_minor": 0
      },
      "text/plain": [
       "Epoch [34/50]; learning state\t:   0%|          | 0/191 [00:00<?, ?it/s]"
      ]
     },
     "metadata": {},
     "output_type": "display_data"
    },
    {
     "data": {
      "application/vnd.jupyter.widget-view+json": {
       "model_id": "e9083a911f6a4a0cb4a1e13515bc9500",
       "version_major": 2,
       "version_minor": 0
      },
      "text/plain": [
       "Epoch [34/50]; metric state\t:   0%|          | 0/191 [00:00<?, ?it/s]"
      ]
     },
     "metadata": {},
     "output_type": "display_data"
    },
    {
     "name": "stdout",
     "output_type": "stream",
     "text": [
      "Epoch [34/50], Loss: 0.0964, F1 score: 0.96242\n"
     ]
    },
    {
     "data": {
      "application/vnd.jupyter.widget-view+json": {
       "model_id": "afea3b4a67cb4ace9dd2aca91f303476",
       "version_major": 2,
       "version_minor": 0
      },
      "text/plain": [
       "Epoch [35/50]; learning state\t:   0%|          | 0/191 [00:00<?, ?it/s]"
      ]
     },
     "metadata": {},
     "output_type": "display_data"
    },
    {
     "data": {
      "application/vnd.jupyter.widget-view+json": {
       "model_id": "e1e6f89c307c4f99a74b7b8300e49d1e",
       "version_major": 2,
       "version_minor": 0
      },
      "text/plain": [
       "Epoch [35/50]; metric state\t:   0%|          | 0/191 [00:00<?, ?it/s]"
      ]
     },
     "metadata": {},
     "output_type": "display_data"
    },
    {
     "name": "stdout",
     "output_type": "stream",
     "text": [
      "Epoch [35/50], Loss: 0.0607, F1 score: 0.96697\n"
     ]
    },
    {
     "data": {
      "application/vnd.jupyter.widget-view+json": {
       "model_id": "5d7d26efca4c438a9e7373465f1539e4",
       "version_major": 2,
       "version_minor": 0
      },
      "text/plain": [
       "Epoch [36/50]; learning state\t:   0%|          | 0/191 [00:00<?, ?it/s]"
      ]
     },
     "metadata": {},
     "output_type": "display_data"
    },
    {
     "data": {
      "application/vnd.jupyter.widget-view+json": {
       "model_id": "2075cabac1824aeaaa1c700c5224cc8f",
       "version_major": 2,
       "version_minor": 0
      },
      "text/plain": [
       "Epoch [36/50]; metric state\t:   0%|          | 0/191 [00:00<?, ?it/s]"
      ]
     },
     "metadata": {},
     "output_type": "display_data"
    },
    {
     "name": "stdout",
     "output_type": "stream",
     "text": [
      "Epoch [36/50], Loss: 0.0834, F1 score: 0.95652\n"
     ]
    },
    {
     "data": {
      "application/vnd.jupyter.widget-view+json": {
       "model_id": "8d478b11458b405cb85e105fac8bb5d6",
       "version_major": 2,
       "version_minor": 0
      },
      "text/plain": [
       "Epoch [37/50]; learning state\t:   0%|          | 0/191 [00:00<?, ?it/s]"
      ]
     },
     "metadata": {},
     "output_type": "display_data"
    },
    {
     "data": {
      "application/vnd.jupyter.widget-view+json": {
       "model_id": "ec078b94618c40c2912b235ff7c26d39",
       "version_major": 2,
       "version_minor": 0
      },
      "text/plain": [
       "Epoch [37/50]; metric state\t:   0%|          | 0/191 [00:00<?, ?it/s]"
      ]
     },
     "metadata": {},
     "output_type": "display_data"
    },
    {
     "name": "stdout",
     "output_type": "stream",
     "text": [
      "Epoch [37/50], Loss: 0.0514, F1 score: 0.96116\n"
     ]
    },
    {
     "data": {
      "application/vnd.jupyter.widget-view+json": {
       "model_id": "cb57ca345a474f9f8aaca30d1f0202ed",
       "version_major": 2,
       "version_minor": 0
      },
      "text/plain": [
       "Epoch [38/50]; learning state\t:   0%|          | 0/191 [00:00<?, ?it/s]"
      ]
     },
     "metadata": {},
     "output_type": "display_data"
    },
    {
     "data": {
      "application/vnd.jupyter.widget-view+json": {
       "model_id": "ba50ee595f3648258ee9f66223a6def8",
       "version_major": 2,
       "version_minor": 0
      },
      "text/plain": [
       "Epoch [38/50]; metric state\t:   0%|          | 0/191 [00:00<?, ?it/s]"
      ]
     },
     "metadata": {},
     "output_type": "display_data"
    },
    {
     "name": "stdout",
     "output_type": "stream",
     "text": [
      "Epoch [38/50], Loss: 0.0559, F1 score: 0.97500\n"
     ]
    },
    {
     "data": {
      "application/vnd.jupyter.widget-view+json": {
       "model_id": "13dd36cb2a984651bc76334a8d7a2a45",
       "version_major": 2,
       "version_minor": 0
      },
      "text/plain": [
       "Epoch [39/50]; learning state\t:   0%|          | 0/191 [00:00<?, ?it/s]"
      ]
     },
     "metadata": {},
     "output_type": "display_data"
    },
    {
     "data": {
      "application/vnd.jupyter.widget-view+json": {
       "model_id": "5206683d16384237899ac467c9502c9b",
       "version_major": 2,
       "version_minor": 0
      },
      "text/plain": [
       "Epoch [39/50]; metric state\t:   0%|          | 0/191 [00:00<?, ?it/s]"
      ]
     },
     "metadata": {},
     "output_type": "display_data"
    },
    {
     "name": "stdout",
     "output_type": "stream",
     "text": [
      "Epoch [39/50], Loss: 0.0518, F1 score: 0.97907\n"
     ]
    },
    {
     "data": {
      "application/vnd.jupyter.widget-view+json": {
       "model_id": "0c615cd79cd749a6b7a83bd0b94488ac",
       "version_major": 2,
       "version_minor": 0
      },
      "text/plain": [
       "Epoch [40/50]; learning state\t:   0%|          | 0/191 [00:00<?, ?it/s]"
      ]
     },
     "metadata": {},
     "output_type": "display_data"
    },
    {
     "data": {
      "application/vnd.jupyter.widget-view+json": {
       "model_id": "49443ce2a80a4ddc8c569addadc3890d",
       "version_major": 2,
       "version_minor": 0
      },
      "text/plain": [
       "Epoch [40/50]; metric state\t:   0%|          | 0/191 [00:00<?, ?it/s]"
      ]
     },
     "metadata": {},
     "output_type": "display_data"
    },
    {
     "name": "stdout",
     "output_type": "stream",
     "text": [
      "Epoch [40/50], Loss: 0.0500, F1 score: 0.98090\n"
     ]
    },
    {
     "data": {
      "application/vnd.jupyter.widget-view+json": {
       "model_id": "b04acf92cbc1481697445b96736e397a",
       "version_major": 2,
       "version_minor": 0
      },
      "text/plain": [
       "Epoch [41/50]; learning state\t:   0%|          | 0/191 [00:00<?, ?it/s]"
      ]
     },
     "metadata": {},
     "output_type": "display_data"
    },
    {
     "data": {
      "application/vnd.jupyter.widget-view+json": {
       "model_id": "06407de47d3d40e3a4ac04532cf7bf9a",
       "version_major": 2,
       "version_minor": 0
      },
      "text/plain": [
       "Epoch [41/50]; metric state\t:   0%|          | 0/191 [00:00<?, ?it/s]"
      ]
     },
     "metadata": {},
     "output_type": "display_data"
    },
    {
     "name": "stdout",
     "output_type": "stream",
     "text": [
      "Epoch [41/50], Loss: 0.0566, F1 score: 0.97882\n"
     ]
    },
    {
     "data": {
      "application/vnd.jupyter.widget-view+json": {
       "model_id": "0b869cea168f4c87bc83e999ce061ee9",
       "version_major": 2,
       "version_minor": 0
      },
      "text/plain": [
       "Epoch [42/50]; learning state\t:   0%|          | 0/191 [00:00<?, ?it/s]"
      ]
     },
     "metadata": {},
     "output_type": "display_data"
    },
    {
     "data": {
      "application/vnd.jupyter.widget-view+json": {
       "model_id": "73b35f8731364337b92fb5a62da1de50",
       "version_major": 2,
       "version_minor": 0
      },
      "text/plain": [
       "Epoch [42/50]; metric state\t:   0%|          | 0/191 [00:00<?, ?it/s]"
      ]
     },
     "metadata": {},
     "output_type": "display_data"
    },
    {
     "name": "stdout",
     "output_type": "stream",
     "text": [
      "Epoch [42/50], Loss: 0.0532, F1 score: 0.98244\n"
     ]
    },
    {
     "data": {
      "application/vnd.jupyter.widget-view+json": {
       "model_id": "21a9ef8bb0434e0fa13cbb7c8762e77a",
       "version_major": 2,
       "version_minor": 0
      },
      "text/plain": [
       "Epoch [43/50]; learning state\t:   0%|          | 0/191 [00:00<?, ?it/s]"
      ]
     },
     "metadata": {},
     "output_type": "display_data"
    },
    {
     "data": {
      "application/vnd.jupyter.widget-view+json": {
       "model_id": "02cc070a7646441bae43f12c0bcc4341",
       "version_major": 2,
       "version_minor": 0
      },
      "text/plain": [
       "Epoch [43/50]; metric state\t:   0%|          | 0/191 [00:00<?, ?it/s]"
      ]
     },
     "metadata": {},
     "output_type": "display_data"
    },
    {
     "name": "stdout",
     "output_type": "stream",
     "text": [
      "Epoch [43/50], Loss: 0.0398, F1 score: 0.98534\n"
     ]
    },
    {
     "data": {
      "application/vnd.jupyter.widget-view+json": {
       "model_id": "031ab0d090c1414d808e38fbcf1e169f",
       "version_major": 2,
       "version_minor": 0
      },
      "text/plain": [
       "Epoch [44/50]; learning state\t:   0%|          | 0/191 [00:00<?, ?it/s]"
      ]
     },
     "metadata": {},
     "output_type": "display_data"
    },
    {
     "data": {
      "application/vnd.jupyter.widget-view+json": {
       "model_id": "2da76a0b244345f68b767eb7a1ea7298",
       "version_major": 2,
       "version_minor": 0
      },
      "text/plain": [
       "Epoch [44/50]; metric state\t:   0%|          | 0/191 [00:00<?, ?it/s]"
      ]
     },
     "metadata": {},
     "output_type": "display_data"
    },
    {
     "name": "stdout",
     "output_type": "stream",
     "text": [
      "Epoch [44/50], Loss: 0.0551, F1 score: 0.98581\n"
     ]
    },
    {
     "data": {
      "application/vnd.jupyter.widget-view+json": {
       "model_id": "40d10fad90a94aa18a3d8e847ea7e46f",
       "version_major": 2,
       "version_minor": 0
      },
      "text/plain": [
       "Epoch [45/50]; learning state\t:   0%|          | 0/191 [00:00<?, ?it/s]"
      ]
     },
     "metadata": {},
     "output_type": "display_data"
    },
    {
     "data": {
      "application/vnd.jupyter.widget-view+json": {
       "model_id": "5d5da200abf049d1a4ec8aad60d10c23",
       "version_major": 2,
       "version_minor": 0
      },
      "text/plain": [
       "Epoch [45/50]; metric state\t:   0%|          | 0/191 [00:00<?, ?it/s]"
      ]
     },
     "metadata": {},
     "output_type": "display_data"
    },
    {
     "name": "stdout",
     "output_type": "stream",
     "text": [
      "Epoch [45/50], Loss: 0.0613, F1 score: 0.98014\n"
     ]
    },
    {
     "data": {
      "application/vnd.jupyter.widget-view+json": {
       "model_id": "7ddcb327f5db416bb95a83dcdcda8ae5",
       "version_major": 2,
       "version_minor": 0
      },
      "text/plain": [
       "Epoch [46/50]; learning state\t:   0%|          | 0/191 [00:00<?, ?it/s]"
      ]
     },
     "metadata": {},
     "output_type": "display_data"
    },
    {
     "data": {
      "application/vnd.jupyter.widget-view+json": {
       "model_id": "3d3533ccba0a4495932432a727d9921f",
       "version_major": 2,
       "version_minor": 0
      },
      "text/plain": [
       "Epoch [46/50]; metric state\t:   0%|          | 0/191 [00:00<?, ?it/s]"
      ]
     },
     "metadata": {},
     "output_type": "display_data"
    },
    {
     "name": "stdout",
     "output_type": "stream",
     "text": [
      "Epoch [46/50], Loss: 0.0537, F1 score: 0.98156\n"
     ]
    },
    {
     "data": {
      "application/vnd.jupyter.widget-view+json": {
       "model_id": "f586c58871a04042b5e4cef056bc3401",
       "version_major": 2,
       "version_minor": 0
      },
      "text/plain": [
       "Epoch [47/50]; learning state\t:   0%|          | 0/191 [00:00<?, ?it/s]"
      ]
     },
     "metadata": {},
     "output_type": "display_data"
    },
    {
     "data": {
      "application/vnd.jupyter.widget-view+json": {
       "model_id": "0088704e5b2a4e35a5f5afe37322daf9",
       "version_major": 2,
       "version_minor": 0
      },
      "text/plain": [
       "Epoch [47/50]; metric state\t:   0%|          | 0/191 [00:00<?, ?it/s]"
      ]
     },
     "metadata": {},
     "output_type": "display_data"
    },
    {
     "name": "stdout",
     "output_type": "stream",
     "text": [
      "Epoch [47/50], Loss: 0.0356, F1 score: 0.98806\n"
     ]
    },
    {
     "data": {
      "application/vnd.jupyter.widget-view+json": {
       "model_id": "25b87e8ddf304e18ac3a0ecfe887f034",
       "version_major": 2,
       "version_minor": 0
      },
      "text/plain": [
       "Epoch [48/50]; learning state\t:   0%|          | 0/191 [00:00<?, ?it/s]"
      ]
     },
     "metadata": {},
     "output_type": "display_data"
    },
    {
     "data": {
      "application/vnd.jupyter.widget-view+json": {
       "model_id": "9ae32e5536e341eb95cc0a628be95647",
       "version_major": 2,
       "version_minor": 0
      },
      "text/plain": [
       "Epoch [48/50]; metric state\t:   0%|          | 0/191 [00:00<?, ?it/s]"
      ]
     },
     "metadata": {},
     "output_type": "display_data"
    },
    {
     "name": "stdout",
     "output_type": "stream",
     "text": [
      "Epoch [48/50], Loss: 0.0432, F1 score: 0.98410\n"
     ]
    },
    {
     "data": {
      "application/vnd.jupyter.widget-view+json": {
       "model_id": "295065c86b364798a0d8f0e40e384a77",
       "version_major": 2,
       "version_minor": 0
      },
      "text/plain": [
       "Epoch [49/50]; learning state\t:   0%|          | 0/191 [00:00<?, ?it/s]"
      ]
     },
     "metadata": {},
     "output_type": "display_data"
    },
    {
     "data": {
      "application/vnd.jupyter.widget-view+json": {
       "model_id": "8f816635882640318b5514cea5ee21e0",
       "version_major": 2,
       "version_minor": 0
      },
      "text/plain": [
       "Epoch [49/50]; metric state\t:   0%|          | 0/191 [00:00<?, ?it/s]"
      ]
     },
     "metadata": {},
     "output_type": "display_data"
    },
    {
     "name": "stdout",
     "output_type": "stream",
     "text": [
      "Epoch [49/50], Loss: 0.0474, F1 score: 0.98664\n"
     ]
    },
    {
     "data": {
      "application/vnd.jupyter.widget-view+json": {
       "model_id": "7f19c1ef3df24fff86b2471b5a95af81",
       "version_major": 2,
       "version_minor": 0
      },
      "text/plain": [
       "Epoch [50/50]; learning state\t:   0%|          | 0/191 [00:00<?, ?it/s]"
      ]
     },
     "metadata": {},
     "output_type": "display_data"
    },
    {
     "data": {
      "application/vnd.jupyter.widget-view+json": {
       "model_id": "e84fc179080a4c1fb684c8a5abd1d07f",
       "version_major": 2,
       "version_minor": 0
      },
      "text/plain": [
       "Epoch [50/50]; metric state\t:   0%|          | 0/191 [00:00<?, ?it/s]"
      ]
     },
     "metadata": {},
     "output_type": "display_data"
    },
    {
     "name": "stdout",
     "output_type": "stream",
     "text": [
      "Epoch [50/50], Loss: 0.0402, F1 score: 0.99048\n"
     ]
    },
    {
     "name": "stderr",
     "output_type": "stream",
     "text": [
      "\u001b[31m2025/05/06 13:03:37 WARNING mlflow.models.model: Model logged without a signature and input example. Please set `input_example` parameter when logging the model to auto infer the model signature.\u001b[0m\n"
     ]
    }
   ],
   "source": [
    "models = {\n",
    "    \"DR02_BS128_EP150_LRE-7\":  [model,   150, 1e-7],\n",
    "    \"DR06_BS128_EP50_LRE-3\":  [model_1,  50, 1e-3],\n",
    "    \"DR03_BS512_EP150_LRE-3\": [model_2, 150, 1e-3],\n",
    "    \"DR02_BS1024_EP50_LRE-3\": [model_3,  50, 1e-3],\n",
    "}\n",
    "\n",
    "mlflow.set_experiment(\"Toxic_Comments_Model_Comparison\")\n",
    "\n",
    "for model_name, model_args in models.items():\n",
    "    with mlflow.start_run(run_name=model_name):\n",
    "        fitting_model: MyModel = model_args[0]\n",
    "        fitting_model.fit(lr=model_args[2], num_epoch=model_args[1])\n",
    "        test_f1 = fitting_model.plot_metrics(X_test, y_test)\n",
    "        mlflow.log_param(\"model\", model_name)\n",
    "        mlflow.log_metrics({\n",
    "            \"f1s\": fitting_model.f1_score[-1],\n",
    "            \"epochs_errors\": fitting_model.epoch_loss[-1],\n",
    "            \"batch_errors\": fitting_model.batch_loss[-1],\n",
    "            \"test_f1\": test_f1,\n",
    "        })\n",
    "        mlflow.pytorch.log_model(model, f\"model_{model_name}\")"
   ]
  },
  {
   "cell_type": "code",
   "execution_count": 12,
   "metadata": {},
   "outputs": [
    {
     "name": "stdout",
     "output_type": "stream",
     "text": [
      "[2025-05-06 14:04:20 +0300] [91602] [INFO] Starting gunicorn 23.0.0\n",
      "[2025-05-06 14:04:20 +0300] [91602] [INFO] Listening at: http://127.0.0.1:5000 (91602)\n",
      "[2025-05-06 14:04:20 +0300] [91602] [INFO] Using worker: sync\n",
      "[2025-05-06 14:04:20 +0300] [91603] [INFO] Booting worker with pid: 91603\n",
      "[2025-05-06 14:04:20 +0300] [91604] [INFO] Booting worker with pid: 91604\n",
      "[2025-05-06 14:04:20 +0300] [91605] [INFO] Booting worker with pid: 91605\n",
      "[2025-05-06 14:04:20 +0300] [91606] [INFO] Booting worker with pid: 91606\n",
      "^C\n",
      "\n",
      "Aborted!\n",
      "[2025-05-06 14:05:21 +0300] [91604] [INFO] Worker exiting (pid: 91604)\n",
      "[2025-05-06 14:05:21 +0300] [91605] [INFO] Worker exiting (pid: 91605)\n",
      "[2025-05-06 14:05:21 +0300] [91603] [INFO] Worker exiting (pid: 91603)\n",
      "[2025-05-06 14:05:21 +0300] [91606] [INFO] Worker exiting (pid: 91606)\n"
     ]
    }
   ],
   "source": [
    "!mlflow ui"
   ]
  },
  {
   "cell_type": "code",
   "execution_count": null,
   "metadata": {},
   "outputs": [],
   "source": []
  }
 ],
 "metadata": {
  "kernelspec": {
   "display_name": "venv",
   "language": "python",
   "name": "python3"
  },
  "language_info": {
   "codemirror_mode": {
    "name": "ipython",
    "version": 3
   },
   "file_extension": ".py",
   "mimetype": "text/x-python",
   "name": "python",
   "nbconvert_exporter": "python",
   "pygments_lexer": "ipython3",
   "version": "3.13.2"
  }
 },
 "nbformat": 4,
 "nbformat_minor": 2
}
