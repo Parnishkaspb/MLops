{
 "cells": [
  {
   "cell_type": "code",
   "execution_count": 4,
   "metadata": {
    "ExecuteTime": {
     "end_time": "2025-03-30T09:30:40.286659Z",
     "start_time": "2025-03-30T09:30:36.668546Z"
    }
   },
   "outputs": [],
   "source": [
    "import torch\n",
    "import torch.nn as nn\n",
    "import torch.optim as optim\n",
    "from torch.utils.data import DataLoader, TensorDataset\n",
    "import matplotlib.pyplot as plt\n",
    "from sklearn.metrics import f1_score\n",
    "from tqdm.auto import tqdm\n",
    "import numpy as np\n",
    "from transformers import BertTokenizer, BertModel"
   ]
  },
  {
   "cell_type": "code",
   "execution_count": 5,
   "metadata": {
    "ExecuteTime": {
     "end_time": "2025-03-30T09:30:41.262589Z",
     "start_time": "2025-03-30T09:30:40.292332Z"
    }
   },
   "outputs": [],
   "source": [
    "X_test = torch.load(\"X_test.pt\")\n",
    "X_train = torch.load(\"X_train.pt\")\n",
    "y_test = torch.load(\"y_test.pt\")\n",
    "y_train = torch.load(\"y_train.pt\")"
   ]
  },
  {
   "cell_type": "code",
   "execution_count": 6,
   "metadata": {
    "ExecuteTime": {
     "end_time": "2025-03-30T09:30:41.696046Z",
     "start_time": "2025-03-30T09:30:41.476444Z"
    }
   },
   "outputs": [
    {
     "data": {
      "text/plain": [
       "'cuda'"
      ]
     },
     "execution_count": 6,
     "metadata": {},
     "output_type": "execute_result"
    }
   ],
   "source": [
    "device = 'cpu'\n",
    "if torch.cuda.is_available():\n",
    "    device = 'cuda'\n",
    "elif torch.mps.is_available():\n",
    "    device = 'mps'\n",
    "device"
   ]
  },
  {
   "cell_type": "code",
   "execution_count": 7,
   "metadata": {
    "ExecuteTime": {
     "end_time": "2025-03-30T09:30:41.726208Z",
     "start_time": "2025-03-30T09:30:41.714614Z"
    }
   },
   "outputs": [],
   "source": [
    "class MyModel(nn.Module):\n",
    "    def __init__(\n",
    "        self,\n",
    "        dataloader: DataLoader,\n",
    "        input_dim: int,\n",
    "        output_dim: int = 1,\n",
    "        dropout_rate: float = 0.5,\n",
    "    ):\n",
    "        super(MyModel, self).__init__()\n",
    "        self.dataloader = dataloader\n",
    "        self.conv1d = nn.Conv1d(in_channels=input_dim, out_channels=384, kernel_size=3, stride=1, padding=2)\n",
    "        self.maxpooling1d = nn.MaxPool1d(kernel_size=2, stride=2)\n",
    "        self.dropout1 = nn.Dropout(dropout_rate)\n",
    "        self.relu = nn.ReLU()\n",
    "        self.last_linear = nn.Linear(384, output_dim)\n",
    "        self.sigmoid = nn.Sigmoid()\n",
    "\n",
    "        self.to(device)\n",
    "\n",
    "    def forward(self, x: torch.Tensor):\n",
    "        if len(x.shape) == 2:  # Если x имеет размерность [batch_size, sequence_length]\n",
    "            x = x.unsqueeze(1)  # Добавляем измерение каналов: [batch_size, 1, sequence_length]\n",
    "        x = x.permute(0, 2, 1)  # [batch_size, input_dim, sequence_length]\n",
    "        x = self.conv1d(x)\n",
    "        x = self.maxpooling1d(x)\n",
    "        x = self.dropout1(x)\n",
    "        x = self.relu(x)\n",
    "        x = x.permute(0, 2, 1)  # Возвращаем размерность [batch_size, sequence_length, features]\n",
    "        x = self.last_linear(x)\n",
    "        x = self.sigmoid(x)\n",
    "        return x\n",
    "\n",
    "    def fit(\n",
    "        self,\n",
    "        num_epoch: int = 10,\n",
    "        lr: float = 1e-10,\n",
    "    ):\n",
    "        self.epoch_loss = []\n",
    "        self.batch_loss = []\n",
    "        self.f1_score = []\n",
    "        self.all_labels = []\n",
    "        self.all_probs = []\n",
    "        criterion = nn.BCELoss()  # Бинарная кросс-энтропия\n",
    "        optimizer = optim.Adam(self.parameters(), lr=lr)\n",
    "        for epoch in range(num_epoch):\n",
    "            self.train()\n",
    "            epoch_losses = []\n",
    "            for batch_X, batch_y in tqdm(self.dataloader, desc=f\"Epoch [{epoch+1}/{num_epoch}]; learning state\\t\"):\n",
    "                batch_X, batch_y = batch_X.to(device), batch_y.to(device)\n",
    "                optimizer.zero_grad()\n",
    "                outputs = self(batch_X)\n",
    "                loss: torch.Tensor = criterion(outputs.squeeze(1), batch_y.unsqueeze(1))\n",
    "                loss.backward()\n",
    "                optimizer.step()\n",
    "                epoch_losses.append(loss.item())\n",
    "                self.batch_loss.append(loss.item())\n",
    "            \n",
    "            self.epoch_loss.append(sum(epoch_losses) / len(epoch_losses))\n",
    "            \n",
    "            # Вычисление метрик\n",
    "            self.eval()\n",
    "            with torch.no_grad():\n",
    "                self.all_preds = []\n",
    "                self.all_labels = []\n",
    "                for batch_X, batch_y in tqdm(self.dataloader, desc=f\"Epoch [{epoch+1}/{num_epoch}]; metric state\\t\"):\n",
    "                    batch_X, batch_y = batch_X.to(device), batch_y.to(device)\n",
    "                    outputs = self(batch_X).squeeze(1)\n",
    "                    preds = (outputs > 0.5).float()\n",
    "                    self.all_preds.extend(preds.squeeze(1).cpu().numpy())\n",
    "                    self.all_labels.extend(batch_y.cpu().numpy())\n",
    "\n",
    "                self.all_labels = np.array(self.all_labels, dtype=int)\n",
    "                self.all_preds = np.array(self.all_preds, dtype=int)\n",
    "                f1 = f1_score(self.all_labels, self.all_preds)\n",
    "                self.f1_score.append(f1)\n",
    "                print(f\"Epoch [{epoch+1}/{num_epoch}], Loss: {loss.item():.4f}, F1 score: {f1:.5f}\")\n",
    "    \n",
    "    def plot_metrics(self, X_test: torch.Tensor, y_test:torch.Tensor):\n",
    "        plt.figure(figsize=(16, 5))\n",
    "        plt.subplot(1, 3, 1)\n",
    "        plt.plot(self.epoch_loss, label=\"Loss\")\n",
    "        plt.xlabel(\"Epoch\")\n",
    "        plt.ylabel(\"Loss\")\n",
    "        plt.title(\"Loss per Epoch\")\n",
    "        plt.legend()\n",
    "\n",
    "        plt.subplot(1, 3, 2)\n",
    "        plt.plot(self.batch_loss, label=\"Loss\")\n",
    "        plt.xlabel(\"Batches\")\n",
    "        plt.ylabel(\"Loss\")\n",
    "        plt.title(\"Loss per batch\")\n",
    "        plt.legend()\n",
    "\n",
    "        # График F1-score\n",
    "        plt.subplot(1, 3, 3)\n",
    "        plt.plot(self.f1_score, label=\"F1-score\", color=\"orange\")\n",
    "        plt.xlabel(\"Epoch\")\n",
    "        plt.ylabel(\"F1-score\")\n",
    "        plt.title(\"F1-score per Epoch\")\n",
    "        plt.legend()\n",
    "\n",
    "        X_test = X_test.float()\n",
    "        X_test = X_test.unsqueeze(1)\n",
    "        X_test = X_test.to(device)\n",
    "        self.eval()\n",
    "        with torch.no_grad():\n",
    "            preds = self(X_test)\n",
    "        preds_squeezed = preds.squeeze(1).squeeze(1)\n",
    "        result_pres = (preds_squeezed > 0.5).float()\n",
    "        f1 = f1_score(y_test.numpy(), result_pres.cpu().numpy())\n",
    "        print(f\"F1 score on test tensors is: {f1*100:.2f}\")"
   ]
  },
  {
   "cell_type": "code",
   "execution_count": 8,
   "metadata": {
    "ExecuteTime": {
     "end_time": "2025-03-30T09:30:41.777161Z",
     "start_time": "2025-03-30T09:30:41.771352Z"
    }
   },
   "outputs": [],
   "source": [
    "# не изменные константы для модельки\n",
    "input_dim = X_train.shape[1]\n",
    "output_dim = 1\n",
    "dataset = TensorDataset(X_train, y_train.float())"
   ]
  },
  {
   "cell_type": "code",
   "execution_count": 9,
   "metadata": {
    "ExecuteTime": {
     "end_time": "2025-03-30T09:33:27.614009Z",
     "start_time": "2025-03-30T09:30:41.829940Z"
    }
   },
   "outputs": [
    {
     "data": {
      "application/vnd.jupyter.widget-view+json": {
       "model_id": "05b9755d182c4ba78be365db7d87ed19",
       "version_major": 2,
       "version_minor": 0
      },
      "text/plain": [
       "Epoch [1/50]; learning state\t:   0%|          | 0/191 [00:00<?, ?it/s]"
      ]
     },
     "metadata": {},
     "output_type": "display_data"
    },
    {
     "data": {
      "application/vnd.jupyter.widget-view+json": {
       "model_id": "78e1cba0e07646d0bab283dd6e28acc3",
       "version_major": 2,
       "version_minor": 0
      },
      "text/plain": [
       "Epoch [1/50]; metric state\t:   0%|          | 0/191 [00:00<?, ?it/s]"
      ]
     },
     "metadata": {},
     "output_type": "display_data"
    },
    {
     "name": "stdout",
     "output_type": "stream",
     "text": [
      "Epoch [1/50], Loss: 0.2114, F1 score: 0.74444\n"
     ]
    },
    {
     "data": {
      "application/vnd.jupyter.widget-view+json": {
       "model_id": "850b47e5da8e411f8cc2ca0b277c76d6",
       "version_major": 2,
       "version_minor": 0
      },
      "text/plain": [
       "Epoch [2/50]; learning state\t:   0%|          | 0/191 [00:00<?, ?it/s]"
      ]
     },
     "metadata": {},
     "output_type": "display_data"
    },
    {
     "data": {
      "application/vnd.jupyter.widget-view+json": {
       "model_id": "cdd1c596cf7048bd94a75ff93a6d8ea3",
       "version_major": 2,
       "version_minor": 0
      },
      "text/plain": [
       "Epoch [2/50]; metric state\t:   0%|          | 0/191 [00:00<?, ?it/s]"
      ]
     },
     "metadata": {},
     "output_type": "display_data"
    },
    {
     "name": "stdout",
     "output_type": "stream",
     "text": [
      "Epoch [2/50], Loss: 0.2044, F1 score: 0.76218\n"
     ]
    },
    {
     "data": {
      "application/vnd.jupyter.widget-view+json": {
       "model_id": "55a3ec3f1abb44ccbb8f4230cdc72724",
       "version_major": 2,
       "version_minor": 0
      },
      "text/plain": [
       "Epoch [3/50]; learning state\t:   0%|          | 0/191 [00:00<?, ?it/s]"
      ]
     },
     "metadata": {},
     "output_type": "display_data"
    },
    {
     "data": {
      "application/vnd.jupyter.widget-view+json": {
       "model_id": "4499097884a2433a96b404318ebdf804",
       "version_major": 2,
       "version_minor": 0
      },
      "text/plain": [
       "Epoch [3/50]; metric state\t:   0%|          | 0/191 [00:00<?, ?it/s]"
      ]
     },
     "metadata": {},
     "output_type": "display_data"
    },
    {
     "name": "stdout",
     "output_type": "stream",
     "text": [
      "Epoch [3/50], Loss: 0.2192, F1 score: 0.77595\n"
     ]
    },
    {
     "data": {
      "application/vnd.jupyter.widget-view+json": {
       "model_id": "a0ea5c2d613041b79503f4ae904af898",
       "version_major": 2,
       "version_minor": 0
      },
      "text/plain": [
       "Epoch [4/50]; learning state\t:   0%|          | 0/191 [00:00<?, ?it/s]"
      ]
     },
     "metadata": {},
     "output_type": "display_data"
    },
    {
     "data": {
      "application/vnd.jupyter.widget-view+json": {
       "model_id": "a851a8ae7362448589997bded8c35a44",
       "version_major": 2,
       "version_minor": 0
      },
      "text/plain": [
       "Epoch [4/50]; metric state\t:   0%|          | 0/191 [00:00<?, ?it/s]"
      ]
     },
     "metadata": {},
     "output_type": "display_data"
    },
    {
     "name": "stdout",
     "output_type": "stream",
     "text": [
      "Epoch [4/50], Loss: 0.1864, F1 score: 0.79558\n"
     ]
    },
    {
     "data": {
      "application/vnd.jupyter.widget-view+json": {
       "model_id": "dc12475fccb548cc8b26415e22b29f5d",
       "version_major": 2,
       "version_minor": 0
      },
      "text/plain": [
       "Epoch [5/50]; learning state\t:   0%|          | 0/191 [00:00<?, ?it/s]"
      ]
     },
     "metadata": {},
     "output_type": "display_data"
    },
    {
     "data": {
      "application/vnd.jupyter.widget-view+json": {
       "model_id": "d754815fae344e8a82df1dc9f5c4ca2f",
       "version_major": 2,
       "version_minor": 0
      },
      "text/plain": [
       "Epoch [5/50]; metric state\t:   0%|          | 0/191 [00:00<?, ?it/s]"
      ]
     },
     "metadata": {},
     "output_type": "display_data"
    },
    {
     "name": "stdout",
     "output_type": "stream",
     "text": [
      "Epoch [5/50], Loss: 0.1849, F1 score: 0.80146\n"
     ]
    },
    {
     "data": {
      "application/vnd.jupyter.widget-view+json": {
       "model_id": "a929cda429ed45dfb8a0c59530e6c7a9",
       "version_major": 2,
       "version_minor": 0
      },
      "text/plain": [
       "Epoch [6/50]; learning state\t:   0%|          | 0/191 [00:00<?, ?it/s]"
      ]
     },
     "metadata": {},
     "output_type": "display_data"
    },
    {
     "data": {
      "application/vnd.jupyter.widget-view+json": {
       "model_id": "3bcd34c7cf03443482e8b0abeb044b15",
       "version_major": 2,
       "version_minor": 0
      },
      "text/plain": [
       "Epoch [6/50]; metric state\t:   0%|          | 0/191 [00:00<?, ?it/s]"
      ]
     },
     "metadata": {},
     "output_type": "display_data"
    },
    {
     "name": "stdout",
     "output_type": "stream",
     "text": [
      "Epoch [6/50], Loss: 0.1957, F1 score: 0.81413\n"
     ]
    },
    {
     "data": {
      "application/vnd.jupyter.widget-view+json": {
       "model_id": "0b414866c03743a6b779e1fa99d2efb7",
       "version_major": 2,
       "version_minor": 0
      },
      "text/plain": [
       "Epoch [7/50]; learning state\t:   0%|          | 0/191 [00:00<?, ?it/s]"
      ]
     },
     "metadata": {},
     "output_type": "display_data"
    },
    {
     "data": {
      "application/vnd.jupyter.widget-view+json": {
       "model_id": "ebcf60a07c334dfc8306d470907f95b8",
       "version_major": 2,
       "version_minor": 0
      },
      "text/plain": [
       "Epoch [7/50]; metric state\t:   0%|          | 0/191 [00:00<?, ?it/s]"
      ]
     },
     "metadata": {},
     "output_type": "display_data"
    },
    {
     "name": "stdout",
     "output_type": "stream",
     "text": [
      "Epoch [7/50], Loss: 0.1575, F1 score: 0.81516\n"
     ]
    },
    {
     "data": {
      "application/vnd.jupyter.widget-view+json": {
       "model_id": "a8387baddde64012b643c9703dc810d3",
       "version_major": 2,
       "version_minor": 0
      },
      "text/plain": [
       "Epoch [8/50]; learning state\t:   0%|          | 0/191 [00:00<?, ?it/s]"
      ]
     },
     "metadata": {},
     "output_type": "display_data"
    },
    {
     "data": {
      "application/vnd.jupyter.widget-view+json": {
       "model_id": "9b81116772e444ab8050a15ffb36241c",
       "version_major": 2,
       "version_minor": 0
      },
      "text/plain": [
       "Epoch [8/50]; metric state\t:   0%|          | 0/191 [00:00<?, ?it/s]"
      ]
     },
     "metadata": {},
     "output_type": "display_data"
    },
    {
     "name": "stdout",
     "output_type": "stream",
     "text": [
      "Epoch [8/50], Loss: 0.1423, F1 score: 0.83318\n"
     ]
    },
    {
     "data": {
      "application/vnd.jupyter.widget-view+json": {
       "model_id": "b21ca3848250414992887031f3d008cf",
       "version_major": 2,
       "version_minor": 0
      },
      "text/plain": [
       "Epoch [9/50]; learning state\t:   0%|          | 0/191 [00:00<?, ?it/s]"
      ]
     },
     "metadata": {},
     "output_type": "display_data"
    },
    {
     "data": {
      "application/vnd.jupyter.widget-view+json": {
       "model_id": "2e28e6b07846448bbc463e76ab1d56d4",
       "version_major": 2,
       "version_minor": 0
      },
      "text/plain": [
       "Epoch [9/50]; metric state\t:   0%|          | 0/191 [00:00<?, ?it/s]"
      ]
     },
     "metadata": {},
     "output_type": "display_data"
    },
    {
     "name": "stdout",
     "output_type": "stream",
     "text": [
      "Epoch [9/50], Loss: 0.2007, F1 score: 0.84248\n"
     ]
    },
    {
     "data": {
      "application/vnd.jupyter.widget-view+json": {
       "model_id": "d5936e8b552a461286b48703023cb66e",
       "version_major": 2,
       "version_minor": 0
      },
      "text/plain": [
       "Epoch [10/50]; learning state\t:   0%|          | 0/191 [00:00<?, ?it/s]"
      ]
     },
     "metadata": {},
     "output_type": "display_data"
    },
    {
     "data": {
      "application/vnd.jupyter.widget-view+json": {
       "model_id": "eca76bc16ed641f9bb7865d300fa9940",
       "version_major": 2,
       "version_minor": 0
      },
      "text/plain": [
       "Epoch [10/50]; metric state\t:   0%|          | 0/191 [00:00<?, ?it/s]"
      ]
     },
     "metadata": {},
     "output_type": "display_data"
    },
    {
     "name": "stdout",
     "output_type": "stream",
     "text": [
      "Epoch [10/50], Loss: 0.1451, F1 score: 0.82353\n"
     ]
    },
    {
     "data": {
      "application/vnd.jupyter.widget-view+json": {
       "model_id": "af516381b2f54afdae40a0ef7d732db5",
       "version_major": 2,
       "version_minor": 0
      },
      "text/plain": [
       "Epoch [11/50]; learning state\t:   0%|          | 0/191 [00:00<?, ?it/s]"
      ]
     },
     "metadata": {},
     "output_type": "display_data"
    },
    {
     "data": {
      "application/vnd.jupyter.widget-view+json": {
       "model_id": "1459a102c4d34f0c9212dc0f1037031c",
       "version_major": 2,
       "version_minor": 0
      },
      "text/plain": [
       "Epoch [11/50]; metric state\t:   0%|          | 0/191 [00:00<?, ?it/s]"
      ]
     },
     "metadata": {},
     "output_type": "display_data"
    },
    {
     "name": "stdout",
     "output_type": "stream",
     "text": [
      "Epoch [11/50], Loss: 0.1429, F1 score: 0.85090\n"
     ]
    },
    {
     "data": {
      "application/vnd.jupyter.widget-view+json": {
       "model_id": "1e6e869f5da2421fb5d044fd3e0d347f",
       "version_major": 2,
       "version_minor": 0
      },
      "text/plain": [
       "Epoch [12/50]; learning state\t:   0%|          | 0/191 [00:00<?, ?it/s]"
      ]
     },
     "metadata": {},
     "output_type": "display_data"
    },
    {
     "data": {
      "application/vnd.jupyter.widget-view+json": {
       "model_id": "86ce4fc84fe64c438e91c538b790cc91",
       "version_major": 2,
       "version_minor": 0
      },
      "text/plain": [
       "Epoch [12/50]; metric state\t:   0%|          | 0/191 [00:00<?, ?it/s]"
      ]
     },
     "metadata": {},
     "output_type": "display_data"
    },
    {
     "name": "stdout",
     "output_type": "stream",
     "text": [
      "Epoch [12/50], Loss: 0.1460, F1 score: 0.86319\n"
     ]
    },
    {
     "data": {
      "application/vnd.jupyter.widget-view+json": {
       "model_id": "afc68439bafc4994b5cc8bef3024a377",
       "version_major": 2,
       "version_minor": 0
      },
      "text/plain": [
       "Epoch [13/50]; learning state\t:   0%|          | 0/191 [00:00<?, ?it/s]"
      ]
     },
     "metadata": {},
     "output_type": "display_data"
    },
    {
     "data": {
      "application/vnd.jupyter.widget-view+json": {
       "model_id": "1f64276771ce491f85a19b33e89e6f03",
       "version_major": 2,
       "version_minor": 0
      },
      "text/plain": [
       "Epoch [13/50]; metric state\t:   0%|          | 0/191 [00:00<?, ?it/s]"
      ]
     },
     "metadata": {},
     "output_type": "display_data"
    },
    {
     "name": "stdout",
     "output_type": "stream",
     "text": [
      "Epoch [13/50], Loss: 0.1368, F1 score: 0.87169\n"
     ]
    },
    {
     "data": {
      "application/vnd.jupyter.widget-view+json": {
       "model_id": "25e2e778a0864760a26a05a6cb9784b5",
       "version_major": 2,
       "version_minor": 0
      },
      "text/plain": [
       "Epoch [14/50]; learning state\t:   0%|          | 0/191 [00:00<?, ?it/s]"
      ]
     },
     "metadata": {},
     "output_type": "display_data"
    },
    {
     "data": {
      "application/vnd.jupyter.widget-view+json": {
       "model_id": "bd3fa2132440493893fa777ddc91dda3",
       "version_major": 2,
       "version_minor": 0
      },
      "text/plain": [
       "Epoch [14/50]; metric state\t:   0%|          | 0/191 [00:00<?, ?it/s]"
      ]
     },
     "metadata": {},
     "output_type": "display_data"
    },
    {
     "name": "stdout",
     "output_type": "stream",
     "text": [
      "Epoch [14/50], Loss: 0.1217, F1 score: 0.87662\n"
     ]
    },
    {
     "data": {
      "application/vnd.jupyter.widget-view+json": {
       "model_id": "526ebcea38c5418c94461a4c4231aa14",
       "version_major": 2,
       "version_minor": 0
      },
      "text/plain": [
       "Epoch [15/50]; learning state\t:   0%|          | 0/191 [00:00<?, ?it/s]"
      ]
     },
     "metadata": {},
     "output_type": "display_data"
    },
    {
     "data": {
      "application/vnd.jupyter.widget-view+json": {
       "model_id": "734ac04bc24244debc2cd1365502dd4e",
       "version_major": 2,
       "version_minor": 0
      },
      "text/plain": [
       "Epoch [15/50]; metric state\t:   0%|          | 0/191 [00:00<?, ?it/s]"
      ]
     },
     "metadata": {},
     "output_type": "display_data"
    },
    {
     "name": "stdout",
     "output_type": "stream",
     "text": [
      "Epoch [15/50], Loss: 0.1430, F1 score: 0.88599\n"
     ]
    },
    {
     "data": {
      "application/vnd.jupyter.widget-view+json": {
       "model_id": "fd8e0582d7b9456fa43afb892975c988",
       "version_major": 2,
       "version_minor": 0
      },
      "text/plain": [
       "Epoch [16/50]; learning state\t:   0%|          | 0/191 [00:00<?, ?it/s]"
      ]
     },
     "metadata": {},
     "output_type": "display_data"
    },
    {
     "data": {
      "application/vnd.jupyter.widget-view+json": {
       "model_id": "63578bad7d914312a45d5b3ae8f2dba1",
       "version_major": 2,
       "version_minor": 0
      },
      "text/plain": [
       "Epoch [16/50]; metric state\t:   0%|          | 0/191 [00:00<?, ?it/s]"
      ]
     },
     "metadata": {},
     "output_type": "display_data"
    },
    {
     "name": "stdout",
     "output_type": "stream",
     "text": [
      "Epoch [16/50], Loss: 0.1017, F1 score: 0.89361\n"
     ]
    },
    {
     "data": {
      "application/vnd.jupyter.widget-view+json": {
       "model_id": "b02683a0ae9f4cea822ddf75bf8a65ba",
       "version_major": 2,
       "version_minor": 0
      },
      "text/plain": [
       "Epoch [17/50]; learning state\t:   0%|          | 0/191 [00:00<?, ?it/s]"
      ]
     },
     "metadata": {},
     "output_type": "display_data"
    },
    {
     "data": {
      "application/vnd.jupyter.widget-view+json": {
       "model_id": "6d1b8f44b5bc4d6995c30bf0f4bd1a2e",
       "version_major": 2,
       "version_minor": 0
      },
      "text/plain": [
       "Epoch [17/50]; metric state\t:   0%|          | 0/191 [00:00<?, ?it/s]"
      ]
     },
     "metadata": {},
     "output_type": "display_data"
    },
    {
     "name": "stdout",
     "output_type": "stream",
     "text": [
      "Epoch [17/50], Loss: 0.1031, F1 score: 0.89487\n"
     ]
    },
    {
     "data": {
      "application/vnd.jupyter.widget-view+json": {
       "model_id": "a57399be3e394c3894b100d6b517ba27",
       "version_major": 2,
       "version_minor": 0
      },
      "text/plain": [
       "Epoch [18/50]; learning state\t:   0%|          | 0/191 [00:00<?, ?it/s]"
      ]
     },
     "metadata": {},
     "output_type": "display_data"
    },
    {
     "data": {
      "application/vnd.jupyter.widget-view+json": {
       "model_id": "4fa3e8c9401c433a873d03c21c6e0912",
       "version_major": 2,
       "version_minor": 0
      },
      "text/plain": [
       "Epoch [18/50]; metric state\t:   0%|          | 0/191 [00:00<?, ?it/s]"
      ]
     },
     "metadata": {},
     "output_type": "display_data"
    },
    {
     "name": "stdout",
     "output_type": "stream",
     "text": [
      "Epoch [18/50], Loss: 0.1019, F1 score: 0.89943\n"
     ]
    },
    {
     "data": {
      "application/vnd.jupyter.widget-view+json": {
       "model_id": "dfedea5015cd4d8291fe86ba0265c93b",
       "version_major": 2,
       "version_minor": 0
      },
      "text/plain": [
       "Epoch [19/50]; learning state\t:   0%|          | 0/191 [00:00<?, ?it/s]"
      ]
     },
     "metadata": {},
     "output_type": "display_data"
    },
    {
     "data": {
      "application/vnd.jupyter.widget-view+json": {
       "model_id": "b7970bfdf8d640488f3f07cc4d17cc0d",
       "version_major": 2,
       "version_minor": 0
      },
      "text/plain": [
       "Epoch [19/50]; metric state\t:   0%|          | 0/191 [00:00<?, ?it/s]"
      ]
     },
     "metadata": {},
     "output_type": "display_data"
    },
    {
     "name": "stdout",
     "output_type": "stream",
     "text": [
      "Epoch [19/50], Loss: 0.1132, F1 score: 0.90800\n"
     ]
    },
    {
     "data": {
      "application/vnd.jupyter.widget-view+json": {
       "model_id": "337ff5dac9574dd3a4c321f8e39133cb",
       "version_major": 2,
       "version_minor": 0
      },
      "text/plain": [
       "Epoch [20/50]; learning state\t:   0%|          | 0/191 [00:00<?, ?it/s]"
      ]
     },
     "metadata": {},
     "output_type": "display_data"
    },
    {
     "data": {
      "application/vnd.jupyter.widget-view+json": {
       "model_id": "f04fd2ee061c40eeb9d8f99cfae27943",
       "version_major": 2,
       "version_minor": 0
      },
      "text/plain": [
       "Epoch [20/50]; metric state\t:   0%|          | 0/191 [00:00<?, ?it/s]"
      ]
     },
     "metadata": {},
     "output_type": "display_data"
    },
    {
     "name": "stdout",
     "output_type": "stream",
     "text": [
      "Epoch [20/50], Loss: 0.1243, F1 score: 0.91873\n"
     ]
    },
    {
     "data": {
      "application/vnd.jupyter.widget-view+json": {
       "model_id": "d98b87a49ef34f9ca4d18d1150f3bf16",
       "version_major": 2,
       "version_minor": 0
      },
      "text/plain": [
       "Epoch [21/50]; learning state\t:   0%|          | 0/191 [00:00<?, ?it/s]"
      ]
     },
     "metadata": {},
     "output_type": "display_data"
    },
    {
     "data": {
      "application/vnd.jupyter.widget-view+json": {
       "model_id": "a129e7ba7d874e24abb0e8178d86ce27",
       "version_major": 2,
       "version_minor": 0
      },
      "text/plain": [
       "Epoch [21/50]; metric state\t:   0%|          | 0/191 [00:00<?, ?it/s]"
      ]
     },
     "metadata": {},
     "output_type": "display_data"
    },
    {
     "name": "stdout",
     "output_type": "stream",
     "text": [
      "Epoch [21/50], Loss: 0.0937, F1 score: 0.91610\n"
     ]
    },
    {
     "data": {
      "application/vnd.jupyter.widget-view+json": {
       "model_id": "f98012ecb4f84263b2b74a472a2d20f8",
       "version_major": 2,
       "version_minor": 0
      },
      "text/plain": [
       "Epoch [22/50]; learning state\t:   0%|          | 0/191 [00:00<?, ?it/s]"
      ]
     },
     "metadata": {},
     "output_type": "display_data"
    },
    {
     "data": {
      "application/vnd.jupyter.widget-view+json": {
       "model_id": "25c0a27feb5c40c49605ef547855f28f",
       "version_major": 2,
       "version_minor": 0
      },
      "text/plain": [
       "Epoch [22/50]; metric state\t:   0%|          | 0/191 [00:00<?, ?it/s]"
      ]
     },
     "metadata": {},
     "output_type": "display_data"
    },
    {
     "name": "stdout",
     "output_type": "stream",
     "text": [
      "Epoch [22/50], Loss: 0.1171, F1 score: 0.93017\n"
     ]
    },
    {
     "data": {
      "application/vnd.jupyter.widget-view+json": {
       "model_id": "5965aca691364a92a47f62976ef788d2",
       "version_major": 2,
       "version_minor": 0
      },
      "text/plain": [
       "Epoch [23/50]; learning state\t:   0%|          | 0/191 [00:00<?, ?it/s]"
      ]
     },
     "metadata": {},
     "output_type": "display_data"
    },
    {
     "data": {
      "application/vnd.jupyter.widget-view+json": {
       "model_id": "225500170e2242dda957ce80ea6caab8",
       "version_major": 2,
       "version_minor": 0
      },
      "text/plain": [
       "Epoch [23/50]; metric state\t:   0%|          | 0/191 [00:00<?, ?it/s]"
      ]
     },
     "metadata": {},
     "output_type": "display_data"
    },
    {
     "name": "stdout",
     "output_type": "stream",
     "text": [
      "Epoch [23/50], Loss: 0.1023, F1 score: 0.93500\n"
     ]
    },
    {
     "data": {
      "application/vnd.jupyter.widget-view+json": {
       "model_id": "4e8f7994c7cd41099525a409024fb81d",
       "version_major": 2,
       "version_minor": 0
      },
      "text/plain": [
       "Epoch [24/50]; learning state\t:   0%|          | 0/191 [00:00<?, ?it/s]"
      ]
     },
     "metadata": {},
     "output_type": "display_data"
    },
    {
     "data": {
      "application/vnd.jupyter.widget-view+json": {
       "model_id": "00fc266e69df4b3593033f10bb9dc4a6",
       "version_major": 2,
       "version_minor": 0
      },
      "text/plain": [
       "Epoch [24/50]; metric state\t:   0%|          | 0/191 [00:00<?, ?it/s]"
      ]
     },
     "metadata": {},
     "output_type": "display_data"
    },
    {
     "name": "stdout",
     "output_type": "stream",
     "text": [
      "Epoch [24/50], Loss: 0.0815, F1 score: 0.91954\n"
     ]
    },
    {
     "data": {
      "application/vnd.jupyter.widget-view+json": {
       "model_id": "40d74cacdd1043b48803976aa6a5f49d",
       "version_major": 2,
       "version_minor": 0
      },
      "text/plain": [
       "Epoch [25/50]; learning state\t:   0%|          | 0/191 [00:00<?, ?it/s]"
      ]
     },
     "metadata": {},
     "output_type": "display_data"
    },
    {
     "data": {
      "application/vnd.jupyter.widget-view+json": {
       "model_id": "9d4ba64e2ed24833bacf03590fa4d23a",
       "version_major": 2,
       "version_minor": 0
      },
      "text/plain": [
       "Epoch [25/50]; metric state\t:   0%|          | 0/191 [00:00<?, ?it/s]"
      ]
     },
     "metadata": {},
     "output_type": "display_data"
    },
    {
     "name": "stdout",
     "output_type": "stream",
     "text": [
      "Epoch [25/50], Loss: 0.0824, F1 score: 0.94221\n"
     ]
    },
    {
     "data": {
      "application/vnd.jupyter.widget-view+json": {
       "model_id": "6e0823264d364040a5296257d9dc1ea0",
       "version_major": 2,
       "version_minor": 0
      },
      "text/plain": [
       "Epoch [26/50]; learning state\t:   0%|          | 0/191 [00:00<?, ?it/s]"
      ]
     },
     "metadata": {},
     "output_type": "display_data"
    },
    {
     "data": {
      "application/vnd.jupyter.widget-view+json": {
       "model_id": "5e9016cbb0e84925a44ce7eeebe680f9",
       "version_major": 2,
       "version_minor": 0
      },
      "text/plain": [
       "Epoch [26/50]; metric state\t:   0%|          | 0/191 [00:00<?, ?it/s]"
      ]
     },
     "metadata": {},
     "output_type": "display_data"
    },
    {
     "name": "stdout",
     "output_type": "stream",
     "text": [
      "Epoch [26/50], Loss: 0.0816, F1 score: 0.94697\n"
     ]
    },
    {
     "data": {
      "application/vnd.jupyter.widget-view+json": {
       "model_id": "6a7fff12508a4c21a67f14d4eef9903c",
       "version_major": 2,
       "version_minor": 0
      },
      "text/plain": [
       "Epoch [27/50]; learning state\t:   0%|          | 0/191 [00:00<?, ?it/s]"
      ]
     },
     "metadata": {},
     "output_type": "display_data"
    },
    {
     "data": {
      "application/vnd.jupyter.widget-view+json": {
       "model_id": "58df389718874b7eb80f24814d819488",
       "version_major": 2,
       "version_minor": 0
      },
      "text/plain": [
       "Epoch [27/50]; metric state\t:   0%|          | 0/191 [00:00<?, ?it/s]"
      ]
     },
     "metadata": {},
     "output_type": "display_data"
    },
    {
     "name": "stdout",
     "output_type": "stream",
     "text": [
      "Epoch [27/50], Loss: 0.0808, F1 score: 0.94600\n"
     ]
    },
    {
     "data": {
      "application/vnd.jupyter.widget-view+json": {
       "model_id": "43de9c5451fe449d92cab71ca8322182",
       "version_major": 2,
       "version_minor": 0
      },
      "text/plain": [
       "Epoch [28/50]; learning state\t:   0%|          | 0/191 [00:00<?, ?it/s]"
      ]
     },
     "metadata": {},
     "output_type": "display_data"
    },
    {
     "data": {
      "application/vnd.jupyter.widget-view+json": {
       "model_id": "912563dfd1764d5cb6f64d918c1eb94f",
       "version_major": 2,
       "version_minor": 0
      },
      "text/plain": [
       "Epoch [28/50]; metric state\t:   0%|          | 0/191 [00:00<?, ?it/s]"
      ]
     },
     "metadata": {},
     "output_type": "display_data"
    },
    {
     "name": "stdout",
     "output_type": "stream",
     "text": [
      "Epoch [28/50], Loss: 0.0779, F1 score: 0.93526\n"
     ]
    },
    {
     "data": {
      "application/vnd.jupyter.widget-view+json": {
       "model_id": "af0b484d95fc458ba81b460e4dbec06e",
       "version_major": 2,
       "version_minor": 0
      },
      "text/plain": [
       "Epoch [29/50]; learning state\t:   0%|          | 0/191 [00:00<?, ?it/s]"
      ]
     },
     "metadata": {},
     "output_type": "display_data"
    },
    {
     "data": {
      "application/vnd.jupyter.widget-view+json": {
       "model_id": "3410862af4f54bb49089f2f776dee27b",
       "version_major": 2,
       "version_minor": 0
      },
      "text/plain": [
       "Epoch [29/50]; metric state\t:   0%|          | 0/191 [00:00<?, ?it/s]"
      ]
     },
     "metadata": {},
     "output_type": "display_data"
    },
    {
     "name": "stdout",
     "output_type": "stream",
     "text": [
      "Epoch [29/50], Loss: 0.0615, F1 score: 0.95901\n"
     ]
    },
    {
     "data": {
      "application/vnd.jupyter.widget-view+json": {
       "model_id": "9f61d4a9111a468cbc32948f5cc37abc",
       "version_major": 2,
       "version_minor": 0
      },
      "text/plain": [
       "Epoch [30/50]; learning state\t:   0%|          | 0/191 [00:00<?, ?it/s]"
      ]
     },
     "metadata": {},
     "output_type": "display_data"
    },
    {
     "data": {
      "application/vnd.jupyter.widget-view+json": {
       "model_id": "5860b4af0f854106a493e2f754dbd679",
       "version_major": 2,
       "version_minor": 0
      },
      "text/plain": [
       "Epoch [30/50]; metric state\t:   0%|          | 0/191 [00:00<?, ?it/s]"
      ]
     },
     "metadata": {},
     "output_type": "display_data"
    },
    {
     "name": "stdout",
     "output_type": "stream",
     "text": [
      "Epoch [30/50], Loss: 0.0572, F1 score: 0.95953\n"
     ]
    },
    {
     "data": {
      "application/vnd.jupyter.widget-view+json": {
       "model_id": "0d3380ff518f4be5bbcdea6196563220",
       "version_major": 2,
       "version_minor": 0
      },
      "text/plain": [
       "Epoch [31/50]; learning state\t:   0%|          | 0/191 [00:00<?, ?it/s]"
      ]
     },
     "metadata": {},
     "output_type": "display_data"
    },
    {
     "data": {
      "application/vnd.jupyter.widget-view+json": {
       "model_id": "1cd64dd340974f3f8e9f86c917c87f29",
       "version_major": 2,
       "version_minor": 0
      },
      "text/plain": [
       "Epoch [31/50]; metric state\t:   0%|          | 0/191 [00:00<?, ?it/s]"
      ]
     },
     "metadata": {},
     "output_type": "display_data"
    },
    {
     "name": "stdout",
     "output_type": "stream",
     "text": [
      "Epoch [31/50], Loss: 0.0740, F1 score: 0.96262\n"
     ]
    },
    {
     "data": {
      "application/vnd.jupyter.widget-view+json": {
       "model_id": "1610ea72cd43485b966eb2094485cbef",
       "version_major": 2,
       "version_minor": 0
      },
      "text/plain": [
       "Epoch [32/50]; learning state\t:   0%|          | 0/191 [00:00<?, ?it/s]"
      ]
     },
     "metadata": {},
     "output_type": "display_data"
    },
    {
     "data": {
      "application/vnd.jupyter.widget-view+json": {
       "model_id": "57353bbf2bd64aa4853697936f6b8fd8",
       "version_major": 2,
       "version_minor": 0
      },
      "text/plain": [
       "Epoch [32/50]; metric state\t:   0%|          | 0/191 [00:00<?, ?it/s]"
      ]
     },
     "metadata": {},
     "output_type": "display_data"
    },
    {
     "name": "stdout",
     "output_type": "stream",
     "text": [
      "Epoch [32/50], Loss: 0.0604, F1 score: 0.96614\n"
     ]
    },
    {
     "data": {
      "application/vnd.jupyter.widget-view+json": {
       "model_id": "a9db1dab2007408c91ebbb85530168a9",
       "version_major": 2,
       "version_minor": 0
      },
      "text/plain": [
       "Epoch [33/50]; learning state\t:   0%|          | 0/191 [00:00<?, ?it/s]"
      ]
     },
     "metadata": {},
     "output_type": "display_data"
    },
    {
     "data": {
      "application/vnd.jupyter.widget-view+json": {
       "model_id": "413112c761b6408892fef3bf94b4b02e",
       "version_major": 2,
       "version_minor": 0
      },
      "text/plain": [
       "Epoch [33/50]; metric state\t:   0%|          | 0/191 [00:00<?, ?it/s]"
      ]
     },
     "metadata": {},
     "output_type": "display_data"
    },
    {
     "name": "stdout",
     "output_type": "stream",
     "text": [
      "Epoch [33/50], Loss: 0.0681, F1 score: 0.96755\n"
     ]
    },
    {
     "data": {
      "application/vnd.jupyter.widget-view+json": {
       "model_id": "2c5dbf16098e4b08b8c1c41d1854dfc1",
       "version_major": 2,
       "version_minor": 0
      },
      "text/plain": [
       "Epoch [34/50]; learning state\t:   0%|          | 0/191 [00:00<?, ?it/s]"
      ]
     },
     "metadata": {},
     "output_type": "display_data"
    },
    {
     "data": {
      "application/vnd.jupyter.widget-view+json": {
       "model_id": "f1c79c5c7bf84ea4b296a53d3e734b1a",
       "version_major": 2,
       "version_minor": 0
      },
      "text/plain": [
       "Epoch [34/50]; metric state\t:   0%|          | 0/191 [00:00<?, ?it/s]"
      ]
     },
     "metadata": {},
     "output_type": "display_data"
    },
    {
     "name": "stdout",
     "output_type": "stream",
     "text": [
      "Epoch [34/50], Loss: 0.0618, F1 score: 0.97486\n"
     ]
    },
    {
     "data": {
      "application/vnd.jupyter.widget-view+json": {
       "model_id": "3aaea444c2294e29bc780dec01bd6b77",
       "version_major": 2,
       "version_minor": 0
      },
      "text/plain": [
       "Epoch [35/50]; learning state\t:   0%|          | 0/191 [00:00<?, ?it/s]"
      ]
     },
     "metadata": {},
     "output_type": "display_data"
    },
    {
     "data": {
      "application/vnd.jupyter.widget-view+json": {
       "model_id": "024e870eb685409d9015780fef8efc05",
       "version_major": 2,
       "version_minor": 0
      },
      "text/plain": [
       "Epoch [35/50]; metric state\t:   0%|          | 0/191 [00:00<?, ?it/s]"
      ]
     },
     "metadata": {},
     "output_type": "display_data"
    },
    {
     "name": "stdout",
     "output_type": "stream",
     "text": [
      "Epoch [35/50], Loss: 0.0741, F1 score: 0.97285\n"
     ]
    },
    {
     "data": {
      "application/vnd.jupyter.widget-view+json": {
       "model_id": "3e3b1204d9f94d01ad72967e3f762753",
       "version_major": 2,
       "version_minor": 0
      },
      "text/plain": [
       "Epoch [36/50]; learning state\t:   0%|          | 0/191 [00:00<?, ?it/s]"
      ]
     },
     "metadata": {},
     "output_type": "display_data"
    },
    {
     "data": {
      "application/vnd.jupyter.widget-view+json": {
       "model_id": "be5a4ca0346440008d4d4a761f230b0a",
       "version_major": 2,
       "version_minor": 0
      },
      "text/plain": [
       "Epoch [36/50]; metric state\t:   0%|          | 0/191 [00:00<?, ?it/s]"
      ]
     },
     "metadata": {},
     "output_type": "display_data"
    },
    {
     "name": "stdout",
     "output_type": "stream",
     "text": [
      "Epoch [36/50], Loss: 0.0708, F1 score: 0.97566\n"
     ]
    },
    {
     "data": {
      "application/vnd.jupyter.widget-view+json": {
       "model_id": "59b311ea5056417aab9e0fc214b32f14",
       "version_major": 2,
       "version_minor": 0
      },
      "text/plain": [
       "Epoch [37/50]; learning state\t:   0%|          | 0/191 [00:00<?, ?it/s]"
      ]
     },
     "metadata": {},
     "output_type": "display_data"
    },
    {
     "data": {
      "application/vnd.jupyter.widget-view+json": {
       "model_id": "5557be6eed0245c8a8dd269b33e88434",
       "version_major": 2,
       "version_minor": 0
      },
      "text/plain": [
       "Epoch [37/50]; metric state\t:   0%|          | 0/191 [00:00<?, ?it/s]"
      ]
     },
     "metadata": {},
     "output_type": "display_data"
    },
    {
     "name": "stdout",
     "output_type": "stream",
     "text": [
      "Epoch [37/50], Loss: 0.0433, F1 score: 0.97711\n"
     ]
    },
    {
     "data": {
      "application/vnd.jupyter.widget-view+json": {
       "model_id": "7a29b0e88f264b4dba3955fe74411073",
       "version_major": 2,
       "version_minor": 0
      },
      "text/plain": [
       "Epoch [38/50]; learning state\t:   0%|          | 0/191 [00:00<?, ?it/s]"
      ]
     },
     "metadata": {},
     "output_type": "display_data"
    },
    {
     "data": {
      "application/vnd.jupyter.widget-view+json": {
       "model_id": "a183259170e1423aa09459e9875f6d66",
       "version_major": 2,
       "version_minor": 0
      },
      "text/plain": [
       "Epoch [38/50]; metric state\t:   0%|          | 0/191 [00:00<?, ?it/s]"
      ]
     },
     "metadata": {},
     "output_type": "display_data"
    },
    {
     "name": "stdout",
     "output_type": "stream",
     "text": [
      "Epoch [38/50], Loss: 0.0618, F1 score: 0.97944\n"
     ]
    },
    {
     "data": {
      "application/vnd.jupyter.widget-view+json": {
       "model_id": "8f8072bb7493434598d5ab4980ebe1fd",
       "version_major": 2,
       "version_minor": 0
      },
      "text/plain": [
       "Epoch [39/50]; learning state\t:   0%|          | 0/191 [00:00<?, ?it/s]"
      ]
     },
     "metadata": {},
     "output_type": "display_data"
    },
    {
     "data": {
      "application/vnd.jupyter.widget-view+json": {
       "model_id": "a2e6f7d95996476796a0a3f602db5293",
       "version_major": 2,
       "version_minor": 0
      },
      "text/plain": [
       "Epoch [39/50]; metric state\t:   0%|          | 0/191 [00:00<?, ?it/s]"
      ]
     },
     "metadata": {},
     "output_type": "display_data"
    },
    {
     "name": "stdout",
     "output_type": "stream",
     "text": [
      "Epoch [39/50], Loss: 0.0435, F1 score: 0.98117\n"
     ]
    },
    {
     "data": {
      "application/vnd.jupyter.widget-view+json": {
       "model_id": "a1c5ee9ef60540eab762c6b9020d5d40",
       "version_major": 2,
       "version_minor": 0
      },
      "text/plain": [
       "Epoch [40/50]; learning state\t:   0%|          | 0/191 [00:00<?, ?it/s]"
      ]
     },
     "metadata": {},
     "output_type": "display_data"
    },
    {
     "data": {
      "application/vnd.jupyter.widget-view+json": {
       "model_id": "7a500f1b743546b6a297dc45eecb241b",
       "version_major": 2,
       "version_minor": 0
      },
      "text/plain": [
       "Epoch [40/50]; metric state\t:   0%|          | 0/191 [00:00<?, ?it/s]"
      ]
     },
     "metadata": {},
     "output_type": "display_data"
    },
    {
     "name": "stdout",
     "output_type": "stream",
     "text": [
      "Epoch [40/50], Loss: 0.0514, F1 score: 0.98477\n"
     ]
    },
    {
     "data": {
      "application/vnd.jupyter.widget-view+json": {
       "model_id": "9c6f34eceed644f48b976c9eefd89d17",
       "version_major": 2,
       "version_minor": 0
      },
      "text/plain": [
       "Epoch [41/50]; learning state\t:   0%|          | 0/191 [00:00<?, ?it/s]"
      ]
     },
     "metadata": {},
     "output_type": "display_data"
    },
    {
     "data": {
      "application/vnd.jupyter.widget-view+json": {
       "model_id": "7584d51d653944c9be9139872b83a4e4",
       "version_major": 2,
       "version_minor": 0
      },
      "text/plain": [
       "Epoch [41/50]; metric state\t:   0%|          | 0/191 [00:00<?, ?it/s]"
      ]
     },
     "metadata": {},
     "output_type": "display_data"
    },
    {
     "name": "stdout",
     "output_type": "stream",
     "text": [
      "Epoch [41/50], Loss: 0.0360, F1 score: 0.98373\n"
     ]
    },
    {
     "data": {
      "application/vnd.jupyter.widget-view+json": {
       "model_id": "e08d5ab2bf8b474b84896fa44ab5b5da",
       "version_major": 2,
       "version_minor": 0
      },
      "text/plain": [
       "Epoch [42/50]; learning state\t:   0%|          | 0/191 [00:00<?, ?it/s]"
      ]
     },
     "metadata": {},
     "output_type": "display_data"
    },
    {
     "data": {
      "application/vnd.jupyter.widget-view+json": {
       "model_id": "0db0cfc7a3af4af6a1ef9d270db3efae",
       "version_major": 2,
       "version_minor": 0
      },
      "text/plain": [
       "Epoch [42/50]; metric state\t:   0%|          | 0/191 [00:00<?, ?it/s]"
      ]
     },
     "metadata": {},
     "output_type": "display_data"
    },
    {
     "name": "stdout",
     "output_type": "stream",
     "text": [
      "Epoch [42/50], Loss: 0.0572, F1 score: 0.98201\n"
     ]
    },
    {
     "data": {
      "application/vnd.jupyter.widget-view+json": {
       "model_id": "8703b57f91e84944a5de0361b2e9329c",
       "version_major": 2,
       "version_minor": 0
      },
      "text/plain": [
       "Epoch [43/50]; learning state\t:   0%|          | 0/191 [00:00<?, ?it/s]"
      ]
     },
     "metadata": {},
     "output_type": "display_data"
    },
    {
     "data": {
      "application/vnd.jupyter.widget-view+json": {
       "model_id": "356f11a7c2dd423c93fce0dfe8700075",
       "version_major": 2,
       "version_minor": 0
      },
      "text/plain": [
       "Epoch [43/50]; metric state\t:   0%|          | 0/191 [00:00<?, ?it/s]"
      ]
     },
     "metadata": {},
     "output_type": "display_data"
    },
    {
     "name": "stdout",
     "output_type": "stream",
     "text": [
      "Epoch [43/50], Loss: 0.0438, F1 score: 0.97966\n"
     ]
    },
    {
     "data": {
      "application/vnd.jupyter.widget-view+json": {
       "model_id": "729cb640c71f49daa91d215ba151d179",
       "version_major": 2,
       "version_minor": 0
      },
      "text/plain": [
       "Epoch [44/50]; learning state\t:   0%|          | 0/191 [00:00<?, ?it/s]"
      ]
     },
     "metadata": {},
     "output_type": "display_data"
    },
    {
     "data": {
      "application/vnd.jupyter.widget-view+json": {
       "model_id": "a697ab45e9a04aeabaf84031518af3a6",
       "version_major": 2,
       "version_minor": 0
      },
      "text/plain": [
       "Epoch [44/50]; metric state\t:   0%|          | 0/191 [00:00<?, ?it/s]"
      ]
     },
     "metadata": {},
     "output_type": "display_data"
    },
    {
     "name": "stdout",
     "output_type": "stream",
     "text": [
      "Epoch [44/50], Loss: 0.0565, F1 score: 0.98730\n"
     ]
    },
    {
     "data": {
      "application/vnd.jupyter.widget-view+json": {
       "model_id": "5648efb179bb40dcb64e555195bf8ffd",
       "version_major": 2,
       "version_minor": 0
      },
      "text/plain": [
       "Epoch [45/50]; learning state\t:   0%|          | 0/191 [00:00<?, ?it/s]"
      ]
     },
     "metadata": {},
     "output_type": "display_data"
    },
    {
     "data": {
      "application/vnd.jupyter.widget-view+json": {
       "model_id": "6b8a79816a924bcd8427a45f16f16c5e",
       "version_major": 2,
       "version_minor": 0
      },
      "text/plain": [
       "Epoch [45/50]; metric state\t:   0%|          | 0/191 [00:00<?, ?it/s]"
      ]
     },
     "metadata": {},
     "output_type": "display_data"
    },
    {
     "name": "stdout",
     "output_type": "stream",
     "text": [
      "Epoch [45/50], Loss: 0.0386, F1 score: 0.98846\n"
     ]
    },
    {
     "data": {
      "application/vnd.jupyter.widget-view+json": {
       "model_id": "7a18b8dbe4da4be1a91d4fec0209a862",
       "version_major": 2,
       "version_minor": 0
      },
      "text/plain": [
       "Epoch [46/50]; learning state\t:   0%|          | 0/191 [00:00<?, ?it/s]"
      ]
     },
     "metadata": {},
     "output_type": "display_data"
    },
    {
     "data": {
      "application/vnd.jupyter.widget-view+json": {
       "model_id": "90d0ce85229b48a8ab5d65fd58420475",
       "version_major": 2,
       "version_minor": 0
      },
      "text/plain": [
       "Epoch [46/50]; metric state\t:   0%|          | 0/191 [00:00<?, ?it/s]"
      ]
     },
     "metadata": {},
     "output_type": "display_data"
    },
    {
     "name": "stdout",
     "output_type": "stream",
     "text": [
      "Epoch [46/50], Loss: 0.0408, F1 score: 0.98960\n"
     ]
    },
    {
     "data": {
      "application/vnd.jupyter.widget-view+json": {
       "model_id": "bd52cdc3dcd94e528ea3fe3c5c2c43fa",
       "version_major": 2,
       "version_minor": 0
      },
      "text/plain": [
       "Epoch [47/50]; learning state\t:   0%|          | 0/191 [00:00<?, ?it/s]"
      ]
     },
     "metadata": {},
     "output_type": "display_data"
    },
    {
     "data": {
      "application/vnd.jupyter.widget-view+json": {
       "model_id": "61ca6e9287dc4e618cb42e68a177882e",
       "version_major": 2,
       "version_minor": 0
      },
      "text/plain": [
       "Epoch [47/50]; metric state\t:   0%|          | 0/191 [00:00<?, ?it/s]"
      ]
     },
     "metadata": {},
     "output_type": "display_data"
    },
    {
     "name": "stdout",
     "output_type": "stream",
     "text": [
      "Epoch [47/50], Loss: 0.0321, F1 score: 0.98610\n"
     ]
    },
    {
     "data": {
      "application/vnd.jupyter.widget-view+json": {
       "model_id": "c4c9b76e42fc4d6bbb63ff021157a3b7",
       "version_major": 2,
       "version_minor": 0
      },
      "text/plain": [
       "Epoch [48/50]; learning state\t:   0%|          | 0/191 [00:00<?, ?it/s]"
      ]
     },
     "metadata": {},
     "output_type": "display_data"
    },
    {
     "data": {
      "application/vnd.jupyter.widget-view+json": {
       "model_id": "6f084c9d51ed4649863a7cbf5f2b32c7",
       "version_major": 2,
       "version_minor": 0
      },
      "text/plain": [
       "Epoch [48/50]; metric state\t:   0%|          | 0/191 [00:00<?, ?it/s]"
      ]
     },
     "metadata": {},
     "output_type": "display_data"
    },
    {
     "name": "stdout",
     "output_type": "stream",
     "text": [
      "Epoch [48/50], Loss: 0.0466, F1 score: 0.98949\n"
     ]
    },
    {
     "data": {
      "application/vnd.jupyter.widget-view+json": {
       "model_id": "d65267fd9b634da4b65e2bee9de16cb4",
       "version_major": 2,
       "version_minor": 0
      },
      "text/plain": [
       "Epoch [49/50]; learning state\t:   0%|          | 0/191 [00:00<?, ?it/s]"
      ]
     },
     "metadata": {},
     "output_type": "display_data"
    },
    {
     "data": {
      "application/vnd.jupyter.widget-view+json": {
       "model_id": "6721f6fd59744879aed5b276c38ec6d2",
       "version_major": 2,
       "version_minor": 0
      },
      "text/plain": [
       "Epoch [49/50]; metric state\t:   0%|          | 0/191 [00:00<?, ?it/s]"
      ]
     },
     "metadata": {},
     "output_type": "display_data"
    },
    {
     "name": "stdout",
     "output_type": "stream",
     "text": [
      "Epoch [49/50], Loss: 0.0427, F1 score: 0.99253\n"
     ]
    },
    {
     "data": {
      "application/vnd.jupyter.widget-view+json": {
       "model_id": "19fd8abdbebd4b68837ac4d89e99109a",
       "version_major": 2,
       "version_minor": 0
      },
      "text/plain": [
       "Epoch [50/50]; learning state\t:   0%|          | 0/191 [00:00<?, ?it/s]"
      ]
     },
     "metadata": {},
     "output_type": "display_data"
    },
    {
     "data": {
      "application/vnd.jupyter.widget-view+json": {
       "model_id": "7fa984339a7f4a4f8e358a3e5e9d8695",
       "version_major": 2,
       "version_minor": 0
      },
      "text/plain": [
       "Epoch [50/50]; metric state\t:   0%|          | 0/191 [00:00<?, ?it/s]"
      ]
     },
     "metadata": {},
     "output_type": "display_data"
    },
    {
     "name": "stdout",
     "output_type": "stream",
     "text": [
      "Epoch [50/50], Loss: 0.0562, F1 score: 0.99018\n",
      "F1 score on test tensors is: 79.14\n"
     ]
    },
    {
     "data": {
      "image/png": "[encoded data removed]",
      "text/plain": [
       "<Figure size 1600x500 with 3 Axes>"
      ]
     },
     "metadata": {},
     "output_type": "display_data"
    }
   ],
   "source": [
    "dropout_rate = 0.2\n",
    "dataloader = DataLoader(dataset, batch_size=1024, shuffle=True)\n",
    "model = MyModel(dataloader, input_dim, output_dim, dropout_rate)\n",
    "model.fit(lr=1e-3, num_epoch=50)\n",
    "model.plot_metrics(X_test, y_test)"
   ]
  },
  {
   "cell_type": "code",
   "execution_count": 10,
   "metadata": {},
   "outputs": [
    {
     "name": "stderr",
     "output_type": "stream",
     "text": [
      "Some weights of the model checkpoint at DeepPavlov/rubert-base-cased were not used when initializing BertModel: ['cls.predictions.bias', 'cls.predictions.decoder.bias', 'cls.predictions.decoder.weight', 'cls.predictions.transform.LayerNorm.bias', 'cls.predictions.transform.LayerNorm.weight', 'cls.predictions.transform.dense.bias', 'cls.predictions.transform.dense.weight', 'cls.seq_relationship.bias', 'cls.seq_relationship.weight']\n",
      "- This IS expected if you are initializing BertModel from the checkpoint of a model trained on another task or with another architecture (e.g. initializing a BertForSequenceClassification model from a BertForPreTraining model).\n",
      "- This IS NOT expected if you are initializing BertModel from the checkpoint of a model that you expect to be exactly identical (initializing a BertForSequenceClassification model from a BertForSequenceClassification model).\n"
     ]
    }
   ],
   "source": [
    "tokenizer = BertTokenizer.from_pretrained(\"DeepPavlov/rubert-base-cased\")\n",
    "embedding_model = BertModel.from_pretrained(\"DeepPavlov/rubert-base-cased\")\n",
    "def text_to_embedding(text):\n",
    "    inputs = tokenizer(text, return_tensors=\"pt\", padding=True, truncation=True, max_length=512)\n",
    "    with torch.no_grad():\n",
    "        outputs = embedding_model(**inputs)\n",
    "    return outputs.last_hidden_state.mean(dim=1).squeeze().numpy()"
   ]
  },
  {
   "cell_type": "code",
   "execution_count": 11,
   "metadata": {},
   "outputs": [],
   "source": [
    "def check_ur_comment(comment:str):\n",
    "    my_comment_embedding = text_to_embedding(comment)\n",
    "    my_comment_tensor = torch.tensor(my_comment_embedding, dtype=torch.float32)\n",
    "    model.eval()\n",
    "    with torch.no_grad():\n",
    "        preds = model(my_comment_tensor.unsqueeze(0).to(device))\n",
    "    preds_squeezed = preds.squeeze(1).squeeze(1)\n",
    "    return round(preds_squeezed.item()*100,2)"
   ]
  },
  {
   "cell_type": "code",
   "execution_count": 12,
   "metadata": {},
   "outputs": [
    {
     "data": {
      "text/plain": [
       "99.98"
      ]
     },
     "execution_count": 12,
     "metadata": {},
     "output_type": "execute_result"
    }
   ],
   "source": [
    "check_ur_comment(\"идиот и долбаеб\")"
   ]
  },
  {
   "cell_type": "code",
   "execution_count": 13,
   "metadata": {},
   "outputs": [
    {
     "data": {
      "text/plain": [
       "0.0"
      ]
     },
     "execution_count": 13,
     "metadata": {},
     "output_type": "execute_result"
    }
   ],
   "source": [
    "check_ur_comment(\"красавчик\")"
   ]
  },
  {
   "cell_type": "code",
   "execution_count": 14,
   "metadata": {},
   "outputs": [
    {
     "data": {
      "text/plain": [
       "73.79"
      ]
     },
     "execution_count": 14,
     "metadata": {},
     "output_type": "execute_result"
    }
   ],
   "source": [
    "check_ur_comment(\"ты не прав, иди учи базу\")"
   ]
  },
  {
   "cell_type": "code",
   "execution_count": 15,
   "metadata": {},
   "outputs": [
    {
     "data": {
      "text/plain": [
       "88.63"
      ]
     },
     "execution_count": 15,
     "metadata": {},
     "output_type": "execute_result"
    }
   ],
   "source": [
    "check_ur_comment(\"красивый идиот\")"
   ]
  },
  {
   "cell_type": "code",
   "execution_count": 16,
   "metadata": {},
   "outputs": [
    {
     "data": {
      "text/plain": [
       "99.99"
      ]
     },
     "execution_count": 16,
     "metadata": {},
     "output_type": "execute_result"
    }
   ],
   "source": [
    "check_ur_comment(\"сказочный долбаеб\")"
   ]
  },
  {
   "cell_type": "code",
   "execution_count": 17,
   "metadata": {},
   "outputs": [
    {
     "data": {
      "text/plain": [
       "99.92"
      ]
     },
     "execution_count": 17,
     "metadata": {},
     "output_type": "execute_result"
    }
   ],
   "source": [
    "check_ur_comment(\"тупорылая работа\")"
   ]
  },
  {
   "cell_type": "code",
   "execution_count": 20,
   "metadata": {},
   "outputs": [],
   "source": [
    "torch.save(model.state_dict(), '../backend/nn_model/model_weights.pt')"
   ]
  },
  {
   "cell_type": "code",
   "execution_count": null,
   "metadata": {},
   "outputs": [],
   "source": []
  }
 ],
 "metadata": {
  "kernelspec": {
   "display_name": "venv",
   "language": "python",
   "name": "python3"
  },
  "language_info": {
   "codemirror_mode": {
    "name": "ipython",
    "version": 3
   },
   "file_extension": ".py",
   "mimetype": "text/x-python",
   "name": "python",
   "nbconvert_exporter": "python",
   "pygments_lexer": "ipython3",
   "version": "3.10.12"
  }
 },
 "nbformat": 4,
 "nbformat_minor": 2
}
